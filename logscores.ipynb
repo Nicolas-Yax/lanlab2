{
 "cells": [
  {
   "cell_type": "code",
   "execution_count": 35,
   "metadata": {
    "tags": []
   },
   "outputs": [],
   "source": [
    "from lanlab import Text,Batch,Sequential,Question\n",
    "from lanlab import load,save\n",
    "from lanlab import DV2,Phi15\n",
    "from lanlab import Module,BatchedModule\n",
    "from lanlab import set_number_workers\n",
    "\n",
    "set_number_workers(32)\n",
    "\n",
    "import os"
   ]
  },
  {
   "cell_type": "markdown",
   "metadata": {
    "jp-MarkdownHeadingCollapsed": true,
    "tags": []
   },
   "source": [
    "### Make the dataset"
   ]
  },
  {
   "cell_type": "code",
   "execution_count": 127,
   "metadata": {
    "tags": []
   },
   "outputs": [],
   "source": [
    "\"\"\"import pandas as pd\n",
    "#pd.read_json('inputs/gsm8k_test.jsonl',lines=True)\n",
    "data = pd.read_json('inputs/human_eval.jsonl',lines=True)\n",
    "\n",
    "batch = Batch((data.shape[0],))\n",
    "for i in range(data.shape[0]):\n",
    "    batch[i] = Text(data.iloc[i]['prompt'])\n",
    "    \n",
    "save(batch,'inputs/human_eval.json')\"\"\""
   ]
  },
  {
   "cell_type": "code",
   "execution_count": 128,
   "metadata": {
    "tags": []
   },
   "outputs": [],
   "source": [
    "\"\"\"import pandas as pd\n",
    "#pd.read_json('inputs/gsm8k_test.jsonl',lines=True)\n",
    "data = pd.read_json('inputs/mbpp.jsonl',lines=True)\n",
    "\n",
    "batch = Batch((data.shape[0],))\n",
    "for i in range(data.shape[0]):\n",
    "    batch[i] = Text(data.iloc[i]['text'])\n",
    "    \n",
    "save(batch,'inputs/mbpp.json')\"\"\""
   ]
  },
  {
   "cell_type": "code",
   "execution_count": 133,
   "metadata": {
    "tags": []
   },
   "outputs": [],
   "source": [
    "\"\"\"import pandas as pd\n",
    "#pd.read_json('inputs/gsm8k_test.jsonl',lines=True)\n",
    "data = pd.read_json('inputs/openbookqa_test.jsonl',lines=True)\n",
    "\n",
    "batch = Batch((data.shape[0],))\n",
    "for i in range(data.shape[0]):\n",
    "    batch[i] = Text(data.iloc[i]['question']['stem'])\n",
    "    \n",
    "save(batch,'inputs/openbook_qa.json')\"\"\""
   ]
  },
  {
   "cell_type": "code",
   "execution_count": 140,
   "metadata": {
    "tags": []
   },
   "outputs": [
    {
     "name": "stdout",
     "output_type": "stream",
     "text": [
      "                                            question     first option  \\\n",
      "0  Let k be the number of real solutions of the e...  k = 0 and n = 1   \n",
      "1  Up to isomorphism, how many additive abelian g...                0   \n",
      "2  Suppose P is the set of polynomials with coeff...  n = 1 and r = 6   \n",
      "3  The shortest distance from the curve xy = 8 to...                4   \n",
      "4  There are 25 suitcases, 5 of which are damaged...             2/69   \n",
      "\n",
      "     second option     third option    fourth option answer  \n",
      "0  k = 1 and n = 0        k = n = 1            k > 1      B  \n",
      "1                1                2                3      D  \n",
      "2  n = 1 and r = 7  n = 2 and r = 5  n = 2 and r = 6      D  \n",
      "3                8               16         2sqrt(2)      A  \n",
      "4             1/30             2/23           12/125      C  \n"
     ]
    }
   ],
   "source": [
    "\"\"\"import pandas as pd\n",
    "#pd.read_json('inputs/gsm8k_test.jsonl',lines=True)\n",
    "data = pd.read_json('inputs/mmlu_test.jsonl')\n",
    "batch = Batch((data.shape[0],))\n",
    "for i in range(data.shape[0]):\n",
    "    batch[i] = Text(data.iloc[i]['question'])\n",
    "    \n",
    "save(batch,'inputs/mmlu_test.json')\"\"\""
   ]
  },
  {
   "cell_type": "code",
   "execution_count": 147,
   "metadata": {
    "tags": []
   },
   "outputs": [],
   "source": [
    "\"\"\"import pandas as pd\n",
    "#pd.read_json('inputs/gsm8k_test.jsonl',lines=True)\n",
    "data = pd.read_json('inputs/hellaswag_test.jsonl',lines=True)\n",
    "\n",
    "batch = Batch((data.shape[0],))\n",
    "for i in range(data.shape[0]):\n",
    "    batch[i] = Text(data.iloc[i]['ctx_a'])\n",
    "    \n",
    "save(batch,'inputs/hellaswag_test.json')\"\"\""
   ]
  },
  {
   "cell_type": "code",
   "execution_count": 148,
   "metadata": {
    "tags": []
   },
   "outputs": [],
   "source": [
    "\"\"\"import pandas as pd\n",
    "#pd.read_json('inputs/gsm8k_test.jsonl',lines=True)\n",
    "data = pd.read_json('inputs/winogrande_test.jsonl',lines=True)\n",
    "\n",
    "batch = Batch((data.shape[0],))\n",
    "for i in range(data.shape[0]):\n",
    "    batch[i] = Text(data.iloc[i]['sentence'])\n",
    "    \n",
    "save(batch,'inputs/winogrande_test.json')\"\"\""
   ]
  },
  {
   "cell_type": "markdown",
   "metadata": {},
   "source": [
    "### Load the Dataset"
   ]
  },
  {
   "cell_type": "code",
   "execution_count": 36,
   "metadata": {
    "tags": []
   },
   "outputs": [],
   "source": [
    "data_file = 'hellaswag_test.json'\n",
    "question_data = load(os.path.join('inputs',data_file))"
   ]
  },
  {
   "cell_type": "markdown",
   "metadata": {},
   "source": [
    "### Make the pipeline"
   ]
  },
  {
   "cell_type": "code",
   "execution_count": 37,
   "metadata": {
    "tags": []
   },
   "outputs": [],
   "source": [
    "model = Phi15().mode('read')\n",
    "logprobs_pipeline = Sequential(model)"
   ]
  },
  {
   "cell_type": "markdown",
   "metadata": {},
   "source": [
    "### Run the pipeline"
   ]
  },
  {
   "cell_type": "code",
   "execution_count": null,
   "metadata": {
    "tags": []
   },
   "outputs": [
    {
     "name": "stdout",
     "output_type": "stream",
     "text": [
      "loaded\n",
      " * Serving Flask app 'lanlab.core.module.models.hf_models'\n",
      " * Debug mode: off\n"
     ]
    },
    {
     "name": "stderr",
     "output_type": "stream",
     "text": [
      "INFO:werkzeug:\u001b[31m\u001b[1mWARNING: This is a development server. Do not use it in a production deployment. Use a production WSGI server instead.\u001b[0m\n",
      " * Running on all addresses (0.0.0.0)\n",
      " * Running on http://127.0.0.1:49872\n",
      " * Running on http://127.0.0.1:49872\n",
      "INFO:werkzeug:\u001b[33mPress CTRL+C to quit\u001b[0m\n",
      "Explicitly passing a `revision` is encouraged when loading a configuration with custom code to ensure no malicious code has been contributed in a newer revision.\n",
      "Explicitly passing a `revision` is encouraged when loading a model with custom code to ensure no malicious code has been contributed in a newer revision.\n"
     ]
    },
    {
     "name": "stdout",
     "output_type": "stream",
     "text": [
      "[2023-11-09 15:30:08,305] [INFO] [real_accelerator.py:133:get_accelerator] Setting ds_accelerator to cuda (auto detect)\n",
      "flushing 0.7 0\n"
     ]
    },
    {
     "name": "stderr",
     "output_type": "stream",
     "text": [
      "INFO:werkzeug:127.0.0.1 - - [09/Nov/2023 15:31:22] \"POST /completions HTTP/1.1\" 200 -\n",
      "INFO:werkzeug:127.0.0.1 - - [09/Nov/2023 15:31:22] \"POST /completions HTTP/1.1\" 200 -\n",
      "INFO:werkzeug:127.0.0.1 - - [09/Nov/2023 15:31:22] \"POST /completions HTTP/1.1\" 200 -\n",
      "INFO:werkzeug:127.0.0.1 - - [09/Nov/2023 15:31:22] \"POST /completions HTTP/1.1\" 200 -\n",
      "INFO:werkzeug:127.0.0.1 - - [09/Nov/2023 15:31:22] \"POST /completions HTTP/1.1\" 200 -\n",
      "INFO:werkzeug:127.0.0.1 - - [09/Nov/2023 15:31:22] \"POST /completions HTTP/1.1\" 200 -\n",
      "INFO:werkzeug:127.0.0.1 - - [09/Nov/2023 15:31:22] \"POST /completions HTTP/1.1\" 200 -\n",
      "INFO:werkzeug:127.0.0.1 - - [09/Nov/2023 15:31:22] \"POST /completions HTTP/1.1\" 200 -\n",
      "INFO:werkzeug:127.0.0.1 - - [09/Nov/2023 15:31:22] \"POST /completions HTTP/1.1\" 200 -\n",
      "INFO:werkzeug:127.0.0.1 - - [09/Nov/2023 15:31:22] \"POST /completions HTTP/1.1\" 200 -\n",
      "INFO:werkzeug:127.0.0.1 - - [09/Nov/2023 15:31:22] \"POST /completions HTTP/1.1\" 200 -\n",
      "INFO:werkzeug:127.0.0.1 - - [09/Nov/2023 15:31:22] \"POST /completions HTTP/1.1\" 200 -\n",
      "INFO:werkzeug:127.0.0.1 - - [09/Nov/2023 15:31:22] \"POST /completions HTTP/1.1\" 200 -\n",
      "INFO:werkzeug:127.0.0.1 - - [09/Nov/2023 15:31:22] \"POST /completions HTTP/1.1\" 200 -\n",
      "INFO:werkzeug:127.0.0.1 - - [09/Nov/2023 15:31:22] \"POST /completions HTTP/1.1\" 200 -\n",
      "INFO:werkzeug:127.0.0.1 - - [09/Nov/2023 15:31:22] \"POST /completions HTTP/1.1\" 200 -\n",
      "INFO:werkzeug:127.0.0.1 - - [09/Nov/2023 15:31:22] \"POST /completions HTTP/1.1\" 200 -\n",
      "INFO:werkzeug:127.0.0.1 - - [09/Nov/2023 15:31:22] \"POST /completions HTTP/1.1\" 200 -\n",
      "INFO:werkzeug:127.0.0.1 - - [09/Nov/2023 15:31:22] \"POST /completions HTTP/1.1\" 200 -\n",
      "INFO:werkzeug:127.0.0.1 - - [09/Nov/2023 15:31:22] \"POST /completions HTTP/1.1\" 200 -\n",
      "INFO:werkzeug:127.0.0.1 - - [09/Nov/2023 15:31:22] \"POST /completions HTTP/1.1\" 200 -\n",
      "INFO:werkzeug:127.0.0.1 - - [09/Nov/2023 15:31:22] \"POST /completions HTTP/1.1\" 200 -\n",
      "INFO:werkzeug:127.0.0.1 - - [09/Nov/2023 15:31:22] \"POST /completions HTTP/1.1\" 200 -\n",
      "INFO:werkzeug:127.0.0.1 - - [09/Nov/2023 15:31:22] \"POST /completions HTTP/1.1\" 200 -\n",
      "INFO:werkzeug:127.0.0.1 - - [09/Nov/2023 15:31:22] \"POST /completions HTTP/1.1\" 200 -\n",
      "INFO:werkzeug:127.0.0.1 - - [09/Nov/2023 15:31:22] \"POST /completions HTTP/1.1\" 200 -\n",
      "INFO:werkzeug:127.0.0.1 - - [09/Nov/2023 15:31:22] \"POST /completions HTTP/1.1\" 200 -\n",
      "INFO:werkzeug:127.0.0.1 - - [09/Nov/2023 15:31:22] \"POST /completions HTTP/1.1\" 200 -\n",
      "INFO:werkzeug:127.0.0.1 - - [09/Nov/2023 15:31:22] \"POST /completions HTTP/1.1\" 200 -\n",
      "INFO:werkzeug:127.0.0.1 - - [09/Nov/2023 15:31:22] \"POST /completions HTTP/1.1\" 200 -\n",
      "INFO:werkzeug:127.0.0.1 - - [09/Nov/2023 15:31:22] \"POST /completions HTTP/1.1\" 200 -\n",
      "INFO:werkzeug:127.0.0.1 - - [09/Nov/2023 15:31:22] \"POST /completions HTTP/1.1\" 200 -\n"
     ]
    },
    {
     "name": "stdout",
     "output_type": "stream",
     "text": [
      "flushing 0.7 0\n"
     ]
    },
    {
     "name": "stderr",
     "output_type": "stream",
     "text": [
      "INFO:werkzeug:127.0.0.1 - - [09/Nov/2023 15:31:31] \"POST /completions HTTP/1.1\" 200 -\n",
      "INFO:werkzeug:127.0.0.1 - - [09/Nov/2023 15:31:31] \"POST /completions HTTP/1.1\" 200 -\n",
      "INFO:werkzeug:127.0.0.1 - - [09/Nov/2023 15:31:31] \"POST /completions HTTP/1.1\" 200 -\n",
      "INFO:werkzeug:127.0.0.1 - - [09/Nov/2023 15:31:31] \"POST /completions HTTP/1.1\" 200 -\n",
      "INFO:werkzeug:127.0.0.1 - - [09/Nov/2023 15:31:31] \"POST /completions HTTP/1.1\" 200 -\n",
      "INFO:werkzeug:127.0.0.1 - - [09/Nov/2023 15:31:31] \"POST /completions HTTP/1.1\" 200 -\n",
      "INFO:werkzeug:127.0.0.1 - - [09/Nov/2023 15:31:31] \"POST /completions HTTP/1.1\" 200 -\n",
      "INFO:werkzeug:127.0.0.1 - - [09/Nov/2023 15:31:31] \"POST /completions HTTP/1.1\" 200 -\n",
      "INFO:werkzeug:127.0.0.1 - - [09/Nov/2023 15:31:31] \"POST /completions HTTP/1.1\" 200 -\n",
      "INFO:werkzeug:127.0.0.1 - - [09/Nov/2023 15:31:31] \"POST /completions HTTP/1.1\" 200 -\n",
      "INFO:werkzeug:127.0.0.1 - - [09/Nov/2023 15:31:31] \"POST /completions HTTP/1.1\" 200 -\n",
      "INFO:werkzeug:127.0.0.1 - - [09/Nov/2023 15:31:31] \"POST /completions HTTP/1.1\" 200 -\n",
      "INFO:werkzeug:127.0.0.1 - - [09/Nov/2023 15:31:31] \"POST /completions HTTP/1.1\" 200 -\n",
      "INFO:werkzeug:127.0.0.1 - - [09/Nov/2023 15:31:31] \"POST /completions HTTP/1.1\" 200 -\n",
      "INFO:werkzeug:127.0.0.1 - - [09/Nov/2023 15:31:31] \"POST /completions HTTP/1.1\" 200 -\n",
      "INFO:werkzeug:127.0.0.1 - - [09/Nov/2023 15:31:31] \"POST /completions HTTP/1.1\" 200 -\n",
      "INFO:werkzeug:127.0.0.1 - - [09/Nov/2023 15:31:31] \"POST /completions HTTP/1.1\" 200 -\n",
      "INFO:werkzeug:127.0.0.1 - - [09/Nov/2023 15:31:31] \"POST /completions HTTP/1.1\" 200 -\n",
      "INFO:werkzeug:127.0.0.1 - - [09/Nov/2023 15:31:31] \"POST /completions HTTP/1.1\" 200 -\n",
      "INFO:werkzeug:127.0.0.1 - - [09/Nov/2023 15:31:31] \"POST /completions HTTP/1.1\" 200 -\n",
      "INFO:werkzeug:127.0.0.1 - - [09/Nov/2023 15:31:31] \"POST /completions HTTP/1.1\" 200 -\n",
      "INFO:werkzeug:127.0.0.1 - - [09/Nov/2023 15:31:31] \"POST /completions HTTP/1.1\" 200 -\n",
      "INFO:werkzeug:127.0.0.1 - - [09/Nov/2023 15:31:31] \"POST /completions HTTP/1.1\" 200 -\n",
      "INFO:werkzeug:127.0.0.1 - - [09/Nov/2023 15:31:31] \"POST /completions HTTP/1.1\" 200 -\n",
      "INFO:werkzeug:127.0.0.1 - - [09/Nov/2023 15:31:31] \"POST /completions HTTP/1.1\" 200 -\n",
      "INFO:werkzeug:127.0.0.1 - - [09/Nov/2023 15:31:31] \"POST /completions HTTP/1.1\" 200 -\n",
      "INFO:werkzeug:127.0.0.1 - - [09/Nov/2023 15:31:31] \"POST /completions HTTP/1.1\" 200 -\n",
      "INFO:werkzeug:127.0.0.1 - - [09/Nov/2023 15:31:31] \"POST /completions HTTP/1.1\" 200 -\n",
      "INFO:werkzeug:127.0.0.1 - - [09/Nov/2023 15:31:31] \"POST /completions HTTP/1.1\" 200 -\n",
      "INFO:werkzeug:127.0.0.1 - - [09/Nov/2023 15:31:31] \"POST /completions HTTP/1.1\" 200 -\n",
      "INFO:werkzeug:127.0.0.1 - - [09/Nov/2023 15:31:31] \"POST /completions HTTP/1.1\" 200 -\n",
      "INFO:werkzeug:127.0.0.1 - - [09/Nov/2023 15:31:31] \"POST /completions HTTP/1.1\" 200 -\n"
     ]
    },
    {
     "name": "stdout",
     "output_type": "stream",
     "text": [
      "flushing 0.7 0\n"
     ]
    },
    {
     "name": "stderr",
     "output_type": "stream",
     "text": [
      "INFO:werkzeug:127.0.0.1 - - [09/Nov/2023 15:31:43] \"POST /completions HTTP/1.1\" 200 -\n",
      "INFO:werkzeug:127.0.0.1 - - [09/Nov/2023 15:31:43] \"POST /completions HTTP/1.1\" 200 -\n",
      "INFO:werkzeug:127.0.0.1 - - [09/Nov/2023 15:31:43] \"POST /completions HTTP/1.1\" 200 -\n",
      "INFO:werkzeug:127.0.0.1 - - [09/Nov/2023 15:31:43] \"POST /completions HTTP/1.1\" 200 -\n",
      "INFO:werkzeug:127.0.0.1 - - [09/Nov/2023 15:31:43] \"POST /completions HTTP/1.1\" 200 -\n",
      "INFO:werkzeug:127.0.0.1 - - [09/Nov/2023 15:31:43] \"POST /completions HTTP/1.1\" 200 -\n",
      "INFO:werkzeug:127.0.0.1 - - [09/Nov/2023 15:31:43] \"POST /completions HTTP/1.1\" 200 -\n",
      "INFO:werkzeug:127.0.0.1 - - [09/Nov/2023 15:31:43] \"POST /completions HTTP/1.1\" 200 -\n",
      "INFO:werkzeug:127.0.0.1 - - [09/Nov/2023 15:31:43] \"POST /completions HTTP/1.1\" 200 -\n",
      "INFO:werkzeug:127.0.0.1 - - [09/Nov/2023 15:31:43] \"POST /completions HTTP/1.1\" 200 -\n",
      "INFO:werkzeug:127.0.0.1 - - [09/Nov/2023 15:31:43] \"POST /completions HTTP/1.1\" 200 -\n",
      "INFO:werkzeug:127.0.0.1 - - [09/Nov/2023 15:31:43] \"POST /completions HTTP/1.1\" 200 -\n",
      "INFO:werkzeug:127.0.0.1 - - [09/Nov/2023 15:31:43] \"POST /completions HTTP/1.1\" 200 -\n",
      "INFO:werkzeug:127.0.0.1 - - [09/Nov/2023 15:31:43] \"POST /completions HTTP/1.1\" 200 -\n",
      "INFO:werkzeug:127.0.0.1 - - [09/Nov/2023 15:31:43] \"POST /completions HTTP/1.1\" 200 -\n",
      "INFO:werkzeug:127.0.0.1 - - [09/Nov/2023 15:31:43] \"POST /completions HTTP/1.1\" 200 -\n",
      "INFO:werkzeug:127.0.0.1 - - [09/Nov/2023 15:31:43] \"POST /completions HTTP/1.1\" 200 -\n",
      "INFO:werkzeug:127.0.0.1 - - [09/Nov/2023 15:31:43] \"POST /completions HTTP/1.1\" 200 -\n",
      "INFO:werkzeug:127.0.0.1 - - [09/Nov/2023 15:31:43] \"POST /completions HTTP/1.1\" 200 -\n",
      "INFO:werkzeug:127.0.0.1 - - [09/Nov/2023 15:31:43] \"POST /completions HTTP/1.1\" 200 -\n",
      "INFO:werkzeug:127.0.0.1 - - [09/Nov/2023 15:31:43] \"POST /completions HTTP/1.1\" 200 -\n",
      "INFO:werkzeug:127.0.0.1 - - [09/Nov/2023 15:31:43] \"POST /completions HTTP/1.1\" 200 -\n",
      "INFO:werkzeug:127.0.0.1 - - [09/Nov/2023 15:31:43] \"POST /completions HTTP/1.1\" 200 -\n",
      "INFO:werkzeug:127.0.0.1 - - [09/Nov/2023 15:31:43] \"POST /completions HTTP/1.1\" 200 -\n",
      "INFO:werkzeug:127.0.0.1 - - [09/Nov/2023 15:31:43] \"POST /completions HTTP/1.1\" 200 -\n",
      "INFO:werkzeug:127.0.0.1 - - [09/Nov/2023 15:31:43] \"POST /completions HTTP/1.1\" 200 -\n",
      "INFO:werkzeug:127.0.0.1 - - [09/Nov/2023 15:31:43] \"POST /completions HTTP/1.1\" 200 -\n",
      "INFO:werkzeug:127.0.0.1 - - [09/Nov/2023 15:31:43] \"POST /completions HTTP/1.1\" 200 -\n",
      "INFO:werkzeug:127.0.0.1 - - [09/Nov/2023 15:31:43] \"POST /completions HTTP/1.1\" 200 -\n",
      "INFO:werkzeug:127.0.0.1 - - [09/Nov/2023 15:31:43] \"POST /completions HTTP/1.1\" 200 -\n",
      "INFO:werkzeug:127.0.0.1 - - [09/Nov/2023 15:31:43] \"POST /completions HTTP/1.1\" 200 -\n",
      "INFO:werkzeug:127.0.0.1 - - [09/Nov/2023 15:31:43] \"POST /completions HTTP/1.1\" 200 -\n"
     ]
    },
    {
     "name": "stdout",
     "output_type": "stream",
     "text": [
      "flushing 0.7 0\n"
     ]
    },
    {
     "name": "stderr",
     "output_type": "stream",
     "text": [
      "INFO:werkzeug:127.0.0.1 - - [09/Nov/2023 15:31:55] \"POST /completions HTTP/1.1\" 200 -\n",
      "INFO:werkzeug:127.0.0.1 - - [09/Nov/2023 15:31:55] \"POST /completions HTTP/1.1\" 200 -\n",
      "INFO:werkzeug:127.0.0.1 - - [09/Nov/2023 15:31:55] \"POST /completions HTTP/1.1\" 200 -\n",
      "INFO:werkzeug:127.0.0.1 - - [09/Nov/2023 15:31:55] \"POST /completions HTTP/1.1\" 200 -\n",
      "INFO:werkzeug:127.0.0.1 - - [09/Nov/2023 15:31:55] \"POST /completions HTTP/1.1\" 200 -\n",
      "INFO:werkzeug:127.0.0.1 - - [09/Nov/2023 15:31:55] \"POST /completions HTTP/1.1\" 200 -\n",
      "INFO:werkzeug:127.0.0.1 - - [09/Nov/2023 15:31:55] \"POST /completions HTTP/1.1\" 200 -\n",
      "INFO:werkzeug:127.0.0.1 - - [09/Nov/2023 15:31:55] \"POST /completions HTTP/1.1\" 200 -\n",
      "INFO:werkzeug:127.0.0.1 - - [09/Nov/2023 15:31:55] \"POST /completions HTTP/1.1\" 200 -\n",
      "INFO:werkzeug:127.0.0.1 - - [09/Nov/2023 15:31:55] \"POST /completions HTTP/1.1\" 200 -\n",
      "INFO:werkzeug:127.0.0.1 - - [09/Nov/2023 15:31:55] \"POST /completions HTTP/1.1\" 200 -\n",
      "INFO:werkzeug:127.0.0.1 - - [09/Nov/2023 15:31:55] \"POST /completions HTTP/1.1\" 200 -\n",
      "INFO:werkzeug:127.0.0.1 - - [09/Nov/2023 15:31:55] \"POST /completions HTTP/1.1\" 200 -\n",
      "INFO:werkzeug:127.0.0.1 - - [09/Nov/2023 15:31:55] \"POST /completions HTTP/1.1\" 200 -\n",
      "INFO:werkzeug:127.0.0.1 - - [09/Nov/2023 15:31:55] \"POST /completions HTTP/1.1\" 200 -\n",
      "INFO:werkzeug:127.0.0.1 - - [09/Nov/2023 15:31:55] \"POST /completions HTTP/1.1\" 200 -\n",
      "INFO:werkzeug:127.0.0.1 - - [09/Nov/2023 15:31:55] \"POST /completions HTTP/1.1\" 200 -\n",
      "INFO:werkzeug:127.0.0.1 - - [09/Nov/2023 15:31:55] \"POST /completions HTTP/1.1\" 200 -\n",
      "INFO:werkzeug:127.0.0.1 - - [09/Nov/2023 15:31:55] \"POST /completions HTTP/1.1\" 200 -\n",
      "INFO:werkzeug:127.0.0.1 - - [09/Nov/2023 15:31:55] \"POST /completions HTTP/1.1\" 200 -\n",
      "INFO:werkzeug:127.0.0.1 - - [09/Nov/2023 15:31:55] \"POST /completions HTTP/1.1\" 200 -\n",
      "INFO:werkzeug:127.0.0.1 - - [09/Nov/2023 15:31:55] \"POST /completions HTTP/1.1\" 200 -\n",
      "INFO:werkzeug:127.0.0.1 - - [09/Nov/2023 15:31:55] \"POST /completions HTTP/1.1\" 200 -\n",
      "INFO:werkzeug:127.0.0.1 - - [09/Nov/2023 15:31:55] \"POST /completions HTTP/1.1\" 200 -\n",
      "INFO:werkzeug:127.0.0.1 - - [09/Nov/2023 15:31:55] \"POST /completions HTTP/1.1\" 200 -\n",
      "INFO:werkzeug:127.0.0.1 - - [09/Nov/2023 15:31:55] \"POST /completions HTTP/1.1\" 200 -\n",
      "INFO:werkzeug:127.0.0.1 - - [09/Nov/2023 15:31:55] \"POST /completions HTTP/1.1\" 200 -\n",
      "INFO:werkzeug:127.0.0.1 - - [09/Nov/2023 15:31:55] \"POST /completions HTTP/1.1\" 200 -\n",
      "INFO:werkzeug:127.0.0.1 - - [09/Nov/2023 15:31:55] \"POST /completions HTTP/1.1\" 200 -\n",
      "INFO:werkzeug:127.0.0.1 - - [09/Nov/2023 15:31:55] \"POST /completions HTTP/1.1\" 200 -\n",
      "INFO:werkzeug:127.0.0.1 - - [09/Nov/2023 15:31:55] \"POST /completions HTTP/1.1\" 200 -\n",
      "INFO:werkzeug:127.0.0.1 - - [09/Nov/2023 15:31:55] \"POST /completions HTTP/1.1\" 200 -\n"
     ]
    },
    {
     "name": "stdout",
     "output_type": "stream",
     "text": [
      "flushing 0.7 0\n"
     ]
    },
    {
     "name": "stderr",
     "output_type": "stream",
     "text": [
      "INFO:werkzeug:127.0.0.1 - - [09/Nov/2023 15:32:04] \"POST /completions HTTP/1.1\" 200 -\n",
      "INFO:werkzeug:127.0.0.1 - - [09/Nov/2023 15:32:04] \"POST /completions HTTP/1.1\" 200 -\n",
      "INFO:werkzeug:127.0.0.1 - - [09/Nov/2023 15:32:04] \"POST /completions HTTP/1.1\" 200 -\n",
      "INFO:werkzeug:127.0.0.1 - - [09/Nov/2023 15:32:04] \"POST /completions HTTP/1.1\" 200 -\n",
      "INFO:werkzeug:127.0.0.1 - - [09/Nov/2023 15:32:04] \"POST /completions HTTP/1.1\" 200 -\n",
      "INFO:werkzeug:127.0.0.1 - - [09/Nov/2023 15:32:04] \"POST /completions HTTP/1.1\" 200 -\n",
      "INFO:werkzeug:127.0.0.1 - - [09/Nov/2023 15:32:04] \"POST /completions HTTP/1.1\" 200 -\n",
      "INFO:werkzeug:127.0.0.1 - - [09/Nov/2023 15:32:04] \"POST /completions HTTP/1.1\" 200 -\n",
      "INFO:werkzeug:127.0.0.1 - - [09/Nov/2023 15:32:04] \"POST /completions HTTP/1.1\" 200 -\n",
      "INFO:werkzeug:127.0.0.1 - - [09/Nov/2023 15:32:04] \"POST /completions HTTP/1.1\" 200 -\n",
      "INFO:werkzeug:127.0.0.1 - - [09/Nov/2023 15:32:04] \"POST /completions HTTP/1.1\" 200 -\n",
      "INFO:werkzeug:127.0.0.1 - - [09/Nov/2023 15:32:04] \"POST /completions HTTP/1.1\" 200 -\n",
      "INFO:werkzeug:127.0.0.1 - - [09/Nov/2023 15:32:04] \"POST /completions HTTP/1.1\" 200 -\n",
      "INFO:werkzeug:127.0.0.1 - - [09/Nov/2023 15:32:04] \"POST /completions HTTP/1.1\" 200 -\n",
      "INFO:werkzeug:127.0.0.1 - - [09/Nov/2023 15:32:04] \"POST /completions HTTP/1.1\" 200 -\n",
      "INFO:werkzeug:127.0.0.1 - - [09/Nov/2023 15:32:04] \"POST /completions HTTP/1.1\" 200 -\n",
      "INFO:werkzeug:127.0.0.1 - - [09/Nov/2023 15:32:04] \"POST /completions HTTP/1.1\" 200 -\n",
      "INFO:werkzeug:127.0.0.1 - - [09/Nov/2023 15:32:04] \"POST /completions HTTP/1.1\" 200 -\n",
      "INFO:werkzeug:127.0.0.1 - - [09/Nov/2023 15:32:04] \"POST /completions HTTP/1.1\" 200 -\n",
      "INFO:werkzeug:127.0.0.1 - - [09/Nov/2023 15:32:04] \"POST /completions HTTP/1.1\" 200 -\n",
      "INFO:werkzeug:127.0.0.1 - - [09/Nov/2023 15:32:04] \"POST /completions HTTP/1.1\" 200 -\n",
      "INFO:werkzeug:127.0.0.1 - - [09/Nov/2023 15:32:04] \"POST /completions HTTP/1.1\" 200 -\n",
      "INFO:werkzeug:127.0.0.1 - - [09/Nov/2023 15:32:04] \"POST /completions HTTP/1.1\" 200 -\n",
      "INFO:werkzeug:127.0.0.1 - - [09/Nov/2023 15:32:04] \"POST /completions HTTP/1.1\" 200 -\n",
      "INFO:werkzeug:127.0.0.1 - - [09/Nov/2023 15:32:04] \"POST /completions HTTP/1.1\" 200 -\n",
      "INFO:werkzeug:127.0.0.1 - - [09/Nov/2023 15:32:04] \"POST /completions HTTP/1.1\" 200 -\n",
      "INFO:werkzeug:127.0.0.1 - - [09/Nov/2023 15:32:04] \"POST /completions HTTP/1.1\" 200 -\n",
      "INFO:werkzeug:127.0.0.1 - - [09/Nov/2023 15:32:04] \"POST /completions HTTP/1.1\" 200 -\n",
      "INFO:werkzeug:127.0.0.1 - - [09/Nov/2023 15:32:04] \"POST /completions HTTP/1.1\" 200 -\n",
      "INFO:werkzeug:127.0.0.1 - - [09/Nov/2023 15:32:04] \"POST /completions HTTP/1.1\" 200 -\n",
      "INFO:werkzeug:127.0.0.1 - - [09/Nov/2023 15:32:04] \"POST /completions HTTP/1.1\" 200 -\n",
      "INFO:werkzeug:127.0.0.1 - - [09/Nov/2023 15:32:04] \"POST /completions HTTP/1.1\" 200 -\n"
     ]
    },
    {
     "name": "stdout",
     "output_type": "stream",
     "text": [
      "flushing 0.7 0\n"
     ]
    },
    {
     "name": "stderr",
     "output_type": "stream",
     "text": [
      "INFO:werkzeug:127.0.0.1 - - [09/Nov/2023 15:32:14] \"POST /completions HTTP/1.1\" 200 -\n",
      "INFO:werkzeug:127.0.0.1 - - [09/Nov/2023 15:32:14] \"POST /completions HTTP/1.1\" 200 -\n",
      "INFO:werkzeug:127.0.0.1 - - [09/Nov/2023 15:32:14] \"POST /completions HTTP/1.1\" 200 -\n",
      "INFO:werkzeug:127.0.0.1 - - [09/Nov/2023 15:32:14] \"POST /completions HTTP/1.1\" 200 -\n",
      "INFO:werkzeug:127.0.0.1 - - [09/Nov/2023 15:32:14] \"POST /completions HTTP/1.1\" 200 -\n",
      "INFO:werkzeug:127.0.0.1 - - [09/Nov/2023 15:32:14] \"POST /completions HTTP/1.1\" 200 -\n",
      "INFO:werkzeug:127.0.0.1 - - [09/Nov/2023 15:32:14] \"POST /completions HTTP/1.1\" 200 -\n",
      "INFO:werkzeug:127.0.0.1 - - [09/Nov/2023 15:32:14] \"POST /completions HTTP/1.1\" 200 -\n",
      "INFO:werkzeug:127.0.0.1 - - [09/Nov/2023 15:32:14] \"POST /completions HTTP/1.1\" 200 -\n",
      "INFO:werkzeug:127.0.0.1 - - [09/Nov/2023 15:32:14] \"POST /completions HTTP/1.1\" 200 -\n",
      "INFO:werkzeug:127.0.0.1 - - [09/Nov/2023 15:32:14] \"POST /completions HTTP/1.1\" 200 -\n",
      "INFO:werkzeug:127.0.0.1 - - [09/Nov/2023 15:32:14] \"POST /completions HTTP/1.1\" 200 -\n",
      "INFO:werkzeug:127.0.0.1 - - [09/Nov/2023 15:32:14] \"POST /completions HTTP/1.1\" 200 -\n",
      "INFO:werkzeug:127.0.0.1 - - [09/Nov/2023 15:32:14] \"POST /completions HTTP/1.1\" 200 -\n",
      "INFO:werkzeug:127.0.0.1 - - [09/Nov/2023 15:32:14] \"POST /completions HTTP/1.1\" 200 -\n",
      "INFO:werkzeug:127.0.0.1 - - [09/Nov/2023 15:32:14] \"POST /completions HTTP/1.1\" 200 -\n",
      "INFO:werkzeug:127.0.0.1 - - [09/Nov/2023 15:32:14] \"POST /completions HTTP/1.1\" 200 -\n",
      "INFO:werkzeug:127.0.0.1 - - [09/Nov/2023 15:32:14] \"POST /completions HTTP/1.1\" 200 -\n",
      "INFO:werkzeug:127.0.0.1 - - [09/Nov/2023 15:32:14] \"POST /completions HTTP/1.1\" 200 -\n",
      "INFO:werkzeug:127.0.0.1 - - [09/Nov/2023 15:32:14] \"POST /completions HTTP/1.1\" 200 -\n",
      "INFO:werkzeug:127.0.0.1 - - [09/Nov/2023 15:32:14] \"POST /completions HTTP/1.1\" 200 -\n",
      "INFO:werkzeug:127.0.0.1 - - [09/Nov/2023 15:32:14] \"POST /completions HTTP/1.1\" 200 -\n",
      "INFO:werkzeug:127.0.0.1 - - [09/Nov/2023 15:32:14] \"POST /completions HTTP/1.1\" 200 -\n",
      "INFO:werkzeug:127.0.0.1 - - [09/Nov/2023 15:32:14] \"POST /completions HTTP/1.1\" 200 -\n",
      "INFO:werkzeug:127.0.0.1 - - [09/Nov/2023 15:32:14] \"POST /completions HTTP/1.1\" 200 -\n",
      "INFO:werkzeug:127.0.0.1 - - [09/Nov/2023 15:32:14] \"POST /completions HTTP/1.1\" 200 -\n",
      "INFO:werkzeug:127.0.0.1 - - [09/Nov/2023 15:32:14] \"POST /completions HTTP/1.1\" 200 -\n",
      "INFO:werkzeug:127.0.0.1 - - [09/Nov/2023 15:32:14] \"POST /completions HTTP/1.1\" 200 -\n",
      "INFO:werkzeug:127.0.0.1 - - [09/Nov/2023 15:32:14] \"POST /completions HTTP/1.1\" 200 -\n",
      "INFO:werkzeug:127.0.0.1 - - [09/Nov/2023 15:32:14] \"POST /completions HTTP/1.1\" 200 -\n",
      "INFO:werkzeug:127.0.0.1 - - [09/Nov/2023 15:32:14] \"POST /completions HTTP/1.1\" 200 -\n",
      "INFO:werkzeug:127.0.0.1 - - [09/Nov/2023 15:32:14] \"POST /completions HTTP/1.1\" 200 -\n"
     ]
    },
    {
     "name": "stdout",
     "output_type": "stream",
     "text": [
      "flushing 0.7 0\n"
     ]
    },
    {
     "name": "stderr",
     "output_type": "stream",
     "text": [
      "INFO:werkzeug:127.0.0.1 - - [09/Nov/2023 15:32:29] \"POST /completions HTTP/1.1\" 200 -\n",
      "INFO:werkzeug:127.0.0.1 - - [09/Nov/2023 15:32:29] \"POST /completions HTTP/1.1\" 200 -\n",
      "INFO:werkzeug:127.0.0.1 - - [09/Nov/2023 15:32:29] \"POST /completions HTTP/1.1\" 200 -\n",
      "INFO:werkzeug:127.0.0.1 - - [09/Nov/2023 15:32:29] \"POST /completions HTTP/1.1\" 200 -\n",
      "INFO:werkzeug:127.0.0.1 - - [09/Nov/2023 15:32:29] \"POST /completions HTTP/1.1\" 200 -\n",
      "INFO:werkzeug:127.0.0.1 - - [09/Nov/2023 15:32:29] \"POST /completions HTTP/1.1\" 200 -\n",
      "INFO:werkzeug:127.0.0.1 - - [09/Nov/2023 15:32:29] \"POST /completions HTTP/1.1\" 200 -\n",
      "INFO:werkzeug:127.0.0.1 - - [09/Nov/2023 15:32:29] \"POST /completions HTTP/1.1\" 200 -\n",
      "INFO:werkzeug:127.0.0.1 - - [09/Nov/2023 15:32:29] \"POST /completions HTTP/1.1\" 200 -\n",
      "INFO:werkzeug:127.0.0.1 - - [09/Nov/2023 15:32:29] \"POST /completions HTTP/1.1\" 200 -\n",
      "INFO:werkzeug:127.0.0.1 - - [09/Nov/2023 15:32:29] \"POST /completions HTTP/1.1\" 200 -\n",
      "INFO:werkzeug:127.0.0.1 - - [09/Nov/2023 15:32:29] \"POST /completions HTTP/1.1\" 200 -\n",
      "INFO:werkzeug:127.0.0.1 - - [09/Nov/2023 15:32:29] \"POST /completions HTTP/1.1\" 200 -\n",
      "INFO:werkzeug:127.0.0.1 - - [09/Nov/2023 15:32:29] \"POST /completions HTTP/1.1\" 200 -\n",
      "INFO:werkzeug:127.0.0.1 - - [09/Nov/2023 15:32:29] \"POST /completions HTTP/1.1\" 200 -\n",
      "INFO:werkzeug:127.0.0.1 - - [09/Nov/2023 15:32:29] \"POST /completions HTTP/1.1\" 200 -\n",
      "INFO:werkzeug:127.0.0.1 - - [09/Nov/2023 15:32:29] \"POST /completions HTTP/1.1\" 200 -\n",
      "INFO:werkzeug:127.0.0.1 - - [09/Nov/2023 15:32:29] \"POST /completions HTTP/1.1\" 200 -\n",
      "INFO:werkzeug:127.0.0.1 - - [09/Nov/2023 15:32:29] \"POST /completions HTTP/1.1\" 200 -\n",
      "INFO:werkzeug:127.0.0.1 - - [09/Nov/2023 15:32:29] \"POST /completions HTTP/1.1\" 200 -\n",
      "INFO:werkzeug:127.0.0.1 - - [09/Nov/2023 15:32:29] \"POST /completions HTTP/1.1\" 200 -\n",
      "INFO:werkzeug:127.0.0.1 - - [09/Nov/2023 15:32:29] \"POST /completions HTTP/1.1\" 200 -\n",
      "INFO:werkzeug:127.0.0.1 - - [09/Nov/2023 15:32:29] \"POST /completions HTTP/1.1\" 200 -\n",
      "INFO:werkzeug:127.0.0.1 - - [09/Nov/2023 15:32:29] \"POST /completions HTTP/1.1\" 200 -\n",
      "INFO:werkzeug:127.0.0.1 - - [09/Nov/2023 15:32:29] \"POST /completions HTTP/1.1\" 200 -\n",
      "INFO:werkzeug:127.0.0.1 - - [09/Nov/2023 15:32:29] \"POST /completions HTTP/1.1\" 200 -\n",
      "INFO:werkzeug:127.0.0.1 - - [09/Nov/2023 15:32:29] \"POST /completions HTTP/1.1\" 200 -\n",
      "INFO:werkzeug:127.0.0.1 - - [09/Nov/2023 15:32:29] \"POST /completions HTTP/1.1\" 200 -\n",
      "INFO:werkzeug:127.0.0.1 - - [09/Nov/2023 15:32:29] \"POST /completions HTTP/1.1\" 200 -\n",
      "INFO:werkzeug:127.0.0.1 - - [09/Nov/2023 15:32:29] \"POST /completions HTTP/1.1\" 200 -\n",
      "INFO:werkzeug:127.0.0.1 - - [09/Nov/2023 15:32:29] \"POST /completions HTTP/1.1\" 200 -\n",
      "INFO:werkzeug:127.0.0.1 - - [09/Nov/2023 15:32:29] \"POST /completions HTTP/1.1\" 200 -\n"
     ]
    },
    {
     "name": "stdout",
     "output_type": "stream",
     "text": [
      "flushing 0.7 0\n"
     ]
    },
    {
     "name": "stderr",
     "output_type": "stream",
     "text": [
      "INFO:werkzeug:127.0.0.1 - - [09/Nov/2023 15:32:41] \"POST /completions HTTP/1.1\" 200 -\n",
      "INFO:werkzeug:127.0.0.1 - - [09/Nov/2023 15:32:41] \"POST /completions HTTP/1.1\" 200 -\n",
      "INFO:werkzeug:127.0.0.1 - - [09/Nov/2023 15:32:41] \"POST /completions HTTP/1.1\" 200 -\n",
      "INFO:werkzeug:127.0.0.1 - - [09/Nov/2023 15:32:41] \"POST /completions HTTP/1.1\" 200 -\n",
      "INFO:werkzeug:127.0.0.1 - - [09/Nov/2023 15:32:41] \"POST /completions HTTP/1.1\" 200 -\n",
      "INFO:werkzeug:127.0.0.1 - - [09/Nov/2023 15:32:41] \"POST /completions HTTP/1.1\" 200 -\n",
      "INFO:werkzeug:127.0.0.1 - - [09/Nov/2023 15:32:41] \"POST /completions HTTP/1.1\" 200 -\n",
      "INFO:werkzeug:127.0.0.1 - - [09/Nov/2023 15:32:41] \"POST /completions HTTP/1.1\" 200 -\n",
      "INFO:werkzeug:127.0.0.1 - - [09/Nov/2023 15:32:41] \"POST /completions HTTP/1.1\" 200 -\n",
      "INFO:werkzeug:127.0.0.1 - - [09/Nov/2023 15:32:41] \"POST /completions HTTP/1.1\" 200 -\n",
      "INFO:werkzeug:127.0.0.1 - - [09/Nov/2023 15:32:41] \"POST /completions HTTP/1.1\" 200 -\n",
      "INFO:werkzeug:127.0.0.1 - - [09/Nov/2023 15:32:41] \"POST /completions HTTP/1.1\" 200 -\n",
      "INFO:werkzeug:127.0.0.1 - - [09/Nov/2023 15:32:41] \"POST /completions HTTP/1.1\" 200 -\n",
      "INFO:werkzeug:127.0.0.1 - - [09/Nov/2023 15:32:41] \"POST /completions HTTP/1.1\" 200 -\n",
      "INFO:werkzeug:127.0.0.1 - - [09/Nov/2023 15:32:41] \"POST /completions HTTP/1.1\" 200 -\n",
      "INFO:werkzeug:127.0.0.1 - - [09/Nov/2023 15:32:41] \"POST /completions HTTP/1.1\" 200 -\n",
      "INFO:werkzeug:127.0.0.1 - - [09/Nov/2023 15:32:41] \"POST /completions HTTP/1.1\" 200 -\n",
      "INFO:werkzeug:127.0.0.1 - - [09/Nov/2023 15:32:41] \"POST /completions HTTP/1.1\" 200 -\n",
      "INFO:werkzeug:127.0.0.1 - - [09/Nov/2023 15:32:41] \"POST /completions HTTP/1.1\" 200 -\n",
      "INFO:werkzeug:127.0.0.1 - - [09/Nov/2023 15:32:41] \"POST /completions HTTP/1.1\" 200 -\n",
      "INFO:werkzeug:127.0.0.1 - - [09/Nov/2023 15:32:41] \"POST /completions HTTP/1.1\" 200 -\n",
      "INFO:werkzeug:127.0.0.1 - - [09/Nov/2023 15:32:41] \"POST /completions HTTP/1.1\" 200 -\n",
      "INFO:werkzeug:127.0.0.1 - - [09/Nov/2023 15:32:41] \"POST /completions HTTP/1.1\" 200 -\n",
      "INFO:werkzeug:127.0.0.1 - - [09/Nov/2023 15:32:41] \"POST /completions HTTP/1.1\" 200 -\n",
      "INFO:werkzeug:127.0.0.1 - - [09/Nov/2023 15:32:41] \"POST /completions HTTP/1.1\" 200 -\n",
      "INFO:werkzeug:127.0.0.1 - - [09/Nov/2023 15:32:41] \"POST /completions HTTP/1.1\" 200 -\n",
      "INFO:werkzeug:127.0.0.1 - - [09/Nov/2023 15:32:41] \"POST /completions HTTP/1.1\" 200 -\n",
      "INFO:werkzeug:127.0.0.1 - - [09/Nov/2023 15:32:41] \"POST /completions HTTP/1.1\" 200 -\n",
      "INFO:werkzeug:127.0.0.1 - - [09/Nov/2023 15:32:41] \"POST /completions HTTP/1.1\" 200 -\n",
      "INFO:werkzeug:127.0.0.1 - - [09/Nov/2023 15:32:41] \"POST /completions HTTP/1.1\" 200 -\n",
      "INFO:werkzeug:127.0.0.1 - - [09/Nov/2023 15:32:41] \"POST /completions HTTP/1.1\" 200 -\n",
      "INFO:werkzeug:127.0.0.1 - - [09/Nov/2023 15:32:41] \"POST /completions HTTP/1.1\" 200 -\n"
     ]
    },
    {
     "name": "stdout",
     "output_type": "stream",
     "text": [
      "flushing 0.7 0\n"
     ]
    },
    {
     "name": "stderr",
     "output_type": "stream",
     "text": [
      "INFO:werkzeug:127.0.0.1 - - [09/Nov/2023 15:32:53] \"POST /completions HTTP/1.1\" 200 -\n",
      "INFO:werkzeug:127.0.0.1 - - [09/Nov/2023 15:32:53] \"POST /completions HTTP/1.1\" 200 -\n",
      "INFO:werkzeug:127.0.0.1 - - [09/Nov/2023 15:32:53] \"POST /completions HTTP/1.1\" 200 -\n",
      "INFO:werkzeug:127.0.0.1 - - [09/Nov/2023 15:32:53] \"POST /completions HTTP/1.1\" 200 -\n",
      "INFO:werkzeug:127.0.0.1 - - [09/Nov/2023 15:32:53] \"POST /completions HTTP/1.1\" 200 -\n",
      "INFO:werkzeug:127.0.0.1 - - [09/Nov/2023 15:32:53] \"POST /completions HTTP/1.1\" 200 -\n",
      "INFO:werkzeug:127.0.0.1 - - [09/Nov/2023 15:32:53] \"POST /completions HTTP/1.1\" 200 -\n",
      "INFO:werkzeug:127.0.0.1 - - [09/Nov/2023 15:32:53] \"POST /completions HTTP/1.1\" 200 -\n",
      "INFO:werkzeug:127.0.0.1 - - [09/Nov/2023 15:32:53] \"POST /completions HTTP/1.1\" 200 -\n",
      "INFO:werkzeug:127.0.0.1 - - [09/Nov/2023 15:32:53] \"POST /completions HTTP/1.1\" 200 -\n",
      "INFO:werkzeug:127.0.0.1 - - [09/Nov/2023 15:32:53] \"POST /completions HTTP/1.1\" 200 -\n",
      "INFO:werkzeug:127.0.0.1 - - [09/Nov/2023 15:32:53] \"POST /completions HTTP/1.1\" 200 -\n",
      "INFO:werkzeug:127.0.0.1 - - [09/Nov/2023 15:32:53] \"POST /completions HTTP/1.1\" 200 -\n",
      "INFO:werkzeug:127.0.0.1 - - [09/Nov/2023 15:32:53] \"POST /completions HTTP/1.1\" 200 -\n",
      "INFO:werkzeug:127.0.0.1 - - [09/Nov/2023 15:32:53] \"POST /completions HTTP/1.1\" 200 -\n",
      "INFO:werkzeug:127.0.0.1 - - [09/Nov/2023 15:32:53] \"POST /completions HTTP/1.1\" 200 -\n",
      "INFO:werkzeug:127.0.0.1 - - [09/Nov/2023 15:32:53] \"POST /completions HTTP/1.1\" 200 -\n",
      "INFO:werkzeug:127.0.0.1 - - [09/Nov/2023 15:32:53] \"POST /completions HTTP/1.1\" 200 -\n",
      "INFO:werkzeug:127.0.0.1 - - [09/Nov/2023 15:32:53] \"POST /completions HTTP/1.1\" 200 -\n",
      "INFO:werkzeug:127.0.0.1 - - [09/Nov/2023 15:32:53] \"POST /completions HTTP/1.1\" 200 -\n",
      "INFO:werkzeug:127.0.0.1 - - [09/Nov/2023 15:32:53] \"POST /completions HTTP/1.1\" 200 -\n",
      "INFO:werkzeug:127.0.0.1 - - [09/Nov/2023 15:32:53] \"POST /completions HTTP/1.1\" 200 -\n",
      "INFO:werkzeug:127.0.0.1 - - [09/Nov/2023 15:32:53] \"POST /completions HTTP/1.1\" 200 -\n",
      "INFO:werkzeug:127.0.0.1 - - [09/Nov/2023 15:32:53] \"POST /completions HTTP/1.1\" 200 -\n",
      "INFO:werkzeug:127.0.0.1 - - [09/Nov/2023 15:32:53] \"POST /completions HTTP/1.1\" 200 -\n",
      "INFO:werkzeug:127.0.0.1 - - [09/Nov/2023 15:32:53] \"POST /completions HTTP/1.1\" 200 -\n",
      "INFO:werkzeug:127.0.0.1 - - [09/Nov/2023 15:32:53] \"POST /completions HTTP/1.1\" 200 -\n",
      "INFO:werkzeug:127.0.0.1 - - [09/Nov/2023 15:32:53] \"POST /completions HTTP/1.1\" 200 -\n",
      "INFO:werkzeug:127.0.0.1 - - [09/Nov/2023 15:32:53] \"POST /completions HTTP/1.1\" 200 -\n",
      "INFO:werkzeug:127.0.0.1 - - [09/Nov/2023 15:32:53] \"POST /completions HTTP/1.1\" 200 -\n",
      "INFO:werkzeug:127.0.0.1 - - [09/Nov/2023 15:32:53] \"POST /completions HTTP/1.1\" 200 -\n",
      "INFO:werkzeug:127.0.0.1 - - [09/Nov/2023 15:32:53] \"POST /completions HTTP/1.1\" 200 -\n"
     ]
    },
    {
     "name": "stdout",
     "output_type": "stream",
     "text": [
      "flushing 0.7 0\n"
     ]
    },
    {
     "name": "stderr",
     "output_type": "stream",
     "text": [
      "INFO:werkzeug:127.0.0.1 - - [09/Nov/2023 15:33:05] \"POST /completions HTTP/1.1\" 200 -\n",
      "INFO:werkzeug:127.0.0.1 - - [09/Nov/2023 15:33:05] \"POST /completions HTTP/1.1\" 200 -\n",
      "INFO:werkzeug:127.0.0.1 - - [09/Nov/2023 15:33:05] \"POST /completions HTTP/1.1\" 200 -\n",
      "INFO:werkzeug:127.0.0.1 - - [09/Nov/2023 15:33:05] \"POST /completions HTTP/1.1\" 200 -\n",
      "INFO:werkzeug:127.0.0.1 - - [09/Nov/2023 15:33:05] \"POST /completions HTTP/1.1\" 200 -\n",
      "INFO:werkzeug:127.0.0.1 - - [09/Nov/2023 15:33:05] \"POST /completions HTTP/1.1\" 200 -\n",
      "INFO:werkzeug:127.0.0.1 - - [09/Nov/2023 15:33:05] \"POST /completions HTTP/1.1\" 200 -\n",
      "INFO:werkzeug:127.0.0.1 - - [09/Nov/2023 15:33:05] \"POST /completions HTTP/1.1\" 200 -\n",
      "INFO:werkzeug:127.0.0.1 - - [09/Nov/2023 15:33:05] \"POST /completions HTTP/1.1\" 200 -\n",
      "INFO:werkzeug:127.0.0.1 - - [09/Nov/2023 15:33:05] \"POST /completions HTTP/1.1\" 200 -\n",
      "INFO:werkzeug:127.0.0.1 - - [09/Nov/2023 15:33:05] \"POST /completions HTTP/1.1\" 200 -\n",
      "INFO:werkzeug:127.0.0.1 - - [09/Nov/2023 15:33:05] \"POST /completions HTTP/1.1\" 200 -\n",
      "INFO:werkzeug:127.0.0.1 - - [09/Nov/2023 15:33:05] \"POST /completions HTTP/1.1\" 200 -\n",
      "INFO:werkzeug:127.0.0.1 - - [09/Nov/2023 15:33:05] \"POST /completions HTTP/1.1\" 200 -\n",
      "INFO:werkzeug:127.0.0.1 - - [09/Nov/2023 15:33:05] \"POST /completions HTTP/1.1\" 200 -\n",
      "INFO:werkzeug:127.0.0.1 - - [09/Nov/2023 15:33:05] \"POST /completions HTTP/1.1\" 200 -\n",
      "INFO:werkzeug:127.0.0.1 - - [09/Nov/2023 15:33:05] \"POST /completions HTTP/1.1\" 200 -\n",
      "INFO:werkzeug:127.0.0.1 - - [09/Nov/2023 15:33:05] \"POST /completions HTTP/1.1\" 200 -\n",
      "INFO:werkzeug:127.0.0.1 - - [09/Nov/2023 15:33:05] \"POST /completions HTTP/1.1\" 200 -\n",
      "INFO:werkzeug:127.0.0.1 - - [09/Nov/2023 15:33:05] \"POST /completions HTTP/1.1\" 200 -\n",
      "INFO:werkzeug:127.0.0.1 - - [09/Nov/2023 15:33:05] \"POST /completions HTTP/1.1\" 200 -\n",
      "INFO:werkzeug:127.0.0.1 - - [09/Nov/2023 15:33:05] \"POST /completions HTTP/1.1\" 200 -\n",
      "INFO:werkzeug:127.0.0.1 - - [09/Nov/2023 15:33:05] \"POST /completions HTTP/1.1\" 200 -\n",
      "INFO:werkzeug:127.0.0.1 - - [09/Nov/2023 15:33:05] \"POST /completions HTTP/1.1\" 200 -\n",
      "INFO:werkzeug:127.0.0.1 - - [09/Nov/2023 15:33:05] \"POST /completions HTTP/1.1\" 200 -\n",
      "INFO:werkzeug:127.0.0.1 - - [09/Nov/2023 15:33:05] \"POST /completions HTTP/1.1\" 200 -\n",
      "INFO:werkzeug:127.0.0.1 - - [09/Nov/2023 15:33:05] \"POST /completions HTTP/1.1\" 200 -\n",
      "INFO:werkzeug:127.0.0.1 - - [09/Nov/2023 15:33:05] \"POST /completions HTTP/1.1\" 200 -\n",
      "INFO:werkzeug:127.0.0.1 - - [09/Nov/2023 15:33:05] \"POST /completions HTTP/1.1\" 200 -\n",
      "INFO:werkzeug:127.0.0.1 - - [09/Nov/2023 15:33:05] \"POST /completions HTTP/1.1\" 200 -\n",
      "INFO:werkzeug:127.0.0.1 - - [09/Nov/2023 15:33:05] \"POST /completions HTTP/1.1\" 200 -\n",
      "INFO:werkzeug:127.0.0.1 - - [09/Nov/2023 15:33:05] \"POST /completions HTTP/1.1\" 200 -\n"
     ]
    },
    {
     "name": "stdout",
     "output_type": "stream",
     "text": [
      "flushing 0.7 0\n"
     ]
    },
    {
     "name": "stderr",
     "output_type": "stream",
     "text": [
      "INFO:werkzeug:127.0.0.1 - - [09/Nov/2023 15:33:18] \"POST /completions HTTP/1.1\" 200 -\n",
      "INFO:werkzeug:127.0.0.1 - - [09/Nov/2023 15:33:18] \"POST /completions HTTP/1.1\" 200 -\n",
      "INFO:werkzeug:127.0.0.1 - - [09/Nov/2023 15:33:18] \"POST /completions HTTP/1.1\" 200 -\n",
      "INFO:werkzeug:127.0.0.1 - - [09/Nov/2023 15:33:18] \"POST /completions HTTP/1.1\" 200 -\n",
      "INFO:werkzeug:127.0.0.1 - - [09/Nov/2023 15:33:18] \"POST /completions HTTP/1.1\" 200 -\n",
      "INFO:werkzeug:127.0.0.1 - - [09/Nov/2023 15:33:18] \"POST /completions HTTP/1.1\" 200 -\n",
      "INFO:werkzeug:127.0.0.1 - - [09/Nov/2023 15:33:18] \"POST /completions HTTP/1.1\" 200 -\n",
      "INFO:werkzeug:127.0.0.1 - - [09/Nov/2023 15:33:18] \"POST /completions HTTP/1.1\" 200 -\n",
      "INFO:werkzeug:127.0.0.1 - - [09/Nov/2023 15:33:18] \"POST /completions HTTP/1.1\" 200 -\n",
      "INFO:werkzeug:127.0.0.1 - - [09/Nov/2023 15:33:18] \"POST /completions HTTP/1.1\" 200 -\n",
      "INFO:werkzeug:127.0.0.1 - - [09/Nov/2023 15:33:18] \"POST /completions HTTP/1.1\" 200 -\n",
      "INFO:werkzeug:127.0.0.1 - - [09/Nov/2023 15:33:18] \"POST /completions HTTP/1.1\" 200 -\n",
      "INFO:werkzeug:127.0.0.1 - - [09/Nov/2023 15:33:18] \"POST /completions HTTP/1.1\" 200 -\n",
      "INFO:werkzeug:127.0.0.1 - - [09/Nov/2023 15:33:18] \"POST /completions HTTP/1.1\" 200 -\n",
      "INFO:werkzeug:127.0.0.1 - - [09/Nov/2023 15:33:18] \"POST /completions HTTP/1.1\" 200 -\n",
      "INFO:werkzeug:127.0.0.1 - - [09/Nov/2023 15:33:18] \"POST /completions HTTP/1.1\" 200 -\n",
      "INFO:werkzeug:127.0.0.1 - - [09/Nov/2023 15:33:18] \"POST /completions HTTP/1.1\" 200 -\n",
      "INFO:werkzeug:127.0.0.1 - - [09/Nov/2023 15:33:18] \"POST /completions HTTP/1.1\" 200 -\n",
      "INFO:werkzeug:127.0.0.1 - - [09/Nov/2023 15:33:18] \"POST /completions HTTP/1.1\" 200 -\n",
      "INFO:werkzeug:127.0.0.1 - - [09/Nov/2023 15:33:18] \"POST /completions HTTP/1.1\" 200 -\n",
      "INFO:werkzeug:127.0.0.1 - - [09/Nov/2023 15:33:18] \"POST /completions HTTP/1.1\" 200 -\n",
      "INFO:werkzeug:127.0.0.1 - - [09/Nov/2023 15:33:18] \"POST /completions HTTP/1.1\" 200 -\n",
      "INFO:werkzeug:127.0.0.1 - - [09/Nov/2023 15:33:18] \"POST /completions HTTP/1.1\" 200 -\n",
      "INFO:werkzeug:127.0.0.1 - - [09/Nov/2023 15:33:18] \"POST /completions HTTP/1.1\" 200 -\n",
      "INFO:werkzeug:127.0.0.1 - - [09/Nov/2023 15:33:18] \"POST /completions HTTP/1.1\" 200 -\n",
      "INFO:werkzeug:127.0.0.1 - - [09/Nov/2023 15:33:18] \"POST /completions HTTP/1.1\" 200 -\n",
      "INFO:werkzeug:127.0.0.1 - - [09/Nov/2023 15:33:18] \"POST /completions HTTP/1.1\" 200 -\n",
      "INFO:werkzeug:127.0.0.1 - - [09/Nov/2023 15:33:18] \"POST /completions HTTP/1.1\" 200 -\n",
      "INFO:werkzeug:127.0.0.1 - - [09/Nov/2023 15:33:18] \"POST /completions HTTP/1.1\" 200 -\n",
      "INFO:werkzeug:127.0.0.1 - - [09/Nov/2023 15:33:18] \"POST /completions HTTP/1.1\" 200 -\n",
      "INFO:werkzeug:127.0.0.1 - - [09/Nov/2023 15:33:18] \"POST /completions HTTP/1.1\" 200 -\n",
      "INFO:werkzeug:127.0.0.1 - - [09/Nov/2023 15:33:18] \"POST /completions HTTP/1.1\" 200 -\n"
     ]
    },
    {
     "name": "stdout",
     "output_type": "stream",
     "text": [
      "flushing 0.7 0\n"
     ]
    },
    {
     "name": "stderr",
     "output_type": "stream",
     "text": [
      "INFO:werkzeug:127.0.0.1 - - [09/Nov/2023 15:33:39] \"POST /completions HTTP/1.1\" 200 -\n",
      "INFO:werkzeug:127.0.0.1 - - [09/Nov/2023 15:33:39] \"POST /completions HTTP/1.1\" 200 -\n",
      "INFO:werkzeug:127.0.0.1 - - [09/Nov/2023 15:33:39] \"POST /completions HTTP/1.1\" 200 -\n",
      "INFO:werkzeug:127.0.0.1 - - [09/Nov/2023 15:33:39] \"POST /completions HTTP/1.1\" 200 -\n",
      "INFO:werkzeug:127.0.0.1 - - [09/Nov/2023 15:33:39] \"POST /completions HTTP/1.1\" 200 -\n",
      "INFO:werkzeug:127.0.0.1 - - [09/Nov/2023 15:33:39] \"POST /completions HTTP/1.1\" 200 -\n",
      "INFO:werkzeug:127.0.0.1 - - [09/Nov/2023 15:33:39] \"POST /completions HTTP/1.1\" 200 -\n",
      "INFO:werkzeug:127.0.0.1 - - [09/Nov/2023 15:33:39] \"POST /completions HTTP/1.1\" 200 -\n",
      "INFO:werkzeug:127.0.0.1 - - [09/Nov/2023 15:33:39] \"POST /completions HTTP/1.1\" 200 -\n",
      "INFO:werkzeug:127.0.0.1 - - [09/Nov/2023 15:33:39] \"POST /completions HTTP/1.1\" 200 -\n",
      "INFO:werkzeug:127.0.0.1 - - [09/Nov/2023 15:33:39] \"POST /completions HTTP/1.1\" 200 -\n",
      "INFO:werkzeug:127.0.0.1 - - [09/Nov/2023 15:33:39] \"POST /completions HTTP/1.1\" 200 -\n",
      "INFO:werkzeug:127.0.0.1 - - [09/Nov/2023 15:33:39] \"POST /completions HTTP/1.1\" 200 -\n",
      "INFO:werkzeug:127.0.0.1 - - [09/Nov/2023 15:33:39] \"POST /completions HTTP/1.1\" 200 -\n",
      "INFO:werkzeug:127.0.0.1 - - [09/Nov/2023 15:33:39] \"POST /completions HTTP/1.1\" 200 -\n",
      "INFO:werkzeug:127.0.0.1 - - [09/Nov/2023 15:33:39] \"POST /completions HTTP/1.1\" 200 -\n",
      "INFO:werkzeug:127.0.0.1 - - [09/Nov/2023 15:33:39] \"POST /completions HTTP/1.1\" 200 -\n",
      "INFO:werkzeug:127.0.0.1 - - [09/Nov/2023 15:33:39] \"POST /completions HTTP/1.1\" 200 -\n",
      "INFO:werkzeug:127.0.0.1 - - [09/Nov/2023 15:33:39] \"POST /completions HTTP/1.1\" 200 -\n",
      "INFO:werkzeug:127.0.0.1 - - [09/Nov/2023 15:33:39] \"POST /completions HTTP/1.1\" 200 -\n",
      "INFO:werkzeug:127.0.0.1 - - [09/Nov/2023 15:33:39] \"POST /completions HTTP/1.1\" 200 -\n",
      "INFO:werkzeug:127.0.0.1 - - [09/Nov/2023 15:33:39] \"POST /completions HTTP/1.1\" 200 -\n",
      "INFO:werkzeug:127.0.0.1 - - [09/Nov/2023 15:33:39] \"POST /completions HTTP/1.1\" 200 -\n",
      "INFO:werkzeug:127.0.0.1 - - [09/Nov/2023 15:33:39] \"POST /completions HTTP/1.1\" 200 -\n",
      "INFO:werkzeug:127.0.0.1 - - [09/Nov/2023 15:33:39] \"POST /completions HTTP/1.1\" 200 -\n",
      "INFO:werkzeug:127.0.0.1 - - [09/Nov/2023 15:33:39] \"POST /completions HTTP/1.1\" 200 -\n",
      "INFO:werkzeug:127.0.0.1 - - [09/Nov/2023 15:33:39] \"POST /completions HTTP/1.1\" 200 -\n",
      "INFO:werkzeug:127.0.0.1 - - [09/Nov/2023 15:33:39] \"POST /completions HTTP/1.1\" 200 -\n",
      "INFO:werkzeug:127.0.0.1 - - [09/Nov/2023 15:33:39] \"POST /completions HTTP/1.1\" 200 -\n",
      "INFO:werkzeug:127.0.0.1 - - [09/Nov/2023 15:33:39] \"POST /completions HTTP/1.1\" 200 -\n",
      "INFO:werkzeug:127.0.0.1 - - [09/Nov/2023 15:33:39] \"POST /completions HTTP/1.1\" 200 -\n",
      "INFO:werkzeug:127.0.0.1 - - [09/Nov/2023 15:33:39] \"POST /completions HTTP/1.1\" 200 -\n"
     ]
    },
    {
     "name": "stdout",
     "output_type": "stream",
     "text": [
      "flushing 0.7 0\n"
     ]
    },
    {
     "name": "stderr",
     "output_type": "stream",
     "text": [
      "INFO:werkzeug:127.0.0.1 - - [09/Nov/2023 15:33:50] \"POST /completions HTTP/1.1\" 200 -\n",
      "INFO:werkzeug:127.0.0.1 - - [09/Nov/2023 15:33:50] \"POST /completions HTTP/1.1\" 200 -\n",
      "INFO:werkzeug:127.0.0.1 - - [09/Nov/2023 15:33:50] \"POST /completions HTTP/1.1\" 200 -\n",
      "INFO:werkzeug:127.0.0.1 - - [09/Nov/2023 15:33:50] \"POST /completions HTTP/1.1\" 200 -\n",
      "INFO:werkzeug:127.0.0.1 - - [09/Nov/2023 15:33:50] \"POST /completions HTTP/1.1\" 200 -\n",
      "INFO:werkzeug:127.0.0.1 - - [09/Nov/2023 15:33:50] \"POST /completions HTTP/1.1\" 200 -\n",
      "INFO:werkzeug:127.0.0.1 - - [09/Nov/2023 15:33:50] \"POST /completions HTTP/1.1\" 200 -\n",
      "INFO:werkzeug:127.0.0.1 - - [09/Nov/2023 15:33:50] \"POST /completions HTTP/1.1\" 200 -\n",
      "INFO:werkzeug:127.0.0.1 - - [09/Nov/2023 15:33:50] \"POST /completions HTTP/1.1\" 200 -\n",
      "INFO:werkzeug:127.0.0.1 - - [09/Nov/2023 15:33:50] \"POST /completions HTTP/1.1\" 200 -\n",
      "INFO:werkzeug:127.0.0.1 - - [09/Nov/2023 15:33:50] \"POST /completions HTTP/1.1\" 200 -\n",
      "INFO:werkzeug:127.0.0.1 - - [09/Nov/2023 15:33:50] \"POST /completions HTTP/1.1\" 200 -\n",
      "INFO:werkzeug:127.0.0.1 - - [09/Nov/2023 15:33:50] \"POST /completions HTTP/1.1\" 200 -\n",
      "INFO:werkzeug:127.0.0.1 - - [09/Nov/2023 15:33:50] \"POST /completions HTTP/1.1\" 200 -\n",
      "INFO:werkzeug:127.0.0.1 - - [09/Nov/2023 15:33:50] \"POST /completions HTTP/1.1\" 200 -\n",
      "INFO:werkzeug:127.0.0.1 - - [09/Nov/2023 15:33:50] \"POST /completions HTTP/1.1\" 200 -\n",
      "INFO:werkzeug:127.0.0.1 - - [09/Nov/2023 15:33:50] \"POST /completions HTTP/1.1\" 200 -\n",
      "INFO:werkzeug:127.0.0.1 - - [09/Nov/2023 15:33:50] \"POST /completions HTTP/1.1\" 200 -\n",
      "INFO:werkzeug:127.0.0.1 - - [09/Nov/2023 15:33:50] \"POST /completions HTTP/1.1\" 200 -\n",
      "INFO:werkzeug:127.0.0.1 - - [09/Nov/2023 15:33:50] \"POST /completions HTTP/1.1\" 200 -\n",
      "INFO:werkzeug:127.0.0.1 - - [09/Nov/2023 15:33:50] \"POST /completions HTTP/1.1\" 200 -\n",
      "INFO:werkzeug:127.0.0.1 - - [09/Nov/2023 15:33:50] \"POST /completions HTTP/1.1\" 200 -\n",
      "INFO:werkzeug:127.0.0.1 - - [09/Nov/2023 15:33:50] \"POST /completions HTTP/1.1\" 200 -\n",
      "INFO:werkzeug:127.0.0.1 - - [09/Nov/2023 15:33:51] \"POST /completions HTTP/1.1\" 200 -\n",
      "INFO:werkzeug:127.0.0.1 - - [09/Nov/2023 15:33:51] \"POST /completions HTTP/1.1\" 200 -\n",
      "INFO:werkzeug:127.0.0.1 - - [09/Nov/2023 15:33:51] \"POST /completions HTTP/1.1\" 200 -\n",
      "INFO:werkzeug:127.0.0.1 - - [09/Nov/2023 15:33:51] \"POST /completions HTTP/1.1\" 200 -\n",
      "INFO:werkzeug:127.0.0.1 - - [09/Nov/2023 15:33:51] \"POST /completions HTTP/1.1\" 200 -\n",
      "INFO:werkzeug:127.0.0.1 - - [09/Nov/2023 15:33:51] \"POST /completions HTTP/1.1\" 200 -\n",
      "INFO:werkzeug:127.0.0.1 - - [09/Nov/2023 15:33:51] \"POST /completions HTTP/1.1\" 200 -\n",
      "INFO:werkzeug:127.0.0.1 - - [09/Nov/2023 15:33:51] \"POST /completions HTTP/1.1\" 200 -\n",
      "INFO:werkzeug:127.0.0.1 - - [09/Nov/2023 15:33:51] \"POST /completions HTTP/1.1\" 200 -\n"
     ]
    },
    {
     "name": "stdout",
     "output_type": "stream",
     "text": [
      "flushing 0.7 0\n"
     ]
    },
    {
     "name": "stderr",
     "output_type": "stream",
     "text": [
      "INFO:werkzeug:127.0.0.1 - - [09/Nov/2023 15:34:03] \"POST /completions HTTP/1.1\" 200 -\n",
      "INFO:werkzeug:127.0.0.1 - - [09/Nov/2023 15:34:03] \"POST /completions HTTP/1.1\" 200 -\n",
      "INFO:werkzeug:127.0.0.1 - - [09/Nov/2023 15:34:03] \"POST /completions HTTP/1.1\" 200 -\n",
      "INFO:werkzeug:127.0.0.1 - - [09/Nov/2023 15:34:03] \"POST /completions HTTP/1.1\" 200 -\n",
      "INFO:werkzeug:127.0.0.1 - - [09/Nov/2023 15:34:03] \"POST /completions HTTP/1.1\" 200 -\n",
      "INFO:werkzeug:127.0.0.1 - - [09/Nov/2023 15:34:03] \"POST /completions HTTP/1.1\" 200 -\n",
      "INFO:werkzeug:127.0.0.1 - - [09/Nov/2023 15:34:03] \"POST /completions HTTP/1.1\" 200 -\n",
      "INFO:werkzeug:127.0.0.1 - - [09/Nov/2023 15:34:03] \"POST /completions HTTP/1.1\" 200 -\n",
      "INFO:werkzeug:127.0.0.1 - - [09/Nov/2023 15:34:03] \"POST /completions HTTP/1.1\" 200 -\n",
      "INFO:werkzeug:127.0.0.1 - - [09/Nov/2023 15:34:03] \"POST /completions HTTP/1.1\" 200 -\n",
      "INFO:werkzeug:127.0.0.1 - - [09/Nov/2023 15:34:03] \"POST /completions HTTP/1.1\" 200 -\n",
      "INFO:werkzeug:127.0.0.1 - - [09/Nov/2023 15:34:03] \"POST /completions HTTP/1.1\" 200 -\n",
      "INFO:werkzeug:127.0.0.1 - - [09/Nov/2023 15:34:03] \"POST /completions HTTP/1.1\" 200 -\n",
      "INFO:werkzeug:127.0.0.1 - - [09/Nov/2023 15:34:03] \"POST /completions HTTP/1.1\" 200 -\n",
      "INFO:werkzeug:127.0.0.1 - - [09/Nov/2023 15:34:03] \"POST /completions HTTP/1.1\" 200 -\n",
      "INFO:werkzeug:127.0.0.1 - - [09/Nov/2023 15:34:03] \"POST /completions HTTP/1.1\" 200 -\n",
      "INFO:werkzeug:127.0.0.1 - - [09/Nov/2023 15:34:03] \"POST /completions HTTP/1.1\" 200 -\n",
      "INFO:werkzeug:127.0.0.1 - - [09/Nov/2023 15:34:03] \"POST /completions HTTP/1.1\" 200 -\n",
      "INFO:werkzeug:127.0.0.1 - - [09/Nov/2023 15:34:03] \"POST /completions HTTP/1.1\" 200 -\n",
      "INFO:werkzeug:127.0.0.1 - - [09/Nov/2023 15:34:03] \"POST /completions HTTP/1.1\" 200 -\n",
      "INFO:werkzeug:127.0.0.1 - - [09/Nov/2023 15:34:03] \"POST /completions HTTP/1.1\" 200 -\n",
      "INFO:werkzeug:127.0.0.1 - - [09/Nov/2023 15:34:03] \"POST /completions HTTP/1.1\" 200 -\n",
      "INFO:werkzeug:127.0.0.1 - - [09/Nov/2023 15:34:03] \"POST /completions HTTP/1.1\" 200 -\n",
      "INFO:werkzeug:127.0.0.1 - - [09/Nov/2023 15:34:03] \"POST /completions HTTP/1.1\" 200 -\n",
      "INFO:werkzeug:127.0.0.1 - - [09/Nov/2023 15:34:03] \"POST /completions HTTP/1.1\" 200 -\n",
      "INFO:werkzeug:127.0.0.1 - - [09/Nov/2023 15:34:03] \"POST /completions HTTP/1.1\" 200 -\n",
      "INFO:werkzeug:127.0.0.1 - - [09/Nov/2023 15:34:03] \"POST /completions HTTP/1.1\" 200 -\n",
      "INFO:werkzeug:127.0.0.1 - - [09/Nov/2023 15:34:03] \"POST /completions HTTP/1.1\" 200 -\n",
      "INFO:werkzeug:127.0.0.1 - - [09/Nov/2023 15:34:03] \"POST /completions HTTP/1.1\" 200 -\n",
      "INFO:werkzeug:127.0.0.1 - - [09/Nov/2023 15:34:03] \"POST /completions HTTP/1.1\" 200 -\n",
      "INFO:werkzeug:127.0.0.1 - - [09/Nov/2023 15:34:03] \"POST /completions HTTP/1.1\" 200 -\n",
      "INFO:werkzeug:127.0.0.1 - - [09/Nov/2023 15:34:03] \"POST /completions HTTP/1.1\" 200 -\n"
     ]
    },
    {
     "name": "stdout",
     "output_type": "stream",
     "text": [
      "flushing 0.7 0\n"
     ]
    },
    {
     "name": "stderr",
     "output_type": "stream",
     "text": [
      "INFO:werkzeug:127.0.0.1 - - [09/Nov/2023 15:34:13] \"POST /completions HTTP/1.1\" 200 -\n",
      "INFO:werkzeug:127.0.0.1 - - [09/Nov/2023 15:34:13] \"POST /completions HTTP/1.1\" 200 -\n",
      "INFO:werkzeug:127.0.0.1 - - [09/Nov/2023 15:34:13] \"POST /completions HTTP/1.1\" 200 -\n",
      "INFO:werkzeug:127.0.0.1 - - [09/Nov/2023 15:34:13] \"POST /completions HTTP/1.1\" 200 -\n",
      "INFO:werkzeug:127.0.0.1 - - [09/Nov/2023 15:34:13] \"POST /completions HTTP/1.1\" 200 -\n",
      "INFO:werkzeug:127.0.0.1 - - [09/Nov/2023 15:34:13] \"POST /completions HTTP/1.1\" 200 -\n",
      "INFO:werkzeug:127.0.0.1 - - [09/Nov/2023 15:34:13] \"POST /completions HTTP/1.1\" 200 -\n",
      "INFO:werkzeug:127.0.0.1 - - [09/Nov/2023 15:34:13] \"POST /completions HTTP/1.1\" 200 -\n",
      "INFO:werkzeug:127.0.0.1 - - [09/Nov/2023 15:34:13] \"POST /completions HTTP/1.1\" 200 -\n",
      "INFO:werkzeug:127.0.0.1 - - [09/Nov/2023 15:34:13] \"POST /completions HTTP/1.1\" 200 -\n",
      "INFO:werkzeug:127.0.0.1 - - [09/Nov/2023 15:34:13] \"POST /completions HTTP/1.1\" 200 -\n",
      "INFO:werkzeug:127.0.0.1 - - [09/Nov/2023 15:34:13] \"POST /completions HTTP/1.1\" 200 -\n",
      "INFO:werkzeug:127.0.0.1 - - [09/Nov/2023 15:34:13] \"POST /completions HTTP/1.1\" 200 -\n",
      "INFO:werkzeug:127.0.0.1 - - [09/Nov/2023 15:34:13] \"POST /completions HTTP/1.1\" 200 -\n",
      "INFO:werkzeug:127.0.0.1 - - [09/Nov/2023 15:34:13] \"POST /completions HTTP/1.1\" 200 -\n",
      "INFO:werkzeug:127.0.0.1 - - [09/Nov/2023 15:34:13] \"POST /completions HTTP/1.1\" 200 -\n",
      "INFO:werkzeug:127.0.0.1 - - [09/Nov/2023 15:34:13] \"POST /completions HTTP/1.1\" 200 -\n",
      "INFO:werkzeug:127.0.0.1 - - [09/Nov/2023 15:34:13] \"POST /completions HTTP/1.1\" 200 -\n",
      "INFO:werkzeug:127.0.0.1 - - [09/Nov/2023 15:34:13] \"POST /completions HTTP/1.1\" 200 -\n",
      "INFO:werkzeug:127.0.0.1 - - [09/Nov/2023 15:34:13] \"POST /completions HTTP/1.1\" 200 -\n",
      "INFO:werkzeug:127.0.0.1 - - [09/Nov/2023 15:34:13] \"POST /completions HTTP/1.1\" 200 -\n",
      "INFO:werkzeug:127.0.0.1 - - [09/Nov/2023 15:34:13] \"POST /completions HTTP/1.1\" 200 -\n",
      "INFO:werkzeug:127.0.0.1 - - [09/Nov/2023 15:34:13] \"POST /completions HTTP/1.1\" 200 -\n",
      "INFO:werkzeug:127.0.0.1 - - [09/Nov/2023 15:34:13] \"POST /completions HTTP/1.1\" 200 -\n",
      "INFO:werkzeug:127.0.0.1 - - [09/Nov/2023 15:34:13] \"POST /completions HTTP/1.1\" 200 -\n",
      "INFO:werkzeug:127.0.0.1 - - [09/Nov/2023 15:34:13] \"POST /completions HTTP/1.1\" 200 -\n",
      "INFO:werkzeug:127.0.0.1 - - [09/Nov/2023 15:34:13] \"POST /completions HTTP/1.1\" 200 -\n",
      "INFO:werkzeug:127.0.0.1 - - [09/Nov/2023 15:34:13] \"POST /completions HTTP/1.1\" 200 -\n",
      "INFO:werkzeug:127.0.0.1 - - [09/Nov/2023 15:34:13] \"POST /completions HTTP/1.1\" 200 -\n",
      "INFO:werkzeug:127.0.0.1 - - [09/Nov/2023 15:34:13] \"POST /completions HTTP/1.1\" 200 -\n",
      "INFO:werkzeug:127.0.0.1 - - [09/Nov/2023 15:34:13] \"POST /completions HTTP/1.1\" 200 -\n",
      "INFO:werkzeug:127.0.0.1 - - [09/Nov/2023 15:34:13] \"POST /completions HTTP/1.1\" 200 -\n"
     ]
    },
    {
     "name": "stdout",
     "output_type": "stream",
     "text": [
      "flushing 0.7 0\n"
     ]
    },
    {
     "name": "stderr",
     "output_type": "stream",
     "text": [
      "INFO:werkzeug:127.0.0.1 - - [09/Nov/2023 15:34:23] \"POST /completions HTTP/1.1\" 200 -\n",
      "INFO:werkzeug:127.0.0.1 - - [09/Nov/2023 15:34:23] \"POST /completions HTTP/1.1\" 200 -\n",
      "INFO:werkzeug:127.0.0.1 - - [09/Nov/2023 15:34:23] \"POST /completions HTTP/1.1\" 200 -\n",
      "INFO:werkzeug:127.0.0.1 - - [09/Nov/2023 15:34:23] \"POST /completions HTTP/1.1\" 200 -\n",
      "INFO:werkzeug:127.0.0.1 - - [09/Nov/2023 15:34:23] \"POST /completions HTTP/1.1\" 200 -\n",
      "INFO:werkzeug:127.0.0.1 - - [09/Nov/2023 15:34:23] \"POST /completions HTTP/1.1\" 200 -\n",
      "INFO:werkzeug:127.0.0.1 - - [09/Nov/2023 15:34:23] \"POST /completions HTTP/1.1\" 200 -\n",
      "INFO:werkzeug:127.0.0.1 - - [09/Nov/2023 15:34:23] \"POST /completions HTTP/1.1\" 200 -\n",
      "INFO:werkzeug:127.0.0.1 - - [09/Nov/2023 15:34:23] \"POST /completions HTTP/1.1\" 200 -\n",
      "INFO:werkzeug:127.0.0.1 - - [09/Nov/2023 15:34:23] \"POST /completions HTTP/1.1\" 200 -\n",
      "INFO:werkzeug:127.0.0.1 - - [09/Nov/2023 15:34:23] \"POST /completions HTTP/1.1\" 200 -\n",
      "INFO:werkzeug:127.0.0.1 - - [09/Nov/2023 15:34:23] \"POST /completions HTTP/1.1\" 200 -\n",
      "INFO:werkzeug:127.0.0.1 - - [09/Nov/2023 15:34:23] \"POST /completions HTTP/1.1\" 200 -\n",
      "INFO:werkzeug:127.0.0.1 - - [09/Nov/2023 15:34:23] \"POST /completions HTTP/1.1\" 200 -\n",
      "INFO:werkzeug:127.0.0.1 - - [09/Nov/2023 15:34:23] \"POST /completions HTTP/1.1\" 200 -\n",
      "INFO:werkzeug:127.0.0.1 - - [09/Nov/2023 15:34:23] \"POST /completions HTTP/1.1\" 200 -\n",
      "INFO:werkzeug:127.0.0.1 - - [09/Nov/2023 15:34:23] \"POST /completions HTTP/1.1\" 200 -\n",
      "INFO:werkzeug:127.0.0.1 - - [09/Nov/2023 15:34:23] \"POST /completions HTTP/1.1\" 200 -\n",
      "INFO:werkzeug:127.0.0.1 - - [09/Nov/2023 15:34:23] \"POST /completions HTTP/1.1\" 200 -\n",
      "INFO:werkzeug:127.0.0.1 - - [09/Nov/2023 15:34:23] \"POST /completions HTTP/1.1\" 200 -\n",
      "INFO:werkzeug:127.0.0.1 - - [09/Nov/2023 15:34:23] \"POST /completions HTTP/1.1\" 200 -\n",
      "INFO:werkzeug:127.0.0.1 - - [09/Nov/2023 15:34:23] \"POST /completions HTTP/1.1\" 200 -\n",
      "INFO:werkzeug:127.0.0.1 - - [09/Nov/2023 15:34:23] \"POST /completions HTTP/1.1\" 200 -\n",
      "INFO:werkzeug:127.0.0.1 - - [09/Nov/2023 15:34:23] \"POST /completions HTTP/1.1\" 200 -\n",
      "INFO:werkzeug:127.0.0.1 - - [09/Nov/2023 15:34:23] \"POST /completions HTTP/1.1\" 200 -\n",
      "INFO:werkzeug:127.0.0.1 - - [09/Nov/2023 15:34:23] \"POST /completions HTTP/1.1\" 200 -\n",
      "INFO:werkzeug:127.0.0.1 - - [09/Nov/2023 15:34:23] \"POST /completions HTTP/1.1\" 200 -\n",
      "INFO:werkzeug:127.0.0.1 - - [09/Nov/2023 15:34:23] \"POST /completions HTTP/1.1\" 200 -\n",
      "INFO:werkzeug:127.0.0.1 - - [09/Nov/2023 15:34:23] \"POST /completions HTTP/1.1\" 200 -\n",
      "INFO:werkzeug:127.0.0.1 - - [09/Nov/2023 15:34:23] \"POST /completions HTTP/1.1\" 200 -\n",
      "INFO:werkzeug:127.0.0.1 - - [09/Nov/2023 15:34:23] \"POST /completions HTTP/1.1\" 200 -\n",
      "INFO:werkzeug:127.0.0.1 - - [09/Nov/2023 15:34:23] \"POST /completions HTTP/1.1\" 200 -\n"
     ]
    },
    {
     "name": "stdout",
     "output_type": "stream",
     "text": [
      "flushing 0.7 0\n"
     ]
    },
    {
     "name": "stderr",
     "output_type": "stream",
     "text": [
      "INFO:werkzeug:127.0.0.1 - - [09/Nov/2023 15:34:33] \"POST /completions HTTP/1.1\" 200 -\n",
      "INFO:werkzeug:127.0.0.1 - - [09/Nov/2023 15:34:33] \"POST /completions HTTP/1.1\" 200 -\n",
      "INFO:werkzeug:127.0.0.1 - - [09/Nov/2023 15:34:33] \"POST /completions HTTP/1.1\" 200 -\n",
      "INFO:werkzeug:127.0.0.1 - - [09/Nov/2023 15:34:33] \"POST /completions HTTP/1.1\" 200 -\n",
      "INFO:werkzeug:127.0.0.1 - - [09/Nov/2023 15:34:33] \"POST /completions HTTP/1.1\" 200 -\n",
      "INFO:werkzeug:127.0.0.1 - - [09/Nov/2023 15:34:33] \"POST /completions HTTP/1.1\" 200 -\n",
      "INFO:werkzeug:127.0.0.1 - - [09/Nov/2023 15:34:33] \"POST /completions HTTP/1.1\" 200 -\n",
      "INFO:werkzeug:127.0.0.1 - - [09/Nov/2023 15:34:33] \"POST /completions HTTP/1.1\" 200 -\n",
      "INFO:werkzeug:127.0.0.1 - - [09/Nov/2023 15:34:33] \"POST /completions HTTP/1.1\" 200 -\n",
      "INFO:werkzeug:127.0.0.1 - - [09/Nov/2023 15:34:33] \"POST /completions HTTP/1.1\" 200 -\n",
      "INFO:werkzeug:127.0.0.1 - - [09/Nov/2023 15:34:33] \"POST /completions HTTP/1.1\" 200 -\n",
      "INFO:werkzeug:127.0.0.1 - - [09/Nov/2023 15:34:33] \"POST /completions HTTP/1.1\" 200 -\n",
      "INFO:werkzeug:127.0.0.1 - - [09/Nov/2023 15:34:33] \"POST /completions HTTP/1.1\" 200 -\n",
      "INFO:werkzeug:127.0.0.1 - - [09/Nov/2023 15:34:33] \"POST /completions HTTP/1.1\" 200 -\n",
      "INFO:werkzeug:127.0.0.1 - - [09/Nov/2023 15:34:33] \"POST /completions HTTP/1.1\" 200 -\n",
      "INFO:werkzeug:127.0.0.1 - - [09/Nov/2023 15:34:33] \"POST /completions HTTP/1.1\" 200 -\n",
      "INFO:werkzeug:127.0.0.1 - - [09/Nov/2023 15:34:33] \"POST /completions HTTP/1.1\" 200 -\n",
      "INFO:werkzeug:127.0.0.1 - - [09/Nov/2023 15:34:33] \"POST /completions HTTP/1.1\" 200 -\n",
      "INFO:werkzeug:127.0.0.1 - - [09/Nov/2023 15:34:33] \"POST /completions HTTP/1.1\" 200 -\n",
      "INFO:werkzeug:127.0.0.1 - - [09/Nov/2023 15:34:33] \"POST /completions HTTP/1.1\" 200 -\n",
      "INFO:werkzeug:127.0.0.1 - - [09/Nov/2023 15:34:33] \"POST /completions HTTP/1.1\" 200 -\n",
      "INFO:werkzeug:127.0.0.1 - - [09/Nov/2023 15:34:33] \"POST /completions HTTP/1.1\" 200 -\n",
      "INFO:werkzeug:127.0.0.1 - - [09/Nov/2023 15:34:33] \"POST /completions HTTP/1.1\" 200 -\n",
      "INFO:werkzeug:127.0.0.1 - - [09/Nov/2023 15:34:33] \"POST /completions HTTP/1.1\" 200 -\n",
      "INFO:werkzeug:127.0.0.1 - - [09/Nov/2023 15:34:33] \"POST /completions HTTP/1.1\" 200 -\n",
      "INFO:werkzeug:127.0.0.1 - - [09/Nov/2023 15:34:33] \"POST /completions HTTP/1.1\" 200 -\n",
      "INFO:werkzeug:127.0.0.1 - - [09/Nov/2023 15:34:33] \"POST /completions HTTP/1.1\" 200 -\n",
      "INFO:werkzeug:127.0.0.1 - - [09/Nov/2023 15:34:33] \"POST /completions HTTP/1.1\" 200 -\n",
      "INFO:werkzeug:127.0.0.1 - - [09/Nov/2023 15:34:33] \"POST /completions HTTP/1.1\" 200 -\n",
      "INFO:werkzeug:127.0.0.1 - - [09/Nov/2023 15:34:33] \"POST /completions HTTP/1.1\" 200 -\n",
      "INFO:werkzeug:127.0.0.1 - - [09/Nov/2023 15:34:33] \"POST /completions HTTP/1.1\" 200 -\n",
      "INFO:werkzeug:127.0.0.1 - - [09/Nov/2023 15:34:33] \"POST /completions HTTP/1.1\" 200 -\n"
     ]
    },
    {
     "name": "stdout",
     "output_type": "stream",
     "text": [
      "flushing 0.7 0\n"
     ]
    },
    {
     "name": "stderr",
     "output_type": "stream",
     "text": [
      "INFO:werkzeug:127.0.0.1 - - [09/Nov/2023 15:34:47] \"POST /completions HTTP/1.1\" 200 -\n",
      "INFO:werkzeug:127.0.0.1 - - [09/Nov/2023 15:34:47] \"POST /completions HTTP/1.1\" 200 -\n",
      "INFO:werkzeug:127.0.0.1 - - [09/Nov/2023 15:34:47] \"POST /completions HTTP/1.1\" 200 -\n",
      "INFO:werkzeug:127.0.0.1 - - [09/Nov/2023 15:34:47] \"POST /completions HTTP/1.1\" 200 -\n",
      "INFO:werkzeug:127.0.0.1 - - [09/Nov/2023 15:34:47] \"POST /completions HTTP/1.1\" 200 -\n",
      "INFO:werkzeug:127.0.0.1 - - [09/Nov/2023 15:34:47] \"POST /completions HTTP/1.1\" 200 -\n",
      "INFO:werkzeug:127.0.0.1 - - [09/Nov/2023 15:34:47] \"POST /completions HTTP/1.1\" 200 -\n",
      "INFO:werkzeug:127.0.0.1 - - [09/Nov/2023 15:34:47] \"POST /completions HTTP/1.1\" 200 -\n",
      "INFO:werkzeug:127.0.0.1 - - [09/Nov/2023 15:34:47] \"POST /completions HTTP/1.1\" 200 -\n",
      "INFO:werkzeug:127.0.0.1 - - [09/Nov/2023 15:34:47] \"POST /completions HTTP/1.1\" 200 -\n",
      "INFO:werkzeug:127.0.0.1 - - [09/Nov/2023 15:34:47] \"POST /completions HTTP/1.1\" 200 -\n",
      "INFO:werkzeug:127.0.0.1 - - [09/Nov/2023 15:34:47] \"POST /completions HTTP/1.1\" 200 -\n",
      "INFO:werkzeug:127.0.0.1 - - [09/Nov/2023 15:34:47] \"POST /completions HTTP/1.1\" 200 -\n",
      "INFO:werkzeug:127.0.0.1 - - [09/Nov/2023 15:34:47] \"POST /completions HTTP/1.1\" 200 -\n",
      "INFO:werkzeug:127.0.0.1 - - [09/Nov/2023 15:34:47] \"POST /completions HTTP/1.1\" 200 -\n",
      "INFO:werkzeug:127.0.0.1 - - [09/Nov/2023 15:34:47] \"POST /completions HTTP/1.1\" 200 -\n",
      "INFO:werkzeug:127.0.0.1 - - [09/Nov/2023 15:34:47] \"POST /completions HTTP/1.1\" 200 -\n",
      "INFO:werkzeug:127.0.0.1 - - [09/Nov/2023 15:34:47] \"POST /completions HTTP/1.1\" 200 -\n",
      "INFO:werkzeug:127.0.0.1 - - [09/Nov/2023 15:34:47] \"POST /completions HTTP/1.1\" 200 -\n",
      "INFO:werkzeug:127.0.0.1 - - [09/Nov/2023 15:34:47] \"POST /completions HTTP/1.1\" 200 -\n",
      "INFO:werkzeug:127.0.0.1 - - [09/Nov/2023 15:34:47] \"POST /completions HTTP/1.1\" 200 -\n",
      "INFO:werkzeug:127.0.0.1 - - [09/Nov/2023 15:34:47] \"POST /completions HTTP/1.1\" 200 -\n",
      "INFO:werkzeug:127.0.0.1 - - [09/Nov/2023 15:34:47] \"POST /completions HTTP/1.1\" 200 -\n",
      "INFO:werkzeug:127.0.0.1 - - [09/Nov/2023 15:34:47] \"POST /completions HTTP/1.1\" 200 -\n",
      "INFO:werkzeug:127.0.0.1 - - [09/Nov/2023 15:34:47] \"POST /completions HTTP/1.1\" 200 -\n",
      "INFO:werkzeug:127.0.0.1 - - [09/Nov/2023 15:34:47] \"POST /completions HTTP/1.1\" 200 -\n",
      "INFO:werkzeug:127.0.0.1 - - [09/Nov/2023 15:34:47] \"POST /completions HTTP/1.1\" 200 -\n",
      "INFO:werkzeug:127.0.0.1 - - [09/Nov/2023 15:34:47] \"POST /completions HTTP/1.1\" 200 -\n",
      "INFO:werkzeug:127.0.0.1 - - [09/Nov/2023 15:34:47] \"POST /completions HTTP/1.1\" 200 -\n",
      "INFO:werkzeug:127.0.0.1 - - [09/Nov/2023 15:34:47] \"POST /completions HTTP/1.1\" 200 -\n",
      "INFO:werkzeug:127.0.0.1 - - [09/Nov/2023 15:34:47] \"POST /completions HTTP/1.1\" 200 -\n",
      "INFO:werkzeug:127.0.0.1 - - [09/Nov/2023 15:34:47] \"POST /completions HTTP/1.1\" 200 -\n"
     ]
    },
    {
     "name": "stdout",
     "output_type": "stream",
     "text": [
      "flushing 0.7 0\n"
     ]
    },
    {
     "name": "stderr",
     "output_type": "stream",
     "text": [
      "INFO:werkzeug:127.0.0.1 - - [09/Nov/2023 15:34:55] \"POST /completions HTTP/1.1\" 200 -\n",
      "INFO:werkzeug:127.0.0.1 - - [09/Nov/2023 15:34:55] \"POST /completions HTTP/1.1\" 200 -\n",
      "INFO:werkzeug:127.0.0.1 - - [09/Nov/2023 15:34:55] \"POST /completions HTTP/1.1\" 200 -\n",
      "INFO:werkzeug:127.0.0.1 - - [09/Nov/2023 15:34:55] \"POST /completions HTTP/1.1\" 200 -\n",
      "INFO:werkzeug:127.0.0.1 - - [09/Nov/2023 15:34:55] \"POST /completions HTTP/1.1\" 200 -\n",
      "INFO:werkzeug:127.0.0.1 - - [09/Nov/2023 15:34:55] \"POST /completions HTTP/1.1\" 200 -\n",
      "INFO:werkzeug:127.0.0.1 - - [09/Nov/2023 15:34:55] \"POST /completions HTTP/1.1\" 200 -\n",
      "INFO:werkzeug:127.0.0.1 - - [09/Nov/2023 15:34:55] \"POST /completions HTTP/1.1\" 200 -\n",
      "INFO:werkzeug:127.0.0.1 - - [09/Nov/2023 15:34:55] \"POST /completions HTTP/1.1\" 200 -\n",
      "INFO:werkzeug:127.0.0.1 - - [09/Nov/2023 15:34:55] \"POST /completions HTTP/1.1\" 200 -\n",
      "INFO:werkzeug:127.0.0.1 - - [09/Nov/2023 15:34:55] \"POST /completions HTTP/1.1\" 200 -\n",
      "INFO:werkzeug:127.0.0.1 - - [09/Nov/2023 15:34:55] \"POST /completions HTTP/1.1\" 200 -\n",
      "INFO:werkzeug:127.0.0.1 - - [09/Nov/2023 15:34:55] \"POST /completions HTTP/1.1\" 200 -\n",
      "INFO:werkzeug:127.0.0.1 - - [09/Nov/2023 15:34:55] \"POST /completions HTTP/1.1\" 200 -\n",
      "INFO:werkzeug:127.0.0.1 - - [09/Nov/2023 15:34:55] \"POST /completions HTTP/1.1\" 200 -\n",
      "INFO:werkzeug:127.0.0.1 - - [09/Nov/2023 15:34:55] \"POST /completions HTTP/1.1\" 200 -\n",
      "INFO:werkzeug:127.0.0.1 - - [09/Nov/2023 15:34:55] \"POST /completions HTTP/1.1\" 200 -\n",
      "INFO:werkzeug:127.0.0.1 - - [09/Nov/2023 15:34:55] \"POST /completions HTTP/1.1\" 200 -\n",
      "INFO:werkzeug:127.0.0.1 - - [09/Nov/2023 15:34:55] \"POST /completions HTTP/1.1\" 200 -\n",
      "INFO:werkzeug:127.0.0.1 - - [09/Nov/2023 15:34:55] \"POST /completions HTTP/1.1\" 200 -\n",
      "INFO:werkzeug:127.0.0.1 - - [09/Nov/2023 15:34:55] \"POST /completions HTTP/1.1\" 200 -\n",
      "INFO:werkzeug:127.0.0.1 - - [09/Nov/2023 15:34:55] \"POST /completions HTTP/1.1\" 200 -\n",
      "INFO:werkzeug:127.0.0.1 - - [09/Nov/2023 15:34:55] \"POST /completions HTTP/1.1\" 200 -\n",
      "INFO:werkzeug:127.0.0.1 - - [09/Nov/2023 15:34:55] \"POST /completions HTTP/1.1\" 200 -\n",
      "INFO:werkzeug:127.0.0.1 - - [09/Nov/2023 15:34:55] \"POST /completions HTTP/1.1\" 200 -\n",
      "INFO:werkzeug:127.0.0.1 - - [09/Nov/2023 15:34:55] \"POST /completions HTTP/1.1\" 200 -\n",
      "INFO:werkzeug:127.0.0.1 - - [09/Nov/2023 15:34:55] \"POST /completions HTTP/1.1\" 200 -\n",
      "INFO:werkzeug:127.0.0.1 - - [09/Nov/2023 15:34:55] \"POST /completions HTTP/1.1\" 200 -\n",
      "INFO:werkzeug:127.0.0.1 - - [09/Nov/2023 15:34:55] \"POST /completions HTTP/1.1\" 200 -\n",
      "INFO:werkzeug:127.0.0.1 - - [09/Nov/2023 15:34:55] \"POST /completions HTTP/1.1\" 200 -\n",
      "INFO:werkzeug:127.0.0.1 - - [09/Nov/2023 15:34:55] \"POST /completions HTTP/1.1\" 200 -\n",
      "INFO:werkzeug:127.0.0.1 - - [09/Nov/2023 15:34:55] \"POST /completions HTTP/1.1\" 200 -\n"
     ]
    },
    {
     "name": "stdout",
     "output_type": "stream",
     "text": [
      "flushing 0.7 0\n"
     ]
    },
    {
     "name": "stderr",
     "output_type": "stream",
     "text": [
      "INFO:werkzeug:127.0.0.1 - - [09/Nov/2023 15:35:05] \"POST /completions HTTP/1.1\" 200 -\n",
      "INFO:werkzeug:127.0.0.1 - - [09/Nov/2023 15:35:05] \"POST /completions HTTP/1.1\" 200 -\n",
      "INFO:werkzeug:127.0.0.1 - - [09/Nov/2023 15:35:05] \"POST /completions HTTP/1.1\" 200 -\n",
      "INFO:werkzeug:127.0.0.1 - - [09/Nov/2023 15:35:05] \"POST /completions HTTP/1.1\" 200 -\n",
      "INFO:werkzeug:127.0.0.1 - - [09/Nov/2023 15:35:05] \"POST /completions HTTP/1.1\" 200 -\n",
      "INFO:werkzeug:127.0.0.1 - - [09/Nov/2023 15:35:05] \"POST /completions HTTP/1.1\" 200 -\n",
      "INFO:werkzeug:127.0.0.1 - - [09/Nov/2023 15:35:05] \"POST /completions HTTP/1.1\" 200 -\n",
      "INFO:werkzeug:127.0.0.1 - - [09/Nov/2023 15:35:05] \"POST /completions HTTP/1.1\" 200 -\n",
      "INFO:werkzeug:127.0.0.1 - - [09/Nov/2023 15:35:05] \"POST /completions HTTP/1.1\" 200 -\n",
      "INFO:werkzeug:127.0.0.1 - - [09/Nov/2023 15:35:05] \"POST /completions HTTP/1.1\" 200 -\n",
      "INFO:werkzeug:127.0.0.1 - - [09/Nov/2023 15:35:05] \"POST /completions HTTP/1.1\" 200 -\n",
      "INFO:werkzeug:127.0.0.1 - - [09/Nov/2023 15:35:05] \"POST /completions HTTP/1.1\" 200 -\n",
      "INFO:werkzeug:127.0.0.1 - - [09/Nov/2023 15:35:05] \"POST /completions HTTP/1.1\" 200 -\n",
      "INFO:werkzeug:127.0.0.1 - - [09/Nov/2023 15:35:05] \"POST /completions HTTP/1.1\" 200 -\n",
      "INFO:werkzeug:127.0.0.1 - - [09/Nov/2023 15:35:05] \"POST /completions HTTP/1.1\" 200 -\n",
      "INFO:werkzeug:127.0.0.1 - - [09/Nov/2023 15:35:05] \"POST /completions HTTP/1.1\" 200 -\n",
      "INFO:werkzeug:127.0.0.1 - - [09/Nov/2023 15:35:05] \"POST /completions HTTP/1.1\" 200 -\n",
      "INFO:werkzeug:127.0.0.1 - - [09/Nov/2023 15:35:05] \"POST /completions HTTP/1.1\" 200 -\n",
      "INFO:werkzeug:127.0.0.1 - - [09/Nov/2023 15:35:05] \"POST /completions HTTP/1.1\" 200 -\n",
      "INFO:werkzeug:127.0.0.1 - - [09/Nov/2023 15:35:05] \"POST /completions HTTP/1.1\" 200 -\n",
      "INFO:werkzeug:127.0.0.1 - - [09/Nov/2023 15:35:05] \"POST /completions HTTP/1.1\" 200 -\n",
      "INFO:werkzeug:127.0.0.1 - - [09/Nov/2023 15:35:05] \"POST /completions HTTP/1.1\" 200 -\n",
      "INFO:werkzeug:127.0.0.1 - - [09/Nov/2023 15:35:05] \"POST /completions HTTP/1.1\" 200 -\n",
      "INFO:werkzeug:127.0.0.1 - - [09/Nov/2023 15:35:05] \"POST /completions HTTP/1.1\" 200 -\n",
      "INFO:werkzeug:127.0.0.1 - - [09/Nov/2023 15:35:05] \"POST /completions HTTP/1.1\" 200 -\n",
      "INFO:werkzeug:127.0.0.1 - - [09/Nov/2023 15:35:05] \"POST /completions HTTP/1.1\" 200 -\n",
      "INFO:werkzeug:127.0.0.1 - - [09/Nov/2023 15:35:05] \"POST /completions HTTP/1.1\" 200 -\n",
      "INFO:werkzeug:127.0.0.1 - - [09/Nov/2023 15:35:05] \"POST /completions HTTP/1.1\" 200 -\n",
      "INFO:werkzeug:127.0.0.1 - - [09/Nov/2023 15:35:05] \"POST /completions HTTP/1.1\" 200 -\n",
      "INFO:werkzeug:127.0.0.1 - - [09/Nov/2023 15:35:05] \"POST /completions HTTP/1.1\" 200 -\n",
      "INFO:werkzeug:127.0.0.1 - - [09/Nov/2023 15:35:05] \"POST /completions HTTP/1.1\" 200 -\n",
      "INFO:werkzeug:127.0.0.1 - - [09/Nov/2023 15:35:05] \"POST /completions HTTP/1.1\" 200 -\n"
     ]
    },
    {
     "name": "stdout",
     "output_type": "stream",
     "text": [
      "flushing 0.7 0\n"
     ]
    },
    {
     "name": "stderr",
     "output_type": "stream",
     "text": [
      "INFO:werkzeug:127.0.0.1 - - [09/Nov/2023 15:35:18] \"POST /completions HTTP/1.1\" 200 -\n",
      "INFO:werkzeug:127.0.0.1 - - [09/Nov/2023 15:35:18] \"POST /completions HTTP/1.1\" 200 -\n",
      "INFO:werkzeug:127.0.0.1 - - [09/Nov/2023 15:35:18] \"POST /completions HTTP/1.1\" 200 -\n",
      "INFO:werkzeug:127.0.0.1 - - [09/Nov/2023 15:35:18] \"POST /completions HTTP/1.1\" 200 -\n",
      "INFO:werkzeug:127.0.0.1 - - [09/Nov/2023 15:35:18] \"POST /completions HTTP/1.1\" 200 -\n",
      "INFO:werkzeug:127.0.0.1 - - [09/Nov/2023 15:35:18] \"POST /completions HTTP/1.1\" 200 -\n",
      "INFO:werkzeug:127.0.0.1 - - [09/Nov/2023 15:35:18] \"POST /completions HTTP/1.1\" 200 -\n",
      "INFO:werkzeug:127.0.0.1 - - [09/Nov/2023 15:35:18] \"POST /completions HTTP/1.1\" 200 -\n",
      "INFO:werkzeug:127.0.0.1 - - [09/Nov/2023 15:35:18] \"POST /completions HTTP/1.1\" 200 -\n",
      "INFO:werkzeug:127.0.0.1 - - [09/Nov/2023 15:35:18] \"POST /completions HTTP/1.1\" 200 -\n",
      "INFO:werkzeug:127.0.0.1 - - [09/Nov/2023 15:35:18] \"POST /completions HTTP/1.1\" 200 -\n",
      "INFO:werkzeug:127.0.0.1 - - [09/Nov/2023 15:35:18] \"POST /completions HTTP/1.1\" 200 -\n",
      "INFO:werkzeug:127.0.0.1 - - [09/Nov/2023 15:35:18] \"POST /completions HTTP/1.1\" 200 -\n",
      "INFO:werkzeug:127.0.0.1 - - [09/Nov/2023 15:35:18] \"POST /completions HTTP/1.1\" 200 -\n",
      "INFO:werkzeug:127.0.0.1 - - [09/Nov/2023 15:35:18] \"POST /completions HTTP/1.1\" 200 -\n",
      "INFO:werkzeug:127.0.0.1 - - [09/Nov/2023 15:35:18] \"POST /completions HTTP/1.1\" 200 -\n",
      "INFO:werkzeug:127.0.0.1 - - [09/Nov/2023 15:35:18] \"POST /completions HTTP/1.1\" 200 -\n",
      "INFO:werkzeug:127.0.0.1 - - [09/Nov/2023 15:35:18] \"POST /completions HTTP/1.1\" 200 -\n",
      "INFO:werkzeug:127.0.0.1 - - [09/Nov/2023 15:35:18] \"POST /completions HTTP/1.1\" 200 -\n",
      "INFO:werkzeug:127.0.0.1 - - [09/Nov/2023 15:35:18] \"POST /completions HTTP/1.1\" 200 -\n",
      "INFO:werkzeug:127.0.0.1 - - [09/Nov/2023 15:35:18] \"POST /completions HTTP/1.1\" 200 -\n",
      "INFO:werkzeug:127.0.0.1 - - [09/Nov/2023 15:35:18] \"POST /completions HTTP/1.1\" 200 -\n",
      "INFO:werkzeug:127.0.0.1 - - [09/Nov/2023 15:35:18] \"POST /completions HTTP/1.1\" 200 -\n",
      "INFO:werkzeug:127.0.0.1 - - [09/Nov/2023 15:35:18] \"POST /completions HTTP/1.1\" 200 -\n",
      "INFO:werkzeug:127.0.0.1 - - [09/Nov/2023 15:35:18] \"POST /completions HTTP/1.1\" 200 -\n",
      "INFO:werkzeug:127.0.0.1 - - [09/Nov/2023 15:35:18] \"POST /completions HTTP/1.1\" 200 -\n",
      "INFO:werkzeug:127.0.0.1 - - [09/Nov/2023 15:35:18] \"POST /completions HTTP/1.1\" 200 -\n",
      "INFO:werkzeug:127.0.0.1 - - [09/Nov/2023 15:35:18] \"POST /completions HTTP/1.1\" 200 -\n",
      "INFO:werkzeug:127.0.0.1 - - [09/Nov/2023 15:35:18] \"POST /completions HTTP/1.1\" 200 -\n",
      "INFO:werkzeug:127.0.0.1 - - [09/Nov/2023 15:35:18] \"POST /completions HTTP/1.1\" 200 -\n",
      "INFO:werkzeug:127.0.0.1 - - [09/Nov/2023 15:35:18] \"POST /completions HTTP/1.1\" 200 -\n",
      "INFO:werkzeug:127.0.0.1 - - [09/Nov/2023 15:35:18] \"POST /completions HTTP/1.1\" 200 -\n"
     ]
    },
    {
     "name": "stdout",
     "output_type": "stream",
     "text": [
      "flushing 0.7 0\n"
     ]
    },
    {
     "name": "stderr",
     "output_type": "stream",
     "text": [
      "INFO:werkzeug:127.0.0.1 - - [09/Nov/2023 15:35:27] \"POST /completions HTTP/1.1\" 200 -\n",
      "INFO:werkzeug:127.0.0.1 - - [09/Nov/2023 15:35:27] \"POST /completions HTTP/1.1\" 200 -\n",
      "INFO:werkzeug:127.0.0.1 - - [09/Nov/2023 15:35:27] \"POST /completions HTTP/1.1\" 200 -\n",
      "INFO:werkzeug:127.0.0.1 - - [09/Nov/2023 15:35:27] \"POST /completions HTTP/1.1\" 200 -\n",
      "INFO:werkzeug:127.0.0.1 - - [09/Nov/2023 15:35:27] \"POST /completions HTTP/1.1\" 200 -\n",
      "INFO:werkzeug:127.0.0.1 - - [09/Nov/2023 15:35:27] \"POST /completions HTTP/1.1\" 200 -\n",
      "INFO:werkzeug:127.0.0.1 - - [09/Nov/2023 15:35:27] \"POST /completions HTTP/1.1\" 200 -\n",
      "INFO:werkzeug:127.0.0.1 - - [09/Nov/2023 15:35:27] \"POST /completions HTTP/1.1\" 200 -\n",
      "INFO:werkzeug:127.0.0.1 - - [09/Nov/2023 15:35:27] \"POST /completions HTTP/1.1\" 200 -\n",
      "INFO:werkzeug:127.0.0.1 - - [09/Nov/2023 15:35:27] \"POST /completions HTTP/1.1\" 200 -\n",
      "INFO:werkzeug:127.0.0.1 - - [09/Nov/2023 15:35:27] \"POST /completions HTTP/1.1\" 200 -\n",
      "INFO:werkzeug:127.0.0.1 - - [09/Nov/2023 15:35:27] \"POST /completions HTTP/1.1\" 200 -\n",
      "INFO:werkzeug:127.0.0.1 - - [09/Nov/2023 15:35:27] \"POST /completions HTTP/1.1\" 200 -\n",
      "INFO:werkzeug:127.0.0.1 - - [09/Nov/2023 15:35:27] \"POST /completions HTTP/1.1\" 200 -\n",
      "INFO:werkzeug:127.0.0.1 - - [09/Nov/2023 15:35:27] \"POST /completions HTTP/1.1\" 200 -\n",
      "INFO:werkzeug:127.0.0.1 - - [09/Nov/2023 15:35:27] \"POST /completions HTTP/1.1\" 200 -\n",
      "INFO:werkzeug:127.0.0.1 - - [09/Nov/2023 15:35:27] \"POST /completions HTTP/1.1\" 200 -\n",
      "INFO:werkzeug:127.0.0.1 - - [09/Nov/2023 15:35:27] \"POST /completions HTTP/1.1\" 200 -\n",
      "INFO:werkzeug:127.0.0.1 - - [09/Nov/2023 15:35:27] \"POST /completions HTTP/1.1\" 200 -\n",
      "INFO:werkzeug:127.0.0.1 - - [09/Nov/2023 15:35:27] \"POST /completions HTTP/1.1\" 200 -\n",
      "INFO:werkzeug:127.0.0.1 - - [09/Nov/2023 15:35:27] \"POST /completions HTTP/1.1\" 200 -\n",
      "INFO:werkzeug:127.0.0.1 - - [09/Nov/2023 15:35:27] \"POST /completions HTTP/1.1\" 200 -\n",
      "INFO:werkzeug:127.0.0.1 - - [09/Nov/2023 15:35:27] \"POST /completions HTTP/1.1\" 200 -\n",
      "INFO:werkzeug:127.0.0.1 - - [09/Nov/2023 15:35:27] \"POST /completions HTTP/1.1\" 200 -\n",
      "INFO:werkzeug:127.0.0.1 - - [09/Nov/2023 15:35:27] \"POST /completions HTTP/1.1\" 200 -\n",
      "INFO:werkzeug:127.0.0.1 - - [09/Nov/2023 15:35:27] \"POST /completions HTTP/1.1\" 200 -\n",
      "INFO:werkzeug:127.0.0.1 - - [09/Nov/2023 15:35:27] \"POST /completions HTTP/1.1\" 200 -\n",
      "INFO:werkzeug:127.0.0.1 - - [09/Nov/2023 15:35:27] \"POST /completions HTTP/1.1\" 200 -\n",
      "INFO:werkzeug:127.0.0.1 - - [09/Nov/2023 15:35:27] \"POST /completions HTTP/1.1\" 200 -\n",
      "INFO:werkzeug:127.0.0.1 - - [09/Nov/2023 15:35:27] \"POST /completions HTTP/1.1\" 200 -\n",
      "INFO:werkzeug:127.0.0.1 - - [09/Nov/2023 15:35:27] \"POST /completions HTTP/1.1\" 200 -\n",
      "INFO:werkzeug:127.0.0.1 - - [09/Nov/2023 15:35:27] \"POST /completions HTTP/1.1\" 200 -\n"
     ]
    },
    {
     "name": "stdout",
     "output_type": "stream",
     "text": [
      "flushing 0.7 0\n"
     ]
    },
    {
     "name": "stderr",
     "output_type": "stream",
     "text": [
      "INFO:werkzeug:127.0.0.1 - - [09/Nov/2023 15:35:43] \"POST /completions HTTP/1.1\" 200 -\n",
      "INFO:werkzeug:127.0.0.1 - - [09/Nov/2023 15:35:43] \"POST /completions HTTP/1.1\" 200 -\n",
      "INFO:werkzeug:127.0.0.1 - - [09/Nov/2023 15:35:43] \"POST /completions HTTP/1.1\" 200 -\n",
      "INFO:werkzeug:127.0.0.1 - - [09/Nov/2023 15:35:43] \"POST /completions HTTP/1.1\" 200 -\n",
      "INFO:werkzeug:127.0.0.1 - - [09/Nov/2023 15:35:43] \"POST /completions HTTP/1.1\" 200 -\n",
      "INFO:werkzeug:127.0.0.1 - - [09/Nov/2023 15:35:43] \"POST /completions HTTP/1.1\" 200 -\n",
      "INFO:werkzeug:127.0.0.1 - - [09/Nov/2023 15:35:43] \"POST /completions HTTP/1.1\" 200 -\n",
      "INFO:werkzeug:127.0.0.1 - - [09/Nov/2023 15:35:43] \"POST /completions HTTP/1.1\" 200 -\n",
      "INFO:werkzeug:127.0.0.1 - - [09/Nov/2023 15:35:43] \"POST /completions HTTP/1.1\" 200 -\n",
      "INFO:werkzeug:127.0.0.1 - - [09/Nov/2023 15:35:43] \"POST /completions HTTP/1.1\" 200 -\n",
      "INFO:werkzeug:127.0.0.1 - - [09/Nov/2023 15:35:43] \"POST /completions HTTP/1.1\" 200 -\n",
      "INFO:werkzeug:127.0.0.1 - - [09/Nov/2023 15:35:43] \"POST /completions HTTP/1.1\" 200 -\n",
      "INFO:werkzeug:127.0.0.1 - - [09/Nov/2023 15:35:43] \"POST /completions HTTP/1.1\" 200 -\n",
      "INFO:werkzeug:127.0.0.1 - - [09/Nov/2023 15:35:43] \"POST /completions HTTP/1.1\" 200 -\n",
      "INFO:werkzeug:127.0.0.1 - - [09/Nov/2023 15:35:43] \"POST /completions HTTP/1.1\" 200 -\n",
      "INFO:werkzeug:127.0.0.1 - - [09/Nov/2023 15:35:43] \"POST /completions HTTP/1.1\" 200 -\n",
      "INFO:werkzeug:127.0.0.1 - - [09/Nov/2023 15:35:43] \"POST /completions HTTP/1.1\" 200 -\n",
      "INFO:werkzeug:127.0.0.1 - - [09/Nov/2023 15:35:43] \"POST /completions HTTP/1.1\" 200 -\n",
      "INFO:werkzeug:127.0.0.1 - - [09/Nov/2023 15:35:43] \"POST /completions HTTP/1.1\" 200 -\n",
      "INFO:werkzeug:127.0.0.1 - - [09/Nov/2023 15:35:43] \"POST /completions HTTP/1.1\" 200 -\n",
      "INFO:werkzeug:127.0.0.1 - - [09/Nov/2023 15:35:43] \"POST /completions HTTP/1.1\" 200 -\n",
      "INFO:werkzeug:127.0.0.1 - - [09/Nov/2023 15:35:43] \"POST /completions HTTP/1.1\" 200 -\n",
      "INFO:werkzeug:127.0.0.1 - - [09/Nov/2023 15:35:43] \"POST /completions HTTP/1.1\" 200 -\n",
      "INFO:werkzeug:127.0.0.1 - - [09/Nov/2023 15:35:43] \"POST /completions HTTP/1.1\" 200 -\n",
      "INFO:werkzeug:127.0.0.1 - - [09/Nov/2023 15:35:43] \"POST /completions HTTP/1.1\" 200 -\n",
      "INFO:werkzeug:127.0.0.1 - - [09/Nov/2023 15:35:43] \"POST /completions HTTP/1.1\" 200 -\n",
      "INFO:werkzeug:127.0.0.1 - - [09/Nov/2023 15:35:43] \"POST /completions HTTP/1.1\" 200 -\n",
      "INFO:werkzeug:127.0.0.1 - - [09/Nov/2023 15:35:43] \"POST /completions HTTP/1.1\" 200 -\n",
      "INFO:werkzeug:127.0.0.1 - - [09/Nov/2023 15:35:43] \"POST /completions HTTP/1.1\" 200 -\n",
      "INFO:werkzeug:127.0.0.1 - - [09/Nov/2023 15:35:43] \"POST /completions HTTP/1.1\" 200 -\n",
      "INFO:werkzeug:127.0.0.1 - - [09/Nov/2023 15:35:43] \"POST /completions HTTP/1.1\" 200 -\n",
      "INFO:werkzeug:127.0.0.1 - - [09/Nov/2023 15:35:43] \"POST /completions HTTP/1.1\" 200 -\n"
     ]
    },
    {
     "name": "stdout",
     "output_type": "stream",
     "text": [
      "flushing 0.7 0\n"
     ]
    },
    {
     "name": "stderr",
     "output_type": "stream",
     "text": [
      "INFO:werkzeug:127.0.0.1 - - [09/Nov/2023 15:35:59] \"POST /completions HTTP/1.1\" 200 -\n",
      "INFO:werkzeug:127.0.0.1 - - [09/Nov/2023 15:35:59] \"POST /completions HTTP/1.1\" 200 -\n",
      "INFO:werkzeug:127.0.0.1 - - [09/Nov/2023 15:35:59] \"POST /completions HTTP/1.1\" 200 -\n",
      "INFO:werkzeug:127.0.0.1 - - [09/Nov/2023 15:35:59] \"POST /completions HTTP/1.1\" 200 -\n",
      "INFO:werkzeug:127.0.0.1 - - [09/Nov/2023 15:35:59] \"POST /completions HTTP/1.1\" 200 -\n",
      "INFO:werkzeug:127.0.0.1 - - [09/Nov/2023 15:35:59] \"POST /completions HTTP/1.1\" 200 -\n",
      "INFO:werkzeug:127.0.0.1 - - [09/Nov/2023 15:35:59] \"POST /completions HTTP/1.1\" 200 -\n",
      "INFO:werkzeug:127.0.0.1 - - [09/Nov/2023 15:35:59] \"POST /completions HTTP/1.1\" 200 -\n",
      "INFO:werkzeug:127.0.0.1 - - [09/Nov/2023 15:35:59] \"POST /completions HTTP/1.1\" 200 -\n",
      "INFO:werkzeug:127.0.0.1 - - [09/Nov/2023 15:35:59] \"POST /completions HTTP/1.1\" 200 -\n",
      "INFO:werkzeug:127.0.0.1 - - [09/Nov/2023 15:35:59] \"POST /completions HTTP/1.1\" 200 -\n",
      "INFO:werkzeug:127.0.0.1 - - [09/Nov/2023 15:35:59] \"POST /completions HTTP/1.1\" 200 -\n",
      "INFO:werkzeug:127.0.0.1 - - [09/Nov/2023 15:35:59] \"POST /completions HTTP/1.1\" 200 -\n",
      "INFO:werkzeug:127.0.0.1 - - [09/Nov/2023 15:35:59] \"POST /completions HTTP/1.1\" 200 -\n",
      "INFO:werkzeug:127.0.0.1 - - [09/Nov/2023 15:35:59] \"POST /completions HTTP/1.1\" 200 -\n",
      "INFO:werkzeug:127.0.0.1 - - [09/Nov/2023 15:35:59] \"POST /completions HTTP/1.1\" 200 -\n",
      "INFO:werkzeug:127.0.0.1 - - [09/Nov/2023 15:35:59] \"POST /completions HTTP/1.1\" 200 -\n",
      "INFO:werkzeug:127.0.0.1 - - [09/Nov/2023 15:35:59] \"POST /completions HTTP/1.1\" 200 -\n",
      "INFO:werkzeug:127.0.0.1 - - [09/Nov/2023 15:35:59] \"POST /completions HTTP/1.1\" 200 -\n",
      "INFO:werkzeug:127.0.0.1 - - [09/Nov/2023 15:35:59] \"POST /completions HTTP/1.1\" 200 -\n",
      "INFO:werkzeug:127.0.0.1 - - [09/Nov/2023 15:35:59] \"POST /completions HTTP/1.1\" 200 -\n",
      "INFO:werkzeug:127.0.0.1 - - [09/Nov/2023 15:35:59] \"POST /completions HTTP/1.1\" 200 -\n",
      "INFO:werkzeug:127.0.0.1 - - [09/Nov/2023 15:35:59] \"POST /completions HTTP/1.1\" 200 -\n",
      "INFO:werkzeug:127.0.0.1 - - [09/Nov/2023 15:35:59] \"POST /completions HTTP/1.1\" 200 -\n",
      "INFO:werkzeug:127.0.0.1 - - [09/Nov/2023 15:35:59] \"POST /completions HTTP/1.1\" 200 -\n",
      "INFO:werkzeug:127.0.0.1 - - [09/Nov/2023 15:35:59] \"POST /completions HTTP/1.1\" 200 -\n",
      "INFO:werkzeug:127.0.0.1 - - [09/Nov/2023 15:35:59] \"POST /completions HTTP/1.1\" 200 -\n",
      "INFO:werkzeug:127.0.0.1 - - [09/Nov/2023 15:35:59] \"POST /completions HTTP/1.1\" 200 -\n",
      "INFO:werkzeug:127.0.0.1 - - [09/Nov/2023 15:35:59] \"POST /completions HTTP/1.1\" 200 -\n",
      "INFO:werkzeug:127.0.0.1 - - [09/Nov/2023 15:35:59] \"POST /completions HTTP/1.1\" 200 -\n",
      "INFO:werkzeug:127.0.0.1 - - [09/Nov/2023 15:35:59] \"POST /completions HTTP/1.1\" 200 -\n",
      "INFO:werkzeug:127.0.0.1 - - [09/Nov/2023 15:35:59] \"POST /completions HTTP/1.1\" 200 -\n"
     ]
    },
    {
     "name": "stdout",
     "output_type": "stream",
     "text": [
      "flushing 0.7 0\n"
     ]
    },
    {
     "name": "stderr",
     "output_type": "stream",
     "text": [
      "INFO:werkzeug:127.0.0.1 - - [09/Nov/2023 15:36:10] \"POST /completions HTTP/1.1\" 200 -\n",
      "INFO:werkzeug:127.0.0.1 - - [09/Nov/2023 15:36:10] \"POST /completions HTTP/1.1\" 200 -\n",
      "INFO:werkzeug:127.0.0.1 - - [09/Nov/2023 15:36:10] \"POST /completions HTTP/1.1\" 200 -\n",
      "INFO:werkzeug:127.0.0.1 - - [09/Nov/2023 15:36:10] \"POST /completions HTTP/1.1\" 200 -\n",
      "INFO:werkzeug:127.0.0.1 - - [09/Nov/2023 15:36:10] \"POST /completions HTTP/1.1\" 200 -\n",
      "INFO:werkzeug:127.0.0.1 - - [09/Nov/2023 15:36:10] \"POST /completions HTTP/1.1\" 200 -\n",
      "INFO:werkzeug:127.0.0.1 - - [09/Nov/2023 15:36:10] \"POST /completions HTTP/1.1\" 200 -\n",
      "INFO:werkzeug:127.0.0.1 - - [09/Nov/2023 15:36:10] \"POST /completions HTTP/1.1\" 200 -\n",
      "INFO:werkzeug:127.0.0.1 - - [09/Nov/2023 15:36:10] \"POST /completions HTTP/1.1\" 200 -\n",
      "INFO:werkzeug:127.0.0.1 - - [09/Nov/2023 15:36:10] \"POST /completions HTTP/1.1\" 200 -\n",
      "INFO:werkzeug:127.0.0.1 - - [09/Nov/2023 15:36:10] \"POST /completions HTTP/1.1\" 200 -\n",
      "INFO:werkzeug:127.0.0.1 - - [09/Nov/2023 15:36:10] \"POST /completions HTTP/1.1\" 200 -\n",
      "INFO:werkzeug:127.0.0.1 - - [09/Nov/2023 15:36:10] \"POST /completions HTTP/1.1\" 200 -\n",
      "INFO:werkzeug:127.0.0.1 - - [09/Nov/2023 15:36:10] \"POST /completions HTTP/1.1\" 200 -\n",
      "INFO:werkzeug:127.0.0.1 - - [09/Nov/2023 15:36:10] \"POST /completions HTTP/1.1\" 200 -\n",
      "INFO:werkzeug:127.0.0.1 - - [09/Nov/2023 15:36:10] \"POST /completions HTTP/1.1\" 200 -\n",
      "INFO:werkzeug:127.0.0.1 - - [09/Nov/2023 15:36:10] \"POST /completions HTTP/1.1\" 200 -\n",
      "INFO:werkzeug:127.0.0.1 - - [09/Nov/2023 15:36:10] \"POST /completions HTTP/1.1\" 200 -\n",
      "INFO:werkzeug:127.0.0.1 - - [09/Nov/2023 15:36:10] \"POST /completions HTTP/1.1\" 200 -\n",
      "INFO:werkzeug:127.0.0.1 - - [09/Nov/2023 15:36:10] \"POST /completions HTTP/1.1\" 200 -\n",
      "INFO:werkzeug:127.0.0.1 - - [09/Nov/2023 15:36:10] \"POST /completions HTTP/1.1\" 200 -\n",
      "INFO:werkzeug:127.0.0.1 - - [09/Nov/2023 15:36:10] \"POST /completions HTTP/1.1\" 200 -\n",
      "INFO:werkzeug:127.0.0.1 - - [09/Nov/2023 15:36:10] \"POST /completions HTTP/1.1\" 200 -\n",
      "INFO:werkzeug:127.0.0.1 - - [09/Nov/2023 15:36:10] \"POST /completions HTTP/1.1\" 200 -\n",
      "INFO:werkzeug:127.0.0.1 - - [09/Nov/2023 15:36:10] \"POST /completions HTTP/1.1\" 200 -\n",
      "INFO:werkzeug:127.0.0.1 - - [09/Nov/2023 15:36:10] \"POST /completions HTTP/1.1\" 200 -\n",
      "INFO:werkzeug:127.0.0.1 - - [09/Nov/2023 15:36:10] \"POST /completions HTTP/1.1\" 200 -\n",
      "INFO:werkzeug:127.0.0.1 - - [09/Nov/2023 15:36:10] \"POST /completions HTTP/1.1\" 200 -\n",
      "INFO:werkzeug:127.0.0.1 - - [09/Nov/2023 15:36:10] \"POST /completions HTTP/1.1\" 200 -\n",
      "INFO:werkzeug:127.0.0.1 - - [09/Nov/2023 15:36:10] \"POST /completions HTTP/1.1\" 200 -\n",
      "INFO:werkzeug:127.0.0.1 - - [09/Nov/2023 15:36:10] \"POST /completions HTTP/1.1\" 200 -\n",
      "INFO:werkzeug:127.0.0.1 - - [09/Nov/2023 15:36:10] \"POST /completions HTTP/1.1\" 200 -\n"
     ]
    },
    {
     "name": "stdout",
     "output_type": "stream",
     "text": [
      "flushing 0.7 0\n"
     ]
    },
    {
     "name": "stderr",
     "output_type": "stream",
     "text": [
      "INFO:werkzeug:127.0.0.1 - - [09/Nov/2023 15:36:20] \"POST /completions HTTP/1.1\" 200 -\n",
      "INFO:werkzeug:127.0.0.1 - - [09/Nov/2023 15:36:20] \"POST /completions HTTP/1.1\" 200 -\n",
      "INFO:werkzeug:127.0.0.1 - - [09/Nov/2023 15:36:20] \"POST /completions HTTP/1.1\" 200 -\n",
      "INFO:werkzeug:127.0.0.1 - - [09/Nov/2023 15:36:20] \"POST /completions HTTP/1.1\" 200 -\n",
      "INFO:werkzeug:127.0.0.1 - - [09/Nov/2023 15:36:20] \"POST /completions HTTP/1.1\" 200 -\n",
      "INFO:werkzeug:127.0.0.1 - - [09/Nov/2023 15:36:20] \"POST /completions HTTP/1.1\" 200 -\n",
      "INFO:werkzeug:127.0.0.1 - - [09/Nov/2023 15:36:20] \"POST /completions HTTP/1.1\" 200 -\n",
      "INFO:werkzeug:127.0.0.1 - - [09/Nov/2023 15:36:20] \"POST /completions HTTP/1.1\" 200 -\n",
      "INFO:werkzeug:127.0.0.1 - - [09/Nov/2023 15:36:20] \"POST /completions HTTP/1.1\" 200 -\n",
      "INFO:werkzeug:127.0.0.1 - - [09/Nov/2023 15:36:20] \"POST /completions HTTP/1.1\" 200 -\n",
      "INFO:werkzeug:127.0.0.1 - - [09/Nov/2023 15:36:20] \"POST /completions HTTP/1.1\" 200 -\n",
      "INFO:werkzeug:127.0.0.1 - - [09/Nov/2023 15:36:20] \"POST /completions HTTP/1.1\" 200 -\n",
      "INFO:werkzeug:127.0.0.1 - - [09/Nov/2023 15:36:20] \"POST /completions HTTP/1.1\" 200 -\n",
      "INFO:werkzeug:127.0.0.1 - - [09/Nov/2023 15:36:20] \"POST /completions HTTP/1.1\" 200 -\n",
      "INFO:werkzeug:127.0.0.1 - - [09/Nov/2023 15:36:20] \"POST /completions HTTP/1.1\" 200 -\n",
      "INFO:werkzeug:127.0.0.1 - - [09/Nov/2023 15:36:20] \"POST /completions HTTP/1.1\" 200 -\n",
      "INFO:werkzeug:127.0.0.1 - - [09/Nov/2023 15:36:20] \"POST /completions HTTP/1.1\" 200 -\n",
      "INFO:werkzeug:127.0.0.1 - - [09/Nov/2023 15:36:20] \"POST /completions HTTP/1.1\" 200 -\n",
      "INFO:werkzeug:127.0.0.1 - - [09/Nov/2023 15:36:20] \"POST /completions HTTP/1.1\" 200 -\n",
      "INFO:werkzeug:127.0.0.1 - - [09/Nov/2023 15:36:20] \"POST /completions HTTP/1.1\" 200 -\n",
      "INFO:werkzeug:127.0.0.1 - - [09/Nov/2023 15:36:20] \"POST /completions HTTP/1.1\" 200 -\n",
      "INFO:werkzeug:127.0.0.1 - - [09/Nov/2023 15:36:20] \"POST /completions HTTP/1.1\" 200 -\n",
      "INFO:werkzeug:127.0.0.1 - - [09/Nov/2023 15:36:20] \"POST /completions HTTP/1.1\" 200 -\n",
      "INFO:werkzeug:127.0.0.1 - - [09/Nov/2023 15:36:20] \"POST /completions HTTP/1.1\" 200 -\n",
      "INFO:werkzeug:127.0.0.1 - - [09/Nov/2023 15:36:20] \"POST /completions HTTP/1.1\" 200 -\n",
      "INFO:werkzeug:127.0.0.1 - - [09/Nov/2023 15:36:20] \"POST /completions HTTP/1.1\" 200 -\n",
      "INFO:werkzeug:127.0.0.1 - - [09/Nov/2023 15:36:20] \"POST /completions HTTP/1.1\" 200 -\n",
      "INFO:werkzeug:127.0.0.1 - - [09/Nov/2023 15:36:20] \"POST /completions HTTP/1.1\" 200 -\n",
      "INFO:werkzeug:127.0.0.1 - - [09/Nov/2023 15:36:20] \"POST /completions HTTP/1.1\" 200 -\n",
      "INFO:werkzeug:127.0.0.1 - - [09/Nov/2023 15:36:20] \"POST /completions HTTP/1.1\" 200 -\n",
      "INFO:werkzeug:127.0.0.1 - - [09/Nov/2023 15:36:20] \"POST /completions HTTP/1.1\" 200 -\n",
      "INFO:werkzeug:127.0.0.1 - - [09/Nov/2023 15:36:20] \"POST /completions HTTP/1.1\" 200 -\n"
     ]
    },
    {
     "name": "stdout",
     "output_type": "stream",
     "text": [
      "flushing 0.7 0\n"
     ]
    },
    {
     "name": "stderr",
     "output_type": "stream",
     "text": [
      "INFO:werkzeug:127.0.0.1 - - [09/Nov/2023 15:36:29] \"POST /completions HTTP/1.1\" 200 -\n",
      "INFO:werkzeug:127.0.0.1 - - [09/Nov/2023 15:36:29] \"POST /completions HTTP/1.1\" 200 -\n",
      "INFO:werkzeug:127.0.0.1 - - [09/Nov/2023 15:36:29] \"POST /completions HTTP/1.1\" 200 -\n",
      "INFO:werkzeug:127.0.0.1 - - [09/Nov/2023 15:36:29] \"POST /completions HTTP/1.1\" 200 -\n",
      "INFO:werkzeug:127.0.0.1 - - [09/Nov/2023 15:36:29] \"POST /completions HTTP/1.1\" 200 -\n",
      "INFO:werkzeug:127.0.0.1 - - [09/Nov/2023 15:36:29] \"POST /completions HTTP/1.1\" 200 -\n",
      "INFO:werkzeug:127.0.0.1 - - [09/Nov/2023 15:36:29] \"POST /completions HTTP/1.1\" 200 -\n",
      "INFO:werkzeug:127.0.0.1 - - [09/Nov/2023 15:36:29] \"POST /completions HTTP/1.1\" 200 -\n",
      "INFO:werkzeug:127.0.0.1 - - [09/Nov/2023 15:36:29] \"POST /completions HTTP/1.1\" 200 -\n",
      "INFO:werkzeug:127.0.0.1 - - [09/Nov/2023 15:36:29] \"POST /completions HTTP/1.1\" 200 -\n",
      "INFO:werkzeug:127.0.0.1 - - [09/Nov/2023 15:36:29] \"POST /completions HTTP/1.1\" 200 -\n",
      "INFO:werkzeug:127.0.0.1 - - [09/Nov/2023 15:36:29] \"POST /completions HTTP/1.1\" 200 -\n",
      "INFO:werkzeug:127.0.0.1 - - [09/Nov/2023 15:36:29] \"POST /completions HTTP/1.1\" 200 -\n",
      "INFO:werkzeug:127.0.0.1 - - [09/Nov/2023 15:36:29] \"POST /completions HTTP/1.1\" 200 -\n",
      "INFO:werkzeug:127.0.0.1 - - [09/Nov/2023 15:36:29] \"POST /completions HTTP/1.1\" 200 -\n",
      "INFO:werkzeug:127.0.0.1 - - [09/Nov/2023 15:36:29] \"POST /completions HTTP/1.1\" 200 -\n",
      "INFO:werkzeug:127.0.0.1 - - [09/Nov/2023 15:36:29] \"POST /completions HTTP/1.1\" 200 -\n",
      "INFO:werkzeug:127.0.0.1 - - [09/Nov/2023 15:36:29] \"POST /completions HTTP/1.1\" 200 -\n",
      "INFO:werkzeug:127.0.0.1 - - [09/Nov/2023 15:36:29] \"POST /completions HTTP/1.1\" 200 -\n",
      "INFO:werkzeug:127.0.0.1 - - [09/Nov/2023 15:36:29] \"POST /completions HTTP/1.1\" 200 -\n",
      "INFO:werkzeug:127.0.0.1 - - [09/Nov/2023 15:36:29] \"POST /completions HTTP/1.1\" 200 -\n",
      "INFO:werkzeug:127.0.0.1 - - [09/Nov/2023 15:36:29] \"POST /completions HTTP/1.1\" 200 -\n",
      "INFO:werkzeug:127.0.0.1 - - [09/Nov/2023 15:36:29] \"POST /completions HTTP/1.1\" 200 -\n",
      "INFO:werkzeug:127.0.0.1 - - [09/Nov/2023 15:36:29] \"POST /completions HTTP/1.1\" 200 -\n",
      "INFO:werkzeug:127.0.0.1 - - [09/Nov/2023 15:36:29] \"POST /completions HTTP/1.1\" 200 -\n",
      "INFO:werkzeug:127.0.0.1 - - [09/Nov/2023 15:36:29] \"POST /completions HTTP/1.1\" 200 -\n",
      "INFO:werkzeug:127.0.0.1 - - [09/Nov/2023 15:36:29] \"POST /completions HTTP/1.1\" 200 -\n",
      "INFO:werkzeug:127.0.0.1 - - [09/Nov/2023 15:36:29] \"POST /completions HTTP/1.1\" 200 -\n",
      "INFO:werkzeug:127.0.0.1 - - [09/Nov/2023 15:36:29] \"POST /completions HTTP/1.1\" 200 -\n",
      "INFO:werkzeug:127.0.0.1 - - [09/Nov/2023 15:36:29] \"POST /completions HTTP/1.1\" 200 -\n",
      "INFO:werkzeug:127.0.0.1 - - [09/Nov/2023 15:36:29] \"POST /completions HTTP/1.1\" 200 -\n",
      "INFO:werkzeug:127.0.0.1 - - [09/Nov/2023 15:36:29] \"POST /completions HTTP/1.1\" 200 -\n"
     ]
    },
    {
     "name": "stdout",
     "output_type": "stream",
     "text": [
      "flushing 0.7 0\n"
     ]
    },
    {
     "name": "stderr",
     "output_type": "stream",
     "text": [
      "INFO:werkzeug:127.0.0.1 - - [09/Nov/2023 15:36:42] \"POST /completions HTTP/1.1\" 200 -\n",
      "INFO:werkzeug:127.0.0.1 - - [09/Nov/2023 15:36:42] \"POST /completions HTTP/1.1\" 200 -\n",
      "INFO:werkzeug:127.0.0.1 - - [09/Nov/2023 15:36:42] \"POST /completions HTTP/1.1\" 200 -\n",
      "INFO:werkzeug:127.0.0.1 - - [09/Nov/2023 15:36:42] \"POST /completions HTTP/1.1\" 200 -\n",
      "INFO:werkzeug:127.0.0.1 - - [09/Nov/2023 15:36:42] \"POST /completions HTTP/1.1\" 200 -\n",
      "INFO:werkzeug:127.0.0.1 - - [09/Nov/2023 15:36:42] \"POST /completions HTTP/1.1\" 200 -\n",
      "INFO:werkzeug:127.0.0.1 - - [09/Nov/2023 15:36:42] \"POST /completions HTTP/1.1\" 200 -\n",
      "INFO:werkzeug:127.0.0.1 - - [09/Nov/2023 15:36:42] \"POST /completions HTTP/1.1\" 200 -\n",
      "INFO:werkzeug:127.0.0.1 - - [09/Nov/2023 15:36:42] \"POST /completions HTTP/1.1\" 200 -\n",
      "INFO:werkzeug:127.0.0.1 - - [09/Nov/2023 15:36:42] \"POST /completions HTTP/1.1\" 200 -\n",
      "INFO:werkzeug:127.0.0.1 - - [09/Nov/2023 15:36:42] \"POST /completions HTTP/1.1\" 200 -\n",
      "INFO:werkzeug:127.0.0.1 - - [09/Nov/2023 15:36:42] \"POST /completions HTTP/1.1\" 200 -\n",
      "INFO:werkzeug:127.0.0.1 - - [09/Nov/2023 15:36:42] \"POST /completions HTTP/1.1\" 200 -\n",
      "INFO:werkzeug:127.0.0.1 - - [09/Nov/2023 15:36:42] \"POST /completions HTTP/1.1\" 200 -\n",
      "INFO:werkzeug:127.0.0.1 - - [09/Nov/2023 15:36:42] \"POST /completions HTTP/1.1\" 200 -\n",
      "INFO:werkzeug:127.0.0.1 - - [09/Nov/2023 15:36:42] \"POST /completions HTTP/1.1\" 200 -\n",
      "INFO:werkzeug:127.0.0.1 - - [09/Nov/2023 15:36:42] \"POST /completions HTTP/1.1\" 200 -\n",
      "INFO:werkzeug:127.0.0.1 - - [09/Nov/2023 15:36:42] \"POST /completions HTTP/1.1\" 200 -\n",
      "INFO:werkzeug:127.0.0.1 - - [09/Nov/2023 15:36:42] \"POST /completions HTTP/1.1\" 200 -\n",
      "INFO:werkzeug:127.0.0.1 - - [09/Nov/2023 15:36:42] \"POST /completions HTTP/1.1\" 200 -\n",
      "INFO:werkzeug:127.0.0.1 - - [09/Nov/2023 15:36:42] \"POST /completions HTTP/1.1\" 200 -\n",
      "INFO:werkzeug:127.0.0.1 - - [09/Nov/2023 15:36:42] \"POST /completions HTTP/1.1\" 200 -\n",
      "INFO:werkzeug:127.0.0.1 - - [09/Nov/2023 15:36:42] \"POST /completions HTTP/1.1\" 200 -\n",
      "INFO:werkzeug:127.0.0.1 - - [09/Nov/2023 15:36:42] \"POST /completions HTTP/1.1\" 200 -\n",
      "INFO:werkzeug:127.0.0.1 - - [09/Nov/2023 15:36:42] \"POST /completions HTTP/1.1\" 200 -\n",
      "INFO:werkzeug:127.0.0.1 - - [09/Nov/2023 15:36:42] \"POST /completions HTTP/1.1\" 200 -\n",
      "INFO:werkzeug:127.0.0.1 - - [09/Nov/2023 15:36:42] \"POST /completions HTTP/1.1\" 200 -\n",
      "INFO:werkzeug:127.0.0.1 - - [09/Nov/2023 15:36:42] \"POST /completions HTTP/1.1\" 200 -\n",
      "INFO:werkzeug:127.0.0.1 - - [09/Nov/2023 15:36:42] \"POST /completions HTTP/1.1\" 200 -\n",
      "INFO:werkzeug:127.0.0.1 - - [09/Nov/2023 15:36:42] \"POST /completions HTTP/1.1\" 200 -\n",
      "INFO:werkzeug:127.0.0.1 - - [09/Nov/2023 15:36:42] \"POST /completions HTTP/1.1\" 200 -\n",
      "INFO:werkzeug:127.0.0.1 - - [09/Nov/2023 15:36:42] \"POST /completions HTTP/1.1\" 200 -\n"
     ]
    },
    {
     "name": "stdout",
     "output_type": "stream",
     "text": [
      "flushing 0.7 0\n"
     ]
    },
    {
     "name": "stderr",
     "output_type": "stream",
     "text": [
      "INFO:werkzeug:127.0.0.1 - - [09/Nov/2023 15:36:52] \"POST /completions HTTP/1.1\" 200 -\n",
      "INFO:werkzeug:127.0.0.1 - - [09/Nov/2023 15:36:52] \"POST /completions HTTP/1.1\" 200 -\n",
      "INFO:werkzeug:127.0.0.1 - - [09/Nov/2023 15:36:52] \"POST /completions HTTP/1.1\" 200 -\n",
      "INFO:werkzeug:127.0.0.1 - - [09/Nov/2023 15:36:52] \"POST /completions HTTP/1.1\" 200 -\n",
      "INFO:werkzeug:127.0.0.1 - - [09/Nov/2023 15:36:52] \"POST /completions HTTP/1.1\" 200 -\n",
      "INFO:werkzeug:127.0.0.1 - - [09/Nov/2023 15:36:52] \"POST /completions HTTP/1.1\" 200 -\n",
      "INFO:werkzeug:127.0.0.1 - - [09/Nov/2023 15:36:52] \"POST /completions HTTP/1.1\" 200 -\n",
      "INFO:werkzeug:127.0.0.1 - - [09/Nov/2023 15:36:52] \"POST /completions HTTP/1.1\" 200 -\n",
      "INFO:werkzeug:127.0.0.1 - - [09/Nov/2023 15:36:52] \"POST /completions HTTP/1.1\" 200 -\n",
      "INFO:werkzeug:127.0.0.1 - - [09/Nov/2023 15:36:52] \"POST /completions HTTP/1.1\" 200 -\n",
      "INFO:werkzeug:127.0.0.1 - - [09/Nov/2023 15:36:52] \"POST /completions HTTP/1.1\" 200 -\n",
      "INFO:werkzeug:127.0.0.1 - - [09/Nov/2023 15:36:52] \"POST /completions HTTP/1.1\" 200 -\n",
      "INFO:werkzeug:127.0.0.1 - - [09/Nov/2023 15:36:52] \"POST /completions HTTP/1.1\" 200 -\n",
      "INFO:werkzeug:127.0.0.1 - - [09/Nov/2023 15:36:52] \"POST /completions HTTP/1.1\" 200 -\n",
      "INFO:werkzeug:127.0.0.1 - - [09/Nov/2023 15:36:52] \"POST /completions HTTP/1.1\" 200 -\n",
      "INFO:werkzeug:127.0.0.1 - - [09/Nov/2023 15:36:52] \"POST /completions HTTP/1.1\" 200 -\n",
      "INFO:werkzeug:127.0.0.1 - - [09/Nov/2023 15:36:52] \"POST /completions HTTP/1.1\" 200 -\n",
      "INFO:werkzeug:127.0.0.1 - - [09/Nov/2023 15:36:52] \"POST /completions HTTP/1.1\" 200 -\n",
      "INFO:werkzeug:127.0.0.1 - - [09/Nov/2023 15:36:52] \"POST /completions HTTP/1.1\" 200 -\n",
      "INFO:werkzeug:127.0.0.1 - - [09/Nov/2023 15:36:52] \"POST /completions HTTP/1.1\" 200 -\n",
      "INFO:werkzeug:127.0.0.1 - - [09/Nov/2023 15:36:52] \"POST /completions HTTP/1.1\" 200 -\n",
      "INFO:werkzeug:127.0.0.1 - - [09/Nov/2023 15:36:52] \"POST /completions HTTP/1.1\" 200 -\n",
      "INFO:werkzeug:127.0.0.1 - - [09/Nov/2023 15:36:52] \"POST /completions HTTP/1.1\" 200 -\n",
      "INFO:werkzeug:127.0.0.1 - - [09/Nov/2023 15:36:52] \"POST /completions HTTP/1.1\" 200 -\n",
      "INFO:werkzeug:127.0.0.1 - - [09/Nov/2023 15:36:52] \"POST /completions HTTP/1.1\" 200 -\n",
      "INFO:werkzeug:127.0.0.1 - - [09/Nov/2023 15:36:52] \"POST /completions HTTP/1.1\" 200 -\n",
      "INFO:werkzeug:127.0.0.1 - - [09/Nov/2023 15:36:52] \"POST /completions HTTP/1.1\" 200 -\n",
      "INFO:werkzeug:127.0.0.1 - - [09/Nov/2023 15:36:52] \"POST /completions HTTP/1.1\" 200 -\n",
      "INFO:werkzeug:127.0.0.1 - - [09/Nov/2023 15:36:52] \"POST /completions HTTP/1.1\" 200 -\n",
      "INFO:werkzeug:127.0.0.1 - - [09/Nov/2023 15:36:52] \"POST /completions HTTP/1.1\" 200 -\n",
      "INFO:werkzeug:127.0.0.1 - - [09/Nov/2023 15:36:52] \"POST /completions HTTP/1.1\" 200 -\n",
      "INFO:werkzeug:127.0.0.1 - - [09/Nov/2023 15:36:52] \"POST /completions HTTP/1.1\" 200 -\n"
     ]
    },
    {
     "name": "stdout",
     "output_type": "stream",
     "text": [
      "flushing 0.7 0\n"
     ]
    },
    {
     "name": "stderr",
     "output_type": "stream",
     "text": [
      "INFO:werkzeug:127.0.0.1 - - [09/Nov/2023 15:37:02] \"POST /completions HTTP/1.1\" 200 -\n",
      "INFO:werkzeug:127.0.0.1 - - [09/Nov/2023 15:37:02] \"POST /completions HTTP/1.1\" 200 -\n",
      "INFO:werkzeug:127.0.0.1 - - [09/Nov/2023 15:37:02] \"POST /completions HTTP/1.1\" 200 -\n",
      "INFO:werkzeug:127.0.0.1 - - [09/Nov/2023 15:37:02] \"POST /completions HTTP/1.1\" 200 -\n",
      "INFO:werkzeug:127.0.0.1 - - [09/Nov/2023 15:37:02] \"POST /completions HTTP/1.1\" 200 -\n",
      "INFO:werkzeug:127.0.0.1 - - [09/Nov/2023 15:37:02] \"POST /completions HTTP/1.1\" 200 -\n",
      "INFO:werkzeug:127.0.0.1 - - [09/Nov/2023 15:37:02] \"POST /completions HTTP/1.1\" 200 -\n",
      "INFO:werkzeug:127.0.0.1 - - [09/Nov/2023 15:37:02] \"POST /completions HTTP/1.1\" 200 -\n",
      "INFO:werkzeug:127.0.0.1 - - [09/Nov/2023 15:37:02] \"POST /completions HTTP/1.1\" 200 -\n",
      "INFO:werkzeug:127.0.0.1 - - [09/Nov/2023 15:37:02] \"POST /completions HTTP/1.1\" 200 -\n",
      "INFO:werkzeug:127.0.0.1 - - [09/Nov/2023 15:37:02] \"POST /completions HTTP/1.1\" 200 -\n",
      "INFO:werkzeug:127.0.0.1 - - [09/Nov/2023 15:37:02] \"POST /completions HTTP/1.1\" 200 -\n",
      "INFO:werkzeug:127.0.0.1 - - [09/Nov/2023 15:37:02] \"POST /completions HTTP/1.1\" 200 -\n",
      "INFO:werkzeug:127.0.0.1 - - [09/Nov/2023 15:37:02] \"POST /completions HTTP/1.1\" 200 -\n",
      "INFO:werkzeug:127.0.0.1 - - [09/Nov/2023 15:37:02] \"POST /completions HTTP/1.1\" 200 -\n",
      "INFO:werkzeug:127.0.0.1 - - [09/Nov/2023 15:37:02] \"POST /completions HTTP/1.1\" 200 -\n",
      "INFO:werkzeug:127.0.0.1 - - [09/Nov/2023 15:37:02] \"POST /completions HTTP/1.1\" 200 -\n",
      "INFO:werkzeug:127.0.0.1 - - [09/Nov/2023 15:37:02] \"POST /completions HTTP/1.1\" 200 -\n",
      "INFO:werkzeug:127.0.0.1 - - [09/Nov/2023 15:37:02] \"POST /completions HTTP/1.1\" 200 -\n",
      "INFO:werkzeug:127.0.0.1 - - [09/Nov/2023 15:37:02] \"POST /completions HTTP/1.1\" 200 -\n",
      "INFO:werkzeug:127.0.0.1 - - [09/Nov/2023 15:37:02] \"POST /completions HTTP/1.1\" 200 -\n",
      "INFO:werkzeug:127.0.0.1 - - [09/Nov/2023 15:37:02] \"POST /completions HTTP/1.1\" 200 -\n",
      "INFO:werkzeug:127.0.0.1 - - [09/Nov/2023 15:37:02] \"POST /completions HTTP/1.1\" 200 -\n",
      "INFO:werkzeug:127.0.0.1 - - [09/Nov/2023 15:37:02] \"POST /completions HTTP/1.1\" 200 -\n",
      "INFO:werkzeug:127.0.0.1 - - [09/Nov/2023 15:37:02] \"POST /completions HTTP/1.1\" 200 -\n",
      "INFO:werkzeug:127.0.0.1 - - [09/Nov/2023 15:37:02] \"POST /completions HTTP/1.1\" 200 -\n",
      "INFO:werkzeug:127.0.0.1 - - [09/Nov/2023 15:37:02] \"POST /completions HTTP/1.1\" 200 -\n",
      "INFO:werkzeug:127.0.0.1 - - [09/Nov/2023 15:37:02] \"POST /completions HTTP/1.1\" 200 -\n",
      "INFO:werkzeug:127.0.0.1 - - [09/Nov/2023 15:37:02] \"POST /completions HTTP/1.1\" 200 -\n",
      "INFO:werkzeug:127.0.0.1 - - [09/Nov/2023 15:37:02] \"POST /completions HTTP/1.1\" 200 -\n",
      "INFO:werkzeug:127.0.0.1 - - [09/Nov/2023 15:37:02] \"POST /completions HTTP/1.1\" 200 -\n",
      "INFO:werkzeug:127.0.0.1 - - [09/Nov/2023 15:37:02] \"POST /completions HTTP/1.1\" 200 -\n"
     ]
    },
    {
     "name": "stdout",
     "output_type": "stream",
     "text": [
      "flushing 0.7 0\n"
     ]
    },
    {
     "name": "stderr",
     "output_type": "stream",
     "text": [
      "INFO:werkzeug:127.0.0.1 - - [09/Nov/2023 15:37:15] \"POST /completions HTTP/1.1\" 200 -\n",
      "INFO:werkzeug:127.0.0.1 - - [09/Nov/2023 15:37:15] \"POST /completions HTTP/1.1\" 200 -\n",
      "INFO:werkzeug:127.0.0.1 - - [09/Nov/2023 15:37:15] \"POST /completions HTTP/1.1\" 200 -\n",
      "INFO:werkzeug:127.0.0.1 - - [09/Nov/2023 15:37:15] \"POST /completions HTTP/1.1\" 200 -\n",
      "INFO:werkzeug:127.0.0.1 - - [09/Nov/2023 15:37:15] \"POST /completions HTTP/1.1\" 200 -\n",
      "INFO:werkzeug:127.0.0.1 - - [09/Nov/2023 15:37:15] \"POST /completions HTTP/1.1\" 200 -\n",
      "INFO:werkzeug:127.0.0.1 - - [09/Nov/2023 15:37:15] \"POST /completions HTTP/1.1\" 200 -\n",
      "INFO:werkzeug:127.0.0.1 - - [09/Nov/2023 15:37:15] \"POST /completions HTTP/1.1\" 200 -\n",
      "INFO:werkzeug:127.0.0.1 - - [09/Nov/2023 15:37:15] \"POST /completions HTTP/1.1\" 200 -\n",
      "INFO:werkzeug:127.0.0.1 - - [09/Nov/2023 15:37:15] \"POST /completions HTTP/1.1\" 200 -\n",
      "INFO:werkzeug:127.0.0.1 - - [09/Nov/2023 15:37:15] \"POST /completions HTTP/1.1\" 200 -\n",
      "INFO:werkzeug:127.0.0.1 - - [09/Nov/2023 15:37:15] \"POST /completions HTTP/1.1\" 200 -\n",
      "INFO:werkzeug:127.0.0.1 - - [09/Nov/2023 15:37:15] \"POST /completions HTTP/1.1\" 200 -\n",
      "INFO:werkzeug:127.0.0.1 - - [09/Nov/2023 15:37:15] \"POST /completions HTTP/1.1\" 200 -\n",
      "INFO:werkzeug:127.0.0.1 - - [09/Nov/2023 15:37:15] \"POST /completions HTTP/1.1\" 200 -\n",
      "INFO:werkzeug:127.0.0.1 - - [09/Nov/2023 15:37:15] \"POST /completions HTTP/1.1\" 200 -\n",
      "INFO:werkzeug:127.0.0.1 - - [09/Nov/2023 15:37:15] \"POST /completions HTTP/1.1\" 200 -\n",
      "INFO:werkzeug:127.0.0.1 - - [09/Nov/2023 15:37:15] \"POST /completions HTTP/1.1\" 200 -\n",
      "INFO:werkzeug:127.0.0.1 - - [09/Nov/2023 15:37:15] \"POST /completions HTTP/1.1\" 200 -\n",
      "INFO:werkzeug:127.0.0.1 - - [09/Nov/2023 15:37:15] \"POST /completions HTTP/1.1\" 200 -\n",
      "INFO:werkzeug:127.0.0.1 - - [09/Nov/2023 15:37:15] \"POST /completions HTTP/1.1\" 200 -\n",
      "INFO:werkzeug:127.0.0.1 - - [09/Nov/2023 15:37:15] \"POST /completions HTTP/1.1\" 200 -\n",
      "INFO:werkzeug:127.0.0.1 - - [09/Nov/2023 15:37:15] \"POST /completions HTTP/1.1\" 200 -\n",
      "INFO:werkzeug:127.0.0.1 - - [09/Nov/2023 15:37:15] \"POST /completions HTTP/1.1\" 200 -\n",
      "INFO:werkzeug:127.0.0.1 - - [09/Nov/2023 15:37:15] \"POST /completions HTTP/1.1\" 200 -\n",
      "INFO:werkzeug:127.0.0.1 - - [09/Nov/2023 15:37:15] \"POST /completions HTTP/1.1\" 200 -\n",
      "INFO:werkzeug:127.0.0.1 - - [09/Nov/2023 15:37:15] \"POST /completions HTTP/1.1\" 200 -\n",
      "INFO:werkzeug:127.0.0.1 - - [09/Nov/2023 15:37:15] \"POST /completions HTTP/1.1\" 200 -\n",
      "INFO:werkzeug:127.0.0.1 - - [09/Nov/2023 15:37:15] \"POST /completions HTTP/1.1\" 200 -\n",
      "INFO:werkzeug:127.0.0.1 - - [09/Nov/2023 15:37:15] \"POST /completions HTTP/1.1\" 200 -\n",
      "INFO:werkzeug:127.0.0.1 - - [09/Nov/2023 15:37:15] \"POST /completions HTTP/1.1\" 200 -\n",
      "INFO:werkzeug:127.0.0.1 - - [09/Nov/2023 15:37:15] \"POST /completions HTTP/1.1\" 200 -\n"
     ]
    },
    {
     "name": "stdout",
     "output_type": "stream",
     "text": [
      "flushing 0.7 0\n"
     ]
    },
    {
     "name": "stderr",
     "output_type": "stream",
     "text": [
      "INFO:werkzeug:127.0.0.1 - - [09/Nov/2023 15:37:29] \"POST /completions HTTP/1.1\" 200 -\n",
      "INFO:werkzeug:127.0.0.1 - - [09/Nov/2023 15:37:29] \"POST /completions HTTP/1.1\" 200 -\n",
      "INFO:werkzeug:127.0.0.1 - - [09/Nov/2023 15:37:29] \"POST /completions HTTP/1.1\" 200 -\n",
      "INFO:werkzeug:127.0.0.1 - - [09/Nov/2023 15:37:29] \"POST /completions HTTP/1.1\" 200 -\n",
      "INFO:werkzeug:127.0.0.1 - - [09/Nov/2023 15:37:29] \"POST /completions HTTP/1.1\" 200 -\n",
      "INFO:werkzeug:127.0.0.1 - - [09/Nov/2023 15:37:29] \"POST /completions HTTP/1.1\" 200 -\n",
      "INFO:werkzeug:127.0.0.1 - - [09/Nov/2023 15:37:29] \"POST /completions HTTP/1.1\" 200 -\n",
      "INFO:werkzeug:127.0.0.1 - - [09/Nov/2023 15:37:29] \"POST /completions HTTP/1.1\" 200 -\n",
      "INFO:werkzeug:127.0.0.1 - - [09/Nov/2023 15:37:29] \"POST /completions HTTP/1.1\" 200 -\n",
      "INFO:werkzeug:127.0.0.1 - - [09/Nov/2023 15:37:29] \"POST /completions HTTP/1.1\" 200 -\n",
      "INFO:werkzeug:127.0.0.1 - - [09/Nov/2023 15:37:29] \"POST /completions HTTP/1.1\" 200 -\n",
      "INFO:werkzeug:127.0.0.1 - - [09/Nov/2023 15:37:29] \"POST /completions HTTP/1.1\" 200 -\n",
      "INFO:werkzeug:127.0.0.1 - - [09/Nov/2023 15:37:29] \"POST /completions HTTP/1.1\" 200 -\n",
      "INFO:werkzeug:127.0.0.1 - - [09/Nov/2023 15:37:29] \"POST /completions HTTP/1.1\" 200 -\n",
      "INFO:werkzeug:127.0.0.1 - - [09/Nov/2023 15:37:29] \"POST /completions HTTP/1.1\" 200 -\n",
      "INFO:werkzeug:127.0.0.1 - - [09/Nov/2023 15:37:29] \"POST /completions HTTP/1.1\" 200 -\n",
      "INFO:werkzeug:127.0.0.1 - - [09/Nov/2023 15:37:29] \"POST /completions HTTP/1.1\" 200 -\n",
      "INFO:werkzeug:127.0.0.1 - - [09/Nov/2023 15:37:29] \"POST /completions HTTP/1.1\" 200 -\n",
      "INFO:werkzeug:127.0.0.1 - - [09/Nov/2023 15:37:29] \"POST /completions HTTP/1.1\" 200 -\n",
      "INFO:werkzeug:127.0.0.1 - - [09/Nov/2023 15:37:29] \"POST /completions HTTP/1.1\" 200 -\n",
      "INFO:werkzeug:127.0.0.1 - - [09/Nov/2023 15:37:29] \"POST /completions HTTP/1.1\" 200 -\n",
      "INFO:werkzeug:127.0.0.1 - - [09/Nov/2023 15:37:29] \"POST /completions HTTP/1.1\" 200 -\n",
      "INFO:werkzeug:127.0.0.1 - - [09/Nov/2023 15:37:29] \"POST /completions HTTP/1.1\" 200 -\n",
      "INFO:werkzeug:127.0.0.1 - - [09/Nov/2023 15:37:29] \"POST /completions HTTP/1.1\" 200 -\n",
      "INFO:werkzeug:127.0.0.1 - - [09/Nov/2023 15:37:29] \"POST /completions HTTP/1.1\" 200 -\n",
      "INFO:werkzeug:127.0.0.1 - - [09/Nov/2023 15:37:29] \"POST /completions HTTP/1.1\" 200 -\n",
      "INFO:werkzeug:127.0.0.1 - - [09/Nov/2023 15:37:29] \"POST /completions HTTP/1.1\" 200 -\n",
      "INFO:werkzeug:127.0.0.1 - - [09/Nov/2023 15:37:29] \"POST /completions HTTP/1.1\" 200 -\n",
      "INFO:werkzeug:127.0.0.1 - - [09/Nov/2023 15:37:29] \"POST /completions HTTP/1.1\" 200 -\n",
      "INFO:werkzeug:127.0.0.1 - - [09/Nov/2023 15:37:29] \"POST /completions HTTP/1.1\" 200 -\n",
      "INFO:werkzeug:127.0.0.1 - - [09/Nov/2023 15:37:29] \"POST /completions HTTP/1.1\" 200 -\n",
      "INFO:werkzeug:127.0.0.1 - - [09/Nov/2023 15:37:29] \"POST /completions HTTP/1.1\" 200 -\n"
     ]
    },
    {
     "name": "stdout",
     "output_type": "stream",
     "text": [
      "flushing 0.7 0\n"
     ]
    },
    {
     "name": "stderr",
     "output_type": "stream",
     "text": [
      "INFO:werkzeug:127.0.0.1 - - [09/Nov/2023 15:37:40] \"POST /completions HTTP/1.1\" 200 -\n",
      "INFO:werkzeug:127.0.0.1 - - [09/Nov/2023 15:37:40] \"POST /completions HTTP/1.1\" 200 -\n",
      "INFO:werkzeug:127.0.0.1 - - [09/Nov/2023 15:37:40] \"POST /completions HTTP/1.1\" 200 -\n",
      "INFO:werkzeug:127.0.0.1 - - [09/Nov/2023 15:37:40] \"POST /completions HTTP/1.1\" 200 -\n",
      "INFO:werkzeug:127.0.0.1 - - [09/Nov/2023 15:37:40] \"POST /completions HTTP/1.1\" 200 -\n",
      "INFO:werkzeug:127.0.0.1 - - [09/Nov/2023 15:37:40] \"POST /completions HTTP/1.1\" 200 -\n",
      "INFO:werkzeug:127.0.0.1 - - [09/Nov/2023 15:37:40] \"POST /completions HTTP/1.1\" 200 -\n",
      "INFO:werkzeug:127.0.0.1 - - [09/Nov/2023 15:37:40] \"POST /completions HTTP/1.1\" 200 -\n",
      "INFO:werkzeug:127.0.0.1 - - [09/Nov/2023 15:37:40] \"POST /completions HTTP/1.1\" 200 -\n",
      "INFO:werkzeug:127.0.0.1 - - [09/Nov/2023 15:37:40] \"POST /completions HTTP/1.1\" 200 -\n",
      "INFO:werkzeug:127.0.0.1 - - [09/Nov/2023 15:37:40] \"POST /completions HTTP/1.1\" 200 -\n",
      "INFO:werkzeug:127.0.0.1 - - [09/Nov/2023 15:37:40] \"POST /completions HTTP/1.1\" 200 -\n",
      "INFO:werkzeug:127.0.0.1 - - [09/Nov/2023 15:37:40] \"POST /completions HTTP/1.1\" 200 -\n",
      "INFO:werkzeug:127.0.0.1 - - [09/Nov/2023 15:37:40] \"POST /completions HTTP/1.1\" 200 -\n",
      "INFO:werkzeug:127.0.0.1 - - [09/Nov/2023 15:37:40] \"POST /completions HTTP/1.1\" 200 -\n",
      "INFO:werkzeug:127.0.0.1 - - [09/Nov/2023 15:37:40] \"POST /completions HTTP/1.1\" 200 -\n",
      "INFO:werkzeug:127.0.0.1 - - [09/Nov/2023 15:37:40] \"POST /completions HTTP/1.1\" 200 -\n",
      "INFO:werkzeug:127.0.0.1 - - [09/Nov/2023 15:37:40] \"POST /completions HTTP/1.1\" 200 -\n",
      "INFO:werkzeug:127.0.0.1 - - [09/Nov/2023 15:37:40] \"POST /completions HTTP/1.1\" 200 -\n",
      "INFO:werkzeug:127.0.0.1 - - [09/Nov/2023 15:37:40] \"POST /completions HTTP/1.1\" 200 -\n",
      "INFO:werkzeug:127.0.0.1 - - [09/Nov/2023 15:37:40] \"POST /completions HTTP/1.1\" 200 -\n",
      "INFO:werkzeug:127.0.0.1 - - [09/Nov/2023 15:37:40] \"POST /completions HTTP/1.1\" 200 -\n",
      "INFO:werkzeug:127.0.0.1 - - [09/Nov/2023 15:37:40] \"POST /completions HTTP/1.1\" 200 -\n",
      "INFO:werkzeug:127.0.0.1 - - [09/Nov/2023 15:37:40] \"POST /completions HTTP/1.1\" 200 -\n",
      "INFO:werkzeug:127.0.0.1 - - [09/Nov/2023 15:37:40] \"POST /completions HTTP/1.1\" 200 -\n",
      "INFO:werkzeug:127.0.0.1 - - [09/Nov/2023 15:37:40] \"POST /completions HTTP/1.1\" 200 -\n",
      "INFO:werkzeug:127.0.0.1 - - [09/Nov/2023 15:37:40] \"POST /completions HTTP/1.1\" 200 -\n",
      "INFO:werkzeug:127.0.0.1 - - [09/Nov/2023 15:37:40] \"POST /completions HTTP/1.1\" 200 -\n",
      "INFO:werkzeug:127.0.0.1 - - [09/Nov/2023 15:37:40] \"POST /completions HTTP/1.1\" 200 -\n",
      "INFO:werkzeug:127.0.0.1 - - [09/Nov/2023 15:37:40] \"POST /completions HTTP/1.1\" 200 -\n",
      "INFO:werkzeug:127.0.0.1 - - [09/Nov/2023 15:37:40] \"POST /completions HTTP/1.1\" 200 -\n",
      "INFO:werkzeug:127.0.0.1 - - [09/Nov/2023 15:37:40] \"POST /completions HTTP/1.1\" 200 -\n"
     ]
    },
    {
     "name": "stdout",
     "output_type": "stream",
     "text": [
      "flushing 0.7 0\n"
     ]
    },
    {
     "name": "stderr",
     "output_type": "stream",
     "text": [
      "INFO:werkzeug:127.0.0.1 - - [09/Nov/2023 15:37:50] \"POST /completions HTTP/1.1\" 200 -\n",
      "INFO:werkzeug:127.0.0.1 - - [09/Nov/2023 15:37:50] \"POST /completions HTTP/1.1\" 200 -\n",
      "INFO:werkzeug:127.0.0.1 - - [09/Nov/2023 15:37:50] \"POST /completions HTTP/1.1\" 200 -\n",
      "INFO:werkzeug:127.0.0.1 - - [09/Nov/2023 15:37:50] \"POST /completions HTTP/1.1\" 200 -\n",
      "INFO:werkzeug:127.0.0.1 - - [09/Nov/2023 15:37:50] \"POST /completions HTTP/1.1\" 200 -\n",
      "INFO:werkzeug:127.0.0.1 - - [09/Nov/2023 15:37:50] \"POST /completions HTTP/1.1\" 200 -\n",
      "INFO:werkzeug:127.0.0.1 - - [09/Nov/2023 15:37:50] \"POST /completions HTTP/1.1\" 200 -\n",
      "INFO:werkzeug:127.0.0.1 - - [09/Nov/2023 15:37:50] \"POST /completions HTTP/1.1\" 200 -\n",
      "INFO:werkzeug:127.0.0.1 - - [09/Nov/2023 15:37:50] \"POST /completions HTTP/1.1\" 200 -\n",
      "INFO:werkzeug:127.0.0.1 - - [09/Nov/2023 15:37:50] \"POST /completions HTTP/1.1\" 200 -\n",
      "INFO:werkzeug:127.0.0.1 - - [09/Nov/2023 15:37:50] \"POST /completions HTTP/1.1\" 200 -\n",
      "INFO:werkzeug:127.0.0.1 - - [09/Nov/2023 15:37:50] \"POST /completions HTTP/1.1\" 200 -\n",
      "INFO:werkzeug:127.0.0.1 - - [09/Nov/2023 15:37:50] \"POST /completions HTTP/1.1\" 200 -\n",
      "INFO:werkzeug:127.0.0.1 - - [09/Nov/2023 15:37:50] \"POST /completions HTTP/1.1\" 200 -\n",
      "INFO:werkzeug:127.0.0.1 - - [09/Nov/2023 15:37:50] \"POST /completions HTTP/1.1\" 200 -\n",
      "INFO:werkzeug:127.0.0.1 - - [09/Nov/2023 15:37:50] \"POST /completions HTTP/1.1\" 200 -\n",
      "INFO:werkzeug:127.0.0.1 - - [09/Nov/2023 15:37:50] \"POST /completions HTTP/1.1\" 200 -\n",
      "INFO:werkzeug:127.0.0.1 - - [09/Nov/2023 15:37:50] \"POST /completions HTTP/1.1\" 200 -\n",
      "INFO:werkzeug:127.0.0.1 - - [09/Nov/2023 15:37:50] \"POST /completions HTTP/1.1\" 200 -\n",
      "INFO:werkzeug:127.0.0.1 - - [09/Nov/2023 15:37:50] \"POST /completions HTTP/1.1\" 200 -\n",
      "INFO:werkzeug:127.0.0.1 - - [09/Nov/2023 15:37:50] \"POST /completions HTTP/1.1\" 200 -\n",
      "INFO:werkzeug:127.0.0.1 - - [09/Nov/2023 15:37:50] \"POST /completions HTTP/1.1\" 200 -\n",
      "INFO:werkzeug:127.0.0.1 - - [09/Nov/2023 15:37:50] \"POST /completions HTTP/1.1\" 200 -\n",
      "INFO:werkzeug:127.0.0.1 - - [09/Nov/2023 15:37:50] \"POST /completions HTTP/1.1\" 200 -\n",
      "INFO:werkzeug:127.0.0.1 - - [09/Nov/2023 15:37:50] \"POST /completions HTTP/1.1\" 200 -\n",
      "INFO:werkzeug:127.0.0.1 - - [09/Nov/2023 15:37:50] \"POST /completions HTTP/1.1\" 200 -\n",
      "INFO:werkzeug:127.0.0.1 - - [09/Nov/2023 15:37:50] \"POST /completions HTTP/1.1\" 200 -\n",
      "INFO:werkzeug:127.0.0.1 - - [09/Nov/2023 15:37:50] \"POST /completions HTTP/1.1\" 200 -\n",
      "INFO:werkzeug:127.0.0.1 - - [09/Nov/2023 15:37:50] \"POST /completions HTTP/1.1\" 200 -\n",
      "INFO:werkzeug:127.0.0.1 - - [09/Nov/2023 15:37:50] \"POST /completions HTTP/1.1\" 200 -\n",
      "INFO:werkzeug:127.0.0.1 - - [09/Nov/2023 15:37:50] \"POST /completions HTTP/1.1\" 200 -\n",
      "INFO:werkzeug:127.0.0.1 - - [09/Nov/2023 15:37:50] \"POST /completions HTTP/1.1\" 200 -\n"
     ]
    },
    {
     "name": "stdout",
     "output_type": "stream",
     "text": [
      "flushing 0.7 0\n"
     ]
    },
    {
     "name": "stderr",
     "output_type": "stream",
     "text": [
      "INFO:werkzeug:127.0.0.1 - - [09/Nov/2023 15:38:03] \"POST /completions HTTP/1.1\" 200 -\n",
      "INFO:werkzeug:127.0.0.1 - - [09/Nov/2023 15:38:03] \"POST /completions HTTP/1.1\" 200 -\n",
      "INFO:werkzeug:127.0.0.1 - - [09/Nov/2023 15:38:03] \"POST /completions HTTP/1.1\" 200 -\n",
      "INFO:werkzeug:127.0.0.1 - - [09/Nov/2023 15:38:03] \"POST /completions HTTP/1.1\" 200 -\n",
      "INFO:werkzeug:127.0.0.1 - - [09/Nov/2023 15:38:03] \"POST /completions HTTP/1.1\" 200 -\n",
      "INFO:werkzeug:127.0.0.1 - - [09/Nov/2023 15:38:03] \"POST /completions HTTP/1.1\" 200 -\n",
      "INFO:werkzeug:127.0.0.1 - - [09/Nov/2023 15:38:03] \"POST /completions HTTP/1.1\" 200 -\n",
      "INFO:werkzeug:127.0.0.1 - - [09/Nov/2023 15:38:03] \"POST /completions HTTP/1.1\" 200 -\n",
      "INFO:werkzeug:127.0.0.1 - - [09/Nov/2023 15:38:03] \"POST /completions HTTP/1.1\" 200 -\n",
      "INFO:werkzeug:127.0.0.1 - - [09/Nov/2023 15:38:03] \"POST /completions HTTP/1.1\" 200 -\n",
      "INFO:werkzeug:127.0.0.1 - - [09/Nov/2023 15:38:03] \"POST /completions HTTP/1.1\" 200 -\n",
      "INFO:werkzeug:127.0.0.1 - - [09/Nov/2023 15:38:03] \"POST /completions HTTP/1.1\" 200 -\n",
      "INFO:werkzeug:127.0.0.1 - - [09/Nov/2023 15:38:03] \"POST /completions HTTP/1.1\" 200 -\n",
      "INFO:werkzeug:127.0.0.1 - - [09/Nov/2023 15:38:03] \"POST /completions HTTP/1.1\" 200 -\n",
      "INFO:werkzeug:127.0.0.1 - - [09/Nov/2023 15:38:03] \"POST /completions HTTP/1.1\" 200 -\n",
      "INFO:werkzeug:127.0.0.1 - - [09/Nov/2023 15:38:03] \"POST /completions HTTP/1.1\" 200 -\n",
      "INFO:werkzeug:127.0.0.1 - - [09/Nov/2023 15:38:03] \"POST /completions HTTP/1.1\" 200 -\n",
      "INFO:werkzeug:127.0.0.1 - - [09/Nov/2023 15:38:03] \"POST /completions HTTP/1.1\" 200 -\n",
      "INFO:werkzeug:127.0.0.1 - - [09/Nov/2023 15:38:03] \"POST /completions HTTP/1.1\" 200 -\n",
      "INFO:werkzeug:127.0.0.1 - - [09/Nov/2023 15:38:03] \"POST /completions HTTP/1.1\" 200 -\n",
      "INFO:werkzeug:127.0.0.1 - - [09/Nov/2023 15:38:03] \"POST /completions HTTP/1.1\" 200 -\n",
      "INFO:werkzeug:127.0.0.1 - - [09/Nov/2023 15:38:03] \"POST /completions HTTP/1.1\" 200 -\n",
      "INFO:werkzeug:127.0.0.1 - - [09/Nov/2023 15:38:03] \"POST /completions HTTP/1.1\" 200 -\n",
      "INFO:werkzeug:127.0.0.1 - - [09/Nov/2023 15:38:03] \"POST /completions HTTP/1.1\" 200 -\n",
      "INFO:werkzeug:127.0.0.1 - - [09/Nov/2023 15:38:03] \"POST /completions HTTP/1.1\" 200 -\n",
      "INFO:werkzeug:127.0.0.1 - - [09/Nov/2023 15:38:03] \"POST /completions HTTP/1.1\" 200 -\n",
      "INFO:werkzeug:127.0.0.1 - - [09/Nov/2023 15:38:03] \"POST /completions HTTP/1.1\" 200 -\n",
      "INFO:werkzeug:127.0.0.1 - - [09/Nov/2023 15:38:03] \"POST /completions HTTP/1.1\" 200 -\n",
      "INFO:werkzeug:127.0.0.1 - - [09/Nov/2023 15:38:03] \"POST /completions HTTP/1.1\" 200 -\n",
      "INFO:werkzeug:127.0.0.1 - - [09/Nov/2023 15:38:03] \"POST /completions HTTP/1.1\" 200 -\n",
      "INFO:werkzeug:127.0.0.1 - - [09/Nov/2023 15:38:03] \"POST /completions HTTP/1.1\" 200 -\n",
      "INFO:werkzeug:127.0.0.1 - - [09/Nov/2023 15:38:03] \"POST /completions HTTP/1.1\" 200 -\n"
     ]
    },
    {
     "name": "stdout",
     "output_type": "stream",
     "text": [
      "flushing 0.7 0\n"
     ]
    },
    {
     "name": "stderr",
     "output_type": "stream",
     "text": [
      "INFO:werkzeug:127.0.0.1 - - [09/Nov/2023 15:38:13] \"POST /completions HTTP/1.1\" 200 -\n",
      "INFO:werkzeug:127.0.0.1 - - [09/Nov/2023 15:38:13] \"POST /completions HTTP/1.1\" 200 -\n",
      "INFO:werkzeug:127.0.0.1 - - [09/Nov/2023 15:38:13] \"POST /completions HTTP/1.1\" 200 -\n",
      "INFO:werkzeug:127.0.0.1 - - [09/Nov/2023 15:38:13] \"POST /completions HTTP/1.1\" 200 -\n",
      "INFO:werkzeug:127.0.0.1 - - [09/Nov/2023 15:38:13] \"POST /completions HTTP/1.1\" 200 -\n",
      "INFO:werkzeug:127.0.0.1 - - [09/Nov/2023 15:38:13] \"POST /completions HTTP/1.1\" 200 -\n",
      "INFO:werkzeug:127.0.0.1 - - [09/Nov/2023 15:38:13] \"POST /completions HTTP/1.1\" 200 -\n",
      "INFO:werkzeug:127.0.0.1 - - [09/Nov/2023 15:38:13] \"POST /completions HTTP/1.1\" 200 -\n",
      "INFO:werkzeug:127.0.0.1 - - [09/Nov/2023 15:38:13] \"POST /completions HTTP/1.1\" 200 -\n",
      "INFO:werkzeug:127.0.0.1 - - [09/Nov/2023 15:38:13] \"POST /completions HTTP/1.1\" 200 -\n",
      "INFO:werkzeug:127.0.0.1 - - [09/Nov/2023 15:38:13] \"POST /completions HTTP/1.1\" 200 -\n",
      "INFO:werkzeug:127.0.0.1 - - [09/Nov/2023 15:38:13] \"POST /completions HTTP/1.1\" 200 -\n",
      "INFO:werkzeug:127.0.0.1 - - [09/Nov/2023 15:38:13] \"POST /completions HTTP/1.1\" 200 -\n",
      "INFO:werkzeug:127.0.0.1 - - [09/Nov/2023 15:38:13] \"POST /completions HTTP/1.1\" 200 -\n",
      "INFO:werkzeug:127.0.0.1 - - [09/Nov/2023 15:38:13] \"POST /completions HTTP/1.1\" 200 -\n",
      "INFO:werkzeug:127.0.0.1 - - [09/Nov/2023 15:38:13] \"POST /completions HTTP/1.1\" 200 -\n",
      "INFO:werkzeug:127.0.0.1 - - [09/Nov/2023 15:38:13] \"POST /completions HTTP/1.1\" 200 -\n",
      "INFO:werkzeug:127.0.0.1 - - [09/Nov/2023 15:38:13] \"POST /completions HTTP/1.1\" 200 -\n",
      "INFO:werkzeug:127.0.0.1 - - [09/Nov/2023 15:38:13] \"POST /completions HTTP/1.1\" 200 -\n",
      "INFO:werkzeug:127.0.0.1 - - [09/Nov/2023 15:38:13] \"POST /completions HTTP/1.1\" 200 -\n",
      "INFO:werkzeug:127.0.0.1 - - [09/Nov/2023 15:38:13] \"POST /completions HTTP/1.1\" 200 -\n",
      "INFO:werkzeug:127.0.0.1 - - [09/Nov/2023 15:38:13] \"POST /completions HTTP/1.1\" 200 -\n",
      "INFO:werkzeug:127.0.0.1 - - [09/Nov/2023 15:38:13] \"POST /completions HTTP/1.1\" 200 -\n",
      "INFO:werkzeug:127.0.0.1 - - [09/Nov/2023 15:38:13] \"POST /completions HTTP/1.1\" 200 -\n",
      "INFO:werkzeug:127.0.0.1 - - [09/Nov/2023 15:38:13] \"POST /completions HTTP/1.1\" 200 -\n",
      "INFO:werkzeug:127.0.0.1 - - [09/Nov/2023 15:38:13] \"POST /completions HTTP/1.1\" 200 -\n",
      "INFO:werkzeug:127.0.0.1 - - [09/Nov/2023 15:38:13] \"POST /completions HTTP/1.1\" 200 -\n",
      "INFO:werkzeug:127.0.0.1 - - [09/Nov/2023 15:38:13] \"POST /completions HTTP/1.1\" 200 -\n",
      "INFO:werkzeug:127.0.0.1 - - [09/Nov/2023 15:38:13] \"POST /completions HTTP/1.1\" 200 -\n",
      "INFO:werkzeug:127.0.0.1 - - [09/Nov/2023 15:38:13] \"POST /completions HTTP/1.1\" 200 -\n",
      "INFO:werkzeug:127.0.0.1 - - [09/Nov/2023 15:38:13] \"POST /completions HTTP/1.1\" 200 -\n",
      "INFO:werkzeug:127.0.0.1 - - [09/Nov/2023 15:38:13] \"POST /completions HTTP/1.1\" 200 -\n"
     ]
    },
    {
     "name": "stdout",
     "output_type": "stream",
     "text": [
      "flushing 0.7 0\n"
     ]
    },
    {
     "name": "stderr",
     "output_type": "stream",
     "text": [
      "INFO:werkzeug:127.0.0.1 - - [09/Nov/2023 15:38:23] \"POST /completions HTTP/1.1\" 200 -\n",
      "INFO:werkzeug:127.0.0.1 - - [09/Nov/2023 15:38:23] \"POST /completions HTTP/1.1\" 200 -\n",
      "INFO:werkzeug:127.0.0.1 - - [09/Nov/2023 15:38:23] \"POST /completions HTTP/1.1\" 200 -\n",
      "INFO:werkzeug:127.0.0.1 - - [09/Nov/2023 15:38:23] \"POST /completions HTTP/1.1\" 200 -\n",
      "INFO:werkzeug:127.0.0.1 - - [09/Nov/2023 15:38:23] \"POST /completions HTTP/1.1\" 200 -\n",
      "INFO:werkzeug:127.0.0.1 - - [09/Nov/2023 15:38:23] \"POST /completions HTTP/1.1\" 200 -\n",
      "INFO:werkzeug:127.0.0.1 - - [09/Nov/2023 15:38:23] \"POST /completions HTTP/1.1\" 200 -\n",
      "INFO:werkzeug:127.0.0.1 - - [09/Nov/2023 15:38:23] \"POST /completions HTTP/1.1\" 200 -\n",
      "INFO:werkzeug:127.0.0.1 - - [09/Nov/2023 15:38:23] \"POST /completions HTTP/1.1\" 200 -\n",
      "INFO:werkzeug:127.0.0.1 - - [09/Nov/2023 15:38:23] \"POST /completions HTTP/1.1\" 200 -\n",
      "INFO:werkzeug:127.0.0.1 - - [09/Nov/2023 15:38:23] \"POST /completions HTTP/1.1\" 200 -\n",
      "INFO:werkzeug:127.0.0.1 - - [09/Nov/2023 15:38:23] \"POST /completions HTTP/1.1\" 200 -\n",
      "INFO:werkzeug:127.0.0.1 - - [09/Nov/2023 15:38:23] \"POST /completions HTTP/1.1\" 200 -\n",
      "INFO:werkzeug:127.0.0.1 - - [09/Nov/2023 15:38:23] \"POST /completions HTTP/1.1\" 200 -\n",
      "INFO:werkzeug:127.0.0.1 - - [09/Nov/2023 15:38:23] \"POST /completions HTTP/1.1\" 200 -\n",
      "INFO:werkzeug:127.0.0.1 - - [09/Nov/2023 15:38:23] \"POST /completions HTTP/1.1\" 200 -\n",
      "INFO:werkzeug:127.0.0.1 - - [09/Nov/2023 15:38:23] \"POST /completions HTTP/1.1\" 200 -\n",
      "INFO:werkzeug:127.0.0.1 - - [09/Nov/2023 15:38:23] \"POST /completions HTTP/1.1\" 200 -\n",
      "INFO:werkzeug:127.0.0.1 - - [09/Nov/2023 15:38:23] \"POST /completions HTTP/1.1\" 200 -\n",
      "INFO:werkzeug:127.0.0.1 - - [09/Nov/2023 15:38:23] \"POST /completions HTTP/1.1\" 200 -\n",
      "INFO:werkzeug:127.0.0.1 - - [09/Nov/2023 15:38:23] \"POST /completions HTTP/1.1\" 200 -\n",
      "INFO:werkzeug:127.0.0.1 - - [09/Nov/2023 15:38:23] \"POST /completions HTTP/1.1\" 200 -\n",
      "INFO:werkzeug:127.0.0.1 - - [09/Nov/2023 15:38:23] \"POST /completions HTTP/1.1\" 200 -\n",
      "INFO:werkzeug:127.0.0.1 - - [09/Nov/2023 15:38:23] \"POST /completions HTTP/1.1\" 200 -\n",
      "INFO:werkzeug:127.0.0.1 - - [09/Nov/2023 15:38:23] \"POST /completions HTTP/1.1\" 200 -\n",
      "INFO:werkzeug:127.0.0.1 - - [09/Nov/2023 15:38:23] \"POST /completions HTTP/1.1\" 200 -\n",
      "INFO:werkzeug:127.0.0.1 - - [09/Nov/2023 15:38:23] \"POST /completions HTTP/1.1\" 200 -\n",
      "INFO:werkzeug:127.0.0.1 - - [09/Nov/2023 15:38:23] \"POST /completions HTTP/1.1\" 200 -\n",
      "INFO:werkzeug:127.0.0.1 - - [09/Nov/2023 15:38:23] \"POST /completions HTTP/1.1\" 200 -\n",
      "INFO:werkzeug:127.0.0.1 - - [09/Nov/2023 15:38:23] \"POST /completions HTTP/1.1\" 200 -\n",
      "INFO:werkzeug:127.0.0.1 - - [09/Nov/2023 15:38:23] \"POST /completions HTTP/1.1\" 200 -\n",
      "INFO:werkzeug:127.0.0.1 - - [09/Nov/2023 15:38:23] \"POST /completions HTTP/1.1\" 200 -\n"
     ]
    },
    {
     "name": "stdout",
     "output_type": "stream",
     "text": [
      "flushing 0.7 0\n"
     ]
    },
    {
     "name": "stderr",
     "output_type": "stream",
     "text": [
      "INFO:werkzeug:127.0.0.1 - - [09/Nov/2023 15:38:31] \"POST /completions HTTP/1.1\" 200 -\n",
      "INFO:werkzeug:127.0.0.1 - - [09/Nov/2023 15:38:31] \"POST /completions HTTP/1.1\" 200 -\n",
      "INFO:werkzeug:127.0.0.1 - - [09/Nov/2023 15:38:31] \"POST /completions HTTP/1.1\" 200 -\n",
      "INFO:werkzeug:127.0.0.1 - - [09/Nov/2023 15:38:31] \"POST /completions HTTP/1.1\" 200 -\n",
      "INFO:werkzeug:127.0.0.1 - - [09/Nov/2023 15:38:31] \"POST /completions HTTP/1.1\" 200 -\n",
      "INFO:werkzeug:127.0.0.1 - - [09/Nov/2023 15:38:31] \"POST /completions HTTP/1.1\" 200 -\n",
      "INFO:werkzeug:127.0.0.1 - - [09/Nov/2023 15:38:31] \"POST /completions HTTP/1.1\" 200 -\n",
      "INFO:werkzeug:127.0.0.1 - - [09/Nov/2023 15:38:31] \"POST /completions HTTP/1.1\" 200 -\n",
      "INFO:werkzeug:127.0.0.1 - - [09/Nov/2023 15:38:31] \"POST /completions HTTP/1.1\" 200 -\n",
      "INFO:werkzeug:127.0.0.1 - - [09/Nov/2023 15:38:31] \"POST /completions HTTP/1.1\" 200 -\n",
      "INFO:werkzeug:127.0.0.1 - - [09/Nov/2023 15:38:31] \"POST /completions HTTP/1.1\" 200 -\n",
      "INFO:werkzeug:127.0.0.1 - - [09/Nov/2023 15:38:31] \"POST /completions HTTP/1.1\" 200 -\n",
      "INFO:werkzeug:127.0.0.1 - - [09/Nov/2023 15:38:31] \"POST /completions HTTP/1.1\" 200 -\n",
      "INFO:werkzeug:127.0.0.1 - - [09/Nov/2023 15:38:31] \"POST /completions HTTP/1.1\" 200 -\n",
      "INFO:werkzeug:127.0.0.1 - - [09/Nov/2023 15:38:31] \"POST /completions HTTP/1.1\" 200 -\n",
      "INFO:werkzeug:127.0.0.1 - - [09/Nov/2023 15:38:31] \"POST /completions HTTP/1.1\" 200 -\n",
      "INFO:werkzeug:127.0.0.1 - - [09/Nov/2023 15:38:31] \"POST /completions HTTP/1.1\" 200 -\n",
      "INFO:werkzeug:127.0.0.1 - - [09/Nov/2023 15:38:31] \"POST /completions HTTP/1.1\" 200 -\n",
      "INFO:werkzeug:127.0.0.1 - - [09/Nov/2023 15:38:31] \"POST /completions HTTP/1.1\" 200 -\n",
      "INFO:werkzeug:127.0.0.1 - - [09/Nov/2023 15:38:31] \"POST /completions HTTP/1.1\" 200 -\n",
      "INFO:werkzeug:127.0.0.1 - - [09/Nov/2023 15:38:31] \"POST /completions HTTP/1.1\" 200 -\n",
      "INFO:werkzeug:127.0.0.1 - - [09/Nov/2023 15:38:31] \"POST /completions HTTP/1.1\" 200 -\n",
      "INFO:werkzeug:127.0.0.1 - - [09/Nov/2023 15:38:31] \"POST /completions HTTP/1.1\" 200 -\n",
      "INFO:werkzeug:127.0.0.1 - - [09/Nov/2023 15:38:31] \"POST /completions HTTP/1.1\" 200 -\n",
      "INFO:werkzeug:127.0.0.1 - - [09/Nov/2023 15:38:31] \"POST /completions HTTP/1.1\" 200 -\n",
      "INFO:werkzeug:127.0.0.1 - - [09/Nov/2023 15:38:31] \"POST /completions HTTP/1.1\" 200 -\n",
      "INFO:werkzeug:127.0.0.1 - - [09/Nov/2023 15:38:31] \"POST /completions HTTP/1.1\" 200 -\n",
      "INFO:werkzeug:127.0.0.1 - - [09/Nov/2023 15:38:31] \"POST /completions HTTP/1.1\" 200 -\n",
      "INFO:werkzeug:127.0.0.1 - - [09/Nov/2023 15:38:31] \"POST /completions HTTP/1.1\" 200 -\n",
      "INFO:werkzeug:127.0.0.1 - - [09/Nov/2023 15:38:31] \"POST /completions HTTP/1.1\" 200 -\n",
      "INFO:werkzeug:127.0.0.1 - - [09/Nov/2023 15:38:31] \"POST /completions HTTP/1.1\" 200 -\n",
      "INFO:werkzeug:127.0.0.1 - - [09/Nov/2023 15:38:31] \"POST /completions HTTP/1.1\" 200 -\n"
     ]
    },
    {
     "name": "stdout",
     "output_type": "stream",
     "text": [
      "flushing 0.7 0\n"
     ]
    },
    {
     "name": "stderr",
     "output_type": "stream",
     "text": [
      "INFO:werkzeug:127.0.0.1 - - [09/Nov/2023 15:38:41] \"POST /completions HTTP/1.1\" 200 -\n",
      "INFO:werkzeug:127.0.0.1 - - [09/Nov/2023 15:38:41] \"POST /completions HTTP/1.1\" 200 -\n",
      "INFO:werkzeug:127.0.0.1 - - [09/Nov/2023 15:38:41] \"POST /completions HTTP/1.1\" 200 -\n",
      "INFO:werkzeug:127.0.0.1 - - [09/Nov/2023 15:38:41] \"POST /completions HTTP/1.1\" 200 -\n",
      "INFO:werkzeug:127.0.0.1 - - [09/Nov/2023 15:38:41] \"POST /completions HTTP/1.1\" 200 -\n",
      "INFO:werkzeug:127.0.0.1 - - [09/Nov/2023 15:38:41] \"POST /completions HTTP/1.1\" 200 -\n",
      "INFO:werkzeug:127.0.0.1 - - [09/Nov/2023 15:38:41] \"POST /completions HTTP/1.1\" 200 -\n",
      "INFO:werkzeug:127.0.0.1 - - [09/Nov/2023 15:38:41] \"POST /completions HTTP/1.1\" 200 -\n",
      "INFO:werkzeug:127.0.0.1 - - [09/Nov/2023 15:38:41] \"POST /completions HTTP/1.1\" 200 -\n",
      "INFO:werkzeug:127.0.0.1 - - [09/Nov/2023 15:38:41] \"POST /completions HTTP/1.1\" 200 -\n",
      "INFO:werkzeug:127.0.0.1 - - [09/Nov/2023 15:38:41] \"POST /completions HTTP/1.1\" 200 -\n",
      "INFO:werkzeug:127.0.0.1 - - [09/Nov/2023 15:38:41] \"POST /completions HTTP/1.1\" 200 -\n",
      "INFO:werkzeug:127.0.0.1 - - [09/Nov/2023 15:38:41] \"POST /completions HTTP/1.1\" 200 -\n",
      "INFO:werkzeug:127.0.0.1 - - [09/Nov/2023 15:38:41] \"POST /completions HTTP/1.1\" 200 -\n",
      "INFO:werkzeug:127.0.0.1 - - [09/Nov/2023 15:38:41] \"POST /completions HTTP/1.1\" 200 -\n",
      "INFO:werkzeug:127.0.0.1 - - [09/Nov/2023 15:38:41] \"POST /completions HTTP/1.1\" 200 -\n",
      "INFO:werkzeug:127.0.0.1 - - [09/Nov/2023 15:38:41] \"POST /completions HTTP/1.1\" 200 -\n",
      "INFO:werkzeug:127.0.0.1 - - [09/Nov/2023 15:38:41] \"POST /completions HTTP/1.1\" 200 -\n",
      "INFO:werkzeug:127.0.0.1 - - [09/Nov/2023 15:38:41] \"POST /completions HTTP/1.1\" 200 -\n",
      "INFO:werkzeug:127.0.0.1 - - [09/Nov/2023 15:38:41] \"POST /completions HTTP/1.1\" 200 -\n",
      "INFO:werkzeug:127.0.0.1 - - [09/Nov/2023 15:38:41] \"POST /completions HTTP/1.1\" 200 -\n",
      "INFO:werkzeug:127.0.0.1 - - [09/Nov/2023 15:38:41] \"POST /completions HTTP/1.1\" 200 -\n",
      "INFO:werkzeug:127.0.0.1 - - [09/Nov/2023 15:38:41] \"POST /completions HTTP/1.1\" 200 -\n",
      "INFO:werkzeug:127.0.0.1 - - [09/Nov/2023 15:38:41] \"POST /completions HTTP/1.1\" 200 -\n",
      "INFO:werkzeug:127.0.0.1 - - [09/Nov/2023 15:38:41] \"POST /completions HTTP/1.1\" 200 -\n",
      "INFO:werkzeug:127.0.0.1 - - [09/Nov/2023 15:38:41] \"POST /completions HTTP/1.1\" 200 -\n",
      "INFO:werkzeug:127.0.0.1 - - [09/Nov/2023 15:38:41] \"POST /completions HTTP/1.1\" 200 -\n",
      "INFO:werkzeug:127.0.0.1 - - [09/Nov/2023 15:38:41] \"POST /completions HTTP/1.1\" 200 -\n",
      "INFO:werkzeug:127.0.0.1 - - [09/Nov/2023 15:38:41] \"POST /completions HTTP/1.1\" 200 -\n",
      "INFO:werkzeug:127.0.0.1 - - [09/Nov/2023 15:38:41] \"POST /completions HTTP/1.1\" 200 -\n",
      "INFO:werkzeug:127.0.0.1 - - [09/Nov/2023 15:38:41] \"POST /completions HTTP/1.1\" 200 -\n",
      "INFO:werkzeug:127.0.0.1 - - [09/Nov/2023 15:38:41] \"POST /completions HTTP/1.1\" 200 -\n"
     ]
    },
    {
     "name": "stdout",
     "output_type": "stream",
     "text": [
      "flushing 0.7 0\n"
     ]
    },
    {
     "name": "stderr",
     "output_type": "stream",
     "text": [
      "INFO:werkzeug:127.0.0.1 - - [09/Nov/2023 15:38:52] \"POST /completions HTTP/1.1\" 200 -\n",
      "INFO:werkzeug:127.0.0.1 - - [09/Nov/2023 15:38:52] \"POST /completions HTTP/1.1\" 200 -\n",
      "INFO:werkzeug:127.0.0.1 - - [09/Nov/2023 15:38:52] \"POST /completions HTTP/1.1\" 200 -\n",
      "INFO:werkzeug:127.0.0.1 - - [09/Nov/2023 15:38:52] \"POST /completions HTTP/1.1\" 200 -\n",
      "INFO:werkzeug:127.0.0.1 - - [09/Nov/2023 15:38:52] \"POST /completions HTTP/1.1\" 200 -\n",
      "INFO:werkzeug:127.0.0.1 - - [09/Nov/2023 15:38:52] \"POST /completions HTTP/1.1\" 200 -\n",
      "INFO:werkzeug:127.0.0.1 - - [09/Nov/2023 15:38:52] \"POST /completions HTTP/1.1\" 200 -\n",
      "INFO:werkzeug:127.0.0.1 - - [09/Nov/2023 15:38:52] \"POST /completions HTTP/1.1\" 200 -\n",
      "INFO:werkzeug:127.0.0.1 - - [09/Nov/2023 15:38:52] \"POST /completions HTTP/1.1\" 200 -\n",
      "INFO:werkzeug:127.0.0.1 - - [09/Nov/2023 15:38:52] \"POST /completions HTTP/1.1\" 200 -\n",
      "INFO:werkzeug:127.0.0.1 - - [09/Nov/2023 15:38:52] \"POST /completions HTTP/1.1\" 200 -\n",
      "INFO:werkzeug:127.0.0.1 - - [09/Nov/2023 15:38:52] \"POST /completions HTTP/1.1\" 200 -\n",
      "INFO:werkzeug:127.0.0.1 - - [09/Nov/2023 15:38:52] \"POST /completions HTTP/1.1\" 200 -\n",
      "INFO:werkzeug:127.0.0.1 - - [09/Nov/2023 15:38:52] \"POST /completions HTTP/1.1\" 200 -\n",
      "INFO:werkzeug:127.0.0.1 - - [09/Nov/2023 15:38:52] \"POST /completions HTTP/1.1\" 200 -\n",
      "INFO:werkzeug:127.0.0.1 - - [09/Nov/2023 15:38:52] \"POST /completions HTTP/1.1\" 200 -\n",
      "INFO:werkzeug:127.0.0.1 - - [09/Nov/2023 15:38:52] \"POST /completions HTTP/1.1\" 200 -\n",
      "INFO:werkzeug:127.0.0.1 - - [09/Nov/2023 15:38:52] \"POST /completions HTTP/1.1\" 200 -\n",
      "INFO:werkzeug:127.0.0.1 - - [09/Nov/2023 15:38:52] \"POST /completions HTTP/1.1\" 200 -\n",
      "INFO:werkzeug:127.0.0.1 - - [09/Nov/2023 15:38:52] \"POST /completions HTTP/1.1\" 200 -\n",
      "INFO:werkzeug:127.0.0.1 - - [09/Nov/2023 15:38:52] \"POST /completions HTTP/1.1\" 200 -\n",
      "INFO:werkzeug:127.0.0.1 - - [09/Nov/2023 15:38:52] \"POST /completions HTTP/1.1\" 200 -\n",
      "INFO:werkzeug:127.0.0.1 - - [09/Nov/2023 15:38:52] \"POST /completions HTTP/1.1\" 200 -\n",
      "INFO:werkzeug:127.0.0.1 - - [09/Nov/2023 15:38:52] \"POST /completions HTTP/1.1\" 200 -\n",
      "INFO:werkzeug:127.0.0.1 - - [09/Nov/2023 15:38:52] \"POST /completions HTTP/1.1\" 200 -\n",
      "INFO:werkzeug:127.0.0.1 - - [09/Nov/2023 15:38:52] \"POST /completions HTTP/1.1\" 200 -\n",
      "INFO:werkzeug:127.0.0.1 - - [09/Nov/2023 15:38:52] \"POST /completions HTTP/1.1\" 200 -\n",
      "INFO:werkzeug:127.0.0.1 - - [09/Nov/2023 15:38:52] \"POST /completions HTTP/1.1\" 200 -\n",
      "INFO:werkzeug:127.0.0.1 - - [09/Nov/2023 15:38:52] \"POST /completions HTTP/1.1\" 200 -\n",
      "INFO:werkzeug:127.0.0.1 - - [09/Nov/2023 15:38:52] \"POST /completions HTTP/1.1\" 200 -\n",
      "INFO:werkzeug:127.0.0.1 - - [09/Nov/2023 15:38:52] \"POST /completions HTTP/1.1\" 200 -\n",
      "INFO:werkzeug:127.0.0.1 - - [09/Nov/2023 15:38:52] \"POST /completions HTTP/1.1\" 200 -\n"
     ]
    },
    {
     "name": "stdout",
     "output_type": "stream",
     "text": [
      "flushing 0.7 0\n"
     ]
    },
    {
     "name": "stderr",
     "output_type": "stream",
     "text": [
      "INFO:werkzeug:127.0.0.1 - - [09/Nov/2023 15:39:04] \"POST /completions HTTP/1.1\" 200 -\n",
      "INFO:werkzeug:127.0.0.1 - - [09/Nov/2023 15:39:04] \"POST /completions HTTP/1.1\" 200 -\n",
      "INFO:werkzeug:127.0.0.1 - - [09/Nov/2023 15:39:04] \"POST /completions HTTP/1.1\" 200 -\n",
      "INFO:werkzeug:127.0.0.1 - - [09/Nov/2023 15:39:04] \"POST /completions HTTP/1.1\" 200 -\n",
      "INFO:werkzeug:127.0.0.1 - - [09/Nov/2023 15:39:04] \"POST /completions HTTP/1.1\" 200 -\n",
      "INFO:werkzeug:127.0.0.1 - - [09/Nov/2023 15:39:04] \"POST /completions HTTP/1.1\" 200 -\n",
      "INFO:werkzeug:127.0.0.1 - - [09/Nov/2023 15:39:04] \"POST /completions HTTP/1.1\" 200 -\n",
      "INFO:werkzeug:127.0.0.1 - - [09/Nov/2023 15:39:04] \"POST /completions HTTP/1.1\" 200 -\n",
      "INFO:werkzeug:127.0.0.1 - - [09/Nov/2023 15:39:04] \"POST /completions HTTP/1.1\" 200 -\n",
      "INFO:werkzeug:127.0.0.1 - - [09/Nov/2023 15:39:04] \"POST /completions HTTP/1.1\" 200 -\n",
      "INFO:werkzeug:127.0.0.1 - - [09/Nov/2023 15:39:04] \"POST /completions HTTP/1.1\" 200 -\n",
      "INFO:werkzeug:127.0.0.1 - - [09/Nov/2023 15:39:04] \"POST /completions HTTP/1.1\" 200 -\n",
      "INFO:werkzeug:127.0.0.1 - - [09/Nov/2023 15:39:04] \"POST /completions HTTP/1.1\" 200 -\n",
      "INFO:werkzeug:127.0.0.1 - - [09/Nov/2023 15:39:04] \"POST /completions HTTP/1.1\" 200 -\n",
      "INFO:werkzeug:127.0.0.1 - - [09/Nov/2023 15:39:04] \"POST /completions HTTP/1.1\" 200 -\n",
      "INFO:werkzeug:127.0.0.1 - - [09/Nov/2023 15:39:04] \"POST /completions HTTP/1.1\" 200 -\n",
      "INFO:werkzeug:127.0.0.1 - - [09/Nov/2023 15:39:04] \"POST /completions HTTP/1.1\" 200 -\n",
      "INFO:werkzeug:127.0.0.1 - - [09/Nov/2023 15:39:04] \"POST /completions HTTP/1.1\" 200 -\n",
      "INFO:werkzeug:127.0.0.1 - - [09/Nov/2023 15:39:04] \"POST /completions HTTP/1.1\" 200 -\n",
      "INFO:werkzeug:127.0.0.1 - - [09/Nov/2023 15:39:04] \"POST /completions HTTP/1.1\" 200 -\n",
      "INFO:werkzeug:127.0.0.1 - - [09/Nov/2023 15:39:04] \"POST /completions HTTP/1.1\" 200 -\n",
      "INFO:werkzeug:127.0.0.1 - - [09/Nov/2023 15:39:04] \"POST /completions HTTP/1.1\" 200 -\n",
      "INFO:werkzeug:127.0.0.1 - - [09/Nov/2023 15:39:04] \"POST /completions HTTP/1.1\" 200 -\n",
      "INFO:werkzeug:127.0.0.1 - - [09/Nov/2023 15:39:04] \"POST /completions HTTP/1.1\" 200 -\n",
      "INFO:werkzeug:127.0.0.1 - - [09/Nov/2023 15:39:04] \"POST /completions HTTP/1.1\" 200 -\n",
      "INFO:werkzeug:127.0.0.1 - - [09/Nov/2023 15:39:04] \"POST /completions HTTP/1.1\" 200 -\n",
      "INFO:werkzeug:127.0.0.1 - - [09/Nov/2023 15:39:04] \"POST /completions HTTP/1.1\" 200 -\n",
      "INFO:werkzeug:127.0.0.1 - - [09/Nov/2023 15:39:04] \"POST /completions HTTP/1.1\" 200 -\n",
      "INFO:werkzeug:127.0.0.1 - - [09/Nov/2023 15:39:04] \"POST /completions HTTP/1.1\" 200 -\n",
      "INFO:werkzeug:127.0.0.1 - - [09/Nov/2023 15:39:04] \"POST /completions HTTP/1.1\" 200 -\n",
      "INFO:werkzeug:127.0.0.1 - - [09/Nov/2023 15:39:04] \"POST /completions HTTP/1.1\" 200 -\n",
      "INFO:werkzeug:127.0.0.1 - - [09/Nov/2023 15:39:04] \"POST /completions HTTP/1.1\" 200 -\n"
     ]
    },
    {
     "name": "stdout",
     "output_type": "stream",
     "text": [
      "flushing 0.7 0\n"
     ]
    },
    {
     "name": "stderr",
     "output_type": "stream",
     "text": [
      "INFO:werkzeug:127.0.0.1 - - [09/Nov/2023 15:39:17] \"POST /completions HTTP/1.1\" 200 -\n",
      "INFO:werkzeug:127.0.0.1 - - [09/Nov/2023 15:39:17] \"POST /completions HTTP/1.1\" 200 -\n",
      "INFO:werkzeug:127.0.0.1 - - [09/Nov/2023 15:39:17] \"POST /completions HTTP/1.1\" 200 -\n",
      "INFO:werkzeug:127.0.0.1 - - [09/Nov/2023 15:39:17] \"POST /completions HTTP/1.1\" 200 -\n",
      "INFO:werkzeug:127.0.0.1 - - [09/Nov/2023 15:39:18] \"POST /completions HTTP/1.1\" 200 -\n",
      "INFO:werkzeug:127.0.0.1 - - [09/Nov/2023 15:39:18] \"POST /completions HTTP/1.1\" 200 -\n",
      "INFO:werkzeug:127.0.0.1 - - [09/Nov/2023 15:39:18] \"POST /completions HTTP/1.1\" 200 -\n",
      "INFO:werkzeug:127.0.0.1 - - [09/Nov/2023 15:39:18] \"POST /completions HTTP/1.1\" 200 -\n",
      "INFO:werkzeug:127.0.0.1 - - [09/Nov/2023 15:39:18] \"POST /completions HTTP/1.1\" 200 -\n",
      "INFO:werkzeug:127.0.0.1 - - [09/Nov/2023 15:39:18] \"POST /completions HTTP/1.1\" 200 -\n",
      "INFO:werkzeug:127.0.0.1 - - [09/Nov/2023 15:39:18] \"POST /completions HTTP/1.1\" 200 -\n",
      "INFO:werkzeug:127.0.0.1 - - [09/Nov/2023 15:39:18] \"POST /completions HTTP/1.1\" 200 -\n",
      "INFO:werkzeug:127.0.0.1 - - [09/Nov/2023 15:39:18] \"POST /completions HTTP/1.1\" 200 -\n",
      "INFO:werkzeug:127.0.0.1 - - [09/Nov/2023 15:39:18] \"POST /completions HTTP/1.1\" 200 -\n",
      "INFO:werkzeug:127.0.0.1 - - [09/Nov/2023 15:39:18] \"POST /completions HTTP/1.1\" 200 -\n",
      "INFO:werkzeug:127.0.0.1 - - [09/Nov/2023 15:39:18] \"POST /completions HTTP/1.1\" 200 -\n",
      "INFO:werkzeug:127.0.0.1 - - [09/Nov/2023 15:39:18] \"POST /completions HTTP/1.1\" 200 -\n",
      "INFO:werkzeug:127.0.0.1 - - [09/Nov/2023 15:39:18] \"POST /completions HTTP/1.1\" 200 -\n",
      "INFO:werkzeug:127.0.0.1 - - [09/Nov/2023 15:39:18] \"POST /completions HTTP/1.1\" 200 -\n",
      "INFO:werkzeug:127.0.0.1 - - [09/Nov/2023 15:39:18] \"POST /completions HTTP/1.1\" 200 -\n",
      "INFO:werkzeug:127.0.0.1 - - [09/Nov/2023 15:39:18] \"POST /completions HTTP/1.1\" 200 -\n",
      "INFO:werkzeug:127.0.0.1 - - [09/Nov/2023 15:39:18] \"POST /completions HTTP/1.1\" 200 -\n",
      "INFO:werkzeug:127.0.0.1 - - [09/Nov/2023 15:39:18] \"POST /completions HTTP/1.1\" 200 -\n",
      "INFO:werkzeug:127.0.0.1 - - [09/Nov/2023 15:39:18] \"POST /completions HTTP/1.1\" 200 -\n",
      "INFO:werkzeug:127.0.0.1 - - [09/Nov/2023 15:39:18] \"POST /completions HTTP/1.1\" 200 -\n",
      "INFO:werkzeug:127.0.0.1 - - [09/Nov/2023 15:39:18] \"POST /completions HTTP/1.1\" 200 -\n",
      "INFO:werkzeug:127.0.0.1 - - [09/Nov/2023 15:39:18] \"POST /completions HTTP/1.1\" 200 -\n",
      "INFO:werkzeug:127.0.0.1 - - [09/Nov/2023 15:39:18] \"POST /completions HTTP/1.1\" 200 -\n",
      "INFO:werkzeug:127.0.0.1 - - [09/Nov/2023 15:39:18] \"POST /completions HTTP/1.1\" 200 -\n",
      "INFO:werkzeug:127.0.0.1 - - [09/Nov/2023 15:39:18] \"POST /completions HTTP/1.1\" 200 -\n",
      "INFO:werkzeug:127.0.0.1 - - [09/Nov/2023 15:39:18] \"POST /completions HTTP/1.1\" 200 -\n",
      "INFO:werkzeug:127.0.0.1 - - [09/Nov/2023 15:39:18] \"POST /completions HTTP/1.1\" 200 -\n"
     ]
    },
    {
     "name": "stdout",
     "output_type": "stream",
     "text": [
      "flushing 0.7 0\n"
     ]
    },
    {
     "name": "stderr",
     "output_type": "stream",
     "text": [
      "INFO:werkzeug:127.0.0.1 - - [09/Nov/2023 15:39:30] \"POST /completions HTTP/1.1\" 200 -\n",
      "INFO:werkzeug:127.0.0.1 - - [09/Nov/2023 15:39:30] \"POST /completions HTTP/1.1\" 200 -\n",
      "INFO:werkzeug:127.0.0.1 - - [09/Nov/2023 15:39:30] \"POST /completions HTTP/1.1\" 200 -\n",
      "INFO:werkzeug:127.0.0.1 - - [09/Nov/2023 15:39:30] \"POST /completions HTTP/1.1\" 200 -\n",
      "INFO:werkzeug:127.0.0.1 - - [09/Nov/2023 15:39:30] \"POST /completions HTTP/1.1\" 200 -\n",
      "INFO:werkzeug:127.0.0.1 - - [09/Nov/2023 15:39:30] \"POST /completions HTTP/1.1\" 200 -\n",
      "INFO:werkzeug:127.0.0.1 - - [09/Nov/2023 15:39:30] \"POST /completions HTTP/1.1\" 200 -\n",
      "INFO:werkzeug:127.0.0.1 - - [09/Nov/2023 15:39:30] \"POST /completions HTTP/1.1\" 200 -\n",
      "INFO:werkzeug:127.0.0.1 - - [09/Nov/2023 15:39:30] \"POST /completions HTTP/1.1\" 200 -\n",
      "INFO:werkzeug:127.0.0.1 - - [09/Nov/2023 15:39:30] \"POST /completions HTTP/1.1\" 200 -\n",
      "INFO:werkzeug:127.0.0.1 - - [09/Nov/2023 15:39:30] \"POST /completions HTTP/1.1\" 200 -\n",
      "INFO:werkzeug:127.0.0.1 - - [09/Nov/2023 15:39:30] \"POST /completions HTTP/1.1\" 200 -\n",
      "INFO:werkzeug:127.0.0.1 - - [09/Nov/2023 15:39:30] \"POST /completions HTTP/1.1\" 200 -\n",
      "INFO:werkzeug:127.0.0.1 - - [09/Nov/2023 15:39:30] \"POST /completions HTTP/1.1\" 200 -\n",
      "INFO:werkzeug:127.0.0.1 - - [09/Nov/2023 15:39:30] \"POST /completions HTTP/1.1\" 200 -\n",
      "INFO:werkzeug:127.0.0.1 - - [09/Nov/2023 15:39:30] \"POST /completions HTTP/1.1\" 200 -\n",
      "INFO:werkzeug:127.0.0.1 - - [09/Nov/2023 15:39:30] \"POST /completions HTTP/1.1\" 200 -\n",
      "INFO:werkzeug:127.0.0.1 - - [09/Nov/2023 15:39:30] \"POST /completions HTTP/1.1\" 200 -\n",
      "INFO:werkzeug:127.0.0.1 - - [09/Nov/2023 15:39:30] \"POST /completions HTTP/1.1\" 200 -\n",
      "INFO:werkzeug:127.0.0.1 - - [09/Nov/2023 15:39:30] \"POST /completions HTTP/1.1\" 200 -\n",
      "INFO:werkzeug:127.0.0.1 - - [09/Nov/2023 15:39:30] \"POST /completions HTTP/1.1\" 200 -\n",
      "INFO:werkzeug:127.0.0.1 - - [09/Nov/2023 15:39:30] \"POST /completions HTTP/1.1\" 200 -\n",
      "INFO:werkzeug:127.0.0.1 - - [09/Nov/2023 15:39:30] \"POST /completions HTTP/1.1\" 200 -\n",
      "INFO:werkzeug:127.0.0.1 - - [09/Nov/2023 15:39:30] \"POST /completions HTTP/1.1\" 200 -\n",
      "INFO:werkzeug:127.0.0.1 - - [09/Nov/2023 15:39:30] \"POST /completions HTTP/1.1\" 200 -\n",
      "INFO:werkzeug:127.0.0.1 - - [09/Nov/2023 15:39:30] \"POST /completions HTTP/1.1\" 200 -\n",
      "INFO:werkzeug:127.0.0.1 - - [09/Nov/2023 15:39:30] \"POST /completions HTTP/1.1\" 200 -\n",
      "INFO:werkzeug:127.0.0.1 - - [09/Nov/2023 15:39:30] \"POST /completions HTTP/1.1\" 200 -\n",
      "INFO:werkzeug:127.0.0.1 - - [09/Nov/2023 15:39:30] \"POST /completions HTTP/1.1\" 200 -\n",
      "INFO:werkzeug:127.0.0.1 - - [09/Nov/2023 15:39:30] \"POST /completions HTTP/1.1\" 200 -\n",
      "INFO:werkzeug:127.0.0.1 - - [09/Nov/2023 15:39:30] \"POST /completions HTTP/1.1\" 200 -\n",
      "INFO:werkzeug:127.0.0.1 - - [09/Nov/2023 15:39:30] \"POST /completions HTTP/1.1\" 200 -\n"
     ]
    },
    {
     "name": "stdout",
     "output_type": "stream",
     "text": [
      "flushing 0.7 0\n"
     ]
    },
    {
     "name": "stderr",
     "output_type": "stream",
     "text": [
      "INFO:werkzeug:127.0.0.1 - - [09/Nov/2023 15:39:44] \"POST /completions HTTP/1.1\" 200 -\n",
      "INFO:werkzeug:127.0.0.1 - - [09/Nov/2023 15:39:44] \"POST /completions HTTP/1.1\" 200 -\n",
      "INFO:werkzeug:127.0.0.1 - - [09/Nov/2023 15:39:44] \"POST /completions HTTP/1.1\" 200 -\n",
      "INFO:werkzeug:127.0.0.1 - - [09/Nov/2023 15:39:44] \"POST /completions HTTP/1.1\" 200 -\n",
      "INFO:werkzeug:127.0.0.1 - - [09/Nov/2023 15:39:44] \"POST /completions HTTP/1.1\" 200 -\n",
      "INFO:werkzeug:127.0.0.1 - - [09/Nov/2023 15:39:44] \"POST /completions HTTP/1.1\" 200 -\n",
      "INFO:werkzeug:127.0.0.1 - - [09/Nov/2023 15:39:44] \"POST /completions HTTP/1.1\" 200 -\n",
      "INFO:werkzeug:127.0.0.1 - - [09/Nov/2023 15:39:44] \"POST /completions HTTP/1.1\" 200 -\n",
      "INFO:werkzeug:127.0.0.1 - - [09/Nov/2023 15:39:44] \"POST /completions HTTP/1.1\" 200 -\n",
      "INFO:werkzeug:127.0.0.1 - - [09/Nov/2023 15:39:44] \"POST /completions HTTP/1.1\" 200 -\n",
      "INFO:werkzeug:127.0.0.1 - - [09/Nov/2023 15:39:44] \"POST /completions HTTP/1.1\" 200 -\n",
      "INFO:werkzeug:127.0.0.1 - - [09/Nov/2023 15:39:44] \"POST /completions HTTP/1.1\" 200 -\n",
      "INFO:werkzeug:127.0.0.1 - - [09/Nov/2023 15:39:44] \"POST /completions HTTP/1.1\" 200 -\n",
      "INFO:werkzeug:127.0.0.1 - - [09/Nov/2023 15:39:44] \"POST /completions HTTP/1.1\" 200 -\n",
      "INFO:werkzeug:127.0.0.1 - - [09/Nov/2023 15:39:44] \"POST /completions HTTP/1.1\" 200 -\n",
      "INFO:werkzeug:127.0.0.1 - - [09/Nov/2023 15:39:44] \"POST /completions HTTP/1.1\" 200 -\n",
      "INFO:werkzeug:127.0.0.1 - - [09/Nov/2023 15:39:44] \"POST /completions HTTP/1.1\" 200 -\n",
      "INFO:werkzeug:127.0.0.1 - - [09/Nov/2023 15:39:44] \"POST /completions HTTP/1.1\" 200 -\n",
      "INFO:werkzeug:127.0.0.1 - - [09/Nov/2023 15:39:44] \"POST /completions HTTP/1.1\" 200 -\n",
      "INFO:werkzeug:127.0.0.1 - - [09/Nov/2023 15:39:44] \"POST /completions HTTP/1.1\" 200 -\n",
      "INFO:werkzeug:127.0.0.1 - - [09/Nov/2023 15:39:44] \"POST /completions HTTP/1.1\" 200 -\n",
      "INFO:werkzeug:127.0.0.1 - - [09/Nov/2023 15:39:44] \"POST /completions HTTP/1.1\" 200 -\n",
      "INFO:werkzeug:127.0.0.1 - - [09/Nov/2023 15:39:44] \"POST /completions HTTP/1.1\" 200 -\n",
      "INFO:werkzeug:127.0.0.1 - - [09/Nov/2023 15:39:44] \"POST /completions HTTP/1.1\" 200 -\n",
      "INFO:werkzeug:127.0.0.1 - - [09/Nov/2023 15:39:44] \"POST /completions HTTP/1.1\" 200 -\n",
      "INFO:werkzeug:127.0.0.1 - - [09/Nov/2023 15:39:44] \"POST /completions HTTP/1.1\" 200 -\n",
      "INFO:werkzeug:127.0.0.1 - - [09/Nov/2023 15:39:44] \"POST /completions HTTP/1.1\" 200 -\n",
      "INFO:werkzeug:127.0.0.1 - - [09/Nov/2023 15:39:44] \"POST /completions HTTP/1.1\" 200 -\n",
      "INFO:werkzeug:127.0.0.1 - - [09/Nov/2023 15:39:44] \"POST /completions HTTP/1.1\" 200 -\n",
      "INFO:werkzeug:127.0.0.1 - - [09/Nov/2023 15:39:44] \"POST /completions HTTP/1.1\" 200 -\n",
      "INFO:werkzeug:127.0.0.1 - - [09/Nov/2023 15:39:44] \"POST /completions HTTP/1.1\" 200 -\n",
      "INFO:werkzeug:127.0.0.1 - - [09/Nov/2023 15:39:44] \"POST /completions HTTP/1.1\" 200 -\n"
     ]
    },
    {
     "name": "stdout",
     "output_type": "stream",
     "text": [
      "flushing 0.7 0\n"
     ]
    },
    {
     "name": "stderr",
     "output_type": "stream",
     "text": [
      "INFO:werkzeug:127.0.0.1 - - [09/Nov/2023 15:39:54] \"POST /completions HTTP/1.1\" 200 -\n",
      "INFO:werkzeug:127.0.0.1 - - [09/Nov/2023 15:39:54] \"POST /completions HTTP/1.1\" 200 -\n",
      "INFO:werkzeug:127.0.0.1 - - [09/Nov/2023 15:39:54] \"POST /completions HTTP/1.1\" 200 -\n",
      "INFO:werkzeug:127.0.0.1 - - [09/Nov/2023 15:39:54] \"POST /completions HTTP/1.1\" 200 -\n",
      "INFO:werkzeug:127.0.0.1 - - [09/Nov/2023 15:39:54] \"POST /completions HTTP/1.1\" 200 -\n",
      "INFO:werkzeug:127.0.0.1 - - [09/Nov/2023 15:39:54] \"POST /completions HTTP/1.1\" 200 -\n",
      "INFO:werkzeug:127.0.0.1 - - [09/Nov/2023 15:39:54] \"POST /completions HTTP/1.1\" 200 -\n",
      "INFO:werkzeug:127.0.0.1 - - [09/Nov/2023 15:39:54] \"POST /completions HTTP/1.1\" 200 -\n",
      "INFO:werkzeug:127.0.0.1 - - [09/Nov/2023 15:39:54] \"POST /completions HTTP/1.1\" 200 -\n",
      "INFO:werkzeug:127.0.0.1 - - [09/Nov/2023 15:39:54] \"POST /completions HTTP/1.1\" 200 -\n",
      "INFO:werkzeug:127.0.0.1 - - [09/Nov/2023 15:39:54] \"POST /completions HTTP/1.1\" 200 -\n",
      "INFO:werkzeug:127.0.0.1 - - [09/Nov/2023 15:39:54] \"POST /completions HTTP/1.1\" 200 -\n",
      "INFO:werkzeug:127.0.0.1 - - [09/Nov/2023 15:39:54] \"POST /completions HTTP/1.1\" 200 -\n",
      "INFO:werkzeug:127.0.0.1 - - [09/Nov/2023 15:39:54] \"POST /completions HTTP/1.1\" 200 -\n",
      "INFO:werkzeug:127.0.0.1 - - [09/Nov/2023 15:39:54] \"POST /completions HTTP/1.1\" 200 -\n",
      "INFO:werkzeug:127.0.0.1 - - [09/Nov/2023 15:39:54] \"POST /completions HTTP/1.1\" 200 -\n",
      "INFO:werkzeug:127.0.0.1 - - [09/Nov/2023 15:39:54] \"POST /completions HTTP/1.1\" 200 -\n",
      "INFO:werkzeug:127.0.0.1 - - [09/Nov/2023 15:39:54] \"POST /completions HTTP/1.1\" 200 -\n",
      "INFO:werkzeug:127.0.0.1 - - [09/Nov/2023 15:39:54] \"POST /completions HTTP/1.1\" 200 -\n",
      "INFO:werkzeug:127.0.0.1 - - [09/Nov/2023 15:39:54] \"POST /completions HTTP/1.1\" 200 -\n",
      "INFO:werkzeug:127.0.0.1 - - [09/Nov/2023 15:39:54] \"POST /completions HTTP/1.1\" 200 -\n",
      "INFO:werkzeug:127.0.0.1 - - [09/Nov/2023 15:39:54] \"POST /completions HTTP/1.1\" 200 -\n",
      "INFO:werkzeug:127.0.0.1 - - [09/Nov/2023 15:39:54] \"POST /completions HTTP/1.1\" 200 -\n",
      "INFO:werkzeug:127.0.0.1 - - [09/Nov/2023 15:39:54] \"POST /completions HTTP/1.1\" 200 -\n",
      "INFO:werkzeug:127.0.0.1 - - [09/Nov/2023 15:39:54] \"POST /completions HTTP/1.1\" 200 -\n",
      "INFO:werkzeug:127.0.0.1 - - [09/Nov/2023 15:39:54] \"POST /completions HTTP/1.1\" 200 -\n",
      "INFO:werkzeug:127.0.0.1 - - [09/Nov/2023 15:39:54] \"POST /completions HTTP/1.1\" 200 -\n",
      "INFO:werkzeug:127.0.0.1 - - [09/Nov/2023 15:39:54] \"POST /completions HTTP/1.1\" 200 -\n",
      "INFO:werkzeug:127.0.0.1 - - [09/Nov/2023 15:39:54] \"POST /completions HTTP/1.1\" 200 -\n",
      "INFO:werkzeug:127.0.0.1 - - [09/Nov/2023 15:39:54] \"POST /completions HTTP/1.1\" 200 -\n",
      "INFO:werkzeug:127.0.0.1 - - [09/Nov/2023 15:39:54] \"POST /completions HTTP/1.1\" 200 -\n",
      "INFO:werkzeug:127.0.0.1 - - [09/Nov/2023 15:39:54] \"POST /completions HTTP/1.1\" 200 -\n"
     ]
    },
    {
     "name": "stdout",
     "output_type": "stream",
     "text": [
      "flushing 0.7 0\n"
     ]
    },
    {
     "name": "stderr",
     "output_type": "stream",
     "text": [
      "INFO:werkzeug:127.0.0.1 - - [09/Nov/2023 15:40:06] \"POST /completions HTTP/1.1\" 200 -\n",
      "INFO:werkzeug:127.0.0.1 - - [09/Nov/2023 15:40:06] \"POST /completions HTTP/1.1\" 200 -\n",
      "INFO:werkzeug:127.0.0.1 - - [09/Nov/2023 15:40:06] \"POST /completions HTTP/1.1\" 200 -\n",
      "INFO:werkzeug:127.0.0.1 - - [09/Nov/2023 15:40:06] \"POST /completions HTTP/1.1\" 200 -\n",
      "INFO:werkzeug:127.0.0.1 - - [09/Nov/2023 15:40:06] \"POST /completions HTTP/1.1\" 200 -\n",
      "INFO:werkzeug:127.0.0.1 - - [09/Nov/2023 15:40:06] \"POST /completions HTTP/1.1\" 200 -\n",
      "INFO:werkzeug:127.0.0.1 - - [09/Nov/2023 15:40:06] \"POST /completions HTTP/1.1\" 200 -\n",
      "INFO:werkzeug:127.0.0.1 - - [09/Nov/2023 15:40:06] \"POST /completions HTTP/1.1\" 200 -\n",
      "INFO:werkzeug:127.0.0.1 - - [09/Nov/2023 15:40:06] \"POST /completions HTTP/1.1\" 200 -\n",
      "INFO:werkzeug:127.0.0.1 - - [09/Nov/2023 15:40:06] \"POST /completions HTTP/1.1\" 200 -\n",
      "INFO:werkzeug:127.0.0.1 - - [09/Nov/2023 15:40:06] \"POST /completions HTTP/1.1\" 200 -\n",
      "INFO:werkzeug:127.0.0.1 - - [09/Nov/2023 15:40:06] \"POST /completions HTTP/1.1\" 200 -\n",
      "INFO:werkzeug:127.0.0.1 - - [09/Nov/2023 15:40:06] \"POST /completions HTTP/1.1\" 200 -\n",
      "INFO:werkzeug:127.0.0.1 - - [09/Nov/2023 15:40:06] \"POST /completions HTTP/1.1\" 200 -\n",
      "INFO:werkzeug:127.0.0.1 - - [09/Nov/2023 15:40:06] \"POST /completions HTTP/1.1\" 200 -\n",
      "INFO:werkzeug:127.0.0.1 - - [09/Nov/2023 15:40:06] \"POST /completions HTTP/1.1\" 200 -\n",
      "INFO:werkzeug:127.0.0.1 - - [09/Nov/2023 15:40:06] \"POST /completions HTTP/1.1\" 200 -\n",
      "INFO:werkzeug:127.0.0.1 - - [09/Nov/2023 15:40:06] \"POST /completions HTTP/1.1\" 200 -\n",
      "INFO:werkzeug:127.0.0.1 - - [09/Nov/2023 15:40:06] \"POST /completions HTTP/1.1\" 200 -\n",
      "INFO:werkzeug:127.0.0.1 - - [09/Nov/2023 15:40:06] \"POST /completions HTTP/1.1\" 200 -\n",
      "INFO:werkzeug:127.0.0.1 - - [09/Nov/2023 15:40:06] \"POST /completions HTTP/1.1\" 200 -\n",
      "INFO:werkzeug:127.0.0.1 - - [09/Nov/2023 15:40:06] \"POST /completions HTTP/1.1\" 200 -\n",
      "INFO:werkzeug:127.0.0.1 - - [09/Nov/2023 15:40:06] \"POST /completions HTTP/1.1\" 200 -\n",
      "INFO:werkzeug:127.0.0.1 - - [09/Nov/2023 15:40:06] \"POST /completions HTTP/1.1\" 200 -\n",
      "INFO:werkzeug:127.0.0.1 - - [09/Nov/2023 15:40:06] \"POST /completions HTTP/1.1\" 200 -\n",
      "INFO:werkzeug:127.0.0.1 - - [09/Nov/2023 15:40:06] \"POST /completions HTTP/1.1\" 200 -\n",
      "INFO:werkzeug:127.0.0.1 - - [09/Nov/2023 15:40:06] \"POST /completions HTTP/1.1\" 200 -\n",
      "INFO:werkzeug:127.0.0.1 - - [09/Nov/2023 15:40:06] \"POST /completions HTTP/1.1\" 200 -\n",
      "INFO:werkzeug:127.0.0.1 - - [09/Nov/2023 15:40:06] \"POST /completions HTTP/1.1\" 200 -\n",
      "INFO:werkzeug:127.0.0.1 - - [09/Nov/2023 15:40:06] \"POST /completions HTTP/1.1\" 200 -\n",
      "INFO:werkzeug:127.0.0.1 - - [09/Nov/2023 15:40:06] \"POST /completions HTTP/1.1\" 200 -\n",
      "INFO:werkzeug:127.0.0.1 - - [09/Nov/2023 15:40:06] \"POST /completions HTTP/1.1\" 200 -\n"
     ]
    },
    {
     "name": "stdout",
     "output_type": "stream",
     "text": [
      "flushing 0.7 0\n"
     ]
    },
    {
     "name": "stderr",
     "output_type": "stream",
     "text": [
      "INFO:werkzeug:127.0.0.1 - - [09/Nov/2023 15:40:18] \"POST /completions HTTP/1.1\" 200 -\n",
      "INFO:werkzeug:127.0.0.1 - - [09/Nov/2023 15:40:18] \"POST /completions HTTP/1.1\" 200 -\n",
      "INFO:werkzeug:127.0.0.1 - - [09/Nov/2023 15:40:18] \"POST /completions HTTP/1.1\" 200 -\n",
      "INFO:werkzeug:127.0.0.1 - - [09/Nov/2023 15:40:18] \"POST /completions HTTP/1.1\" 200 -\n",
      "INFO:werkzeug:127.0.0.1 - - [09/Nov/2023 15:40:18] \"POST /completions HTTP/1.1\" 200 -\n",
      "INFO:werkzeug:127.0.0.1 - - [09/Nov/2023 15:40:18] \"POST /completions HTTP/1.1\" 200 -\n",
      "INFO:werkzeug:127.0.0.1 - - [09/Nov/2023 15:40:18] \"POST /completions HTTP/1.1\" 200 -\n",
      "INFO:werkzeug:127.0.0.1 - - [09/Nov/2023 15:40:18] \"POST /completions HTTP/1.1\" 200 -\n",
      "INFO:werkzeug:127.0.0.1 - - [09/Nov/2023 15:40:18] \"POST /completions HTTP/1.1\" 200 -\n",
      "INFO:werkzeug:127.0.0.1 - - [09/Nov/2023 15:40:18] \"POST /completions HTTP/1.1\" 200 -\n",
      "INFO:werkzeug:127.0.0.1 - - [09/Nov/2023 15:40:18] \"POST /completions HTTP/1.1\" 200 -\n",
      "INFO:werkzeug:127.0.0.1 - - [09/Nov/2023 15:40:18] \"POST /completions HTTP/1.1\" 200 -\n",
      "INFO:werkzeug:127.0.0.1 - - [09/Nov/2023 15:40:18] \"POST /completions HTTP/1.1\" 200 -\n",
      "INFO:werkzeug:127.0.0.1 - - [09/Nov/2023 15:40:18] \"POST /completions HTTP/1.1\" 200 -\n",
      "INFO:werkzeug:127.0.0.1 - - [09/Nov/2023 15:40:18] \"POST /completions HTTP/1.1\" 200 -\n",
      "INFO:werkzeug:127.0.0.1 - - [09/Nov/2023 15:40:18] \"POST /completions HTTP/1.1\" 200 -\n",
      "INFO:werkzeug:127.0.0.1 - - [09/Nov/2023 15:40:18] \"POST /completions HTTP/1.1\" 200 -\n",
      "INFO:werkzeug:127.0.0.1 - - [09/Nov/2023 15:40:18] \"POST /completions HTTP/1.1\" 200 -\n",
      "INFO:werkzeug:127.0.0.1 - - [09/Nov/2023 15:40:18] \"POST /completions HTTP/1.1\" 200 -\n",
      "INFO:werkzeug:127.0.0.1 - - [09/Nov/2023 15:40:18] \"POST /completions HTTP/1.1\" 200 -\n",
      "INFO:werkzeug:127.0.0.1 - - [09/Nov/2023 15:40:18] \"POST /completions HTTP/1.1\" 200 -\n",
      "INFO:werkzeug:127.0.0.1 - - [09/Nov/2023 15:40:18] \"POST /completions HTTP/1.1\" 200 -\n",
      "INFO:werkzeug:127.0.0.1 - - [09/Nov/2023 15:40:18] \"POST /completions HTTP/1.1\" 200 -\n",
      "INFO:werkzeug:127.0.0.1 - - [09/Nov/2023 15:40:18] \"POST /completions HTTP/1.1\" 200 -\n",
      "INFO:werkzeug:127.0.0.1 - - [09/Nov/2023 15:40:18] \"POST /completions HTTP/1.1\" 200 -\n",
      "INFO:werkzeug:127.0.0.1 - - [09/Nov/2023 15:40:18] \"POST /completions HTTP/1.1\" 200 -\n",
      "INFO:werkzeug:127.0.0.1 - - [09/Nov/2023 15:40:18] \"POST /completions HTTP/1.1\" 200 -\n",
      "INFO:werkzeug:127.0.0.1 - - [09/Nov/2023 15:40:18] \"POST /completions HTTP/1.1\" 200 -\n",
      "INFO:werkzeug:127.0.0.1 - - [09/Nov/2023 15:40:18] \"POST /completions HTTP/1.1\" 200 -\n",
      "INFO:werkzeug:127.0.0.1 - - [09/Nov/2023 15:40:18] \"POST /completions HTTP/1.1\" 200 -\n",
      "INFO:werkzeug:127.0.0.1 - - [09/Nov/2023 15:40:18] \"POST /completions HTTP/1.1\" 200 -\n",
      "INFO:werkzeug:127.0.0.1 - - [09/Nov/2023 15:40:18] \"POST /completions HTTP/1.1\" 200 -\n"
     ]
    },
    {
     "name": "stdout",
     "output_type": "stream",
     "text": [
      "flushing 0.7 0\n"
     ]
    },
    {
     "name": "stderr",
     "output_type": "stream",
     "text": [
      "INFO:werkzeug:127.0.0.1 - - [09/Nov/2023 15:40:28] \"POST /completions HTTP/1.1\" 200 -\n",
      "INFO:werkzeug:127.0.0.1 - - [09/Nov/2023 15:40:28] \"POST /completions HTTP/1.1\" 200 -\n",
      "INFO:werkzeug:127.0.0.1 - - [09/Nov/2023 15:40:28] \"POST /completions HTTP/1.1\" 200 -\n",
      "INFO:werkzeug:127.0.0.1 - - [09/Nov/2023 15:40:28] \"POST /completions HTTP/1.1\" 200 -\n",
      "INFO:werkzeug:127.0.0.1 - - [09/Nov/2023 15:40:28] \"POST /completions HTTP/1.1\" 200 -\n",
      "INFO:werkzeug:127.0.0.1 - - [09/Nov/2023 15:40:28] \"POST /completions HTTP/1.1\" 200 -\n",
      "INFO:werkzeug:127.0.0.1 - - [09/Nov/2023 15:40:28] \"POST /completions HTTP/1.1\" 200 -\n",
      "INFO:werkzeug:127.0.0.1 - - [09/Nov/2023 15:40:28] \"POST /completions HTTP/1.1\" 200 -\n",
      "INFO:werkzeug:127.0.0.1 - - [09/Nov/2023 15:40:28] \"POST /completions HTTP/1.1\" 200 -\n",
      "INFO:werkzeug:127.0.0.1 - - [09/Nov/2023 15:40:28] \"POST /completions HTTP/1.1\" 200 -\n",
      "INFO:werkzeug:127.0.0.1 - - [09/Nov/2023 15:40:28] \"POST /completions HTTP/1.1\" 200 -\n",
      "INFO:werkzeug:127.0.0.1 - - [09/Nov/2023 15:40:28] \"POST /completions HTTP/1.1\" 200 -\n",
      "INFO:werkzeug:127.0.0.1 - - [09/Nov/2023 15:40:28] \"POST /completions HTTP/1.1\" 200 -\n",
      "INFO:werkzeug:127.0.0.1 - - [09/Nov/2023 15:40:28] \"POST /completions HTTP/1.1\" 200 -\n",
      "INFO:werkzeug:127.0.0.1 - - [09/Nov/2023 15:40:28] \"POST /completions HTTP/1.1\" 200 -\n",
      "INFO:werkzeug:127.0.0.1 - - [09/Nov/2023 15:40:28] \"POST /completions HTTP/1.1\" 200 -\n",
      "INFO:werkzeug:127.0.0.1 - - [09/Nov/2023 15:40:28] \"POST /completions HTTP/1.1\" 200 -\n",
      "INFO:werkzeug:127.0.0.1 - - [09/Nov/2023 15:40:28] \"POST /completions HTTP/1.1\" 200 -\n",
      "INFO:werkzeug:127.0.0.1 - - [09/Nov/2023 15:40:28] \"POST /completions HTTP/1.1\" 200 -\n",
      "INFO:werkzeug:127.0.0.1 - - [09/Nov/2023 15:40:28] \"POST /completions HTTP/1.1\" 200 -\n",
      "INFO:werkzeug:127.0.0.1 - - [09/Nov/2023 15:40:28] \"POST /completions HTTP/1.1\" 200 -\n",
      "INFO:werkzeug:127.0.0.1 - - [09/Nov/2023 15:40:28] \"POST /completions HTTP/1.1\" 200 -\n",
      "INFO:werkzeug:127.0.0.1 - - [09/Nov/2023 15:40:28] \"POST /completions HTTP/1.1\" 200 -\n",
      "INFO:werkzeug:127.0.0.1 - - [09/Nov/2023 15:40:28] \"POST /completions HTTP/1.1\" 200 -\n",
      "INFO:werkzeug:127.0.0.1 - - [09/Nov/2023 15:40:28] \"POST /completions HTTP/1.1\" 200 -\n",
      "INFO:werkzeug:127.0.0.1 - - [09/Nov/2023 15:40:28] \"POST /completions HTTP/1.1\" 200 -\n",
      "INFO:werkzeug:127.0.0.1 - - [09/Nov/2023 15:40:28] \"POST /completions HTTP/1.1\" 200 -\n",
      "INFO:werkzeug:127.0.0.1 - - [09/Nov/2023 15:40:28] \"POST /completions HTTP/1.1\" 200 -\n",
      "INFO:werkzeug:127.0.0.1 - - [09/Nov/2023 15:40:28] \"POST /completions HTTP/1.1\" 200 -\n",
      "INFO:werkzeug:127.0.0.1 - - [09/Nov/2023 15:40:28] \"POST /completions HTTP/1.1\" 200 -\n",
      "INFO:werkzeug:127.0.0.1 - - [09/Nov/2023 15:40:28] \"POST /completions HTTP/1.1\" 200 -\n",
      "INFO:werkzeug:127.0.0.1 - - [09/Nov/2023 15:40:28] \"POST /completions HTTP/1.1\" 200 -\n"
     ]
    },
    {
     "name": "stdout",
     "output_type": "stream",
     "text": [
      "flushing 0.7 0\n"
     ]
    },
    {
     "name": "stderr",
     "output_type": "stream",
     "text": [
      "INFO:werkzeug:127.0.0.1 - - [09/Nov/2023 15:40:39] \"POST /completions HTTP/1.1\" 200 -\n",
      "INFO:werkzeug:127.0.0.1 - - [09/Nov/2023 15:40:39] \"POST /completions HTTP/1.1\" 200 -\n",
      "INFO:werkzeug:127.0.0.1 - - [09/Nov/2023 15:40:39] \"POST /completions HTTP/1.1\" 200 -\n",
      "INFO:werkzeug:127.0.0.1 - - [09/Nov/2023 15:40:39] \"POST /completions HTTP/1.1\" 200 -\n",
      "INFO:werkzeug:127.0.0.1 - - [09/Nov/2023 15:40:39] \"POST /completions HTTP/1.1\" 200 -\n",
      "INFO:werkzeug:127.0.0.1 - - [09/Nov/2023 15:40:39] \"POST /completions HTTP/1.1\" 200 -\n",
      "INFO:werkzeug:127.0.0.1 - - [09/Nov/2023 15:40:39] \"POST /completions HTTP/1.1\" 200 -\n",
      "INFO:werkzeug:127.0.0.1 - - [09/Nov/2023 15:40:39] \"POST /completions HTTP/1.1\" 200 -\n",
      "INFO:werkzeug:127.0.0.1 - - [09/Nov/2023 15:40:39] \"POST /completions HTTP/1.1\" 200 -\n",
      "INFO:werkzeug:127.0.0.1 - - [09/Nov/2023 15:40:39] \"POST /completions HTTP/1.1\" 200 -\n",
      "INFO:werkzeug:127.0.0.1 - - [09/Nov/2023 15:40:39] \"POST /completions HTTP/1.1\" 200 -\n",
      "INFO:werkzeug:127.0.0.1 - - [09/Nov/2023 15:40:39] \"POST /completions HTTP/1.1\" 200 -\n",
      "INFO:werkzeug:127.0.0.1 - - [09/Nov/2023 15:40:39] \"POST /completions HTTP/1.1\" 200 -\n",
      "INFO:werkzeug:127.0.0.1 - - [09/Nov/2023 15:40:39] \"POST /completions HTTP/1.1\" 200 -\n",
      "INFO:werkzeug:127.0.0.1 - - [09/Nov/2023 15:40:39] \"POST /completions HTTP/1.1\" 200 -\n",
      "INFO:werkzeug:127.0.0.1 - - [09/Nov/2023 15:40:39] \"POST /completions HTTP/1.1\" 200 -\n",
      "INFO:werkzeug:127.0.0.1 - - [09/Nov/2023 15:40:39] \"POST /completions HTTP/1.1\" 200 -\n",
      "INFO:werkzeug:127.0.0.1 - - [09/Nov/2023 15:40:39] \"POST /completions HTTP/1.1\" 200 -\n",
      "INFO:werkzeug:127.0.0.1 - - [09/Nov/2023 15:40:39] \"POST /completions HTTP/1.1\" 200 -\n",
      "INFO:werkzeug:127.0.0.1 - - [09/Nov/2023 15:40:39] \"POST /completions HTTP/1.1\" 200 -\n",
      "INFO:werkzeug:127.0.0.1 - - [09/Nov/2023 15:40:39] \"POST /completions HTTP/1.1\" 200 -\n",
      "INFO:werkzeug:127.0.0.1 - - [09/Nov/2023 15:40:39] \"POST /completions HTTP/1.1\" 200 -\n",
      "INFO:werkzeug:127.0.0.1 - - [09/Nov/2023 15:40:39] \"POST /completions HTTP/1.1\" 200 -\n",
      "INFO:werkzeug:127.0.0.1 - - [09/Nov/2023 15:40:39] \"POST /completions HTTP/1.1\" 200 -\n",
      "INFO:werkzeug:127.0.0.1 - - [09/Nov/2023 15:40:39] \"POST /completions HTTP/1.1\" 200 -\n",
      "INFO:werkzeug:127.0.0.1 - - [09/Nov/2023 15:40:39] \"POST /completions HTTP/1.1\" 200 -\n",
      "INFO:werkzeug:127.0.0.1 - - [09/Nov/2023 15:40:39] \"POST /completions HTTP/1.1\" 200 -\n",
      "INFO:werkzeug:127.0.0.1 - - [09/Nov/2023 15:40:39] \"POST /completions HTTP/1.1\" 200 -\n",
      "INFO:werkzeug:127.0.0.1 - - [09/Nov/2023 15:40:39] \"POST /completions HTTP/1.1\" 200 -\n",
      "INFO:werkzeug:127.0.0.1 - - [09/Nov/2023 15:40:39] \"POST /completions HTTP/1.1\" 200 -\n",
      "INFO:werkzeug:127.0.0.1 - - [09/Nov/2023 15:40:39] \"POST /completions HTTP/1.1\" 200 -\n",
      "INFO:werkzeug:127.0.0.1 - - [09/Nov/2023 15:40:39] \"POST /completions HTTP/1.1\" 200 -\n"
     ]
    },
    {
     "name": "stdout",
     "output_type": "stream",
     "text": [
      "flushing 0.7 0\n"
     ]
    },
    {
     "name": "stderr",
     "output_type": "stream",
     "text": [
      "INFO:werkzeug:127.0.0.1 - - [09/Nov/2023 15:40:48] \"POST /completions HTTP/1.1\" 200 -\n",
      "INFO:werkzeug:127.0.0.1 - - [09/Nov/2023 15:40:49] \"POST /completions HTTP/1.1\" 200 -\n",
      "INFO:werkzeug:127.0.0.1 - - [09/Nov/2023 15:40:49] \"POST /completions HTTP/1.1\" 200 -\n",
      "INFO:werkzeug:127.0.0.1 - - [09/Nov/2023 15:40:49] \"POST /completions HTTP/1.1\" 200 -\n",
      "INFO:werkzeug:127.0.0.1 - - [09/Nov/2023 15:40:49] \"POST /completions HTTP/1.1\" 200 -\n",
      "INFO:werkzeug:127.0.0.1 - - [09/Nov/2023 15:40:49] \"POST /completions HTTP/1.1\" 200 -\n",
      "INFO:werkzeug:127.0.0.1 - - [09/Nov/2023 15:40:49] \"POST /completions HTTP/1.1\" 200 -\n",
      "INFO:werkzeug:127.0.0.1 - - [09/Nov/2023 15:40:49] \"POST /completions HTTP/1.1\" 200 -\n",
      "INFO:werkzeug:127.0.0.1 - - [09/Nov/2023 15:40:49] \"POST /completions HTTP/1.1\" 200 -\n",
      "INFO:werkzeug:127.0.0.1 - - [09/Nov/2023 15:40:49] \"POST /completions HTTP/1.1\" 200 -\n",
      "INFO:werkzeug:127.0.0.1 - - [09/Nov/2023 15:40:49] \"POST /completions HTTP/1.1\" 200 -\n",
      "INFO:werkzeug:127.0.0.1 - - [09/Nov/2023 15:40:49] \"POST /completions HTTP/1.1\" 200 -\n",
      "INFO:werkzeug:127.0.0.1 - - [09/Nov/2023 15:40:49] \"POST /completions HTTP/1.1\" 200 -\n",
      "INFO:werkzeug:127.0.0.1 - - [09/Nov/2023 15:40:49] \"POST /completions HTTP/1.1\" 200 -\n",
      "INFO:werkzeug:127.0.0.1 - - [09/Nov/2023 15:40:49] \"POST /completions HTTP/1.1\" 200 -\n",
      "INFO:werkzeug:127.0.0.1 - - [09/Nov/2023 15:40:49] \"POST /completions HTTP/1.1\" 200 -\n",
      "INFO:werkzeug:127.0.0.1 - - [09/Nov/2023 15:40:49] \"POST /completions HTTP/1.1\" 200 -\n",
      "INFO:werkzeug:127.0.0.1 - - [09/Nov/2023 15:40:49] \"POST /completions HTTP/1.1\" 200 -\n",
      "INFO:werkzeug:127.0.0.1 - - [09/Nov/2023 15:40:49] \"POST /completions HTTP/1.1\" 200 -\n",
      "INFO:werkzeug:127.0.0.1 - - [09/Nov/2023 15:40:49] \"POST /completions HTTP/1.1\" 200 -\n",
      "INFO:werkzeug:127.0.0.1 - - [09/Nov/2023 15:40:49] \"POST /completions HTTP/1.1\" 200 -\n",
      "INFO:werkzeug:127.0.0.1 - - [09/Nov/2023 15:40:49] \"POST /completions HTTP/1.1\" 200 -\n",
      "INFO:werkzeug:127.0.0.1 - - [09/Nov/2023 15:40:49] \"POST /completions HTTP/1.1\" 200 -\n",
      "INFO:werkzeug:127.0.0.1 - - [09/Nov/2023 15:40:49] \"POST /completions HTTP/1.1\" 200 -\n",
      "INFO:werkzeug:127.0.0.1 - - [09/Nov/2023 15:40:49] \"POST /completions HTTP/1.1\" 200 -\n",
      "INFO:werkzeug:127.0.0.1 - - [09/Nov/2023 15:40:49] \"POST /completions HTTP/1.1\" 200 -\n",
      "INFO:werkzeug:127.0.0.1 - - [09/Nov/2023 15:40:49] \"POST /completions HTTP/1.1\" 200 -\n",
      "INFO:werkzeug:127.0.0.1 - - [09/Nov/2023 15:40:49] \"POST /completions HTTP/1.1\" 200 -\n",
      "INFO:werkzeug:127.0.0.1 - - [09/Nov/2023 15:40:49] \"POST /completions HTTP/1.1\" 200 -\n",
      "INFO:werkzeug:127.0.0.1 - - [09/Nov/2023 15:40:49] \"POST /completions HTTP/1.1\" 200 -\n",
      "INFO:werkzeug:127.0.0.1 - - [09/Nov/2023 15:40:49] \"POST /completions HTTP/1.1\" 200 -\n",
      "INFO:werkzeug:127.0.0.1 - - [09/Nov/2023 15:40:49] \"POST /completions HTTP/1.1\" 200 -\n"
     ]
    },
    {
     "name": "stdout",
     "output_type": "stream",
     "text": [
      "flushing 0.7 0\n"
     ]
    },
    {
     "name": "stderr",
     "output_type": "stream",
     "text": [
      "INFO:werkzeug:127.0.0.1 - - [09/Nov/2023 15:40:59] \"POST /completions HTTP/1.1\" 200 -\n",
      "INFO:werkzeug:127.0.0.1 - - [09/Nov/2023 15:40:59] \"POST /completions HTTP/1.1\" 200 -\n",
      "INFO:werkzeug:127.0.0.1 - - [09/Nov/2023 15:40:59] \"POST /completions HTTP/1.1\" 200 -\n",
      "INFO:werkzeug:127.0.0.1 - - [09/Nov/2023 15:40:59] \"POST /completions HTTP/1.1\" 200 -\n",
      "INFO:werkzeug:127.0.0.1 - - [09/Nov/2023 15:40:59] \"POST /completions HTTP/1.1\" 200 -\n",
      "INFO:werkzeug:127.0.0.1 - - [09/Nov/2023 15:40:59] \"POST /completions HTTP/1.1\" 200 -\n",
      "INFO:werkzeug:127.0.0.1 - - [09/Nov/2023 15:40:59] \"POST /completions HTTP/1.1\" 200 -\n",
      "INFO:werkzeug:127.0.0.1 - - [09/Nov/2023 15:40:59] \"POST /completions HTTP/1.1\" 200 -\n",
      "INFO:werkzeug:127.0.0.1 - - [09/Nov/2023 15:40:59] \"POST /completions HTTP/1.1\" 200 -\n",
      "INFO:werkzeug:127.0.0.1 - - [09/Nov/2023 15:40:59] \"POST /completions HTTP/1.1\" 200 -\n",
      "INFO:werkzeug:127.0.0.1 - - [09/Nov/2023 15:40:59] \"POST /completions HTTP/1.1\" 200 -\n",
      "INFO:werkzeug:127.0.0.1 - - [09/Nov/2023 15:40:59] \"POST /completions HTTP/1.1\" 200 -\n",
      "INFO:werkzeug:127.0.0.1 - - [09/Nov/2023 15:40:59] \"POST /completions HTTP/1.1\" 200 -\n",
      "INFO:werkzeug:127.0.0.1 - - [09/Nov/2023 15:40:59] \"POST /completions HTTP/1.1\" 200 -\n",
      "INFO:werkzeug:127.0.0.1 - - [09/Nov/2023 15:40:59] \"POST /completions HTTP/1.1\" 200 -\n",
      "INFO:werkzeug:127.0.0.1 - - [09/Nov/2023 15:40:59] \"POST /completions HTTP/1.1\" 200 -\n",
      "INFO:werkzeug:127.0.0.1 - - [09/Nov/2023 15:40:59] \"POST /completions HTTP/1.1\" 200 -\n",
      "INFO:werkzeug:127.0.0.1 - - [09/Nov/2023 15:40:59] \"POST /completions HTTP/1.1\" 200 -\n",
      "INFO:werkzeug:127.0.0.1 - - [09/Nov/2023 15:40:59] \"POST /completions HTTP/1.1\" 200 -\n",
      "INFO:werkzeug:127.0.0.1 - - [09/Nov/2023 15:40:59] \"POST /completions HTTP/1.1\" 200 -\n",
      "INFO:werkzeug:127.0.0.1 - - [09/Nov/2023 15:40:59] \"POST /completions HTTP/1.1\" 200 -\n",
      "INFO:werkzeug:127.0.0.1 - - [09/Nov/2023 15:40:59] \"POST /completions HTTP/1.1\" 200 -\n",
      "INFO:werkzeug:127.0.0.1 - - [09/Nov/2023 15:40:59] \"POST /completions HTTP/1.1\" 200 -\n",
      "INFO:werkzeug:127.0.0.1 - - [09/Nov/2023 15:40:59] \"POST /completions HTTP/1.1\" 200 -\n",
      "INFO:werkzeug:127.0.0.1 - - [09/Nov/2023 15:40:59] \"POST /completions HTTP/1.1\" 200 -\n",
      "INFO:werkzeug:127.0.0.1 - - [09/Nov/2023 15:40:59] \"POST /completions HTTP/1.1\" 200 -\n",
      "INFO:werkzeug:127.0.0.1 - - [09/Nov/2023 15:40:59] \"POST /completions HTTP/1.1\" 200 -\n",
      "INFO:werkzeug:127.0.0.1 - - [09/Nov/2023 15:40:59] \"POST /completions HTTP/1.1\" 200 -\n",
      "INFO:werkzeug:127.0.0.1 - - [09/Nov/2023 15:40:59] \"POST /completions HTTP/1.1\" 200 -\n",
      "INFO:werkzeug:127.0.0.1 - - [09/Nov/2023 15:40:59] \"POST /completions HTTP/1.1\" 200 -\n",
      "INFO:werkzeug:127.0.0.1 - - [09/Nov/2023 15:40:59] \"POST /completions HTTP/1.1\" 200 -\n",
      "INFO:werkzeug:127.0.0.1 - - [09/Nov/2023 15:40:59] \"POST /completions HTTP/1.1\" 200 -\n"
     ]
    },
    {
     "name": "stdout",
     "output_type": "stream",
     "text": [
      "flushing 0.7 0\n"
     ]
    },
    {
     "name": "stderr",
     "output_type": "stream",
     "text": [
      "INFO:werkzeug:127.0.0.1 - - [09/Nov/2023 15:41:09] \"POST /completions HTTP/1.1\" 200 -\n",
      "INFO:werkzeug:127.0.0.1 - - [09/Nov/2023 15:41:09] \"POST /completions HTTP/1.1\" 200 -\n",
      "INFO:werkzeug:127.0.0.1 - - [09/Nov/2023 15:41:09] \"POST /completions HTTP/1.1\" 200 -\n",
      "INFO:werkzeug:127.0.0.1 - - [09/Nov/2023 15:41:09] \"POST /completions HTTP/1.1\" 200 -\n",
      "INFO:werkzeug:127.0.0.1 - - [09/Nov/2023 15:41:09] \"POST /completions HTTP/1.1\" 200 -\n",
      "INFO:werkzeug:127.0.0.1 - - [09/Nov/2023 15:41:09] \"POST /completions HTTP/1.1\" 200 -\n",
      "INFO:werkzeug:127.0.0.1 - - [09/Nov/2023 15:41:09] \"POST /completions HTTP/1.1\" 200 -\n",
      "INFO:werkzeug:127.0.0.1 - - [09/Nov/2023 15:41:09] \"POST /completions HTTP/1.1\" 200 -\n",
      "INFO:werkzeug:127.0.0.1 - - [09/Nov/2023 15:41:09] \"POST /completions HTTP/1.1\" 200 -\n",
      "INFO:werkzeug:127.0.0.1 - - [09/Nov/2023 15:41:09] \"POST /completions HTTP/1.1\" 200 -\n",
      "INFO:werkzeug:127.0.0.1 - - [09/Nov/2023 15:41:09] \"POST /completions HTTP/1.1\" 200 -\n",
      "INFO:werkzeug:127.0.0.1 - - [09/Nov/2023 15:41:09] \"POST /completions HTTP/1.1\" 200 -\n",
      "INFO:werkzeug:127.0.0.1 - - [09/Nov/2023 15:41:09] \"POST /completions HTTP/1.1\" 200 -\n",
      "INFO:werkzeug:127.0.0.1 - - [09/Nov/2023 15:41:09] \"POST /completions HTTP/1.1\" 200 -\n",
      "INFO:werkzeug:127.0.0.1 - - [09/Nov/2023 15:41:09] \"POST /completions HTTP/1.1\" 200 -\n",
      "INFO:werkzeug:127.0.0.1 - - [09/Nov/2023 15:41:09] \"POST /completions HTTP/1.1\" 200 -\n",
      "INFO:werkzeug:127.0.0.1 - - [09/Nov/2023 15:41:09] \"POST /completions HTTP/1.1\" 200 -\n",
      "INFO:werkzeug:127.0.0.1 - - [09/Nov/2023 15:41:09] \"POST /completions HTTP/1.1\" 200 -\n",
      "INFO:werkzeug:127.0.0.1 - - [09/Nov/2023 15:41:09] \"POST /completions HTTP/1.1\" 200 -\n",
      "INFO:werkzeug:127.0.0.1 - - [09/Nov/2023 15:41:09] \"POST /completions HTTP/1.1\" 200 -\n",
      "INFO:werkzeug:127.0.0.1 - - [09/Nov/2023 15:41:09] \"POST /completions HTTP/1.1\" 200 -\n",
      "INFO:werkzeug:127.0.0.1 - - [09/Nov/2023 15:41:09] \"POST /completions HTTP/1.1\" 200 -\n",
      "INFO:werkzeug:127.0.0.1 - - [09/Nov/2023 15:41:09] \"POST /completions HTTP/1.1\" 200 -\n",
      "INFO:werkzeug:127.0.0.1 - - [09/Nov/2023 15:41:09] \"POST /completions HTTP/1.1\" 200 -\n",
      "INFO:werkzeug:127.0.0.1 - - [09/Nov/2023 15:41:09] \"POST /completions HTTP/1.1\" 200 -\n",
      "INFO:werkzeug:127.0.0.1 - - [09/Nov/2023 15:41:09] \"POST /completions HTTP/1.1\" 200 -\n",
      "INFO:werkzeug:127.0.0.1 - - [09/Nov/2023 15:41:09] \"POST /completions HTTP/1.1\" 200 -\n",
      "INFO:werkzeug:127.0.0.1 - - [09/Nov/2023 15:41:09] \"POST /completions HTTP/1.1\" 200 -\n",
      "INFO:werkzeug:127.0.0.1 - - [09/Nov/2023 15:41:09] \"POST /completions HTTP/1.1\" 200 -\n",
      "INFO:werkzeug:127.0.0.1 - - [09/Nov/2023 15:41:09] \"POST /completions HTTP/1.1\" 200 -\n",
      "INFO:werkzeug:127.0.0.1 - - [09/Nov/2023 15:41:09] \"POST /completions HTTP/1.1\" 200 -\n",
      "INFO:werkzeug:127.0.0.1 - - [09/Nov/2023 15:41:09] \"POST /completions HTTP/1.1\" 200 -\n"
     ]
    },
    {
     "name": "stdout",
     "output_type": "stream",
     "text": [
      "flushing 0.7 0\n"
     ]
    },
    {
     "name": "stderr",
     "output_type": "stream",
     "text": [
      "INFO:werkzeug:127.0.0.1 - - [09/Nov/2023 15:41:22] \"POST /completions HTTP/1.1\" 200 -\n",
      "INFO:werkzeug:127.0.0.1 - - [09/Nov/2023 15:41:22] \"POST /completions HTTP/1.1\" 200 -\n",
      "INFO:werkzeug:127.0.0.1 - - [09/Nov/2023 15:41:22] \"POST /completions HTTP/1.1\" 200 -\n",
      "INFO:werkzeug:127.0.0.1 - - [09/Nov/2023 15:41:22] \"POST /completions HTTP/1.1\" 200 -\n",
      "INFO:werkzeug:127.0.0.1 - - [09/Nov/2023 15:41:22] \"POST /completions HTTP/1.1\" 200 -\n",
      "INFO:werkzeug:127.0.0.1 - - [09/Nov/2023 15:41:22] \"POST /completions HTTP/1.1\" 200 -\n",
      "INFO:werkzeug:127.0.0.1 - - [09/Nov/2023 15:41:22] \"POST /completions HTTP/1.1\" 200 -\n",
      "INFO:werkzeug:127.0.0.1 - - [09/Nov/2023 15:41:22] \"POST /completions HTTP/1.1\" 200 -\n",
      "INFO:werkzeug:127.0.0.1 - - [09/Nov/2023 15:41:22] \"POST /completions HTTP/1.1\" 200 -\n",
      "INFO:werkzeug:127.0.0.1 - - [09/Nov/2023 15:41:22] \"POST /completions HTTP/1.1\" 200 -\n",
      "INFO:werkzeug:127.0.0.1 - - [09/Nov/2023 15:41:22] \"POST /completions HTTP/1.1\" 200 -\n",
      "INFO:werkzeug:127.0.0.1 - - [09/Nov/2023 15:41:22] \"POST /completions HTTP/1.1\" 200 -\n",
      "INFO:werkzeug:127.0.0.1 - - [09/Nov/2023 15:41:22] \"POST /completions HTTP/1.1\" 200 -\n",
      "INFO:werkzeug:127.0.0.1 - - [09/Nov/2023 15:41:22] \"POST /completions HTTP/1.1\" 200 -\n",
      "INFO:werkzeug:127.0.0.1 - - [09/Nov/2023 15:41:22] \"POST /completions HTTP/1.1\" 200 -\n",
      "INFO:werkzeug:127.0.0.1 - - [09/Nov/2023 15:41:22] \"POST /completions HTTP/1.1\" 200 -\n",
      "INFO:werkzeug:127.0.0.1 - - [09/Nov/2023 15:41:22] \"POST /completions HTTP/1.1\" 200 -\n",
      "INFO:werkzeug:127.0.0.1 - - [09/Nov/2023 15:41:22] \"POST /completions HTTP/1.1\" 200 -\n",
      "INFO:werkzeug:127.0.0.1 - - [09/Nov/2023 15:41:22] \"POST /completions HTTP/1.1\" 200 -\n",
      "INFO:werkzeug:127.0.0.1 - - [09/Nov/2023 15:41:22] \"POST /completions HTTP/1.1\" 200 -\n",
      "INFO:werkzeug:127.0.0.1 - - [09/Nov/2023 15:41:22] \"POST /completions HTTP/1.1\" 200 -\n",
      "INFO:werkzeug:127.0.0.1 - - [09/Nov/2023 15:41:22] \"POST /completions HTTP/1.1\" 200 -\n",
      "INFO:werkzeug:127.0.0.1 - - [09/Nov/2023 15:41:22] \"POST /completions HTTP/1.1\" 200 -\n",
      "INFO:werkzeug:127.0.0.1 - - [09/Nov/2023 15:41:22] \"POST /completions HTTP/1.1\" 200 -\n",
      "INFO:werkzeug:127.0.0.1 - - [09/Nov/2023 15:41:22] \"POST /completions HTTP/1.1\" 200 -\n",
      "INFO:werkzeug:127.0.0.1 - - [09/Nov/2023 15:41:22] \"POST /completions HTTP/1.1\" 200 -\n",
      "INFO:werkzeug:127.0.0.1 - - [09/Nov/2023 15:41:22] \"POST /completions HTTP/1.1\" 200 -\n",
      "INFO:werkzeug:127.0.0.1 - - [09/Nov/2023 15:41:22] \"POST /completions HTTP/1.1\" 200 -\n",
      "INFO:werkzeug:127.0.0.1 - - [09/Nov/2023 15:41:22] \"POST /completions HTTP/1.1\" 200 -\n",
      "INFO:werkzeug:127.0.0.1 - - [09/Nov/2023 15:41:22] \"POST /completions HTTP/1.1\" 200 -\n",
      "INFO:werkzeug:127.0.0.1 - - [09/Nov/2023 15:41:22] \"POST /completions HTTP/1.1\" 200 -\n",
      "INFO:werkzeug:127.0.0.1 - - [09/Nov/2023 15:41:22] \"POST /completions HTTP/1.1\" 200 -\n"
     ]
    },
    {
     "name": "stdout",
     "output_type": "stream",
     "text": [
      "flushing 0.7 0\n"
     ]
    },
    {
     "name": "stderr",
     "output_type": "stream",
     "text": [
      "INFO:werkzeug:127.0.0.1 - - [09/Nov/2023 15:41:36] \"POST /completions HTTP/1.1\" 200 -\n",
      "INFO:werkzeug:127.0.0.1 - - [09/Nov/2023 15:41:36] \"POST /completions HTTP/1.1\" 200 -\n",
      "INFO:werkzeug:127.0.0.1 - - [09/Nov/2023 15:41:36] \"POST /completions HTTP/1.1\" 200 -\n",
      "INFO:werkzeug:127.0.0.1 - - [09/Nov/2023 15:41:36] \"POST /completions HTTP/1.1\" 200 -\n",
      "INFO:werkzeug:127.0.0.1 - - [09/Nov/2023 15:41:36] \"POST /completions HTTP/1.1\" 200 -\n",
      "INFO:werkzeug:127.0.0.1 - - [09/Nov/2023 15:41:36] \"POST /completions HTTP/1.1\" 200 -\n",
      "INFO:werkzeug:127.0.0.1 - - [09/Nov/2023 15:41:36] \"POST /completions HTTP/1.1\" 200 -\n",
      "INFO:werkzeug:127.0.0.1 - - [09/Nov/2023 15:41:36] \"POST /completions HTTP/1.1\" 200 -\n",
      "INFO:werkzeug:127.0.0.1 - - [09/Nov/2023 15:41:36] \"POST /completions HTTP/1.1\" 200 -\n",
      "INFO:werkzeug:127.0.0.1 - - [09/Nov/2023 15:41:36] \"POST /completions HTTP/1.1\" 200 -\n",
      "INFO:werkzeug:127.0.0.1 - - [09/Nov/2023 15:41:36] \"POST /completions HTTP/1.1\" 200 -\n",
      "INFO:werkzeug:127.0.0.1 - - [09/Nov/2023 15:41:36] \"POST /completions HTTP/1.1\" 200 -\n",
      "INFO:werkzeug:127.0.0.1 - - [09/Nov/2023 15:41:36] \"POST /completions HTTP/1.1\" 200 -\n",
      "INFO:werkzeug:127.0.0.1 - - [09/Nov/2023 15:41:36] \"POST /completions HTTP/1.1\" 200 -\n",
      "INFO:werkzeug:127.0.0.1 - - [09/Nov/2023 15:41:36] \"POST /completions HTTP/1.1\" 200 -\n",
      "INFO:werkzeug:127.0.0.1 - - [09/Nov/2023 15:41:36] \"POST /completions HTTP/1.1\" 200 -\n",
      "INFO:werkzeug:127.0.0.1 - - [09/Nov/2023 15:41:36] \"POST /completions HTTP/1.1\" 200 -\n",
      "INFO:werkzeug:127.0.0.1 - - [09/Nov/2023 15:41:36] \"POST /completions HTTP/1.1\" 200 -\n",
      "INFO:werkzeug:127.0.0.1 - - [09/Nov/2023 15:41:36] \"POST /completions HTTP/1.1\" 200 -\n",
      "INFO:werkzeug:127.0.0.1 - - [09/Nov/2023 15:41:36] \"POST /completions HTTP/1.1\" 200 -\n",
      "INFO:werkzeug:127.0.0.1 - - [09/Nov/2023 15:41:36] \"POST /completions HTTP/1.1\" 200 -\n",
      "INFO:werkzeug:127.0.0.1 - - [09/Nov/2023 15:41:36] \"POST /completions HTTP/1.1\" 200 -\n",
      "INFO:werkzeug:127.0.0.1 - - [09/Nov/2023 15:41:36] \"POST /completions HTTP/1.1\" 200 -\n",
      "INFO:werkzeug:127.0.0.1 - - [09/Nov/2023 15:41:36] \"POST /completions HTTP/1.1\" 200 -\n",
      "INFO:werkzeug:127.0.0.1 - - [09/Nov/2023 15:41:36] \"POST /completions HTTP/1.1\" 200 -\n",
      "INFO:werkzeug:127.0.0.1 - - [09/Nov/2023 15:41:36] \"POST /completions HTTP/1.1\" 200 -\n",
      "INFO:werkzeug:127.0.0.1 - - [09/Nov/2023 15:41:36] \"POST /completions HTTP/1.1\" 200 -\n",
      "INFO:werkzeug:127.0.0.1 - - [09/Nov/2023 15:41:36] \"POST /completions HTTP/1.1\" 200 -\n",
      "INFO:werkzeug:127.0.0.1 - - [09/Nov/2023 15:41:36] \"POST /completions HTTP/1.1\" 200 -\n",
      "INFO:werkzeug:127.0.0.1 - - [09/Nov/2023 15:41:36] \"POST /completions HTTP/1.1\" 200 -\n",
      "INFO:werkzeug:127.0.0.1 - - [09/Nov/2023 15:41:36] \"POST /completions HTTP/1.1\" 200 -\n",
      "INFO:werkzeug:127.0.0.1 - - [09/Nov/2023 15:41:36] \"POST /completions HTTP/1.1\" 200 -\n"
     ]
    },
    {
     "name": "stdout",
     "output_type": "stream",
     "text": [
      "flushing 0.7 0\n"
     ]
    },
    {
     "name": "stderr",
     "output_type": "stream",
     "text": [
      "INFO:werkzeug:127.0.0.1 - - [09/Nov/2023 15:41:56] \"POST /completions HTTP/1.1\" 200 -\n",
      "INFO:werkzeug:127.0.0.1 - - [09/Nov/2023 15:41:56] \"POST /completions HTTP/1.1\" 200 -\n",
      "INFO:werkzeug:127.0.0.1 - - [09/Nov/2023 15:41:56] \"POST /completions HTTP/1.1\" 200 -\n",
      "INFO:werkzeug:127.0.0.1 - - [09/Nov/2023 15:41:56] \"POST /completions HTTP/1.1\" 200 -\n",
      "INFO:werkzeug:127.0.0.1 - - [09/Nov/2023 15:41:56] \"POST /completions HTTP/1.1\" 200 -\n",
      "INFO:werkzeug:127.0.0.1 - - [09/Nov/2023 15:41:56] \"POST /completions HTTP/1.1\" 200 -\n",
      "INFO:werkzeug:127.0.0.1 - - [09/Nov/2023 15:41:56] \"POST /completions HTTP/1.1\" 200 -\n",
      "INFO:werkzeug:127.0.0.1 - - [09/Nov/2023 15:41:56] \"POST /completions HTTP/1.1\" 200 -\n",
      "INFO:werkzeug:127.0.0.1 - - [09/Nov/2023 15:41:56] \"POST /completions HTTP/1.1\" 200 -\n",
      "INFO:werkzeug:127.0.0.1 - - [09/Nov/2023 15:41:56] \"POST /completions HTTP/1.1\" 200 -\n",
      "INFO:werkzeug:127.0.0.1 - - [09/Nov/2023 15:41:56] \"POST /completions HTTP/1.1\" 200 -\n",
      "INFO:werkzeug:127.0.0.1 - - [09/Nov/2023 15:41:56] \"POST /completions HTTP/1.1\" 200 -\n",
      "INFO:werkzeug:127.0.0.1 - - [09/Nov/2023 15:41:56] \"POST /completions HTTP/1.1\" 200 -\n",
      "INFO:werkzeug:127.0.0.1 - - [09/Nov/2023 15:41:56] \"POST /completions HTTP/1.1\" 200 -\n",
      "INFO:werkzeug:127.0.0.1 - - [09/Nov/2023 15:41:56] \"POST /completions HTTP/1.1\" 200 -\n",
      "INFO:werkzeug:127.0.0.1 - - [09/Nov/2023 15:41:56] \"POST /completions HTTP/1.1\" 200 -\n",
      "INFO:werkzeug:127.0.0.1 - - [09/Nov/2023 15:41:56] \"POST /completions HTTP/1.1\" 200 -\n",
      "INFO:werkzeug:127.0.0.1 - - [09/Nov/2023 15:41:56] \"POST /completions HTTP/1.1\" 200 -\n",
      "INFO:werkzeug:127.0.0.1 - - [09/Nov/2023 15:41:56] \"POST /completions HTTP/1.1\" 200 -\n",
      "INFO:werkzeug:127.0.0.1 - - [09/Nov/2023 15:41:56] \"POST /completions HTTP/1.1\" 200 -\n",
      "INFO:werkzeug:127.0.0.1 - - [09/Nov/2023 15:41:56] \"POST /completions HTTP/1.1\" 200 -\n",
      "INFO:werkzeug:127.0.0.1 - - [09/Nov/2023 15:41:56] \"POST /completions HTTP/1.1\" 200 -\n",
      "INFO:werkzeug:127.0.0.1 - - [09/Nov/2023 15:41:57] \"POST /completions HTTP/1.1\" 200 -\n",
      "INFO:werkzeug:127.0.0.1 - - [09/Nov/2023 15:41:57] \"POST /completions HTTP/1.1\" 200 -\n",
      "INFO:werkzeug:127.0.0.1 - - [09/Nov/2023 15:41:57] \"POST /completions HTTP/1.1\" 200 -\n",
      "INFO:werkzeug:127.0.0.1 - - [09/Nov/2023 15:41:57] \"POST /completions HTTP/1.1\" 200 -\n",
      "INFO:werkzeug:127.0.0.1 - - [09/Nov/2023 15:41:57] \"POST /completions HTTP/1.1\" 200 -\n",
      "INFO:werkzeug:127.0.0.1 - - [09/Nov/2023 15:41:57] \"POST /completions HTTP/1.1\" 200 -\n",
      "INFO:werkzeug:127.0.0.1 - - [09/Nov/2023 15:41:57] \"POST /completions HTTP/1.1\" 200 -\n",
      "INFO:werkzeug:127.0.0.1 - - [09/Nov/2023 15:41:57] \"POST /completions HTTP/1.1\" 200 -\n",
      "INFO:werkzeug:127.0.0.1 - - [09/Nov/2023 15:41:57] \"POST /completions HTTP/1.1\" 200 -\n",
      "INFO:werkzeug:127.0.0.1 - - [09/Nov/2023 15:41:57] \"POST /completions HTTP/1.1\" 200 -\n"
     ]
    },
    {
     "name": "stdout",
     "output_type": "stream",
     "text": [
      "flushing 0.7 0\n"
     ]
    },
    {
     "name": "stderr",
     "output_type": "stream",
     "text": [
      "INFO:werkzeug:127.0.0.1 - - [09/Nov/2023 15:42:09] \"POST /completions HTTP/1.1\" 200 -\n",
      "INFO:werkzeug:127.0.0.1 - - [09/Nov/2023 15:42:09] \"POST /completions HTTP/1.1\" 200 -\n",
      "INFO:werkzeug:127.0.0.1 - - [09/Nov/2023 15:42:09] \"POST /completions HTTP/1.1\" 200 -\n",
      "INFO:werkzeug:127.0.0.1 - - [09/Nov/2023 15:42:09] \"POST /completions HTTP/1.1\" 200 -\n",
      "INFO:werkzeug:127.0.0.1 - - [09/Nov/2023 15:42:09] \"POST /completions HTTP/1.1\" 200 -\n",
      "INFO:werkzeug:127.0.0.1 - - [09/Nov/2023 15:42:09] \"POST /completions HTTP/1.1\" 200 -\n",
      "INFO:werkzeug:127.0.0.1 - - [09/Nov/2023 15:42:09] \"POST /completions HTTP/1.1\" 200 -\n",
      "INFO:werkzeug:127.0.0.1 - - [09/Nov/2023 15:42:09] \"POST /completions HTTP/1.1\" 200 -\n",
      "INFO:werkzeug:127.0.0.1 - - [09/Nov/2023 15:42:09] \"POST /completions HTTP/1.1\" 200 -\n",
      "INFO:werkzeug:127.0.0.1 - - [09/Nov/2023 15:42:09] \"POST /completions HTTP/1.1\" 200 -\n",
      "INFO:werkzeug:127.0.0.1 - - [09/Nov/2023 15:42:09] \"POST /completions HTTP/1.1\" 200 -\n",
      "INFO:werkzeug:127.0.0.1 - - [09/Nov/2023 15:42:09] \"POST /completions HTTP/1.1\" 200 -\n",
      "INFO:werkzeug:127.0.0.1 - - [09/Nov/2023 15:42:09] \"POST /completions HTTP/1.1\" 200 -\n",
      "INFO:werkzeug:127.0.0.1 - - [09/Nov/2023 15:42:09] \"POST /completions HTTP/1.1\" 200 -\n",
      "INFO:werkzeug:127.0.0.1 - - [09/Nov/2023 15:42:09] \"POST /completions HTTP/1.1\" 200 -\n",
      "INFO:werkzeug:127.0.0.1 - - [09/Nov/2023 15:42:09] \"POST /completions HTTP/1.1\" 200 -\n",
      "INFO:werkzeug:127.0.0.1 - - [09/Nov/2023 15:42:09] \"POST /completions HTTP/1.1\" 200 -\n",
      "INFO:werkzeug:127.0.0.1 - - [09/Nov/2023 15:42:09] \"POST /completions HTTP/1.1\" 200 -\n",
      "INFO:werkzeug:127.0.0.1 - - [09/Nov/2023 15:42:09] \"POST /completions HTTP/1.1\" 200 -\n",
      "INFO:werkzeug:127.0.0.1 - - [09/Nov/2023 15:42:09] \"POST /completions HTTP/1.1\" 200 -\n",
      "INFO:werkzeug:127.0.0.1 - - [09/Nov/2023 15:42:09] \"POST /completions HTTP/1.1\" 200 -\n",
      "INFO:werkzeug:127.0.0.1 - - [09/Nov/2023 15:42:09] \"POST /completions HTTP/1.1\" 200 -\n",
      "INFO:werkzeug:127.0.0.1 - - [09/Nov/2023 15:42:09] \"POST /completions HTTP/1.1\" 200 -\n",
      "INFO:werkzeug:127.0.0.1 - - [09/Nov/2023 15:42:09] \"POST /completions HTTP/1.1\" 200 -\n",
      "INFO:werkzeug:127.0.0.1 - - [09/Nov/2023 15:42:09] \"POST /completions HTTP/1.1\" 200 -\n",
      "INFO:werkzeug:127.0.0.1 - - [09/Nov/2023 15:42:09] \"POST /completions HTTP/1.1\" 200 -\n",
      "INFO:werkzeug:127.0.0.1 - - [09/Nov/2023 15:42:09] \"POST /completions HTTP/1.1\" 200 -\n",
      "INFO:werkzeug:127.0.0.1 - - [09/Nov/2023 15:42:09] \"POST /completions HTTP/1.1\" 200 -\n",
      "INFO:werkzeug:127.0.0.1 - - [09/Nov/2023 15:42:09] \"POST /completions HTTP/1.1\" 200 -\n",
      "INFO:werkzeug:127.0.0.1 - - [09/Nov/2023 15:42:09] \"POST /completions HTTP/1.1\" 200 -\n",
      "INFO:werkzeug:127.0.0.1 - - [09/Nov/2023 15:42:09] \"POST /completions HTTP/1.1\" 200 -\n",
      "INFO:werkzeug:127.0.0.1 - - [09/Nov/2023 15:42:09] \"POST /completions HTTP/1.1\" 200 -\n"
     ]
    },
    {
     "name": "stdout",
     "output_type": "stream",
     "text": [
      "flushing 0.7 0\n"
     ]
    },
    {
     "name": "stderr",
     "output_type": "stream",
     "text": [
      "INFO:werkzeug:127.0.0.1 - - [09/Nov/2023 15:42:18] \"POST /completions HTTP/1.1\" 200 -\n",
      "INFO:werkzeug:127.0.0.1 - - [09/Nov/2023 15:42:18] \"POST /completions HTTP/1.1\" 200 -\n",
      "INFO:werkzeug:127.0.0.1 - - [09/Nov/2023 15:42:18] \"POST /completions HTTP/1.1\" 200 -\n",
      "INFO:werkzeug:127.0.0.1 - - [09/Nov/2023 15:42:18] \"POST /completions HTTP/1.1\" 200 -\n",
      "INFO:werkzeug:127.0.0.1 - - [09/Nov/2023 15:42:18] \"POST /completions HTTP/1.1\" 200 -\n",
      "INFO:werkzeug:127.0.0.1 - - [09/Nov/2023 15:42:18] \"POST /completions HTTP/1.1\" 200 -\n",
      "INFO:werkzeug:127.0.0.1 - - [09/Nov/2023 15:42:18] \"POST /completions HTTP/1.1\" 200 -\n",
      "INFO:werkzeug:127.0.0.1 - - [09/Nov/2023 15:42:18] \"POST /completions HTTP/1.1\" 200 -\n",
      "INFO:werkzeug:127.0.0.1 - - [09/Nov/2023 15:42:18] \"POST /completions HTTP/1.1\" 200 -\n",
      "INFO:werkzeug:127.0.0.1 - - [09/Nov/2023 15:42:18] \"POST /completions HTTP/1.1\" 200 -\n",
      "INFO:werkzeug:127.0.0.1 - - [09/Nov/2023 15:42:18] \"POST /completions HTTP/1.1\" 200 -\n",
      "INFO:werkzeug:127.0.0.1 - - [09/Nov/2023 15:42:18] \"POST /completions HTTP/1.1\" 200 -\n",
      "INFO:werkzeug:127.0.0.1 - - [09/Nov/2023 15:42:18] \"POST /completions HTTP/1.1\" 200 -\n",
      "INFO:werkzeug:127.0.0.1 - - [09/Nov/2023 15:42:18] \"POST /completions HTTP/1.1\" 200 -\n",
      "INFO:werkzeug:127.0.0.1 - - [09/Nov/2023 15:42:18] \"POST /completions HTTP/1.1\" 200 -\n",
      "INFO:werkzeug:127.0.0.1 - - [09/Nov/2023 15:42:18] \"POST /completions HTTP/1.1\" 200 -\n",
      "INFO:werkzeug:127.0.0.1 - - [09/Nov/2023 15:42:18] \"POST /completions HTTP/1.1\" 200 -\n",
      "INFO:werkzeug:127.0.0.1 - - [09/Nov/2023 15:42:18] \"POST /completions HTTP/1.1\" 200 -\n",
      "INFO:werkzeug:127.0.0.1 - - [09/Nov/2023 15:42:18] \"POST /completions HTTP/1.1\" 200 -\n",
      "INFO:werkzeug:127.0.0.1 - - [09/Nov/2023 15:42:18] \"POST /completions HTTP/1.1\" 200 -\n",
      "INFO:werkzeug:127.0.0.1 - - [09/Nov/2023 15:42:18] \"POST /completions HTTP/1.1\" 200 -\n",
      "INFO:werkzeug:127.0.0.1 - - [09/Nov/2023 15:42:18] \"POST /completions HTTP/1.1\" 200 -\n",
      "INFO:werkzeug:127.0.0.1 - - [09/Nov/2023 15:42:18] \"POST /completions HTTP/1.1\" 200 -\n",
      "INFO:werkzeug:127.0.0.1 - - [09/Nov/2023 15:42:18] \"POST /completions HTTP/1.1\" 200 -\n",
      "INFO:werkzeug:127.0.0.1 - - [09/Nov/2023 15:42:18] \"POST /completions HTTP/1.1\" 200 -\n",
      "INFO:werkzeug:127.0.0.1 - - [09/Nov/2023 15:42:18] \"POST /completions HTTP/1.1\" 200 -\n",
      "INFO:werkzeug:127.0.0.1 - - [09/Nov/2023 15:42:18] \"POST /completions HTTP/1.1\" 200 -\n",
      "INFO:werkzeug:127.0.0.1 - - [09/Nov/2023 15:42:18] \"POST /completions HTTP/1.1\" 200 -\n",
      "INFO:werkzeug:127.0.0.1 - - [09/Nov/2023 15:42:18] \"POST /completions HTTP/1.1\" 200 -\n",
      "INFO:werkzeug:127.0.0.1 - - [09/Nov/2023 15:42:18] \"POST /completions HTTP/1.1\" 200 -\n",
      "INFO:werkzeug:127.0.0.1 - - [09/Nov/2023 15:42:18] \"POST /completions HTTP/1.1\" 200 -\n",
      "INFO:werkzeug:127.0.0.1 - - [09/Nov/2023 15:42:18] \"POST /completions HTTP/1.1\" 200 -\n"
     ]
    },
    {
     "name": "stdout",
     "output_type": "stream",
     "text": [
      "flushing 0.7 0\n"
     ]
    },
    {
     "name": "stderr",
     "output_type": "stream",
     "text": [
      "INFO:werkzeug:127.0.0.1 - - [09/Nov/2023 15:42:28] \"POST /completions HTTP/1.1\" 200 -\n",
      "INFO:werkzeug:127.0.0.1 - - [09/Nov/2023 15:42:28] \"POST /completions HTTP/1.1\" 200 -\n",
      "INFO:werkzeug:127.0.0.1 - - [09/Nov/2023 15:42:28] \"POST /completions HTTP/1.1\" 200 -\n",
      "INFO:werkzeug:127.0.0.1 - - [09/Nov/2023 15:42:28] \"POST /completions HTTP/1.1\" 200 -\n",
      "INFO:werkzeug:127.0.0.1 - - [09/Nov/2023 15:42:28] \"POST /completions HTTP/1.1\" 200 -\n",
      "INFO:werkzeug:127.0.0.1 - - [09/Nov/2023 15:42:28] \"POST /completions HTTP/1.1\" 200 -\n",
      "INFO:werkzeug:127.0.0.1 - - [09/Nov/2023 15:42:28] \"POST /completions HTTP/1.1\" 200 -\n",
      "INFO:werkzeug:127.0.0.1 - - [09/Nov/2023 15:42:28] \"POST /completions HTTP/1.1\" 200 -\n",
      "INFO:werkzeug:127.0.0.1 - - [09/Nov/2023 15:42:28] \"POST /completions HTTP/1.1\" 200 -\n",
      "INFO:werkzeug:127.0.0.1 - - [09/Nov/2023 15:42:28] \"POST /completions HTTP/1.1\" 200 -\n",
      "INFO:werkzeug:127.0.0.1 - - [09/Nov/2023 15:42:28] \"POST /completions HTTP/1.1\" 200 -\n",
      "INFO:werkzeug:127.0.0.1 - - [09/Nov/2023 15:42:28] \"POST /completions HTTP/1.1\" 200 -\n",
      "INFO:werkzeug:127.0.0.1 - - [09/Nov/2023 15:42:28] \"POST /completions HTTP/1.1\" 200 -\n",
      "INFO:werkzeug:127.0.0.1 - - [09/Nov/2023 15:42:28] \"POST /completions HTTP/1.1\" 200 -\n",
      "INFO:werkzeug:127.0.0.1 - - [09/Nov/2023 15:42:28] \"POST /completions HTTP/1.1\" 200 -\n",
      "INFO:werkzeug:127.0.0.1 - - [09/Nov/2023 15:42:28] \"POST /completions HTTP/1.1\" 200 -\n",
      "INFO:werkzeug:127.0.0.1 - - [09/Nov/2023 15:42:28] \"POST /completions HTTP/1.1\" 200 -\n",
      "INFO:werkzeug:127.0.0.1 - - [09/Nov/2023 15:42:28] \"POST /completions HTTP/1.1\" 200 -\n",
      "INFO:werkzeug:127.0.0.1 - - [09/Nov/2023 15:42:28] \"POST /completions HTTP/1.1\" 200 -\n",
      "INFO:werkzeug:127.0.0.1 - - [09/Nov/2023 15:42:28] \"POST /completions HTTP/1.1\" 200 -\n",
      "INFO:werkzeug:127.0.0.1 - - [09/Nov/2023 15:42:28] \"POST /completions HTTP/1.1\" 200 -\n",
      "INFO:werkzeug:127.0.0.1 - - [09/Nov/2023 15:42:28] \"POST /completions HTTP/1.1\" 200 -\n",
      "INFO:werkzeug:127.0.0.1 - - [09/Nov/2023 15:42:28] \"POST /completions HTTP/1.1\" 200 -\n",
      "INFO:werkzeug:127.0.0.1 - - [09/Nov/2023 15:42:28] \"POST /completions HTTP/1.1\" 200 -\n",
      "INFO:werkzeug:127.0.0.1 - - [09/Nov/2023 15:42:28] \"POST /completions HTTP/1.1\" 200 -\n",
      "INFO:werkzeug:127.0.0.1 - - [09/Nov/2023 15:42:28] \"POST /completions HTTP/1.1\" 200 -\n",
      "INFO:werkzeug:127.0.0.1 - - [09/Nov/2023 15:42:28] \"POST /completions HTTP/1.1\" 200 -\n",
      "INFO:werkzeug:127.0.0.1 - - [09/Nov/2023 15:42:28] \"POST /completions HTTP/1.1\" 200 -\n",
      "INFO:werkzeug:127.0.0.1 - - [09/Nov/2023 15:42:28] \"POST /completions HTTP/1.1\" 200 -\n",
      "INFO:werkzeug:127.0.0.1 - - [09/Nov/2023 15:42:28] \"POST /completions HTTP/1.1\" 200 -\n",
      "INFO:werkzeug:127.0.0.1 - - [09/Nov/2023 15:42:28] \"POST /completions HTTP/1.1\" 200 -\n",
      "INFO:werkzeug:127.0.0.1 - - [09/Nov/2023 15:42:28] \"POST /completions HTTP/1.1\" 200 -\n"
     ]
    },
    {
     "name": "stdout",
     "output_type": "stream",
     "text": [
      "flushing 0.7 0\n"
     ]
    },
    {
     "name": "stderr",
     "output_type": "stream",
     "text": [
      "INFO:werkzeug:127.0.0.1 - - [09/Nov/2023 15:42:37] \"POST /completions HTTP/1.1\" 200 -\n",
      "INFO:werkzeug:127.0.0.1 - - [09/Nov/2023 15:42:37] \"POST /completions HTTP/1.1\" 200 -\n",
      "INFO:werkzeug:127.0.0.1 - - [09/Nov/2023 15:42:37] \"POST /completions HTTP/1.1\" 200 -\n",
      "INFO:werkzeug:127.0.0.1 - - [09/Nov/2023 15:42:37] \"POST /completions HTTP/1.1\" 200 -\n",
      "INFO:werkzeug:127.0.0.1 - - [09/Nov/2023 15:42:37] \"POST /completions HTTP/1.1\" 200 -\n",
      "INFO:werkzeug:127.0.0.1 - - [09/Nov/2023 15:42:37] \"POST /completions HTTP/1.1\" 200 -\n",
      "INFO:werkzeug:127.0.0.1 - - [09/Nov/2023 15:42:37] \"POST /completions HTTP/1.1\" 200 -\n",
      "INFO:werkzeug:127.0.0.1 - - [09/Nov/2023 15:42:37] \"POST /completions HTTP/1.1\" 200 -\n",
      "INFO:werkzeug:127.0.0.1 - - [09/Nov/2023 15:42:37] \"POST /completions HTTP/1.1\" 200 -\n",
      "INFO:werkzeug:127.0.0.1 - - [09/Nov/2023 15:42:37] \"POST /completions HTTP/1.1\" 200 -\n",
      "INFO:werkzeug:127.0.0.1 - - [09/Nov/2023 15:42:37] \"POST /completions HTTP/1.1\" 200 -\n",
      "INFO:werkzeug:127.0.0.1 - - [09/Nov/2023 15:42:37] \"POST /completions HTTP/1.1\" 200 -\n",
      "INFO:werkzeug:127.0.0.1 - - [09/Nov/2023 15:42:37] \"POST /completions HTTP/1.1\" 200 -\n",
      "INFO:werkzeug:127.0.0.1 - - [09/Nov/2023 15:42:37] \"POST /completions HTTP/1.1\" 200 -\n",
      "INFO:werkzeug:127.0.0.1 - - [09/Nov/2023 15:42:37] \"POST /completions HTTP/1.1\" 200 -\n",
      "INFO:werkzeug:127.0.0.1 - - [09/Nov/2023 15:42:37] \"POST /completions HTTP/1.1\" 200 -\n",
      "INFO:werkzeug:127.0.0.1 - - [09/Nov/2023 15:42:37] \"POST /completions HTTP/1.1\" 200 -\n",
      "INFO:werkzeug:127.0.0.1 - - [09/Nov/2023 15:42:37] \"POST /completions HTTP/1.1\" 200 -\n",
      "INFO:werkzeug:127.0.0.1 - - [09/Nov/2023 15:42:37] \"POST /completions HTTP/1.1\" 200 -\n",
      "INFO:werkzeug:127.0.0.1 - - [09/Nov/2023 15:42:37] \"POST /completions HTTP/1.1\" 200 -\n",
      "INFO:werkzeug:127.0.0.1 - - [09/Nov/2023 15:42:37] \"POST /completions HTTP/1.1\" 200 -\n",
      "INFO:werkzeug:127.0.0.1 - - [09/Nov/2023 15:42:37] \"POST /completions HTTP/1.1\" 200 -\n",
      "INFO:werkzeug:127.0.0.1 - - [09/Nov/2023 15:42:37] \"POST /completions HTTP/1.1\" 200 -\n",
      "INFO:werkzeug:127.0.0.1 - - [09/Nov/2023 15:42:37] \"POST /completions HTTP/1.1\" 200 -\n",
      "INFO:werkzeug:127.0.0.1 - - [09/Nov/2023 15:42:37] \"POST /completions HTTP/1.1\" 200 -\n",
      "INFO:werkzeug:127.0.0.1 - - [09/Nov/2023 15:42:37] \"POST /completions HTTP/1.1\" 200 -\n",
      "INFO:werkzeug:127.0.0.1 - - [09/Nov/2023 15:42:37] \"POST /completions HTTP/1.1\" 200 -\n",
      "INFO:werkzeug:127.0.0.1 - - [09/Nov/2023 15:42:37] \"POST /completions HTTP/1.1\" 200 -\n",
      "INFO:werkzeug:127.0.0.1 - - [09/Nov/2023 15:42:37] \"POST /completions HTTP/1.1\" 200 -\n",
      "INFO:werkzeug:127.0.0.1 - - [09/Nov/2023 15:42:37] \"POST /completions HTTP/1.1\" 200 -\n",
      "INFO:werkzeug:127.0.0.1 - - [09/Nov/2023 15:42:37] \"POST /completions HTTP/1.1\" 200 -\n",
      "INFO:werkzeug:127.0.0.1 - - [09/Nov/2023 15:42:37] \"POST /completions HTTP/1.1\" 200 -\n"
     ]
    },
    {
     "name": "stdout",
     "output_type": "stream",
     "text": [
      "flushing 0.7 0\n"
     ]
    },
    {
     "name": "stderr",
     "output_type": "stream",
     "text": [
      "INFO:werkzeug:127.0.0.1 - - [09/Nov/2023 15:42:49] \"POST /completions HTTP/1.1\" 200 -\n",
      "INFO:werkzeug:127.0.0.1 - - [09/Nov/2023 15:42:49] \"POST /completions HTTP/1.1\" 200 -\n",
      "INFO:werkzeug:127.0.0.1 - - [09/Nov/2023 15:42:49] \"POST /completions HTTP/1.1\" 200 -\n",
      "INFO:werkzeug:127.0.0.1 - - [09/Nov/2023 15:42:49] \"POST /completions HTTP/1.1\" 200 -\n",
      "INFO:werkzeug:127.0.0.1 - - [09/Nov/2023 15:42:49] \"POST /completions HTTP/1.1\" 200 -\n",
      "INFO:werkzeug:127.0.0.1 - - [09/Nov/2023 15:42:49] \"POST /completions HTTP/1.1\" 200 -\n",
      "INFO:werkzeug:127.0.0.1 - - [09/Nov/2023 15:42:49] \"POST /completions HTTP/1.1\" 200 -\n",
      "INFO:werkzeug:127.0.0.1 - - [09/Nov/2023 15:42:49] \"POST /completions HTTP/1.1\" 200 -\n",
      "INFO:werkzeug:127.0.0.1 - - [09/Nov/2023 15:42:49] \"POST /completions HTTP/1.1\" 200 -\n",
      "INFO:werkzeug:127.0.0.1 - - [09/Nov/2023 15:42:49] \"POST /completions HTTP/1.1\" 200 -\n",
      "INFO:werkzeug:127.0.0.1 - - [09/Nov/2023 15:42:49] \"POST /completions HTTP/1.1\" 200 -\n",
      "INFO:werkzeug:127.0.0.1 - - [09/Nov/2023 15:42:49] \"POST /completions HTTP/1.1\" 200 -\n",
      "INFO:werkzeug:127.0.0.1 - - [09/Nov/2023 15:42:49] \"POST /completions HTTP/1.1\" 200 -\n",
      "INFO:werkzeug:127.0.0.1 - - [09/Nov/2023 15:42:49] \"POST /completions HTTP/1.1\" 200 -\n",
      "INFO:werkzeug:127.0.0.1 - - [09/Nov/2023 15:42:49] \"POST /completions HTTP/1.1\" 200 -\n",
      "INFO:werkzeug:127.0.0.1 - - [09/Nov/2023 15:42:49] \"POST /completions HTTP/1.1\" 200 -\n",
      "INFO:werkzeug:127.0.0.1 - - [09/Nov/2023 15:42:49] \"POST /completions HTTP/1.1\" 200 -\n",
      "INFO:werkzeug:127.0.0.1 - - [09/Nov/2023 15:42:49] \"POST /completions HTTP/1.1\" 200 -\n",
      "INFO:werkzeug:127.0.0.1 - - [09/Nov/2023 15:42:49] \"POST /completions HTTP/1.1\" 200 -\n",
      "INFO:werkzeug:127.0.0.1 - - [09/Nov/2023 15:42:49] \"POST /completions HTTP/1.1\" 200 -\n",
      "INFO:werkzeug:127.0.0.1 - - [09/Nov/2023 15:42:49] \"POST /completions HTTP/1.1\" 200 -\n",
      "INFO:werkzeug:127.0.0.1 - - [09/Nov/2023 15:42:49] \"POST /completions HTTP/1.1\" 200 -\n",
      "INFO:werkzeug:127.0.0.1 - - [09/Nov/2023 15:42:49] \"POST /completions HTTP/1.1\" 200 -\n",
      "INFO:werkzeug:127.0.0.1 - - [09/Nov/2023 15:42:49] \"POST /completions HTTP/1.1\" 200 -\n",
      "INFO:werkzeug:127.0.0.1 - - [09/Nov/2023 15:42:49] \"POST /completions HTTP/1.1\" 200 -\n",
      "INFO:werkzeug:127.0.0.1 - - [09/Nov/2023 15:42:49] \"POST /completions HTTP/1.1\" 200 -\n",
      "INFO:werkzeug:127.0.0.1 - - [09/Nov/2023 15:42:49] \"POST /completions HTTP/1.1\" 200 -\n",
      "INFO:werkzeug:127.0.0.1 - - [09/Nov/2023 15:42:49] \"POST /completions HTTP/1.1\" 200 -\n",
      "INFO:werkzeug:127.0.0.1 - - [09/Nov/2023 15:42:49] \"POST /completions HTTP/1.1\" 200 -\n",
      "INFO:werkzeug:127.0.0.1 - - [09/Nov/2023 15:42:49] \"POST /completions HTTP/1.1\" 200 -\n",
      "INFO:werkzeug:127.0.0.1 - - [09/Nov/2023 15:42:49] \"POST /completions HTTP/1.1\" 200 -\n",
      "INFO:werkzeug:127.0.0.1 - - [09/Nov/2023 15:42:49] \"POST /completions HTTP/1.1\" 200 -\n"
     ]
    },
    {
     "name": "stdout",
     "output_type": "stream",
     "text": [
      "flushing 0.7 0\n"
     ]
    },
    {
     "name": "stderr",
     "output_type": "stream",
     "text": [
      "INFO:werkzeug:127.0.0.1 - - [09/Nov/2023 15:42:59] \"POST /completions HTTP/1.1\" 200 -\n",
      "INFO:werkzeug:127.0.0.1 - - [09/Nov/2023 15:42:59] \"POST /completions HTTP/1.1\" 200 -\n",
      "INFO:werkzeug:127.0.0.1 - - [09/Nov/2023 15:42:59] \"POST /completions HTTP/1.1\" 200 -\n",
      "INFO:werkzeug:127.0.0.1 - - [09/Nov/2023 15:42:59] \"POST /completions HTTP/1.1\" 200 -\n",
      "INFO:werkzeug:127.0.0.1 - - [09/Nov/2023 15:42:59] \"POST /completions HTTP/1.1\" 200 -\n",
      "INFO:werkzeug:127.0.0.1 - - [09/Nov/2023 15:42:59] \"POST /completions HTTP/1.1\" 200 -\n",
      "INFO:werkzeug:127.0.0.1 - - [09/Nov/2023 15:42:59] \"POST /completions HTTP/1.1\" 200 -\n",
      "INFO:werkzeug:127.0.0.1 - - [09/Nov/2023 15:42:59] \"POST /completions HTTP/1.1\" 200 -\n",
      "INFO:werkzeug:127.0.0.1 - - [09/Nov/2023 15:42:59] \"POST /completions HTTP/1.1\" 200 -\n",
      "INFO:werkzeug:127.0.0.1 - - [09/Nov/2023 15:42:59] \"POST /completions HTTP/1.1\" 200 -\n",
      "INFO:werkzeug:127.0.0.1 - - [09/Nov/2023 15:42:59] \"POST /completions HTTP/1.1\" 200 -\n",
      "INFO:werkzeug:127.0.0.1 - - [09/Nov/2023 15:42:59] \"POST /completions HTTP/1.1\" 200 -\n",
      "INFO:werkzeug:127.0.0.1 - - [09/Nov/2023 15:42:59] \"POST /completions HTTP/1.1\" 200 -\n",
      "INFO:werkzeug:127.0.0.1 - - [09/Nov/2023 15:42:59] \"POST /completions HTTP/1.1\" 200 -\n",
      "INFO:werkzeug:127.0.0.1 - - [09/Nov/2023 15:42:59] \"POST /completions HTTP/1.1\" 200 -\n",
      "INFO:werkzeug:127.0.0.1 - - [09/Nov/2023 15:42:59] \"POST /completions HTTP/1.1\" 200 -\n",
      "INFO:werkzeug:127.0.0.1 - - [09/Nov/2023 15:42:59] \"POST /completions HTTP/1.1\" 200 -\n",
      "INFO:werkzeug:127.0.0.1 - - [09/Nov/2023 15:42:59] \"POST /completions HTTP/1.1\" 200 -\n",
      "INFO:werkzeug:127.0.0.1 - - [09/Nov/2023 15:42:59] \"POST /completions HTTP/1.1\" 200 -\n",
      "INFO:werkzeug:127.0.0.1 - - [09/Nov/2023 15:42:59] \"POST /completions HTTP/1.1\" 200 -\n",
      "INFO:werkzeug:127.0.0.1 - - [09/Nov/2023 15:42:59] \"POST /completions HTTP/1.1\" 200 -\n",
      "INFO:werkzeug:127.0.0.1 - - [09/Nov/2023 15:42:59] \"POST /completions HTTP/1.1\" 200 -\n",
      "INFO:werkzeug:127.0.0.1 - - [09/Nov/2023 15:42:59] \"POST /completions HTTP/1.1\" 200 -\n",
      "INFO:werkzeug:127.0.0.1 - - [09/Nov/2023 15:42:59] \"POST /completions HTTP/1.1\" 200 -\n",
      "INFO:werkzeug:127.0.0.1 - - [09/Nov/2023 15:42:59] \"POST /completions HTTP/1.1\" 200 -\n",
      "INFO:werkzeug:127.0.0.1 - - [09/Nov/2023 15:42:59] \"POST /completions HTTP/1.1\" 200 -\n",
      "INFO:werkzeug:127.0.0.1 - - [09/Nov/2023 15:42:59] \"POST /completions HTTP/1.1\" 200 -\n",
      "INFO:werkzeug:127.0.0.1 - - [09/Nov/2023 15:42:59] \"POST /completions HTTP/1.1\" 200 -\n",
      "INFO:werkzeug:127.0.0.1 - - [09/Nov/2023 15:42:59] \"POST /completions HTTP/1.1\" 200 -\n",
      "INFO:werkzeug:127.0.0.1 - - [09/Nov/2023 15:42:59] \"POST /completions HTTP/1.1\" 200 -\n",
      "INFO:werkzeug:127.0.0.1 - - [09/Nov/2023 15:42:59] \"POST /completions HTTP/1.1\" 200 -\n",
      "INFO:werkzeug:127.0.0.1 - - [09/Nov/2023 15:42:59] \"POST /completions HTTP/1.1\" 200 -\n"
     ]
    },
    {
     "name": "stdout",
     "output_type": "stream",
     "text": [
      "flushing 0.7 0\n"
     ]
    },
    {
     "name": "stderr",
     "output_type": "stream",
     "text": [
      "INFO:werkzeug:127.0.0.1 - - [09/Nov/2023 15:43:11] \"POST /completions HTTP/1.1\" 200 -\n",
      "INFO:werkzeug:127.0.0.1 - - [09/Nov/2023 15:43:11] \"POST /completions HTTP/1.1\" 200 -\n",
      "INFO:werkzeug:127.0.0.1 - - [09/Nov/2023 15:43:11] \"POST /completions HTTP/1.1\" 200 -\n",
      "INFO:werkzeug:127.0.0.1 - - [09/Nov/2023 15:43:11] \"POST /completions HTTP/1.1\" 200 -\n",
      "INFO:werkzeug:127.0.0.1 - - [09/Nov/2023 15:43:11] \"POST /completions HTTP/1.1\" 200 -\n",
      "INFO:werkzeug:127.0.0.1 - - [09/Nov/2023 15:43:11] \"POST /completions HTTP/1.1\" 200 -\n",
      "INFO:werkzeug:127.0.0.1 - - [09/Nov/2023 15:43:11] \"POST /completions HTTP/1.1\" 200 -\n",
      "INFO:werkzeug:127.0.0.1 - - [09/Nov/2023 15:43:11] \"POST /completions HTTP/1.1\" 200 -\n",
      "INFO:werkzeug:127.0.0.1 - - [09/Nov/2023 15:43:11] \"POST /completions HTTP/1.1\" 200 -\n",
      "INFO:werkzeug:127.0.0.1 - - [09/Nov/2023 15:43:11] \"POST /completions HTTP/1.1\" 200 -\n",
      "INFO:werkzeug:127.0.0.1 - - [09/Nov/2023 15:43:11] \"POST /completions HTTP/1.1\" 200 -\n",
      "INFO:werkzeug:127.0.0.1 - - [09/Nov/2023 15:43:11] \"POST /completions HTTP/1.1\" 200 -\n",
      "INFO:werkzeug:127.0.0.1 - - [09/Nov/2023 15:43:11] \"POST /completions HTTP/1.1\" 200 -\n",
      "INFO:werkzeug:127.0.0.1 - - [09/Nov/2023 15:43:11] \"POST /completions HTTP/1.1\" 200 -\n",
      "INFO:werkzeug:127.0.0.1 - - [09/Nov/2023 15:43:11] \"POST /completions HTTP/1.1\" 200 -\n",
      "INFO:werkzeug:127.0.0.1 - - [09/Nov/2023 15:43:11] \"POST /completions HTTP/1.1\" 200 -\n",
      "INFO:werkzeug:127.0.0.1 - - [09/Nov/2023 15:43:11] \"POST /completions HTTP/1.1\" 200 -\n",
      "INFO:werkzeug:127.0.0.1 - - [09/Nov/2023 15:43:11] \"POST /completions HTTP/1.1\" 200 -\n",
      "INFO:werkzeug:127.0.0.1 - - [09/Nov/2023 15:43:11] \"POST /completions HTTP/1.1\" 200 -\n",
      "INFO:werkzeug:127.0.0.1 - - [09/Nov/2023 15:43:11] \"POST /completions HTTP/1.1\" 200 -\n",
      "INFO:werkzeug:127.0.0.1 - - [09/Nov/2023 15:43:11] \"POST /completions HTTP/1.1\" 200 -\n",
      "INFO:werkzeug:127.0.0.1 - - [09/Nov/2023 15:43:11] \"POST /completions HTTP/1.1\" 200 -\n",
      "INFO:werkzeug:127.0.0.1 - - [09/Nov/2023 15:43:11] \"POST /completions HTTP/1.1\" 200 -\n",
      "INFO:werkzeug:127.0.0.1 - - [09/Nov/2023 15:43:11] \"POST /completions HTTP/1.1\" 200 -\n",
      "INFO:werkzeug:127.0.0.1 - - [09/Nov/2023 15:43:11] \"POST /completions HTTP/1.1\" 200 -\n",
      "INFO:werkzeug:127.0.0.1 - - [09/Nov/2023 15:43:11] \"POST /completions HTTP/1.1\" 200 -\n",
      "INFO:werkzeug:127.0.0.1 - - [09/Nov/2023 15:43:11] \"POST /completions HTTP/1.1\" 200 -\n",
      "INFO:werkzeug:127.0.0.1 - - [09/Nov/2023 15:43:11] \"POST /completions HTTP/1.1\" 200 -\n",
      "INFO:werkzeug:127.0.0.1 - - [09/Nov/2023 15:43:11] \"POST /completions HTTP/1.1\" 200 -\n",
      "INFO:werkzeug:127.0.0.1 - - [09/Nov/2023 15:43:11] \"POST /completions HTTP/1.1\" 200 -\n",
      "INFO:werkzeug:127.0.0.1 - - [09/Nov/2023 15:43:11] \"POST /completions HTTP/1.1\" 200 -\n",
      "INFO:werkzeug:127.0.0.1 - - [09/Nov/2023 15:43:11] \"POST /completions HTTP/1.1\" 200 -\n"
     ]
    },
    {
     "name": "stdout",
     "output_type": "stream",
     "text": [
      "flushing 0.7 0\n"
     ]
    },
    {
     "name": "stderr",
     "output_type": "stream",
     "text": [
      "INFO:werkzeug:127.0.0.1 - - [09/Nov/2023 15:43:25] \"POST /completions HTTP/1.1\" 200 -\n",
      "INFO:werkzeug:127.0.0.1 - - [09/Nov/2023 15:43:25] \"POST /completions HTTP/1.1\" 200 -\n",
      "INFO:werkzeug:127.0.0.1 - - [09/Nov/2023 15:43:25] \"POST /completions HTTP/1.1\" 200 -\n",
      "INFO:werkzeug:127.0.0.1 - - [09/Nov/2023 15:43:25] \"POST /completions HTTP/1.1\" 200 -\n",
      "INFO:werkzeug:127.0.0.1 - - [09/Nov/2023 15:43:25] \"POST /completions HTTP/1.1\" 200 -\n",
      "INFO:werkzeug:127.0.0.1 - - [09/Nov/2023 15:43:25] \"POST /completions HTTP/1.1\" 200 -\n",
      "INFO:werkzeug:127.0.0.1 - - [09/Nov/2023 15:43:25] \"POST /completions HTTP/1.1\" 200 -\n",
      "INFO:werkzeug:127.0.0.1 - - [09/Nov/2023 15:43:25] \"POST /completions HTTP/1.1\" 200 -\n",
      "INFO:werkzeug:127.0.0.1 - - [09/Nov/2023 15:43:25] \"POST /completions HTTP/1.1\" 200 -\n",
      "INFO:werkzeug:127.0.0.1 - - [09/Nov/2023 15:43:25] \"POST /completions HTTP/1.1\" 200 -\n",
      "INFO:werkzeug:127.0.0.1 - - [09/Nov/2023 15:43:25] \"POST /completions HTTP/1.1\" 200 -\n",
      "INFO:werkzeug:127.0.0.1 - - [09/Nov/2023 15:43:25] \"POST /completions HTTP/1.1\" 200 -\n",
      "INFO:werkzeug:127.0.0.1 - - [09/Nov/2023 15:43:25] \"POST /completions HTTP/1.1\" 200 -\n",
      "INFO:werkzeug:127.0.0.1 - - [09/Nov/2023 15:43:25] \"POST /completions HTTP/1.1\" 200 -\n",
      "INFO:werkzeug:127.0.0.1 - - [09/Nov/2023 15:43:25] \"POST /completions HTTP/1.1\" 200 -\n",
      "INFO:werkzeug:127.0.0.1 - - [09/Nov/2023 15:43:25] \"POST /completions HTTP/1.1\" 200 -\n",
      "INFO:werkzeug:127.0.0.1 - - [09/Nov/2023 15:43:25] \"POST /completions HTTP/1.1\" 200 -\n",
      "INFO:werkzeug:127.0.0.1 - - [09/Nov/2023 15:43:25] \"POST /completions HTTP/1.1\" 200 -\n",
      "INFO:werkzeug:127.0.0.1 - - [09/Nov/2023 15:43:25] \"POST /completions HTTP/1.1\" 200 -\n",
      "INFO:werkzeug:127.0.0.1 - - [09/Nov/2023 15:43:25] \"POST /completions HTTP/1.1\" 200 -\n",
      "INFO:werkzeug:127.0.0.1 - - [09/Nov/2023 15:43:25] \"POST /completions HTTP/1.1\" 200 -\n",
      "INFO:werkzeug:127.0.0.1 - - [09/Nov/2023 15:43:25] \"POST /completions HTTP/1.1\" 200 -\n",
      "INFO:werkzeug:127.0.0.1 - - [09/Nov/2023 15:43:25] \"POST /completions HTTP/1.1\" 200 -\n",
      "INFO:werkzeug:127.0.0.1 - - [09/Nov/2023 15:43:25] \"POST /completions HTTP/1.1\" 200 -\n",
      "INFO:werkzeug:127.0.0.1 - - [09/Nov/2023 15:43:25] \"POST /completions HTTP/1.1\" 200 -\n",
      "INFO:werkzeug:127.0.0.1 - - [09/Nov/2023 15:43:25] \"POST /completions HTTP/1.1\" 200 -\n",
      "INFO:werkzeug:127.0.0.1 - - [09/Nov/2023 15:43:25] \"POST /completions HTTP/1.1\" 200 -\n",
      "INFO:werkzeug:127.0.0.1 - - [09/Nov/2023 15:43:25] \"POST /completions HTTP/1.1\" 200 -\n",
      "INFO:werkzeug:127.0.0.1 - - [09/Nov/2023 15:43:25] \"POST /completions HTTP/1.1\" 200 -\n",
      "INFO:werkzeug:127.0.0.1 - - [09/Nov/2023 15:43:25] \"POST /completions HTTP/1.1\" 200 -\n",
      "INFO:werkzeug:127.0.0.1 - - [09/Nov/2023 15:43:25] \"POST /completions HTTP/1.1\" 200 -\n",
      "INFO:werkzeug:127.0.0.1 - - [09/Nov/2023 15:43:25] \"POST /completions HTTP/1.1\" 200 -\n"
     ]
    },
    {
     "name": "stdout",
     "output_type": "stream",
     "text": [
      "flushing 0.7 0\n"
     ]
    },
    {
     "name": "stderr",
     "output_type": "stream",
     "text": [
      "INFO:werkzeug:127.0.0.1 - - [09/Nov/2023 15:43:36] \"POST /completions HTTP/1.1\" 200 -\n",
      "INFO:werkzeug:127.0.0.1 - - [09/Nov/2023 15:43:36] \"POST /completions HTTP/1.1\" 200 -\n",
      "INFO:werkzeug:127.0.0.1 - - [09/Nov/2023 15:43:36] \"POST /completions HTTP/1.1\" 200 -\n",
      "INFO:werkzeug:127.0.0.1 - - [09/Nov/2023 15:43:36] \"POST /completions HTTP/1.1\" 200 -\n",
      "INFO:werkzeug:127.0.0.1 - - [09/Nov/2023 15:43:36] \"POST /completions HTTP/1.1\" 200 -\n",
      "INFO:werkzeug:127.0.0.1 - - [09/Nov/2023 15:43:36] \"POST /completions HTTP/1.1\" 200 -\n",
      "INFO:werkzeug:127.0.0.1 - - [09/Nov/2023 15:43:36] \"POST /completions HTTP/1.1\" 200 -\n",
      "INFO:werkzeug:127.0.0.1 - - [09/Nov/2023 15:43:36] \"POST /completions HTTP/1.1\" 200 -\n",
      "INFO:werkzeug:127.0.0.1 - - [09/Nov/2023 15:43:36] \"POST /completions HTTP/1.1\" 200 -\n",
      "INFO:werkzeug:127.0.0.1 - - [09/Nov/2023 15:43:36] \"POST /completions HTTP/1.1\" 200 -\n",
      "INFO:werkzeug:127.0.0.1 - - [09/Nov/2023 15:43:36] \"POST /completions HTTP/1.1\" 200 -\n",
      "INFO:werkzeug:127.0.0.1 - - [09/Nov/2023 15:43:36] \"POST /completions HTTP/1.1\" 200 -\n",
      "INFO:werkzeug:127.0.0.1 - - [09/Nov/2023 15:43:36] \"POST /completions HTTP/1.1\" 200 -\n",
      "INFO:werkzeug:127.0.0.1 - - [09/Nov/2023 15:43:36] \"POST /completions HTTP/1.1\" 200 -\n",
      "INFO:werkzeug:127.0.0.1 - - [09/Nov/2023 15:43:36] \"POST /completions HTTP/1.1\" 200 -\n",
      "INFO:werkzeug:127.0.0.1 - - [09/Nov/2023 15:43:36] \"POST /completions HTTP/1.1\" 200 -\n",
      "INFO:werkzeug:127.0.0.1 - - [09/Nov/2023 15:43:36] \"POST /completions HTTP/1.1\" 200 -\n",
      "INFO:werkzeug:127.0.0.1 - - [09/Nov/2023 15:43:36] \"POST /completions HTTP/1.1\" 200 -\n",
      "INFO:werkzeug:127.0.0.1 - - [09/Nov/2023 15:43:36] \"POST /completions HTTP/1.1\" 200 -\n",
      "INFO:werkzeug:127.0.0.1 - - [09/Nov/2023 15:43:36] \"POST /completions HTTP/1.1\" 200 -\n",
      "INFO:werkzeug:127.0.0.1 - - [09/Nov/2023 15:43:36] \"POST /completions HTTP/1.1\" 200 -\n",
      "INFO:werkzeug:127.0.0.1 - - [09/Nov/2023 15:43:36] \"POST /completions HTTP/1.1\" 200 -\n",
      "INFO:werkzeug:127.0.0.1 - - [09/Nov/2023 15:43:36] \"POST /completions HTTP/1.1\" 200 -\n",
      "INFO:werkzeug:127.0.0.1 - - [09/Nov/2023 15:43:36] \"POST /completions HTTP/1.1\" 200 -\n",
      "INFO:werkzeug:127.0.0.1 - - [09/Nov/2023 15:43:36] \"POST /completions HTTP/1.1\" 200 -\n",
      "INFO:werkzeug:127.0.0.1 - - [09/Nov/2023 15:43:36] \"POST /completions HTTP/1.1\" 200 -\n",
      "INFO:werkzeug:127.0.0.1 - - [09/Nov/2023 15:43:36] \"POST /completions HTTP/1.1\" 200 -\n",
      "INFO:werkzeug:127.0.0.1 - - [09/Nov/2023 15:43:36] \"POST /completions HTTP/1.1\" 200 -\n",
      "INFO:werkzeug:127.0.0.1 - - [09/Nov/2023 15:43:36] \"POST /completions HTTP/1.1\" 200 -\n",
      "INFO:werkzeug:127.0.0.1 - - [09/Nov/2023 15:43:36] \"POST /completions HTTP/1.1\" 200 -\n",
      "INFO:werkzeug:127.0.0.1 - - [09/Nov/2023 15:43:36] \"POST /completions HTTP/1.1\" 200 -\n",
      "INFO:werkzeug:127.0.0.1 - - [09/Nov/2023 15:43:36] \"POST /completions HTTP/1.1\" 200 -\n"
     ]
    },
    {
     "name": "stdout",
     "output_type": "stream",
     "text": [
      "flushing 0.7 0\n"
     ]
    },
    {
     "name": "stderr",
     "output_type": "stream",
     "text": [
      "INFO:werkzeug:127.0.0.1 - - [09/Nov/2023 15:43:47] \"POST /completions HTTP/1.1\" 200 -\n",
      "INFO:werkzeug:127.0.0.1 - - [09/Nov/2023 15:43:47] \"POST /completions HTTP/1.1\" 200 -\n",
      "INFO:werkzeug:127.0.0.1 - - [09/Nov/2023 15:43:47] \"POST /completions HTTP/1.1\" 200 -\n",
      "INFO:werkzeug:127.0.0.1 - - [09/Nov/2023 15:43:47] \"POST /completions HTTP/1.1\" 200 -\n",
      "INFO:werkzeug:127.0.0.1 - - [09/Nov/2023 15:43:47] \"POST /completions HTTP/1.1\" 200 -\n",
      "INFO:werkzeug:127.0.0.1 - - [09/Nov/2023 15:43:47] \"POST /completions HTTP/1.1\" 200 -\n",
      "INFO:werkzeug:127.0.0.1 - - [09/Nov/2023 15:43:47] \"POST /completions HTTP/1.1\" 200 -\n",
      "INFO:werkzeug:127.0.0.1 - - [09/Nov/2023 15:43:47] \"POST /completions HTTP/1.1\" 200 -\n",
      "INFO:werkzeug:127.0.0.1 - - [09/Nov/2023 15:43:47] \"POST /completions HTTP/1.1\" 200 -\n",
      "INFO:werkzeug:127.0.0.1 - - [09/Nov/2023 15:43:47] \"POST /completions HTTP/1.1\" 200 -\n",
      "INFO:werkzeug:127.0.0.1 - - [09/Nov/2023 15:43:47] \"POST /completions HTTP/1.1\" 200 -\n",
      "INFO:werkzeug:127.0.0.1 - - [09/Nov/2023 15:43:47] \"POST /completions HTTP/1.1\" 200 -\n",
      "INFO:werkzeug:127.0.0.1 - - [09/Nov/2023 15:43:47] \"POST /completions HTTP/1.1\" 200 -\n",
      "INFO:werkzeug:127.0.0.1 - - [09/Nov/2023 15:43:47] \"POST /completions HTTP/1.1\" 200 -\n",
      "INFO:werkzeug:127.0.0.1 - - [09/Nov/2023 15:43:47] \"POST /completions HTTP/1.1\" 200 -\n",
      "INFO:werkzeug:127.0.0.1 - - [09/Nov/2023 15:43:47] \"POST /completions HTTP/1.1\" 200 -\n",
      "INFO:werkzeug:127.0.0.1 - - [09/Nov/2023 15:43:47] \"POST /completions HTTP/1.1\" 200 -\n",
      "INFO:werkzeug:127.0.0.1 - - [09/Nov/2023 15:43:47] \"POST /completions HTTP/1.1\" 200 -\n",
      "INFO:werkzeug:127.0.0.1 - - [09/Nov/2023 15:43:47] \"POST /completions HTTP/1.1\" 200 -\n",
      "INFO:werkzeug:127.0.0.1 - - [09/Nov/2023 15:43:47] \"POST /completions HTTP/1.1\" 200 -\n",
      "INFO:werkzeug:127.0.0.1 - - [09/Nov/2023 15:43:47] \"POST /completions HTTP/1.1\" 200 -\n",
      "INFO:werkzeug:127.0.0.1 - - [09/Nov/2023 15:43:47] \"POST /completions HTTP/1.1\" 200 -\n",
      "INFO:werkzeug:127.0.0.1 - - [09/Nov/2023 15:43:47] \"POST /completions HTTP/1.1\" 200 -\n",
      "INFO:werkzeug:127.0.0.1 - - [09/Nov/2023 15:43:47] \"POST /completions HTTP/1.1\" 200 -\n",
      "INFO:werkzeug:127.0.0.1 - - [09/Nov/2023 15:43:47] \"POST /completions HTTP/1.1\" 200 -\n",
      "INFO:werkzeug:127.0.0.1 - - [09/Nov/2023 15:43:47] \"POST /completions HTTP/1.1\" 200 -\n",
      "INFO:werkzeug:127.0.0.1 - - [09/Nov/2023 15:43:47] \"POST /completions HTTP/1.1\" 200 -\n",
      "INFO:werkzeug:127.0.0.1 - - [09/Nov/2023 15:43:47] \"POST /completions HTTP/1.1\" 200 -\n",
      "INFO:werkzeug:127.0.0.1 - - [09/Nov/2023 15:43:47] \"POST /completions HTTP/1.1\" 200 -\n",
      "INFO:werkzeug:127.0.0.1 - - [09/Nov/2023 15:43:47] \"POST /completions HTTP/1.1\" 200 -\n",
      "INFO:werkzeug:127.0.0.1 - - [09/Nov/2023 15:43:47] \"POST /completions HTTP/1.1\" 200 -\n",
      "INFO:werkzeug:127.0.0.1 - - [09/Nov/2023 15:43:47] \"POST /completions HTTP/1.1\" 200 -\n"
     ]
    },
    {
     "name": "stdout",
     "output_type": "stream",
     "text": [
      "flushing 0.7 0\n"
     ]
    },
    {
     "name": "stderr",
     "output_type": "stream",
     "text": [
      "INFO:werkzeug:127.0.0.1 - - [09/Nov/2023 15:43:58] \"POST /completions HTTP/1.1\" 200 -\n",
      "INFO:werkzeug:127.0.0.1 - - [09/Nov/2023 15:43:58] \"POST /completions HTTP/1.1\" 200 -\n",
      "INFO:werkzeug:127.0.0.1 - - [09/Nov/2023 15:43:58] \"POST /completions HTTP/1.1\" 200 -\n",
      "INFO:werkzeug:127.0.0.1 - - [09/Nov/2023 15:43:58] \"POST /completions HTTP/1.1\" 200 -\n",
      "INFO:werkzeug:127.0.0.1 - - [09/Nov/2023 15:43:58] \"POST /completions HTTP/1.1\" 200 -\n",
      "INFO:werkzeug:127.0.0.1 - - [09/Nov/2023 15:43:58] \"POST /completions HTTP/1.1\" 200 -\n",
      "INFO:werkzeug:127.0.0.1 - - [09/Nov/2023 15:43:58] \"POST /completions HTTP/1.1\" 200 -\n",
      "INFO:werkzeug:127.0.0.1 - - [09/Nov/2023 15:43:58] \"POST /completions HTTP/1.1\" 200 -\n",
      "INFO:werkzeug:127.0.0.1 - - [09/Nov/2023 15:43:58] \"POST /completions HTTP/1.1\" 200 -\n",
      "INFO:werkzeug:127.0.0.1 - - [09/Nov/2023 15:43:58] \"POST /completions HTTP/1.1\" 200 -\n",
      "INFO:werkzeug:127.0.0.1 - - [09/Nov/2023 15:43:58] \"POST /completions HTTP/1.1\" 200 -\n",
      "INFO:werkzeug:127.0.0.1 - - [09/Nov/2023 15:43:58] \"POST /completions HTTP/1.1\" 200 -\n",
      "INFO:werkzeug:127.0.0.1 - - [09/Nov/2023 15:43:58] \"POST /completions HTTP/1.1\" 200 -\n",
      "INFO:werkzeug:127.0.0.1 - - [09/Nov/2023 15:43:58] \"POST /completions HTTP/1.1\" 200 -\n",
      "INFO:werkzeug:127.0.0.1 - - [09/Nov/2023 15:43:58] \"POST /completions HTTP/1.1\" 200 -\n",
      "INFO:werkzeug:127.0.0.1 - - [09/Nov/2023 15:43:58] \"POST /completions HTTP/1.1\" 200 -\n",
      "INFO:werkzeug:127.0.0.1 - - [09/Nov/2023 15:43:58] \"POST /completions HTTP/1.1\" 200 -\n",
      "INFO:werkzeug:127.0.0.1 - - [09/Nov/2023 15:43:58] \"POST /completions HTTP/1.1\" 200 -\n",
      "INFO:werkzeug:127.0.0.1 - - [09/Nov/2023 15:43:58] \"POST /completions HTTP/1.1\" 200 -\n",
      "INFO:werkzeug:127.0.0.1 - - [09/Nov/2023 15:43:58] \"POST /completions HTTP/1.1\" 200 -\n",
      "INFO:werkzeug:127.0.0.1 - - [09/Nov/2023 15:43:58] \"POST /completions HTTP/1.1\" 200 -\n",
      "INFO:werkzeug:127.0.0.1 - - [09/Nov/2023 15:43:58] \"POST /completions HTTP/1.1\" 200 -\n",
      "INFO:werkzeug:127.0.0.1 - - [09/Nov/2023 15:43:58] \"POST /completions HTTP/1.1\" 200 -\n",
      "INFO:werkzeug:127.0.0.1 - - [09/Nov/2023 15:43:58] \"POST /completions HTTP/1.1\" 200 -\n",
      "INFO:werkzeug:127.0.0.1 - - [09/Nov/2023 15:43:58] \"POST /completions HTTP/1.1\" 200 -\n",
      "INFO:werkzeug:127.0.0.1 - - [09/Nov/2023 15:43:58] \"POST /completions HTTP/1.1\" 200 -\n",
      "INFO:werkzeug:127.0.0.1 - - [09/Nov/2023 15:43:58] \"POST /completions HTTP/1.1\" 200 -\n",
      "INFO:werkzeug:127.0.0.1 - - [09/Nov/2023 15:43:58] \"POST /completions HTTP/1.1\" 200 -\n",
      "INFO:werkzeug:127.0.0.1 - - [09/Nov/2023 15:43:58] \"POST /completions HTTP/1.1\" 200 -\n",
      "INFO:werkzeug:127.0.0.1 - - [09/Nov/2023 15:43:58] \"POST /completions HTTP/1.1\" 200 -\n",
      "INFO:werkzeug:127.0.0.1 - - [09/Nov/2023 15:43:58] \"POST /completions HTTP/1.1\" 200 -\n",
      "INFO:werkzeug:127.0.0.1 - - [09/Nov/2023 15:43:58] \"POST /completions HTTP/1.1\" 200 -\n"
     ]
    },
    {
     "name": "stdout",
     "output_type": "stream",
     "text": [
      "flushing 0.7 0\n"
     ]
    },
    {
     "name": "stderr",
     "output_type": "stream",
     "text": [
      "INFO:werkzeug:127.0.0.1 - - [09/Nov/2023 15:44:13] \"POST /completions HTTP/1.1\" 200 -\n",
      "INFO:werkzeug:127.0.0.1 - - [09/Nov/2023 15:44:13] \"POST /completions HTTP/1.1\" 200 -\n",
      "INFO:werkzeug:127.0.0.1 - - [09/Nov/2023 15:44:13] \"POST /completions HTTP/1.1\" 200 -\n",
      "INFO:werkzeug:127.0.0.1 - - [09/Nov/2023 15:44:13] \"POST /completions HTTP/1.1\" 200 -\n",
      "INFO:werkzeug:127.0.0.1 - - [09/Nov/2023 15:44:13] \"POST /completions HTTP/1.1\" 200 -\n",
      "INFO:werkzeug:127.0.0.1 - - [09/Nov/2023 15:44:13] \"POST /completions HTTP/1.1\" 200 -\n",
      "INFO:werkzeug:127.0.0.1 - - [09/Nov/2023 15:44:13] \"POST /completions HTTP/1.1\" 200 -\n",
      "INFO:werkzeug:127.0.0.1 - - [09/Nov/2023 15:44:13] \"POST /completions HTTP/1.1\" 200 -\n",
      "INFO:werkzeug:127.0.0.1 - - [09/Nov/2023 15:44:13] \"POST /completions HTTP/1.1\" 200 -\n",
      "INFO:werkzeug:127.0.0.1 - - [09/Nov/2023 15:44:13] \"POST /completions HTTP/1.1\" 200 -\n",
      "INFO:werkzeug:127.0.0.1 - - [09/Nov/2023 15:44:13] \"POST /completions HTTP/1.1\" 200 -\n",
      "INFO:werkzeug:127.0.0.1 - - [09/Nov/2023 15:44:13] \"POST /completions HTTP/1.1\" 200 -\n",
      "INFO:werkzeug:127.0.0.1 - - [09/Nov/2023 15:44:13] \"POST /completions HTTP/1.1\" 200 -\n",
      "INFO:werkzeug:127.0.0.1 - - [09/Nov/2023 15:44:13] \"POST /completions HTTP/1.1\" 200 -\n",
      "INFO:werkzeug:127.0.0.1 - - [09/Nov/2023 15:44:13] \"POST /completions HTTP/1.1\" 200 -\n",
      "INFO:werkzeug:127.0.0.1 - - [09/Nov/2023 15:44:13] \"POST /completions HTTP/1.1\" 200 -\n",
      "INFO:werkzeug:127.0.0.1 - - [09/Nov/2023 15:44:13] \"POST /completions HTTP/1.1\" 200 -\n",
      "INFO:werkzeug:127.0.0.1 - - [09/Nov/2023 15:44:13] \"POST /completions HTTP/1.1\" 200 -\n",
      "INFO:werkzeug:127.0.0.1 - - [09/Nov/2023 15:44:13] \"POST /completions HTTP/1.1\" 200 -\n",
      "INFO:werkzeug:127.0.0.1 - - [09/Nov/2023 15:44:13] \"POST /completions HTTP/1.1\" 200 -\n",
      "INFO:werkzeug:127.0.0.1 - - [09/Nov/2023 15:44:13] \"POST /completions HTTP/1.1\" 200 -\n",
      "INFO:werkzeug:127.0.0.1 - - [09/Nov/2023 15:44:13] \"POST /completions HTTP/1.1\" 200 -\n",
      "INFO:werkzeug:127.0.0.1 - - [09/Nov/2023 15:44:13] \"POST /completions HTTP/1.1\" 200 -\n",
      "INFO:werkzeug:127.0.0.1 - - [09/Nov/2023 15:44:13] \"POST /completions HTTP/1.1\" 200 -\n",
      "INFO:werkzeug:127.0.0.1 - - [09/Nov/2023 15:44:13] \"POST /completions HTTP/1.1\" 200 -\n",
      "INFO:werkzeug:127.0.0.1 - - [09/Nov/2023 15:44:13] \"POST /completions HTTP/1.1\" 200 -\n",
      "INFO:werkzeug:127.0.0.1 - - [09/Nov/2023 15:44:13] \"POST /completions HTTP/1.1\" 200 -\n",
      "INFO:werkzeug:127.0.0.1 - - [09/Nov/2023 15:44:13] \"POST /completions HTTP/1.1\" 200 -\n",
      "INFO:werkzeug:127.0.0.1 - - [09/Nov/2023 15:44:13] \"POST /completions HTTP/1.1\" 200 -\n",
      "INFO:werkzeug:127.0.0.1 - - [09/Nov/2023 15:44:13] \"POST /completions HTTP/1.1\" 200 -\n",
      "INFO:werkzeug:127.0.0.1 - - [09/Nov/2023 15:44:13] \"POST /completions HTTP/1.1\" 200 -\n",
      "INFO:werkzeug:127.0.0.1 - - [09/Nov/2023 15:44:13] \"POST /completions HTTP/1.1\" 200 -\n"
     ]
    },
    {
     "name": "stdout",
     "output_type": "stream",
     "text": [
      "flushing 0.7 0\n"
     ]
    },
    {
     "name": "stderr",
     "output_type": "stream",
     "text": [
      "INFO:werkzeug:127.0.0.1 - - [09/Nov/2023 15:44:54] \"POST /completions HTTP/1.1\" 200 -\n",
      "INFO:werkzeug:127.0.0.1 - - [09/Nov/2023 15:44:54] \"POST /completions HTTP/1.1\" 200 -\n",
      "INFO:werkzeug:127.0.0.1 - - [09/Nov/2023 15:44:54] \"POST /completions HTTP/1.1\" 200 -\n",
      "INFO:werkzeug:127.0.0.1 - - [09/Nov/2023 15:44:54] \"POST /completions HTTP/1.1\" 200 -\n",
      "INFO:werkzeug:127.0.0.1 - - [09/Nov/2023 15:44:54] \"POST /completions HTTP/1.1\" 200 -\n",
      "INFO:werkzeug:127.0.0.1 - - [09/Nov/2023 15:44:54] \"POST /completions HTTP/1.1\" 200 -\n",
      "INFO:werkzeug:127.0.0.1 - - [09/Nov/2023 15:44:54] \"POST /completions HTTP/1.1\" 200 -\n",
      "INFO:werkzeug:127.0.0.1 - - [09/Nov/2023 15:44:54] \"POST /completions HTTP/1.1\" 200 -\n",
      "INFO:werkzeug:127.0.0.1 - - [09/Nov/2023 15:44:54] \"POST /completions HTTP/1.1\" 200 -\n",
      "INFO:werkzeug:127.0.0.1 - - [09/Nov/2023 15:44:54] \"POST /completions HTTP/1.1\" 200 -\n",
      "INFO:werkzeug:127.0.0.1 - - [09/Nov/2023 15:44:54] \"POST /completions HTTP/1.1\" 200 -\n",
      "INFO:werkzeug:127.0.0.1 - - [09/Nov/2023 15:44:54] \"POST /completions HTTP/1.1\" 200 -\n",
      "INFO:werkzeug:127.0.0.1 - - [09/Nov/2023 15:44:54] \"POST /completions HTTP/1.1\" 200 -\n",
      "INFO:werkzeug:127.0.0.1 - - [09/Nov/2023 15:44:54] \"POST /completions HTTP/1.1\" 200 -\n",
      "INFO:werkzeug:127.0.0.1 - - [09/Nov/2023 15:44:54] \"POST /completions HTTP/1.1\" 200 -\n",
      "INFO:werkzeug:127.0.0.1 - - [09/Nov/2023 15:44:54] \"POST /completions HTTP/1.1\" 200 -\n",
      "INFO:werkzeug:127.0.0.1 - - [09/Nov/2023 15:44:54] \"POST /completions HTTP/1.1\" 200 -\n",
      "INFO:werkzeug:127.0.0.1 - - [09/Nov/2023 15:44:54] \"POST /completions HTTP/1.1\" 200 -\n",
      "INFO:werkzeug:127.0.0.1 - - [09/Nov/2023 15:44:54] \"POST /completions HTTP/1.1\" 200 -\n",
      "INFO:werkzeug:127.0.0.1 - - [09/Nov/2023 15:44:54] \"POST /completions HTTP/1.1\" 200 -\n",
      "INFO:werkzeug:127.0.0.1 - - [09/Nov/2023 15:44:54] \"POST /completions HTTP/1.1\" 200 -\n",
      "INFO:werkzeug:127.0.0.1 - - [09/Nov/2023 15:44:54] \"POST /completions HTTP/1.1\" 200 -\n",
      "INFO:werkzeug:127.0.0.1 - - [09/Nov/2023 15:44:54] \"POST /completions HTTP/1.1\" 200 -\n",
      "INFO:werkzeug:127.0.0.1 - - [09/Nov/2023 15:44:54] \"POST /completions HTTP/1.1\" 200 -\n",
      "INFO:werkzeug:127.0.0.1 - - [09/Nov/2023 15:44:54] \"POST /completions HTTP/1.1\" 200 -\n",
      "INFO:werkzeug:127.0.0.1 - - [09/Nov/2023 15:44:54] \"POST /completions HTTP/1.1\" 200 -\n",
      "INFO:werkzeug:127.0.0.1 - - [09/Nov/2023 15:44:54] \"POST /completions HTTP/1.1\" 200 -\n",
      "INFO:werkzeug:127.0.0.1 - - [09/Nov/2023 15:44:54] \"POST /completions HTTP/1.1\" 200 -\n",
      "INFO:werkzeug:127.0.0.1 - - [09/Nov/2023 15:44:54] \"POST /completions HTTP/1.1\" 200 -\n",
      "INFO:werkzeug:127.0.0.1 - - [09/Nov/2023 15:44:54] \"POST /completions HTTP/1.1\" 200 -\n",
      "INFO:werkzeug:127.0.0.1 - - [09/Nov/2023 15:44:54] \"POST /completions HTTP/1.1\" 200 -\n",
      "INFO:werkzeug:127.0.0.1 - - [09/Nov/2023 15:44:54] \"POST /completions HTTP/1.1\" 200 -\n"
     ]
    },
    {
     "name": "stdout",
     "output_type": "stream",
     "text": [
      "flushing 0.7 0\n"
     ]
    },
    {
     "name": "stderr",
     "output_type": "stream",
     "text": [
      "INFO:werkzeug:127.0.0.1 - - [09/Nov/2023 15:45:07] \"POST /completions HTTP/1.1\" 200 -\n",
      "INFO:werkzeug:127.0.0.1 - - [09/Nov/2023 15:45:07] \"POST /completions HTTP/1.1\" 200 -\n",
      "INFO:werkzeug:127.0.0.1 - - [09/Nov/2023 15:45:07] \"POST /completions HTTP/1.1\" 200 -\n",
      "INFO:werkzeug:127.0.0.1 - - [09/Nov/2023 15:45:07] \"POST /completions HTTP/1.1\" 200 -\n",
      "INFO:werkzeug:127.0.0.1 - - [09/Nov/2023 15:45:07] \"POST /completions HTTP/1.1\" 200 -\n",
      "INFO:werkzeug:127.0.0.1 - - [09/Nov/2023 15:45:07] \"POST /completions HTTP/1.1\" 200 -\n",
      "INFO:werkzeug:127.0.0.1 - - [09/Nov/2023 15:45:07] \"POST /completions HTTP/1.1\" 200 -\n",
      "INFO:werkzeug:127.0.0.1 - - [09/Nov/2023 15:45:07] \"POST /completions HTTP/1.1\" 200 -\n",
      "INFO:werkzeug:127.0.0.1 - - [09/Nov/2023 15:45:07] \"POST /completions HTTP/1.1\" 200 -\n",
      "INFO:werkzeug:127.0.0.1 - - [09/Nov/2023 15:45:07] \"POST /completions HTTP/1.1\" 200 -\n",
      "INFO:werkzeug:127.0.0.1 - - [09/Nov/2023 15:45:07] \"POST /completions HTTP/1.1\" 200 -\n",
      "INFO:werkzeug:127.0.0.1 - - [09/Nov/2023 15:45:07] \"POST /completions HTTP/1.1\" 200 -\n",
      "INFO:werkzeug:127.0.0.1 - - [09/Nov/2023 15:45:07] \"POST /completions HTTP/1.1\" 200 -\n",
      "INFO:werkzeug:127.0.0.1 - - [09/Nov/2023 15:45:07] \"POST /completions HTTP/1.1\" 200 -\n",
      "INFO:werkzeug:127.0.0.1 - - [09/Nov/2023 15:45:07] \"POST /completions HTTP/1.1\" 200 -\n",
      "INFO:werkzeug:127.0.0.1 - - [09/Nov/2023 15:45:07] \"POST /completions HTTP/1.1\" 200 -\n",
      "INFO:werkzeug:127.0.0.1 - - [09/Nov/2023 15:45:07] \"POST /completions HTTP/1.1\" 200 -\n",
      "INFO:werkzeug:127.0.0.1 - - [09/Nov/2023 15:45:07] \"POST /completions HTTP/1.1\" 200 -\n",
      "INFO:werkzeug:127.0.0.1 - - [09/Nov/2023 15:45:07] \"POST /completions HTTP/1.1\" 200 -\n",
      "INFO:werkzeug:127.0.0.1 - - [09/Nov/2023 15:45:07] \"POST /completions HTTP/1.1\" 200 -\n",
      "INFO:werkzeug:127.0.0.1 - - [09/Nov/2023 15:45:07] \"POST /completions HTTP/1.1\" 200 -\n",
      "INFO:werkzeug:127.0.0.1 - - [09/Nov/2023 15:45:07] \"POST /completions HTTP/1.1\" 200 -\n",
      "INFO:werkzeug:127.0.0.1 - - [09/Nov/2023 15:45:07] \"POST /completions HTTP/1.1\" 200 -\n",
      "INFO:werkzeug:127.0.0.1 - - [09/Nov/2023 15:45:07] \"POST /completions HTTP/1.1\" 200 -\n",
      "INFO:werkzeug:127.0.0.1 - - [09/Nov/2023 15:45:07] \"POST /completions HTTP/1.1\" 200 -\n",
      "INFO:werkzeug:127.0.0.1 - - [09/Nov/2023 15:45:07] \"POST /completions HTTP/1.1\" 200 -\n",
      "INFO:werkzeug:127.0.0.1 - - [09/Nov/2023 15:45:07] \"POST /completions HTTP/1.1\" 200 -\n",
      "INFO:werkzeug:127.0.0.1 - - [09/Nov/2023 15:45:07] \"POST /completions HTTP/1.1\" 200 -\n",
      "INFO:werkzeug:127.0.0.1 - - [09/Nov/2023 15:45:07] \"POST /completions HTTP/1.1\" 200 -\n",
      "INFO:werkzeug:127.0.0.1 - - [09/Nov/2023 15:45:07] \"POST /completions HTTP/1.1\" 200 -\n",
      "INFO:werkzeug:127.0.0.1 - - [09/Nov/2023 15:45:07] \"POST /completions HTTP/1.1\" 200 -\n",
      "INFO:werkzeug:127.0.0.1 - - [09/Nov/2023 15:45:07] \"POST /completions HTTP/1.1\" 200 -\n"
     ]
    },
    {
     "name": "stdout",
     "output_type": "stream",
     "text": [
      "flushing 0.7 0\n"
     ]
    },
    {
     "name": "stderr",
     "output_type": "stream",
     "text": [
      "INFO:werkzeug:127.0.0.1 - - [09/Nov/2023 15:45:20] \"POST /completions HTTP/1.1\" 200 -\n",
      "INFO:werkzeug:127.0.0.1 - - [09/Nov/2023 15:45:20] \"POST /completions HTTP/1.1\" 200 -\n",
      "INFO:werkzeug:127.0.0.1 - - [09/Nov/2023 15:45:20] \"POST /completions HTTP/1.1\" 200 -\n",
      "INFO:werkzeug:127.0.0.1 - - [09/Nov/2023 15:45:20] \"POST /completions HTTP/1.1\" 200 -\n",
      "INFO:werkzeug:127.0.0.1 - - [09/Nov/2023 15:45:20] \"POST /completions HTTP/1.1\" 200 -\n",
      "INFO:werkzeug:127.0.0.1 - - [09/Nov/2023 15:45:20] \"POST /completions HTTP/1.1\" 200 -\n",
      "INFO:werkzeug:127.0.0.1 - - [09/Nov/2023 15:45:20] \"POST /completions HTTP/1.1\" 200 -\n",
      "INFO:werkzeug:127.0.0.1 - - [09/Nov/2023 15:45:20] \"POST /completions HTTP/1.1\" 200 -\n",
      "INFO:werkzeug:127.0.0.1 - - [09/Nov/2023 15:45:20] \"POST /completions HTTP/1.1\" 200 -\n",
      "INFO:werkzeug:127.0.0.1 - - [09/Nov/2023 15:45:20] \"POST /completions HTTP/1.1\" 200 -\n",
      "INFO:werkzeug:127.0.0.1 - - [09/Nov/2023 15:45:20] \"POST /completions HTTP/1.1\" 200 -\n",
      "INFO:werkzeug:127.0.0.1 - - [09/Nov/2023 15:45:20] \"POST /completions HTTP/1.1\" 200 -\n",
      "INFO:werkzeug:127.0.0.1 - - [09/Nov/2023 15:45:20] \"POST /completions HTTP/1.1\" 200 -\n",
      "INFO:werkzeug:127.0.0.1 - - [09/Nov/2023 15:45:20] \"POST /completions HTTP/1.1\" 200 -\n",
      "INFO:werkzeug:127.0.0.1 - - [09/Nov/2023 15:45:20] \"POST /completions HTTP/1.1\" 200 -\n",
      "INFO:werkzeug:127.0.0.1 - - [09/Nov/2023 15:45:20] \"POST /completions HTTP/1.1\" 200 -\n",
      "INFO:werkzeug:127.0.0.1 - - [09/Nov/2023 15:45:20] \"POST /completions HTTP/1.1\" 200 -\n",
      "INFO:werkzeug:127.0.0.1 - - [09/Nov/2023 15:45:20] \"POST /completions HTTP/1.1\" 200 -\n",
      "INFO:werkzeug:127.0.0.1 - - [09/Nov/2023 15:45:20] \"POST /completions HTTP/1.1\" 200 -\n",
      "INFO:werkzeug:127.0.0.1 - - [09/Nov/2023 15:45:20] \"POST /completions HTTP/1.1\" 200 -\n",
      "INFO:werkzeug:127.0.0.1 - - [09/Nov/2023 15:45:20] \"POST /completions HTTP/1.1\" 200 -\n",
      "INFO:werkzeug:127.0.0.1 - - [09/Nov/2023 15:45:20] \"POST /completions HTTP/1.1\" 200 -\n",
      "INFO:werkzeug:127.0.0.1 - - [09/Nov/2023 15:45:20] \"POST /completions HTTP/1.1\" 200 -\n",
      "INFO:werkzeug:127.0.0.1 - - [09/Nov/2023 15:45:20] \"POST /completions HTTP/1.1\" 200 -\n",
      "INFO:werkzeug:127.0.0.1 - - [09/Nov/2023 15:45:20] \"POST /completions HTTP/1.1\" 200 -\n",
      "INFO:werkzeug:127.0.0.1 - - [09/Nov/2023 15:45:20] \"POST /completions HTTP/1.1\" 200 -\n",
      "INFO:werkzeug:127.0.0.1 - - [09/Nov/2023 15:45:20] \"POST /completions HTTP/1.1\" 200 -\n",
      "INFO:werkzeug:127.0.0.1 - - [09/Nov/2023 15:45:20] \"POST /completions HTTP/1.1\" 200 -\n",
      "INFO:werkzeug:127.0.0.1 - - [09/Nov/2023 15:45:20] \"POST /completions HTTP/1.1\" 200 -\n",
      "INFO:werkzeug:127.0.0.1 - - [09/Nov/2023 15:45:20] \"POST /completions HTTP/1.1\" 200 -\n",
      "INFO:werkzeug:127.0.0.1 - - [09/Nov/2023 15:45:20] \"POST /completions HTTP/1.1\" 200 -\n",
      "INFO:werkzeug:127.0.0.1 - - [09/Nov/2023 15:45:20] \"POST /completions HTTP/1.1\" 200 -\n"
     ]
    },
    {
     "name": "stdout",
     "output_type": "stream",
     "text": [
      "flushing 0.7 0\n"
     ]
    },
    {
     "name": "stderr",
     "output_type": "stream",
     "text": [
      "INFO:werkzeug:127.0.0.1 - - [09/Nov/2023 15:45:39] \"POST /completions HTTP/1.1\" 200 -\n",
      "INFO:werkzeug:127.0.0.1 - - [09/Nov/2023 15:45:39] \"POST /completions HTTP/1.1\" 200 -\n",
      "INFO:werkzeug:127.0.0.1 - - [09/Nov/2023 15:45:39] \"POST /completions HTTP/1.1\" 200 -\n",
      "INFO:werkzeug:127.0.0.1 - - [09/Nov/2023 15:45:39] \"POST /completions HTTP/1.1\" 200 -\n",
      "INFO:werkzeug:127.0.0.1 - - [09/Nov/2023 15:45:39] \"POST /completions HTTP/1.1\" 200 -\n",
      "INFO:werkzeug:127.0.0.1 - - [09/Nov/2023 15:45:39] \"POST /completions HTTP/1.1\" 200 -\n",
      "INFO:werkzeug:127.0.0.1 - - [09/Nov/2023 15:45:39] \"POST /completions HTTP/1.1\" 200 -\n",
      "INFO:werkzeug:127.0.0.1 - - [09/Nov/2023 15:45:39] \"POST /completions HTTP/1.1\" 200 -\n",
      "INFO:werkzeug:127.0.0.1 - - [09/Nov/2023 15:45:39] \"POST /completions HTTP/1.1\" 200 -\n",
      "INFO:werkzeug:127.0.0.1 - - [09/Nov/2023 15:45:39] \"POST /completions HTTP/1.1\" 200 -\n",
      "INFO:werkzeug:127.0.0.1 - - [09/Nov/2023 15:45:39] \"POST /completions HTTP/1.1\" 200 -\n",
      "INFO:werkzeug:127.0.0.1 - - [09/Nov/2023 15:45:39] \"POST /completions HTTP/1.1\" 200 -\n",
      "INFO:werkzeug:127.0.0.1 - - [09/Nov/2023 15:45:39] \"POST /completions HTTP/1.1\" 200 -\n",
      "INFO:werkzeug:127.0.0.1 - - [09/Nov/2023 15:45:39] \"POST /completions HTTP/1.1\" 200 -\n",
      "INFO:werkzeug:127.0.0.1 - - [09/Nov/2023 15:45:39] \"POST /completions HTTP/1.1\" 200 -\n",
      "INFO:werkzeug:127.0.0.1 - - [09/Nov/2023 15:45:39] \"POST /completions HTTP/1.1\" 200 -\n",
      "INFO:werkzeug:127.0.0.1 - - [09/Nov/2023 15:45:39] \"POST /completions HTTP/1.1\" 200 -\n",
      "INFO:werkzeug:127.0.0.1 - - [09/Nov/2023 15:45:39] \"POST /completions HTTP/1.1\" 200 -\n",
      "INFO:werkzeug:127.0.0.1 - - [09/Nov/2023 15:45:39] \"POST /completions HTTP/1.1\" 200 -\n",
      "INFO:werkzeug:127.0.0.1 - - [09/Nov/2023 15:45:39] \"POST /completions HTTP/1.1\" 200 -\n",
      "INFO:werkzeug:127.0.0.1 - - [09/Nov/2023 15:45:39] \"POST /completions HTTP/1.1\" 200 -\n",
      "INFO:werkzeug:127.0.0.1 - - [09/Nov/2023 15:45:39] \"POST /completions HTTP/1.1\" 200 -\n",
      "INFO:werkzeug:127.0.0.1 - - [09/Nov/2023 15:45:39] \"POST /completions HTTP/1.1\" 200 -\n",
      "INFO:werkzeug:127.0.0.1 - - [09/Nov/2023 15:45:39] \"POST /completions HTTP/1.1\" 200 -\n",
      "INFO:werkzeug:127.0.0.1 - - [09/Nov/2023 15:45:39] \"POST /completions HTTP/1.1\" 200 -\n",
      "INFO:werkzeug:127.0.0.1 - - [09/Nov/2023 15:45:39] \"POST /completions HTTP/1.1\" 200 -\n",
      "INFO:werkzeug:127.0.0.1 - - [09/Nov/2023 15:45:39] \"POST /completions HTTP/1.1\" 200 -\n",
      "INFO:werkzeug:127.0.0.1 - - [09/Nov/2023 15:45:39] \"POST /completions HTTP/1.1\" 200 -\n",
      "INFO:werkzeug:127.0.0.1 - - [09/Nov/2023 15:45:39] \"POST /completions HTTP/1.1\" 200 -\n",
      "INFO:werkzeug:127.0.0.1 - - [09/Nov/2023 15:45:39] \"POST /completions HTTP/1.1\" 200 -\n",
      "INFO:werkzeug:127.0.0.1 - - [09/Nov/2023 15:45:39] \"POST /completions HTTP/1.1\" 200 -\n",
      "INFO:werkzeug:127.0.0.1 - - [09/Nov/2023 15:45:39] \"POST /completions HTTP/1.1\" 200 -\n"
     ]
    },
    {
     "name": "stdout",
     "output_type": "stream",
     "text": [
      "flushing 0.7 0\n"
     ]
    },
    {
     "name": "stderr",
     "output_type": "stream",
     "text": [
      "INFO:werkzeug:127.0.0.1 - - [09/Nov/2023 15:45:55] \"POST /completions HTTP/1.1\" 200 -\n",
      "INFO:werkzeug:127.0.0.1 - - [09/Nov/2023 15:45:55] \"POST /completions HTTP/1.1\" 200 -\n",
      "INFO:werkzeug:127.0.0.1 - - [09/Nov/2023 15:45:55] \"POST /completions HTTP/1.1\" 200 -\n",
      "INFO:werkzeug:127.0.0.1 - - [09/Nov/2023 15:45:55] \"POST /completions HTTP/1.1\" 200 -\n",
      "INFO:werkzeug:127.0.0.1 - - [09/Nov/2023 15:45:55] \"POST /completions HTTP/1.1\" 200 -\n",
      "INFO:werkzeug:127.0.0.1 - - [09/Nov/2023 15:45:55] \"POST /completions HTTP/1.1\" 200 -\n",
      "INFO:werkzeug:127.0.0.1 - - [09/Nov/2023 15:45:55] \"POST /completions HTTP/1.1\" 200 -\n",
      "INFO:werkzeug:127.0.0.1 - - [09/Nov/2023 15:45:55] \"POST /completions HTTP/1.1\" 200 -\n",
      "INFO:werkzeug:127.0.0.1 - - [09/Nov/2023 15:45:55] \"POST /completions HTTP/1.1\" 200 -\n",
      "INFO:werkzeug:127.0.0.1 - - [09/Nov/2023 15:45:55] \"POST /completions HTTP/1.1\" 200 -\n",
      "INFO:werkzeug:127.0.0.1 - - [09/Nov/2023 15:45:55] \"POST /completions HTTP/1.1\" 200 -\n",
      "INFO:werkzeug:127.0.0.1 - - [09/Nov/2023 15:45:55] \"POST /completions HTTP/1.1\" 200 -\n",
      "INFO:werkzeug:127.0.0.1 - - [09/Nov/2023 15:45:55] \"POST /completions HTTP/1.1\" 200 -\n",
      "INFO:werkzeug:127.0.0.1 - - [09/Nov/2023 15:45:55] \"POST /completions HTTP/1.1\" 200 -\n",
      "INFO:werkzeug:127.0.0.1 - - [09/Nov/2023 15:45:55] \"POST /completions HTTP/1.1\" 200 -\n",
      "INFO:werkzeug:127.0.0.1 - - [09/Nov/2023 15:45:55] \"POST /completions HTTP/1.1\" 200 -\n",
      "INFO:werkzeug:127.0.0.1 - - [09/Nov/2023 15:45:55] \"POST /completions HTTP/1.1\" 200 -\n",
      "INFO:werkzeug:127.0.0.1 - - [09/Nov/2023 15:45:55] \"POST /completions HTTP/1.1\" 200 -\n",
      "INFO:werkzeug:127.0.0.1 - - [09/Nov/2023 15:45:55] \"POST /completions HTTP/1.1\" 200 -\n",
      "INFO:werkzeug:127.0.0.1 - - [09/Nov/2023 15:45:55] \"POST /completions HTTP/1.1\" 200 -\n",
      "INFO:werkzeug:127.0.0.1 - - [09/Nov/2023 15:45:55] \"POST /completions HTTP/1.1\" 200 -\n",
      "INFO:werkzeug:127.0.0.1 - - [09/Nov/2023 15:45:55] \"POST /completions HTTP/1.1\" 200 -\n",
      "INFO:werkzeug:127.0.0.1 - - [09/Nov/2023 15:45:55] \"POST /completions HTTP/1.1\" 200 -\n",
      "INFO:werkzeug:127.0.0.1 - - [09/Nov/2023 15:45:55] \"POST /completions HTTP/1.1\" 200 -\n",
      "INFO:werkzeug:127.0.0.1 - - [09/Nov/2023 15:45:55] \"POST /completions HTTP/1.1\" 200 -\n",
      "INFO:werkzeug:127.0.0.1 - - [09/Nov/2023 15:45:55] \"POST /completions HTTP/1.1\" 200 -\n",
      "INFO:werkzeug:127.0.0.1 - - [09/Nov/2023 15:45:55] \"POST /completions HTTP/1.1\" 200 -\n",
      "INFO:werkzeug:127.0.0.1 - - [09/Nov/2023 15:45:55] \"POST /completions HTTP/1.1\" 200 -\n",
      "INFO:werkzeug:127.0.0.1 - - [09/Nov/2023 15:45:55] \"POST /completions HTTP/1.1\" 200 -\n",
      "INFO:werkzeug:127.0.0.1 - - [09/Nov/2023 15:45:55] \"POST /completions HTTP/1.1\" 200 -\n",
      "INFO:werkzeug:127.0.0.1 - - [09/Nov/2023 15:45:55] \"POST /completions HTTP/1.1\" 200 -\n",
      "INFO:werkzeug:127.0.0.1 - - [09/Nov/2023 15:45:55] \"POST /completions HTTP/1.1\" 200 -\n"
     ]
    },
    {
     "name": "stdout",
     "output_type": "stream",
     "text": [
      "flushing 0.7 0\n"
     ]
    },
    {
     "name": "stderr",
     "output_type": "stream",
     "text": [
      "INFO:werkzeug:127.0.0.1 - - [09/Nov/2023 15:46:07] \"POST /completions HTTP/1.1\" 200 -\n",
      "INFO:werkzeug:127.0.0.1 - - [09/Nov/2023 15:46:07] \"POST /completions HTTP/1.1\" 200 -\n",
      "INFO:werkzeug:127.0.0.1 - - [09/Nov/2023 15:46:07] \"POST /completions HTTP/1.1\" 200 -\n",
      "INFO:werkzeug:127.0.0.1 - - [09/Nov/2023 15:46:07] \"POST /completions HTTP/1.1\" 200 -\n",
      "INFO:werkzeug:127.0.0.1 - - [09/Nov/2023 15:46:07] \"POST /completions HTTP/1.1\" 200 -\n",
      "INFO:werkzeug:127.0.0.1 - - [09/Nov/2023 15:46:07] \"POST /completions HTTP/1.1\" 200 -\n",
      "INFO:werkzeug:127.0.0.1 - - [09/Nov/2023 15:46:07] \"POST /completions HTTP/1.1\" 200 -\n",
      "INFO:werkzeug:127.0.0.1 - - [09/Nov/2023 15:46:07] \"POST /completions HTTP/1.1\" 200 -\n",
      "INFO:werkzeug:127.0.0.1 - - [09/Nov/2023 15:46:07] \"POST /completions HTTP/1.1\" 200 -\n",
      "INFO:werkzeug:127.0.0.1 - - [09/Nov/2023 15:46:07] \"POST /completions HTTP/1.1\" 200 -\n",
      "INFO:werkzeug:127.0.0.1 - - [09/Nov/2023 15:46:07] \"POST /completions HTTP/1.1\" 200 -\n",
      "INFO:werkzeug:127.0.0.1 - - [09/Nov/2023 15:46:07] \"POST /completions HTTP/1.1\" 200 -\n",
      "INFO:werkzeug:127.0.0.1 - - [09/Nov/2023 15:46:07] \"POST /completions HTTP/1.1\" 200 -\n",
      "INFO:werkzeug:127.0.0.1 - - [09/Nov/2023 15:46:07] \"POST /completions HTTP/1.1\" 200 -\n",
      "INFO:werkzeug:127.0.0.1 - - [09/Nov/2023 15:46:07] \"POST /completions HTTP/1.1\" 200 -\n",
      "INFO:werkzeug:127.0.0.1 - - [09/Nov/2023 15:46:07] \"POST /completions HTTP/1.1\" 200 -\n",
      "INFO:werkzeug:127.0.0.1 - - [09/Nov/2023 15:46:07] \"POST /completions HTTP/1.1\" 200 -\n",
      "INFO:werkzeug:127.0.0.1 - - [09/Nov/2023 15:46:07] \"POST /completions HTTP/1.1\" 200 -\n",
      "INFO:werkzeug:127.0.0.1 - - [09/Nov/2023 15:46:07] \"POST /completions HTTP/1.1\" 200 -\n",
      "INFO:werkzeug:127.0.0.1 - - [09/Nov/2023 15:46:07] \"POST /completions HTTP/1.1\" 200 -\n",
      "INFO:werkzeug:127.0.0.1 - - [09/Nov/2023 15:46:07] \"POST /completions HTTP/1.1\" 200 -\n",
      "INFO:werkzeug:127.0.0.1 - - [09/Nov/2023 15:46:07] \"POST /completions HTTP/1.1\" 200 -\n",
      "INFO:werkzeug:127.0.0.1 - - [09/Nov/2023 15:46:07] \"POST /completions HTTP/1.1\" 200 -\n",
      "INFO:werkzeug:127.0.0.1 - - [09/Nov/2023 15:46:07] \"POST /completions HTTP/1.1\" 200 -\n",
      "INFO:werkzeug:127.0.0.1 - - [09/Nov/2023 15:46:07] \"POST /completions HTTP/1.1\" 200 -\n",
      "INFO:werkzeug:127.0.0.1 - - [09/Nov/2023 15:46:07] \"POST /completions HTTP/1.1\" 200 -\n",
      "INFO:werkzeug:127.0.0.1 - - [09/Nov/2023 15:46:07] \"POST /completions HTTP/1.1\" 200 -\n",
      "INFO:werkzeug:127.0.0.1 - - [09/Nov/2023 15:46:07] \"POST /completions HTTP/1.1\" 200 -\n",
      "INFO:werkzeug:127.0.0.1 - - [09/Nov/2023 15:46:07] \"POST /completions HTTP/1.1\" 200 -\n",
      "INFO:werkzeug:127.0.0.1 - - [09/Nov/2023 15:46:07] \"POST /completions HTTP/1.1\" 200 -\n",
      "INFO:werkzeug:127.0.0.1 - - [09/Nov/2023 15:46:07] \"POST /completions HTTP/1.1\" 200 -\n",
      "INFO:werkzeug:127.0.0.1 - - [09/Nov/2023 15:46:07] \"POST /completions HTTP/1.1\" 200 -\n"
     ]
    },
    {
     "name": "stdout",
     "output_type": "stream",
     "text": [
      "flushing 0.7 0\n"
     ]
    },
    {
     "name": "stderr",
     "output_type": "stream",
     "text": [
      "INFO:werkzeug:127.0.0.1 - - [09/Nov/2023 15:46:28] \"POST /completions HTTP/1.1\" 200 -\n",
      "INFO:werkzeug:127.0.0.1 - - [09/Nov/2023 15:46:28] \"POST /completions HTTP/1.1\" 200 -\n",
      "INFO:werkzeug:127.0.0.1 - - [09/Nov/2023 15:46:28] \"POST /completions HTTP/1.1\" 200 -\n",
      "INFO:werkzeug:127.0.0.1 - - [09/Nov/2023 15:46:28] \"POST /completions HTTP/1.1\" 200 -\n",
      "INFO:werkzeug:127.0.0.1 - - [09/Nov/2023 15:46:28] \"POST /completions HTTP/1.1\" 200 -\n",
      "INFO:werkzeug:127.0.0.1 - - [09/Nov/2023 15:46:28] \"POST /completions HTTP/1.1\" 200 -\n",
      "INFO:werkzeug:127.0.0.1 - - [09/Nov/2023 15:46:28] \"POST /completions HTTP/1.1\" 200 -\n",
      "INFO:werkzeug:127.0.0.1 - - [09/Nov/2023 15:46:28] \"POST /completions HTTP/1.1\" 200 -\n",
      "INFO:werkzeug:127.0.0.1 - - [09/Nov/2023 15:46:28] \"POST /completions HTTP/1.1\" 200 -\n",
      "INFO:werkzeug:127.0.0.1 - - [09/Nov/2023 15:46:28] \"POST /completions HTTP/1.1\" 200 -\n",
      "INFO:werkzeug:127.0.0.1 - - [09/Nov/2023 15:46:28] \"POST /completions HTTP/1.1\" 200 -\n",
      "INFO:werkzeug:127.0.0.1 - - [09/Nov/2023 15:46:28] \"POST /completions HTTP/1.1\" 200 -\n",
      "INFO:werkzeug:127.0.0.1 - - [09/Nov/2023 15:46:28] \"POST /completions HTTP/1.1\" 200 -\n",
      "INFO:werkzeug:127.0.0.1 - - [09/Nov/2023 15:46:28] \"POST /completions HTTP/1.1\" 200 -\n",
      "INFO:werkzeug:127.0.0.1 - - [09/Nov/2023 15:46:28] \"POST /completions HTTP/1.1\" 200 -\n",
      "INFO:werkzeug:127.0.0.1 - - [09/Nov/2023 15:46:28] \"POST /completions HTTP/1.1\" 200 -\n",
      "INFO:werkzeug:127.0.0.1 - - [09/Nov/2023 15:46:28] \"POST /completions HTTP/1.1\" 200 -\n",
      "INFO:werkzeug:127.0.0.1 - - [09/Nov/2023 15:46:28] \"POST /completions HTTP/1.1\" 200 -\n",
      "INFO:werkzeug:127.0.0.1 - - [09/Nov/2023 15:46:28] \"POST /completions HTTP/1.1\" 200 -\n",
      "INFO:werkzeug:127.0.0.1 - - [09/Nov/2023 15:46:28] \"POST /completions HTTP/1.1\" 200 -\n",
      "INFO:werkzeug:127.0.0.1 - - [09/Nov/2023 15:46:28] \"POST /completions HTTP/1.1\" 200 -\n",
      "INFO:werkzeug:127.0.0.1 - - [09/Nov/2023 15:46:28] \"POST /completions HTTP/1.1\" 200 -\n",
      "INFO:werkzeug:127.0.0.1 - - [09/Nov/2023 15:46:28] \"POST /completions HTTP/1.1\" 200 -\n",
      "INFO:werkzeug:127.0.0.1 - - [09/Nov/2023 15:46:28] \"POST /completions HTTP/1.1\" 200 -\n",
      "INFO:werkzeug:127.0.0.1 - - [09/Nov/2023 15:46:28] \"POST /completions HTTP/1.1\" 200 -\n",
      "INFO:werkzeug:127.0.0.1 - - [09/Nov/2023 15:46:28] \"POST /completions HTTP/1.1\" 200 -\n",
      "INFO:werkzeug:127.0.0.1 - - [09/Nov/2023 15:46:28] \"POST /completions HTTP/1.1\" 200 -\n",
      "INFO:werkzeug:127.0.0.1 - - [09/Nov/2023 15:46:28] \"POST /completions HTTP/1.1\" 200 -\n",
      "INFO:werkzeug:127.0.0.1 - - [09/Nov/2023 15:46:28] \"POST /completions HTTP/1.1\" 200 -\n",
      "INFO:werkzeug:127.0.0.1 - - [09/Nov/2023 15:46:28] \"POST /completions HTTP/1.1\" 200 -\n",
      "INFO:werkzeug:127.0.0.1 - - [09/Nov/2023 15:46:28] \"POST /completions HTTP/1.1\" 200 -\n",
      "INFO:werkzeug:127.0.0.1 - - [09/Nov/2023 15:46:28] \"POST /completions HTTP/1.1\" 200 -\n"
     ]
    },
    {
     "name": "stdout",
     "output_type": "stream",
     "text": [
      "flushing 0.7 0\n"
     ]
    },
    {
     "name": "stderr",
     "output_type": "stream",
     "text": [
      "INFO:werkzeug:127.0.0.1 - - [09/Nov/2023 15:46:39] \"POST /completions HTTP/1.1\" 200 -\n",
      "INFO:werkzeug:127.0.0.1 - - [09/Nov/2023 15:46:39] \"POST /completions HTTP/1.1\" 200 -\n",
      "INFO:werkzeug:127.0.0.1 - - [09/Nov/2023 15:46:39] \"POST /completions HTTP/1.1\" 200 -\n",
      "INFO:werkzeug:127.0.0.1 - - [09/Nov/2023 15:46:39] \"POST /completions HTTP/1.1\" 200 -\n",
      "INFO:werkzeug:127.0.0.1 - - [09/Nov/2023 15:46:39] \"POST /completions HTTP/1.1\" 200 -\n",
      "INFO:werkzeug:127.0.0.1 - - [09/Nov/2023 15:46:39] \"POST /completions HTTP/1.1\" 200 -\n",
      "INFO:werkzeug:127.0.0.1 - - [09/Nov/2023 15:46:39] \"POST /completions HTTP/1.1\" 200 -\n",
      "INFO:werkzeug:127.0.0.1 - - [09/Nov/2023 15:46:39] \"POST /completions HTTP/1.1\" 200 -\n",
      "INFO:werkzeug:127.0.0.1 - - [09/Nov/2023 15:46:39] \"POST /completions HTTP/1.1\" 200 -\n",
      "INFO:werkzeug:127.0.0.1 - - [09/Nov/2023 15:46:39] \"POST /completions HTTP/1.1\" 200 -\n",
      "INFO:werkzeug:127.0.0.1 - - [09/Nov/2023 15:46:39] \"POST /completions HTTP/1.1\" 200 -\n",
      "INFO:werkzeug:127.0.0.1 - - [09/Nov/2023 15:46:39] \"POST /completions HTTP/1.1\" 200 -\n",
      "INFO:werkzeug:127.0.0.1 - - [09/Nov/2023 15:46:39] \"POST /completions HTTP/1.1\" 200 -\n",
      "INFO:werkzeug:127.0.0.1 - - [09/Nov/2023 15:46:39] \"POST /completions HTTP/1.1\" 200 -\n",
      "INFO:werkzeug:127.0.0.1 - - [09/Nov/2023 15:46:39] \"POST /completions HTTP/1.1\" 200 -\n",
      "INFO:werkzeug:127.0.0.1 - - [09/Nov/2023 15:46:39] \"POST /completions HTTP/1.1\" 200 -\n",
      "INFO:werkzeug:127.0.0.1 - - [09/Nov/2023 15:46:39] \"POST /completions HTTP/1.1\" 200 -\n",
      "INFO:werkzeug:127.0.0.1 - - [09/Nov/2023 15:46:39] \"POST /completions HTTP/1.1\" 200 -\n",
      "INFO:werkzeug:127.0.0.1 - - [09/Nov/2023 15:46:39] \"POST /completions HTTP/1.1\" 200 -\n",
      "INFO:werkzeug:127.0.0.1 - - [09/Nov/2023 15:46:39] \"POST /completions HTTP/1.1\" 200 -\n",
      "INFO:werkzeug:127.0.0.1 - - [09/Nov/2023 15:46:39] \"POST /completions HTTP/1.1\" 200 -\n",
      "INFO:werkzeug:127.0.0.1 - - [09/Nov/2023 15:46:39] \"POST /completions HTTP/1.1\" 200 -\n",
      "INFO:werkzeug:127.0.0.1 - - [09/Nov/2023 15:46:39] \"POST /completions HTTP/1.1\" 200 -\n",
      "INFO:werkzeug:127.0.0.1 - - [09/Nov/2023 15:46:39] \"POST /completions HTTP/1.1\" 200 -\n",
      "INFO:werkzeug:127.0.0.1 - - [09/Nov/2023 15:46:39] \"POST /completions HTTP/1.1\" 200 -\n",
      "INFO:werkzeug:127.0.0.1 - - [09/Nov/2023 15:46:39] \"POST /completions HTTP/1.1\" 200 -\n",
      "INFO:werkzeug:127.0.0.1 - - [09/Nov/2023 15:46:39] \"POST /completions HTTP/1.1\" 200 -\n",
      "INFO:werkzeug:127.0.0.1 - - [09/Nov/2023 15:46:39] \"POST /completions HTTP/1.1\" 200 -\n",
      "INFO:werkzeug:127.0.0.1 - - [09/Nov/2023 15:46:39] \"POST /completions HTTP/1.1\" 200 -\n",
      "INFO:werkzeug:127.0.0.1 - - [09/Nov/2023 15:46:39] \"POST /completions HTTP/1.1\" 200 -\n",
      "INFO:werkzeug:127.0.0.1 - - [09/Nov/2023 15:46:39] \"POST /completions HTTP/1.1\" 200 -\n",
      "INFO:werkzeug:127.0.0.1 - - [09/Nov/2023 15:46:39] \"POST /completions HTTP/1.1\" 200 -\n"
     ]
    },
    {
     "name": "stdout",
     "output_type": "stream",
     "text": [
      "flushing 0.7 0\n"
     ]
    },
    {
     "name": "stderr",
     "output_type": "stream",
     "text": [
      "INFO:werkzeug:127.0.0.1 - - [09/Nov/2023 15:46:56] \"POST /completions HTTP/1.1\" 200 -\n",
      "INFO:werkzeug:127.0.0.1 - - [09/Nov/2023 15:46:56] \"POST /completions HTTP/1.1\" 200 -\n",
      "INFO:werkzeug:127.0.0.1 - - [09/Nov/2023 15:46:56] \"POST /completions HTTP/1.1\" 200 -\n",
      "INFO:werkzeug:127.0.0.1 - - [09/Nov/2023 15:46:56] \"POST /completions HTTP/1.1\" 200 -\n",
      "INFO:werkzeug:127.0.0.1 - - [09/Nov/2023 15:46:56] \"POST /completions HTTP/1.1\" 200 -\n",
      "INFO:werkzeug:127.0.0.1 - - [09/Nov/2023 15:46:56] \"POST /completions HTTP/1.1\" 200 -\n",
      "INFO:werkzeug:127.0.0.1 - - [09/Nov/2023 15:46:56] \"POST /completions HTTP/1.1\" 200 -\n",
      "INFO:werkzeug:127.0.0.1 - - [09/Nov/2023 15:46:56] \"POST /completions HTTP/1.1\" 200 -\n",
      "INFO:werkzeug:127.0.0.1 - - [09/Nov/2023 15:46:56] \"POST /completions HTTP/1.1\" 200 -\n",
      "INFO:werkzeug:127.0.0.1 - - [09/Nov/2023 15:46:56] \"POST /completions HTTP/1.1\" 200 -\n",
      "INFO:werkzeug:127.0.0.1 - - [09/Nov/2023 15:46:56] \"POST /completions HTTP/1.1\" 200 -\n",
      "INFO:werkzeug:127.0.0.1 - - [09/Nov/2023 15:46:56] \"POST /completions HTTP/1.1\" 200 -\n",
      "INFO:werkzeug:127.0.0.1 - - [09/Nov/2023 15:46:56] \"POST /completions HTTP/1.1\" 200 -\n",
      "INFO:werkzeug:127.0.0.1 - - [09/Nov/2023 15:46:56] \"POST /completions HTTP/1.1\" 200 -\n",
      "INFO:werkzeug:127.0.0.1 - - [09/Nov/2023 15:46:56] \"POST /completions HTTP/1.1\" 200 -\n",
      "INFO:werkzeug:127.0.0.1 - - [09/Nov/2023 15:46:56] \"POST /completions HTTP/1.1\" 200 -\n",
      "INFO:werkzeug:127.0.0.1 - - [09/Nov/2023 15:46:56] \"POST /completions HTTP/1.1\" 200 -\n",
      "INFO:werkzeug:127.0.0.1 - - [09/Nov/2023 15:46:56] \"POST /completions HTTP/1.1\" 200 -\n",
      "INFO:werkzeug:127.0.0.1 - - [09/Nov/2023 15:46:56] \"POST /completions HTTP/1.1\" 200 -\n",
      "INFO:werkzeug:127.0.0.1 - - [09/Nov/2023 15:46:56] \"POST /completions HTTP/1.1\" 200 -\n",
      "INFO:werkzeug:127.0.0.1 - - [09/Nov/2023 15:46:56] \"POST /completions HTTP/1.1\" 200 -\n",
      "INFO:werkzeug:127.0.0.1 - - [09/Nov/2023 15:46:56] \"POST /completions HTTP/1.1\" 200 -\n",
      "INFO:werkzeug:127.0.0.1 - - [09/Nov/2023 15:46:56] \"POST /completions HTTP/1.1\" 200 -\n",
      "INFO:werkzeug:127.0.0.1 - - [09/Nov/2023 15:46:56] \"POST /completions HTTP/1.1\" 200 -\n",
      "INFO:werkzeug:127.0.0.1 - - [09/Nov/2023 15:46:56] \"POST /completions HTTP/1.1\" 200 -\n",
      "INFO:werkzeug:127.0.0.1 - - [09/Nov/2023 15:46:56] \"POST /completions HTTP/1.1\" 200 -\n",
      "INFO:werkzeug:127.0.0.1 - - [09/Nov/2023 15:46:56] \"POST /completions HTTP/1.1\" 200 -\n",
      "INFO:werkzeug:127.0.0.1 - - [09/Nov/2023 15:46:56] \"POST /completions HTTP/1.1\" 200 -\n",
      "INFO:werkzeug:127.0.0.1 - - [09/Nov/2023 15:46:56] \"POST /completions HTTP/1.1\" 200 -\n",
      "INFO:werkzeug:127.0.0.1 - - [09/Nov/2023 15:46:56] \"POST /completions HTTP/1.1\" 200 -\n",
      "INFO:werkzeug:127.0.0.1 - - [09/Nov/2023 15:46:56] \"POST /completions HTTP/1.1\" 200 -\n",
      "INFO:werkzeug:127.0.0.1 - - [09/Nov/2023 15:46:56] \"POST /completions HTTP/1.1\" 200 -\n"
     ]
    },
    {
     "name": "stdout",
     "output_type": "stream",
     "text": [
      "flushing 0.7 0\n"
     ]
    },
    {
     "name": "stderr",
     "output_type": "stream",
     "text": [
      "INFO:werkzeug:127.0.0.1 - - [09/Nov/2023 15:47:06] \"POST /completions HTTP/1.1\" 200 -\n",
      "INFO:werkzeug:127.0.0.1 - - [09/Nov/2023 15:47:06] \"POST /completions HTTP/1.1\" 200 -\n",
      "INFO:werkzeug:127.0.0.1 - - [09/Nov/2023 15:47:06] \"POST /completions HTTP/1.1\" 200 -\n",
      "INFO:werkzeug:127.0.0.1 - - [09/Nov/2023 15:47:06] \"POST /completions HTTP/1.1\" 200 -\n",
      "INFO:werkzeug:127.0.0.1 - - [09/Nov/2023 15:47:06] \"POST /completions HTTP/1.1\" 200 -\n",
      "INFO:werkzeug:127.0.0.1 - - [09/Nov/2023 15:47:06] \"POST /completions HTTP/1.1\" 200 -\n",
      "INFO:werkzeug:127.0.0.1 - - [09/Nov/2023 15:47:06] \"POST /completions HTTP/1.1\" 200 -\n",
      "INFO:werkzeug:127.0.0.1 - - [09/Nov/2023 15:47:06] \"POST /completions HTTP/1.1\" 200 -\n",
      "INFO:werkzeug:127.0.0.1 - - [09/Nov/2023 15:47:06] \"POST /completions HTTP/1.1\" 200 -\n",
      "INFO:werkzeug:127.0.0.1 - - [09/Nov/2023 15:47:06] \"POST /completions HTTP/1.1\" 200 -\n",
      "INFO:werkzeug:127.0.0.1 - - [09/Nov/2023 15:47:06] \"POST /completions HTTP/1.1\" 200 -\n",
      "INFO:werkzeug:127.0.0.1 - - [09/Nov/2023 15:47:06] \"POST /completions HTTP/1.1\" 200 -\n",
      "INFO:werkzeug:127.0.0.1 - - [09/Nov/2023 15:47:06] \"POST /completions HTTP/1.1\" 200 -\n",
      "INFO:werkzeug:127.0.0.1 - - [09/Nov/2023 15:47:06] \"POST /completions HTTP/1.1\" 200 -\n",
      "INFO:werkzeug:127.0.0.1 - - [09/Nov/2023 15:47:06] \"POST /completions HTTP/1.1\" 200 -\n",
      "INFO:werkzeug:127.0.0.1 - - [09/Nov/2023 15:47:06] \"POST /completions HTTP/1.1\" 200 -\n",
      "INFO:werkzeug:127.0.0.1 - - [09/Nov/2023 15:47:06] \"POST /completions HTTP/1.1\" 200 -\n",
      "INFO:werkzeug:127.0.0.1 - - [09/Nov/2023 15:47:06] \"POST /completions HTTP/1.1\" 200 -\n",
      "INFO:werkzeug:127.0.0.1 - - [09/Nov/2023 15:47:06] \"POST /completions HTTP/1.1\" 200 -\n",
      "INFO:werkzeug:127.0.0.1 - - [09/Nov/2023 15:47:06] \"POST /completions HTTP/1.1\" 200 -\n",
      "INFO:werkzeug:127.0.0.1 - - [09/Nov/2023 15:47:06] \"POST /completions HTTP/1.1\" 200 -\n",
      "INFO:werkzeug:127.0.0.1 - - [09/Nov/2023 15:47:06] \"POST /completions HTTP/1.1\" 200 -\n",
      "INFO:werkzeug:127.0.0.1 - - [09/Nov/2023 15:47:06] \"POST /completions HTTP/1.1\" 200 -\n",
      "INFO:werkzeug:127.0.0.1 - - [09/Nov/2023 15:47:06] \"POST /completions HTTP/1.1\" 200 -\n",
      "INFO:werkzeug:127.0.0.1 - - [09/Nov/2023 15:47:06] \"POST /completions HTTP/1.1\" 200 -\n",
      "INFO:werkzeug:127.0.0.1 - - [09/Nov/2023 15:47:06] \"POST /completions HTTP/1.1\" 200 -\n",
      "INFO:werkzeug:127.0.0.1 - - [09/Nov/2023 15:47:06] \"POST /completions HTTP/1.1\" 200 -\n",
      "INFO:werkzeug:127.0.0.1 - - [09/Nov/2023 15:47:06] \"POST /completions HTTP/1.1\" 200 -\n",
      "INFO:werkzeug:127.0.0.1 - - [09/Nov/2023 15:47:06] \"POST /completions HTTP/1.1\" 200 -\n",
      "INFO:werkzeug:127.0.0.1 - - [09/Nov/2023 15:47:06] \"POST /completions HTTP/1.1\" 200 -\n",
      "INFO:werkzeug:127.0.0.1 - - [09/Nov/2023 15:47:06] \"POST /completions HTTP/1.1\" 200 -\n",
      "INFO:werkzeug:127.0.0.1 - - [09/Nov/2023 15:47:06] \"POST /completions HTTP/1.1\" 200 -\n"
     ]
    },
    {
     "name": "stdout",
     "output_type": "stream",
     "text": [
      "flushing 0.7 0\n"
     ]
    },
    {
     "name": "stderr",
     "output_type": "stream",
     "text": [
      "INFO:werkzeug:127.0.0.1 - - [09/Nov/2023 15:47:17] \"POST /completions HTTP/1.1\" 200 -\n",
      "INFO:werkzeug:127.0.0.1 - - [09/Nov/2023 15:47:17] \"POST /completions HTTP/1.1\" 200 -\n",
      "INFO:werkzeug:127.0.0.1 - - [09/Nov/2023 15:47:17] \"POST /completions HTTP/1.1\" 200 -\n",
      "INFO:werkzeug:127.0.0.1 - - [09/Nov/2023 15:47:17] \"POST /completions HTTP/1.1\" 200 -\n",
      "INFO:werkzeug:127.0.0.1 - - [09/Nov/2023 15:47:17] \"POST /completions HTTP/1.1\" 200 -\n",
      "INFO:werkzeug:127.0.0.1 - - [09/Nov/2023 15:47:17] \"POST /completions HTTP/1.1\" 200 -\n",
      "INFO:werkzeug:127.0.0.1 - - [09/Nov/2023 15:47:17] \"POST /completions HTTP/1.1\" 200 -\n",
      "INFO:werkzeug:127.0.0.1 - - [09/Nov/2023 15:47:17] \"POST /completions HTTP/1.1\" 200 -\n",
      "INFO:werkzeug:127.0.0.1 - - [09/Nov/2023 15:47:17] \"POST /completions HTTP/1.1\" 200 -\n",
      "INFO:werkzeug:127.0.0.1 - - [09/Nov/2023 15:47:17] \"POST /completions HTTP/1.1\" 200 -\n",
      "INFO:werkzeug:127.0.0.1 - - [09/Nov/2023 15:47:17] \"POST /completions HTTP/1.1\" 200 -\n",
      "INFO:werkzeug:127.0.0.1 - - [09/Nov/2023 15:47:17] \"POST /completions HTTP/1.1\" 200 -\n",
      "INFO:werkzeug:127.0.0.1 - - [09/Nov/2023 15:47:17] \"POST /completions HTTP/1.1\" 200 -\n",
      "INFO:werkzeug:127.0.0.1 - - [09/Nov/2023 15:47:17] \"POST /completions HTTP/1.1\" 200 -\n",
      "INFO:werkzeug:127.0.0.1 - - [09/Nov/2023 15:47:17] \"POST /completions HTTP/1.1\" 200 -\n",
      "INFO:werkzeug:127.0.0.1 - - [09/Nov/2023 15:47:17] \"POST /completions HTTP/1.1\" 200 -\n",
      "INFO:werkzeug:127.0.0.1 - - [09/Nov/2023 15:47:17] \"POST /completions HTTP/1.1\" 200 -\n",
      "INFO:werkzeug:127.0.0.1 - - [09/Nov/2023 15:47:17] \"POST /completions HTTP/1.1\" 200 -\n",
      "INFO:werkzeug:127.0.0.1 - - [09/Nov/2023 15:47:17] \"POST /completions HTTP/1.1\" 200 -\n",
      "INFO:werkzeug:127.0.0.1 - - [09/Nov/2023 15:47:17] \"POST /completions HTTP/1.1\" 200 -\n",
      "INFO:werkzeug:127.0.0.1 - - [09/Nov/2023 15:47:17] \"POST /completions HTTP/1.1\" 200 -\n",
      "INFO:werkzeug:127.0.0.1 - - [09/Nov/2023 15:47:17] \"POST /completions HTTP/1.1\" 200 -\n",
      "INFO:werkzeug:127.0.0.1 - - [09/Nov/2023 15:47:17] \"POST /completions HTTP/1.1\" 200 -\n",
      "INFO:werkzeug:127.0.0.1 - - [09/Nov/2023 15:47:17] \"POST /completions HTTP/1.1\" 200 -\n",
      "INFO:werkzeug:127.0.0.1 - - [09/Nov/2023 15:47:17] \"POST /completions HTTP/1.1\" 200 -\n",
      "INFO:werkzeug:127.0.0.1 - - [09/Nov/2023 15:47:17] \"POST /completions HTTP/1.1\" 200 -\n",
      "INFO:werkzeug:127.0.0.1 - - [09/Nov/2023 15:47:17] \"POST /completions HTTP/1.1\" 200 -\n",
      "INFO:werkzeug:127.0.0.1 - - [09/Nov/2023 15:47:17] \"POST /completions HTTP/1.1\" 200 -\n",
      "INFO:werkzeug:127.0.0.1 - - [09/Nov/2023 15:47:17] \"POST /completions HTTP/1.1\" 200 -\n",
      "INFO:werkzeug:127.0.0.1 - - [09/Nov/2023 15:47:17] \"POST /completions HTTP/1.1\" 200 -\n",
      "INFO:werkzeug:127.0.0.1 - - [09/Nov/2023 15:47:17] \"POST /completions HTTP/1.1\" 200 -\n",
      "INFO:werkzeug:127.0.0.1 - - [09/Nov/2023 15:47:17] \"POST /completions HTTP/1.1\" 200 -\n"
     ]
    },
    {
     "name": "stdout",
     "output_type": "stream",
     "text": [
      "flushing 0.7 0\n"
     ]
    },
    {
     "name": "stderr",
     "output_type": "stream",
     "text": [
      "INFO:werkzeug:127.0.0.1 - - [09/Nov/2023 15:47:37] \"POST /completions HTTP/1.1\" 200 -\n",
      "INFO:werkzeug:127.0.0.1 - - [09/Nov/2023 15:47:37] \"POST /completions HTTP/1.1\" 200 -\n",
      "INFO:werkzeug:127.0.0.1 - - [09/Nov/2023 15:47:37] \"POST /completions HTTP/1.1\" 200 -\n",
      "INFO:werkzeug:127.0.0.1 - - [09/Nov/2023 15:47:37] \"POST /completions HTTP/1.1\" 200 -\n",
      "INFO:werkzeug:127.0.0.1 - - [09/Nov/2023 15:47:37] \"POST /completions HTTP/1.1\" 200 -\n",
      "INFO:werkzeug:127.0.0.1 - - [09/Nov/2023 15:47:37] \"POST /completions HTTP/1.1\" 200 -\n",
      "INFO:werkzeug:127.0.0.1 - - [09/Nov/2023 15:47:37] \"POST /completions HTTP/1.1\" 200 -\n",
      "INFO:werkzeug:127.0.0.1 - - [09/Nov/2023 15:47:37] \"POST /completions HTTP/1.1\" 200 -\n",
      "INFO:werkzeug:127.0.0.1 - - [09/Nov/2023 15:47:37] \"POST /completions HTTP/1.1\" 200 -\n",
      "INFO:werkzeug:127.0.0.1 - - [09/Nov/2023 15:47:37] \"POST /completions HTTP/1.1\" 200 -\n",
      "INFO:werkzeug:127.0.0.1 - - [09/Nov/2023 15:47:37] \"POST /completions HTTP/1.1\" 200 -\n",
      "INFO:werkzeug:127.0.0.1 - - [09/Nov/2023 15:47:37] \"POST /completions HTTP/1.1\" 200 -\n",
      "INFO:werkzeug:127.0.0.1 - - [09/Nov/2023 15:47:37] \"POST /completions HTTP/1.1\" 200 -\n",
      "INFO:werkzeug:127.0.0.1 - - [09/Nov/2023 15:47:37] \"POST /completions HTTP/1.1\" 200 -\n",
      "INFO:werkzeug:127.0.0.1 - - [09/Nov/2023 15:47:37] \"POST /completions HTTP/1.1\" 200 -\n",
      "INFO:werkzeug:127.0.0.1 - - [09/Nov/2023 15:47:37] \"POST /completions HTTP/1.1\" 200 -\n",
      "INFO:werkzeug:127.0.0.1 - - [09/Nov/2023 15:47:37] \"POST /completions HTTP/1.1\" 200 -\n",
      "INFO:werkzeug:127.0.0.1 - - [09/Nov/2023 15:47:37] \"POST /completions HTTP/1.1\" 200 -\n",
      "INFO:werkzeug:127.0.0.1 - - [09/Nov/2023 15:47:37] \"POST /completions HTTP/1.1\" 200 -\n",
      "INFO:werkzeug:127.0.0.1 - - [09/Nov/2023 15:47:37] \"POST /completions HTTP/1.1\" 200 -\n",
      "INFO:werkzeug:127.0.0.1 - - [09/Nov/2023 15:47:37] \"POST /completions HTTP/1.1\" 200 -\n",
      "INFO:werkzeug:127.0.0.1 - - [09/Nov/2023 15:47:37] \"POST /completions HTTP/1.1\" 200 -\n",
      "INFO:werkzeug:127.0.0.1 - - [09/Nov/2023 15:47:37] \"POST /completions HTTP/1.1\" 200 -\n",
      "INFO:werkzeug:127.0.0.1 - - [09/Nov/2023 15:47:37] \"POST /completions HTTP/1.1\" 200 -\n",
      "INFO:werkzeug:127.0.0.1 - - [09/Nov/2023 15:47:37] \"POST /completions HTTP/1.1\" 200 -\n",
      "INFO:werkzeug:127.0.0.1 - - [09/Nov/2023 15:47:37] \"POST /completions HTTP/1.1\" 200 -\n",
      "INFO:werkzeug:127.0.0.1 - - [09/Nov/2023 15:47:37] \"POST /completions HTTP/1.1\" 200 -\n",
      "INFO:werkzeug:127.0.0.1 - - [09/Nov/2023 15:47:37] \"POST /completions HTTP/1.1\" 200 -\n",
      "INFO:werkzeug:127.0.0.1 - - [09/Nov/2023 15:47:37] \"POST /completions HTTP/1.1\" 200 -\n",
      "INFO:werkzeug:127.0.0.1 - - [09/Nov/2023 15:47:37] \"POST /completions HTTP/1.1\" 200 -\n",
      "INFO:werkzeug:127.0.0.1 - - [09/Nov/2023 15:47:37] \"POST /completions HTTP/1.1\" 200 -\n",
      "INFO:werkzeug:127.0.0.1 - - [09/Nov/2023 15:47:37] \"POST /completions HTTP/1.1\" 200 -\n"
     ]
    },
    {
     "name": "stdout",
     "output_type": "stream",
     "text": [
      "flushing 0.7 0\n"
     ]
    }
   ],
   "source": [
    "with model:\n",
    "    print('loaded')\n",
    "    logprobs = logprobs_pipeline(question_data,os.path.join('data','logscores',model.name,data_file))"
   ]
  },
  {
   "cell_type": "markdown",
   "metadata": {},
   "source": [
    "### Plot the logs curve"
   ]
  },
  {
   "cell_type": "code",
   "execution_count": 11,
   "metadata": {
    "tags": []
   },
   "outputs": [],
   "source": [
    "import numpy as np\n",
    "import matplotlib.pyplot as plt\n",
    "\n",
    "def flatten_sequence(seq):\n",
    "    #Flatten the sequence\n",
    "    logp = []\n",
    "    for seg in seq:\n",
    "        logp += seg['logp']\n",
    "    logp = logp[1:] #The first logp is always None\n",
    "    return logp\n",
    "\n",
    "def flatten_tokens(seq):\n",
    "    tok = []\n",
    "    for seg in seq:\n",
    "        tok += seg['tokens']\n",
    "    return tok\n",
    "\n",
    "def plot_logprobs(seq):\n",
    "    plt.figure(figsize=(10,5))\n",
    "    logp = flatten_sequence(seq)\n",
    "    cum_logp = np.cumsum([0]+logp)\n",
    "    plt.plot(cum_logp)\n",
    "    print(cum_logp)\n",
    "    tokens = flatten_tokens(seq)\n",
    "    plt.grid()\n",
    "    plt.xticks(np.arange(len(tokens)),tokens,rotation='vertical')\n",
    "    plt.xlabel('Tokens')\n",
    "    plt.ylabel('Cumulative Log Probability')"
   ]
  },
  {
   "cell_type": "code",
   "execution_count": 33,
   "metadata": {
    "tags": []
   },
   "outputs": [
    {
     "data": {
      "text/plain": [
       "'Write a function to find the greatest common divisor (gcd) of two integers by using recursion.'"
      ]
     },
     "execution_count": 33,
     "metadata": {},
     "output_type": "execute_result"
    }
   ],
   "source": [
    "logprobs[686][0]['text']"
   ]
  },
  {
   "cell_type": "code",
   "execution_count": 34,
   "metadata": {
    "tags": []
   },
   "outputs": [
    {
     "name": "stdout",
     "output_type": "stream",
     "text": [
      "[  0.          -0.12077649  -2.23950131  -5.21463545  -6.27521141\n",
      "  -6.3410344  -10.36500834 -10.37384678 -10.38288422 -10.38288863\n",
      " -10.38290305 -10.66946916 -14.10870985 -14.10873    -14.11192365\n",
      " -14.11980846 -14.13761384 -16.15689546 -25.11068613 -25.35955698\n",
      " -26.92366308 -26.92380734 -26.96355971]\n"
     ]
    },
    {
     "data": {
      "image/png": "[encoded data removed]",
      "text/plain": [
       "<Figure size 1000x500 with 1 Axes>"
      ]
     },
     "metadata": {},
     "output_type": "display_data"
    }
   ],
   "source": [
    "plot_logprobs(logprobs[686])"
   ]
  },
  {
   "cell_type": "code",
   "execution_count": null,
   "metadata": {
    "tags": []
   },
   "outputs": [],
   "source": [
    "for i in range(len(logprobs[14][0]['tokens'])):\n",
    "    print('---')\n",
    "    print(logprobs[14][0]['tokens'][i])\n",
    "    print(logprobs[14][0]['logp'][i])\n",
    "    print(logprobs[14][0]['top_logp'][i])"
   ]
  },
  {
   "cell_type": "markdown",
   "metadata": {},
   "source": [
    "### Fit the model"
   ]
  },
  {
   "cell_type": "code",
   "execution_count": 7,
   "metadata": {
    "tags": []
   },
   "outputs": [],
   "source": [
    "from scipy.optimize import minimize\n",
    "class ExpLogScoreModel:\n",
    "    \"\"\" Model explained in the paper to fit the log scores \"\"\"\n",
    "    def __init__(self):\n",
    "        self._params = [1,1]\n",
    "    @property\n",
    "    def params(self):\n",
    "        return self._params\n",
    "    \n",
    "    def forward(self,x):\n",
    "        return self._forward(x,self.params)\n",
    "    def _forward(self,x,params):\n",
    "        a,b = params\n",
    "        return -a/b*(1-np.exp(-b*x))\n",
    "    \n",
    "    def loss(self,x,y):\n",
    "        return self._loss(x,y,self.params)\n",
    "    def _loss(self,x,y,params):\n",
    "        return np.mean((self._forward(x,params)-y)**2)\n",
    "    def fit(self,x,y):\n",
    "        self._params = minimize(lambda params : self._loss(x,y,params),self._params,method='BFGS',tol=10**-20).x\n",
    "    \n",
    "def fit_model(seq):\n",
    "    logp = flatten_sequence(seq)\n",
    "    x = np.arange(len(logp))\n",
    "    y = np.cumsum(logp)\n",
    "    model = ExpLogScoreModel()\n",
    "    model.fit(x/len(x),y/len(x))\n",
    "    return model\n",
    "\n",
    "def plot_model(seq):\n",
    "    #Plot data\n",
    "    logp = flatten_sequence(seq)\n",
    "    cum_logp = np.cumsum(logp)\n",
    "    x = np.arange(len(logp))/len(logp)\n",
    "    y = cum_logp/len(x)\n",
    "    plt.plot(y)\n",
    "\n",
    "    #Plot model\n",
    "    model = fit_model(seq)\n",
    "    plt.plot(model.forward(x))\n",
    "\n",
    "    #Plot legend\n",
    "    plt.xlabel('Tokens')\n",
    "    plt.ylabel('Cumulative Log Probability')\n",
    "    plt.legend(['Data','Model'])"
   ]
  },
  {
   "cell_type": "code",
   "execution_count": null,
   "metadata": {
    "tags": []
   },
   "outputs": [],
   "source": [
    "plot_model(logprobs[14])"
   ]
  },
  {
   "cell_type": "markdown",
   "metadata": {},
   "source": [
    "### Plot the median logprob over the seq for the full batch"
   ]
  },
  {
   "cell_type": "code",
   "execution_count": 19,
   "metadata": {},
   "outputs": [],
   "source": [
    "import numpy as np\n",
    "import matplotlib.pyplot as plt\n",
    "def plot_median_batch(batch,annotate=False):\n",
    "    lx = []\n",
    "    ly = []\n",
    "    scale = len(batch)\n",
    "    for i,seq in enumerate(batch):\n",
    "        logp = seq[0]['logp']\n",
    "        score = -np.median(logp[1:])\n",
    "        lx.append(score)\n",
    "        y = i/len(batch)*scale\n",
    "        ly.append(y)\n",
    "        if annotate:\n",
    "            plt.annotate(str(i),(score,y))\n",
    "    lx,ly = np.array(lx),np.array(ly)\n",
    "    plt.scatter(lx,ly,alpha=0.1)\n",
    "    plt.plot([-np.log(0.5),-np.log(0.5)],[0,scale],color='blue')\n",
    "    plt.plot([-np.log(0.9),-np.log(0.9)],[0,scale],color='red')\n",
    "    plt.plot([-np.log(0.99),-np.log(0.99)],[0,scale],color='purple')\n",
    "    plt.xscale('log')\n",
    "    plt.ylim(0,scale)\n",
    "    plt.xlabel('median negative loglikelihood')\n",
    "    plt.ylabel('item index')"
   ]
  },
  {
   "cell_type": "markdown",
   "metadata": {},
   "source": [
    "### Plot the model parameters over the batch of text"
   ]
  },
  {
   "cell_type": "code",
   "execution_count": null,
   "metadata": {
    "tags": []
   },
   "outputs": [],
   "source": [
    "def plot_batch(batch):\n",
    "    plt.figure(figsize=(10,10))\n",
    "    x = []\n",
    "    y = []\n",
    "    for i,seq in enumerate(batch):\n",
    "        model = fit_model(seq)\n",
    "        x.append(model.params[0]/model.params[1])\n",
    "        y.append(model.params[1])\n",
    "        plt.annotate(str(i),(model.params[0]/model.params[1],model.params[1]),size=20,xytext=(1,1),textcoords='offset points')\n",
    "    plt.scatter(x,y)\n",
    "    #logscale\n",
    "    plt.xscale('log')\n",
    "    plt.yscale('log')\n",
    "    plt.xlabel('A',size=20)\n",
    "    plt.ylabel('B',size=20)\n",
    "    plt.title('Parameters of the model for each question')"
   ]
  },
  {
   "cell_type": "code",
   "execution_count": null,
   "metadata": {
    "tags": []
   },
   "outputs": [],
   "source": [
    "plot_batch(logprobs)"
   ]
  }
 ],
 "metadata": {
  "kernelspec": {
   "display_name": "base",
   "language": "python",
   "name": "python3"
  },
  "language_info": {
   "codemirror_mode": {
    "name": "ipython",
    "version": 3
   },
   "file_extension": ".py",
   "mimetype": "text/x-python",
   "name": "python",
   "nbconvert_exporter": "python",
   "pygments_lexer": "ipython3",
   "version": "3.9.12"
  }
 },
 "nbformat": 4,
 "nbformat_minor": 4
}

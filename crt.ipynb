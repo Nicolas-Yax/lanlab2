{
 "cells": [
  {
   "cell_type": "code",
   "execution_count": 1,
   "metadata": {},
   "outputs": [],
   "source": [
    "from lanlab import Text,Batch,Sequential,Question\n",
    "from lanlab import load,save\n",
    "from lanlab import GPT35_0301,GPT35\n",
    "from lanlab import Module,BatchedModule\n",
    "from lanlab import set_number_workers\n",
    "\n",
    "import os"
   ]
  },
  {
   "cell_type": "markdown",
   "metadata": {},
   "source": [
    "### Load the Datasets"
   ]
  },
  {
   "cell_type": "code",
   "execution_count": 3,
   "metadata": {},
   "outputs": [],
   "source": [
    "question_data = load(\"inputs/new_crt\").repeat(10,axis=1) #Each question is asked 10 times (100 in the paper)"
   ]
  },
  {
   "cell_type": "markdown",
   "metadata": {},
   "source": [
    "### Make the pipelines"
   ]
  },
  {
   "cell_type": "code",
   "execution_count": 4,
   "metadata": {},
   "outputs": [],
   "source": [
    "#AutoCorrection using ChatGPT\n",
    "class AutoCorrect(BatchedModule):\n",
    "    def __init__(self,label_index=0):\n",
    "        super().__init__()\n",
    "        self.label_index = label_index\n",
    "    def _run(self,seq):\n",
    "        #Prepare the prompt\n",
    "        question = seq[self.label_index]\n",
    "        answer = seq[self.label_index+1]\n",
    "        prompt = Text('You are a professor and just gave an exam. Here is the question asked')+question+Text('Here is the answer one of your student wrote')+answer+Text('Your goal now is to mark the answer as either correct, intuitive or other. The correct answer is \"{}\", the intuitive answer is \"{}\" and the answer is other if it is not one of these two. Is this answer correct, intuitive or other ? Please write \"c\" if the answer is correct, \"i\" if it is intuitive and \"o\" if it is other.'.format(question['info']['keywords']['correct'][0],question['info']['keywords']['intuitive'][0])) #Some prompt engineering\n",
    "        #Ask ChatGPT to classify the answer\n",
    "        prompt_and_label = GPT35().configure(temperature=0)(prompt)\n",
    "        #Return the answer\n",
    "        label = prompt_and_label[-1]['text']\n",
    "        if 'c' in label or 'correct' in label:\n",
    "            return seq + Text('c')\n",
    "        elif 'i' in label or 'intuitive' in label:\n",
    "            return seq + Text('i')\n",
    "        else:\n",
    "            return seq + Text('o')"
   ]
  },
  {
   "cell_type": "code",
   "execution_count": null,
   "metadata": {},
   "outputs": [],
   "source": [
    "set_number_workers(10)"
   ]
  },
  {
   "cell_type": "code",
   "execution_count": 5,
   "metadata": {},
   "outputs": [],
   "source": [
    "model = GPT35_0301().configure(max_tokens=256) #Context long enough to let the model reason if necessary\n",
    "\n",
    "vanilla_pipeline = Sequential(model,AutoCorrect(0))\n",
    "reasoning_pipeline = Sequential(\"Let's think step by step\",model,AutoCorrect(0))"
   ]
  },
  {
   "cell_type": "markdown",
   "metadata": {},
   "source": [
    "### Get the results (and correct them)"
   ]
  },
  {
   "cell_type": "code",
   "execution_count": 6,
   "metadata": {},
   "outputs": [
    {
     "name": "stdout",
     "output_type": "stream",
     "text": [
      "run\n",
      "run\n"
     ]
    }
   ],
   "source": [
    "#Vanilla results\n",
    "crt_vanilla = vanilla_pipeline(question_data,os.path.join('data','crt',model.name,'vanilla'))\n",
    "crt_reasoning = reasoning_pipeline(question_data,os.path.join('data','crt',model.name,'reasoning'))"
   ]
  },
  {
   "cell_type": "markdown",
   "metadata": {},
   "source": [
    "### Plot the results"
   ]
  },
  {
   "cell_type": "code",
   "execution_count": 7,
   "metadata": {},
   "outputs": [],
   "source": [
    "#Plot the results\n",
    "import matplotlib.pyplot as plt\n",
    "import numpy as np\n",
    "\n",
    "def plot_results(crt_result):\n",
    "    correct = [[crt_result[i,j][-1]['text'] == 'c' for j in range(crt_result.shape[1])] for i in range(crt_result.shape[0])]\n",
    "    intuitive = [[crt_result[i,j][-1]['text'] == 'i' for j in range(crt_result.shape[1])] for i in range(crt_result.shape[0])]\n",
    "\n",
    "    correct_means = [sum(correct[i])/len(correct[i]) for i in range(len(correct))]\n",
    "    #correct_stds = [np.std(correct[i]) for i in range(len(correct))]\n",
    "\n",
    "    intuitive_means = [sum(intuitive[i])/len(intuitive[i]) for i in range(len(intuitive))]\n",
    "    #intuitive_stds = [np.std(intuitive[i]) for i in range(len(intuitive))]\n",
    "\n",
    "    plt.figure(figsize=(10,5))\n",
    "    plt.bar(np.arange(len(correct_means)),correct_means,color='limegreen')#,yerr=correct_stds)\n",
    "    plt.bar(np.arange(len(intuitive_means)),intuitive_means,bottom=correct_means,color='dodgerblue')#,yerr=intuitive_stds)\n",
    "    plt.xticks(np.arange(len(correct_means)),['Q{}'.format(i+1) for i in range(len(correct_means))])\n",
    "    plt.legend(['Correct','Intuitive'])\n",
    "    plt.ylabel('Proportion')\n",
    "    plt.xlabel('Question')\n",
    "    plt.title('Results')\n",
    "    plt.show()"
   ]
  },
  {
   "cell_type": "markdown",
   "metadata": {},
   "source": [
    "#### Vanilla"
   ]
  },
  {
   "cell_type": "code",
   "execution_count": 8,
   "metadata": {},
   "outputs": [
    {
     "data": {
      "image/png": "[encoded data removed]",
      "text/plain": [
       "<Figure size 720x360 with 1 Axes>"
      ]
     },
     "metadata": {
      "needs_background": "light"
     },
     "output_type": "display_data"
    }
   ],
   "source": [
    "plot_results(crt_vanilla)"
   ]
  },
  {
   "cell_type": "markdown",
   "metadata": {},
   "source": [
    "#### Reasoning"
   ]
  },
  {
   "cell_type": "code",
   "execution_count": 9,
   "metadata": {},
   "outputs": [
    {
     "data": {
      "image/png": "[encoded data removed]",
      "text/plain": [
       "<Figure size 720x360 with 1 Axes>"
      ]
     },
     "metadata": {
      "needs_background": "light"
     },
     "output_type": "display_data"
    }
   ],
   "source": [
    "plot_results(crt_reasoning)"
   ]
  }
 ],
 "metadata": {
  "kernelspec": {
   "display_name": "Python 3.7.3 ('base')",
   "language": "python",
   "name": "python3"
  },
  "language_info": {
   "codemirror_mode": {
    "name": "ipython",
    "version": 3
   },
   "file_extension": ".py",
   "mimetype": "text/x-python",
   "name": "python",
   "nbconvert_exporter": "python",
   "pygments_lexer": "ipython3",
   "version": "3.7.3"
  },
  "orig_nbformat": 4,
  "vscode": {
   "interpreter": {
    "hash": "812eebe2a6551e6686edfa30fbadf2a874e9eafd53d88484fa1f6e6b1a5bacf0"
   }
  }
 },
 "nbformat": 4,
 "nbformat_minor": 2
}

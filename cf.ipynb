{
 "cells": [
  {
   "cell_type": "code",
   "execution_count": 72,
   "metadata": {},
   "outputs": [],
   "source": [
    "from lanlab import Text,Batch,Sequential\n",
    "from lanlab import load,save\n",
    "from lanlab import GPT35_0301,GPT35_0613 #Version of the paper\n",
    "from lanlab import Module\n",
    "from lanlab import set_number_workers\n",
    "\n",
    "import os\n",
    "import numpy as np\n",
    "\n",
    "set_number_workers(10)"
   ]
  },
  {
   "cell_type": "markdown",
   "metadata": {},
   "source": [
    "### Load the Datasets"
   ]
  },
  {
   "cell_type": "code",
   "execution_count": 73,
   "metadata": {},
   "outputs": [
    {
     "data": {
      "text/plain": [
       "(100, 1)"
      ]
     },
     "execution_count": 73,
     "metadata": {},
     "output_type": "execute_result"
    }
   ],
   "source": [
    "from lanlab import load\n",
    "question_data = load(\"inputs/cf\").repeat(1,axis=1) #Each question is asked once but you can increase it\n",
    "\n",
    "\n",
    "#For a quick test, we can limit the number of questions\n",
    "np.random.shuffle(question_data.array)\n",
    "question_data.array = question_data.array[:100] #Limit the number of questions to 100\n",
    "\n",
    "\n",
    "question_data.shape"
   ]
  },
  {
   "cell_type": "markdown",
   "metadata": {},
   "source": [
    "### Make the pipelines"
   ]
  },
  {
   "cell_type": "code",
   "execution_count": 74,
   "metadata": {},
   "outputs": [],
   "source": [
    "from lanlab import BatchedModule\n",
    "class AutoCorrect(BatchedModule):\n",
    "    def _run(self, seq):\n",
    "        text = seq[-1]['text']\n",
    "        if 'a)' in text:\n",
    "            return Text('a')\n",
    "        elif 'b)' in text:\n",
    "            return Text('b')\n",
    "        else:\n",
    "            return Text('None')"
   ]
  },
  {
   "cell_type": "code",
   "execution_count": 75,
   "metadata": {},
   "outputs": [],
   "source": [
    "model = GPT35_0613().configure(max_tokens=16)\n",
    "\n",
    "vanilla_pipeline = Sequential(model,AutoCorrect())\n",
    "reasoning_pipeline = Sequential(\"Mathematically speaking, the most probable answer is (\",model,AutoCorrect())\n",
    "\n",
    "pipelines = [vanilla_pipeline,reasoning_pipeline]"
   ]
  },
  {
   "cell_type": "markdown",
   "metadata": {},
   "source": [
    "### Get the results"
   ]
  },
  {
   "cell_type": "code",
   "execution_count": 76,
   "metadata": {},
   "outputs": [],
   "source": [
    "#Get results\n",
    "names = ['vanilla','reasoning']\n",
    "results = []\n",
    "for name,pipeline in zip(names,pipelines):\n",
    "    out = pipeline(question_data,os.path.join('data','cf',model.name,name)) #If the result is already computed it will load it instead of recomputing it. Either delete the file at the specified address of change the save address if you want to recompute the result (cf tutorial.ipynb for more details)\n",
    "    results.append(out)\n",
    "\n",
    "cf_vanilla,cf_reasoning = results"
   ]
  },
  {
   "cell_type": "markdown",
   "metadata": {},
   "source": [
    "### Correct the results"
   ]
  },
  {
   "cell_type": "code",
   "execution_count": 77,
   "metadata": {},
   "outputs": [],
   "source": [
    "#Plot results\n",
    "def correct(cf):\n",
    "    correct_bill = 0\n",
    "    correct_linda = 0\n",
    "    nb_bill = 0\n",
    "    nb_linda = 0\n",
    "    for q in range(cf.shape[0]):\n",
    "        if 'a' in cf[q,0][-1]['text'] and cf[q,0][0]['info']['order'] == 1:\n",
    "            if cf[q,0][0]['info']['type'] == 'bill':\n",
    "                correct_bill += 1\n",
    "            elif cf[q,0][0]['info']['type'] == 'linda':\n",
    "                correct_linda += 1\n",
    "        elif 'b' in cf[q,0][-1]['text'] and cf[q,0][0]['info']['order'] == 0:\n",
    "            if cf[q,0][0]['info']['type'] == 'bill':\n",
    "                correct_bill += 1\n",
    "            elif cf[q,0][0]['info']['type'] == 'linda':\n",
    "                correct_linda += 1\n",
    "        if cf[q,0][0]['info']['type'] == 'bill':\n",
    "            nb_bill += 1\n",
    "        elif cf[q,0][0]['info']['type'] == 'linda':\n",
    "            nb_linda += 1\n",
    "    return correct_bill/nb_bill,correct_linda/nb_linda"
   ]
  },
  {
   "cell_type": "markdown",
   "metadata": {},
   "source": [
    "### Plot the results"
   ]
  },
  {
   "cell_type": "code",
   "execution_count": 78,
   "metadata": {},
   "outputs": [
    {
     "data": {
      "image/png": "[encoded data removed]",
      "text/plain": [
       "<Figure size 720x360 with 1 Axes>"
      ]
     },
     "metadata": {
      "needs_background": "light"
     },
     "output_type": "display_data"
    }
   ],
   "source": [
    "#Plot in bars\n",
    "import matplotlib.pyplot as plt\n",
    "import numpy as np\n",
    "\n",
    "fig = plt.figure(figsize=(10,5))\n",
    "ax = fig.add_axes([0,0,1,1])\n",
    "\n",
    "#Plot for each condition (vanilla, example, reasoning) plot the linda and the bill bar next to each other. Leave a space between the conditions.\n",
    "vanilla_correct = correct(cf_vanilla)\n",
    "reasoning_correct = correct(cf_reasoning)\n",
    "\n",
    "ax.scatter([0,0,1,1],vanilla_correct + reasoning_correct,c=['g','b']*2,marker='o',edgecolors='black')\n",
    "ax.plot([],[],c='g',label='bill')\n",
    "ax.plot([],[],c='b',label='linda')\n",
    "ax.set_xticks(np.arange(2))\n",
    "ax.set_xticklabels(['vanilla','reasoning'])\n",
    "ax.legend()\n",
    "ax.set_ylim(0,1)\n",
    "plt.show()"
   ]
  }
 ],
 "metadata": {
  "kernelspec": {
   "display_name": "base",
   "language": "python",
   "name": "python3"
  },
  "language_info": {
   "codemirror_mode": {
    "name": "ipython",
    "version": 3
   },
   "file_extension": ".py",
   "mimetype": "text/x-python",
   "name": "python",
   "nbconvert_exporter": "python",
   "pygments_lexer": "ipython3",
   "version": "3.9.12"
  },
  "orig_nbformat": 4
 },
 "nbformat": 4,
 "nbformat_minor": 2
}
